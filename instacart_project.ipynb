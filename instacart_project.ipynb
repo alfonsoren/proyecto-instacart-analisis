{
 "cells": [
  {
   "cell_type": "markdown",
   "id": "3Xg_RQfnafXz",
   "metadata": {
    "id": "3Xg_RQfnafXz"
   },
   "source": [
    "# ¡Llena ese carrito!"
   ]
  },
  {
   "cell_type": "markdown",
   "id": "mhIvmmkW414q",
   "metadata": {
    "id": "mhIvmmkW414q"
   },
   "source": [
    "# Introducción\n",
    "\n",
    "Instacart es una plataforma de entregas de comestibles donde la clientela puede registrar un pedido y hacer que se lo entreguen, similar a Uber Eats y Door Dash.\n",
    "El conjunto de datos que te hemos proporcionado tiene modificaciones del original. Redujimos el tamaño del conjunto para que tus cálculos se hicieran más rápido e introdujimos valores ausentes y duplicados. Tuvimos cuidado de conservar las distribuciones de los datos originales cuando hicimos los cambios.\n",
    "\n",
    "Debes completar tres pasos. Para cada uno de ellos, escribe una breve introducción que refleje con claridad cómo pretendes resolver cada paso, y escribe párrafos explicatorios que justifiquen tus decisiones al tiempo que avanzas en tu solución.  También escribe una conclusión que resuma tus hallazgos y elecciones.\n"
   ]
  },
  {
   "cell_type": "markdown",
   "id": "3MbyzpOQZ5Or",
   "metadata": {
    "id": "3MbyzpOQZ5Or"
   },
   "source": [
    "## Diccionario de datos\n",
    "\n",
    "Hay cinco tablas en el conjunto de datos, y tendrás que usarlas todas para hacer el preprocesamiento de datos y el análisis exploratorio de datos. A continuación se muestra un diccionario de datos que enumera las columnas de cada tabla y describe los datos que contienen.\n",
    "\n",
    "- `instacart_orders.csv`: cada fila corresponde a un pedido en la aplicación Instacart.\n",
    "    - `'order_id'`: número de ID que identifica de manera única cada pedido.\n",
    "    - `'user_id'`: número de ID que identifica de manera única la cuenta de cada cliente.\n",
    "    - `'order_number'`: el número de veces que este cliente ha hecho un pedido.\n",
    "    - `'order_dow'`: día de la semana en que se hizo el pedido (0 si es domingo).\n",
    "    - `'order_hour_of_day'`: hora del día en que se hizo el pedido.\n",
    "    - `'days_since_prior_order'`: número de días transcurridos desde que este cliente hizo su pedido anterior.\n",
    "- `products.csv`: cada fila corresponde a un producto único que pueden comprar los clientes.\n",
    "    - `'product_id'`: número ID que identifica de manera única cada producto.\n",
    "    - `'product_name'`: nombre del producto.\n",
    "    - `'aisle_id'`: número ID que identifica de manera única cada categoría de pasillo de víveres.\n",
    "    - `'department_id'`: número ID que identifica de manera única cada departamento de víveres.\n",
    "- `order_products.csv`: cada fila corresponde a un artículo pedido en un pedido.\n",
    "    - `'order_id'`: número de ID que identifica de manera única cada pedido.\n",
    "    - `'product_id'`: número ID que identifica de manera única cada producto.\n",
    "    - `'add_to_cart_order'`: el orden secuencial en el que se añadió cada artículo en el carrito.\n",
    "    - `'reordered'`: 0 si el cliente nunca ha pedido este producto antes, 1 si lo ha pedido.\n",
    "- `aisles.csv`\n",
    "    - `'aisle_id'`: número ID que identifica de manera única cada categoría de pasillo de víveres.\n",
    "    - `'aisle'`: nombre del pasillo.\n",
    "- `departments.csv`\n",
    "    - `'department_id'`: número ID que identifica de manera única cada departamento de víveres.\n",
    "    - `'department'`: nombre del departamento."
   ]
  },
  {
   "cell_type": "markdown",
   "id": "n3Ha_cNSZ8lK",
   "metadata": {
    "id": "n3Ha_cNSZ8lK"
   },
   "source": [
    "# Paso 1. Descripción de los datos\n",
    "\n",
    "Lee los archivos de datos (`/datasets/instacart_orders.csv`, `/datasets/products.csv`, `/datasets/aisles.csv`, `/datasets/departments.csv` y `/datasets/order_products.csv`) con `pd.read_csv()` usando los parámetros adecuados para leer los datos correctamente. Verifica la información para cada DataFrame creado.\n"
   ]
  },
  {
   "cell_type": "markdown",
   "id": "OmlQPLlyaAfR",
   "metadata": {
    "id": "OmlQPLlyaAfR"
   },
   "source": [
    "## Plan de solución\n",
    "\n",
    "Escribe aquí tu plan de solución para el Paso 1. Descripción de los datos. \n",
    "* Es ncesario importar la libreria pandas\n",
    "* Leer los archivos con \"pd.read_csv()\"\n",
    "* Utilizar metodos como \"info()\" y \"head()\"  \n",
    "* Dar el primer vistazo a los datos para entenderlos y verificar si estamos leyendo correctamente\n",
    "* Aplicar los parametros correctos de lectura\n"
   ]
  },
  {
   "cell_type": "code",
   "execution_count": 5,
   "id": "fbf1adab",
   "metadata": {
    "id": "fbf1adab"
   },
   "outputs": [],
   "source": [
    "import pandas as pd\n",
    "import numpy as np\n",
    "from matplotlib import pyplot as plt\n",
    "# importar librerías"
   ]
  },
  {
   "cell_type": "code",
   "execution_count": 6,
   "id": "ad36396d",
   "metadata": {
    "id": "ad36396d"
   },
   "outputs": [
    {
     "ename": "FileNotFoundError",
     "evalue": "[Errno 2] No such file or directory: '/datasets/instacart_orders.csv'",
     "output_type": "error",
     "traceback": [
      "\u001b[1;31m---------------------------------------------------------------------------\u001b[0m",
      "\u001b[1;31mFileNotFoundError\u001b[0m                         Traceback (most recent call last)",
      "Cell \u001b[1;32mIn[6], line 1\u001b[0m\n\u001b[1;32m----> 1\u001b[0m df_instacart_orders \u001b[38;5;241m=\u001b[39m\u001b[43mpd\u001b[49m\u001b[38;5;241;43m.\u001b[39;49m\u001b[43mread_csv\u001b[49m\u001b[43m(\u001b[49m\u001b[38;5;124;43m'\u001b[39;49m\u001b[38;5;124;43m/datasets/instacart_orders.csv\u001b[39;49m\u001b[38;5;124;43m'\u001b[39;49m\u001b[43m,\u001b[49m\u001b[43msep\u001b[49m\u001b[43m \u001b[49m\u001b[38;5;241;43m=\u001b[39;49m\u001b[43m \u001b[49m\u001b[38;5;124;43m'\u001b[39;49m\u001b[38;5;124;43m;\u001b[39;49m\u001b[38;5;124;43m'\u001b[39;49m\u001b[43m)\u001b[49m\n\u001b[0;32m      2\u001b[0m df_products \u001b[38;5;241m=\u001b[39m pd\u001b[38;5;241m.\u001b[39mread_csv(\u001b[38;5;124m'\u001b[39m\u001b[38;5;124m/datasets/products.csv\u001b[39m\u001b[38;5;124m'\u001b[39m, sep\u001b[38;5;241m=\u001b[39m\u001b[38;5;124m'\u001b[39m\u001b[38;5;124m;\u001b[39m\u001b[38;5;124m'\u001b[39m) \n\u001b[0;32m      3\u001b[0m df_aisles \u001b[38;5;241m=\u001b[39m pd\u001b[38;5;241m.\u001b[39mread_csv(\u001b[38;5;124m'\u001b[39m\u001b[38;5;124m/datasets/aisles.csv\u001b[39m\u001b[38;5;124m'\u001b[39m,sep \u001b[38;5;241m=\u001b[39m \u001b[38;5;124m'\u001b[39m\u001b[38;5;124m;\u001b[39m\u001b[38;5;124m'\u001b[39m)\n",
      "File \u001b[1;32m~\\AppData\\Local\\Packages\\PythonSoftwareFoundation.Python.3.11_qbz5n2kfra8p0\\LocalCache\\local-packages\\Python311\\site-packages\\pandas\\io\\parsers\\readers.py:1026\u001b[0m, in \u001b[0;36mread_csv\u001b[1;34m(filepath_or_buffer, sep, delimiter, header, names, index_col, usecols, dtype, engine, converters, true_values, false_values, skipinitialspace, skiprows, skipfooter, nrows, na_values, keep_default_na, na_filter, verbose, skip_blank_lines, parse_dates, infer_datetime_format, keep_date_col, date_parser, date_format, dayfirst, cache_dates, iterator, chunksize, compression, thousands, decimal, lineterminator, quotechar, quoting, doublequote, escapechar, comment, encoding, encoding_errors, dialect, on_bad_lines, delim_whitespace, low_memory, memory_map, float_precision, storage_options, dtype_backend)\u001b[0m\n\u001b[0;32m   1013\u001b[0m kwds_defaults \u001b[38;5;241m=\u001b[39m _refine_defaults_read(\n\u001b[0;32m   1014\u001b[0m     dialect,\n\u001b[0;32m   1015\u001b[0m     delimiter,\n\u001b[1;32m   (...)\u001b[0m\n\u001b[0;32m   1022\u001b[0m     dtype_backend\u001b[38;5;241m=\u001b[39mdtype_backend,\n\u001b[0;32m   1023\u001b[0m )\n\u001b[0;32m   1024\u001b[0m kwds\u001b[38;5;241m.\u001b[39mupdate(kwds_defaults)\n\u001b[1;32m-> 1026\u001b[0m \u001b[38;5;28;01mreturn\u001b[39;00m \u001b[43m_read\u001b[49m\u001b[43m(\u001b[49m\u001b[43mfilepath_or_buffer\u001b[49m\u001b[43m,\u001b[49m\u001b[43m \u001b[49m\u001b[43mkwds\u001b[49m\u001b[43m)\u001b[49m\n",
      "File \u001b[1;32m~\\AppData\\Local\\Packages\\PythonSoftwareFoundation.Python.3.11_qbz5n2kfra8p0\\LocalCache\\local-packages\\Python311\\site-packages\\pandas\\io\\parsers\\readers.py:620\u001b[0m, in \u001b[0;36m_read\u001b[1;34m(filepath_or_buffer, kwds)\u001b[0m\n\u001b[0;32m    617\u001b[0m _validate_names(kwds\u001b[38;5;241m.\u001b[39mget(\u001b[38;5;124m\"\u001b[39m\u001b[38;5;124mnames\u001b[39m\u001b[38;5;124m\"\u001b[39m, \u001b[38;5;28;01mNone\u001b[39;00m))\n\u001b[0;32m    619\u001b[0m \u001b[38;5;66;03m# Create the parser.\u001b[39;00m\n\u001b[1;32m--> 620\u001b[0m parser \u001b[38;5;241m=\u001b[39m \u001b[43mTextFileReader\u001b[49m\u001b[43m(\u001b[49m\u001b[43mfilepath_or_buffer\u001b[49m\u001b[43m,\u001b[49m\u001b[43m \u001b[49m\u001b[38;5;241;43m*\u001b[39;49m\u001b[38;5;241;43m*\u001b[39;49m\u001b[43mkwds\u001b[49m\u001b[43m)\u001b[49m\n\u001b[0;32m    622\u001b[0m \u001b[38;5;28;01mif\u001b[39;00m chunksize \u001b[38;5;129;01mor\u001b[39;00m iterator:\n\u001b[0;32m    623\u001b[0m     \u001b[38;5;28;01mreturn\u001b[39;00m parser\n",
      "File \u001b[1;32m~\\AppData\\Local\\Packages\\PythonSoftwareFoundation.Python.3.11_qbz5n2kfra8p0\\LocalCache\\local-packages\\Python311\\site-packages\\pandas\\io\\parsers\\readers.py:1620\u001b[0m, in \u001b[0;36mTextFileReader.__init__\u001b[1;34m(self, f, engine, **kwds)\u001b[0m\n\u001b[0;32m   1617\u001b[0m     \u001b[38;5;28mself\u001b[39m\u001b[38;5;241m.\u001b[39moptions[\u001b[38;5;124m\"\u001b[39m\u001b[38;5;124mhas_index_names\u001b[39m\u001b[38;5;124m\"\u001b[39m] \u001b[38;5;241m=\u001b[39m kwds[\u001b[38;5;124m\"\u001b[39m\u001b[38;5;124mhas_index_names\u001b[39m\u001b[38;5;124m\"\u001b[39m]\n\u001b[0;32m   1619\u001b[0m \u001b[38;5;28mself\u001b[39m\u001b[38;5;241m.\u001b[39mhandles: IOHandles \u001b[38;5;241m|\u001b[39m \u001b[38;5;28;01mNone\u001b[39;00m \u001b[38;5;241m=\u001b[39m \u001b[38;5;28;01mNone\u001b[39;00m\n\u001b[1;32m-> 1620\u001b[0m \u001b[38;5;28mself\u001b[39m\u001b[38;5;241m.\u001b[39m_engine \u001b[38;5;241m=\u001b[39m \u001b[38;5;28;43mself\u001b[39;49m\u001b[38;5;241;43m.\u001b[39;49m\u001b[43m_make_engine\u001b[49m\u001b[43m(\u001b[49m\u001b[43mf\u001b[49m\u001b[43m,\u001b[49m\u001b[43m \u001b[49m\u001b[38;5;28;43mself\u001b[39;49m\u001b[38;5;241;43m.\u001b[39;49m\u001b[43mengine\u001b[49m\u001b[43m)\u001b[49m\n",
      "File \u001b[1;32m~\\AppData\\Local\\Packages\\PythonSoftwareFoundation.Python.3.11_qbz5n2kfra8p0\\LocalCache\\local-packages\\Python311\\site-packages\\pandas\\io\\parsers\\readers.py:1880\u001b[0m, in \u001b[0;36mTextFileReader._make_engine\u001b[1;34m(self, f, engine)\u001b[0m\n\u001b[0;32m   1878\u001b[0m     \u001b[38;5;28;01mif\u001b[39;00m \u001b[38;5;124m\"\u001b[39m\u001b[38;5;124mb\u001b[39m\u001b[38;5;124m\"\u001b[39m \u001b[38;5;129;01mnot\u001b[39;00m \u001b[38;5;129;01min\u001b[39;00m mode:\n\u001b[0;32m   1879\u001b[0m         mode \u001b[38;5;241m+\u001b[39m\u001b[38;5;241m=\u001b[39m \u001b[38;5;124m\"\u001b[39m\u001b[38;5;124mb\u001b[39m\u001b[38;5;124m\"\u001b[39m\n\u001b[1;32m-> 1880\u001b[0m \u001b[38;5;28mself\u001b[39m\u001b[38;5;241m.\u001b[39mhandles \u001b[38;5;241m=\u001b[39m \u001b[43mget_handle\u001b[49m\u001b[43m(\u001b[49m\n\u001b[0;32m   1881\u001b[0m \u001b[43m    \u001b[49m\u001b[43mf\u001b[49m\u001b[43m,\u001b[49m\n\u001b[0;32m   1882\u001b[0m \u001b[43m    \u001b[49m\u001b[43mmode\u001b[49m\u001b[43m,\u001b[49m\n\u001b[0;32m   1883\u001b[0m \u001b[43m    \u001b[49m\u001b[43mencoding\u001b[49m\u001b[38;5;241;43m=\u001b[39;49m\u001b[38;5;28;43mself\u001b[39;49m\u001b[38;5;241;43m.\u001b[39;49m\u001b[43moptions\u001b[49m\u001b[38;5;241;43m.\u001b[39;49m\u001b[43mget\u001b[49m\u001b[43m(\u001b[49m\u001b[38;5;124;43m\"\u001b[39;49m\u001b[38;5;124;43mencoding\u001b[39;49m\u001b[38;5;124;43m\"\u001b[39;49m\u001b[43m,\u001b[49m\u001b[43m \u001b[49m\u001b[38;5;28;43;01mNone\u001b[39;49;00m\u001b[43m)\u001b[49m\u001b[43m,\u001b[49m\n\u001b[0;32m   1884\u001b[0m \u001b[43m    \u001b[49m\u001b[43mcompression\u001b[49m\u001b[38;5;241;43m=\u001b[39;49m\u001b[38;5;28;43mself\u001b[39;49m\u001b[38;5;241;43m.\u001b[39;49m\u001b[43moptions\u001b[49m\u001b[38;5;241;43m.\u001b[39;49m\u001b[43mget\u001b[49m\u001b[43m(\u001b[49m\u001b[38;5;124;43m\"\u001b[39;49m\u001b[38;5;124;43mcompression\u001b[39;49m\u001b[38;5;124;43m\"\u001b[39;49m\u001b[43m,\u001b[49m\u001b[43m \u001b[49m\u001b[38;5;28;43;01mNone\u001b[39;49;00m\u001b[43m)\u001b[49m\u001b[43m,\u001b[49m\n\u001b[0;32m   1885\u001b[0m \u001b[43m    \u001b[49m\u001b[43mmemory_map\u001b[49m\u001b[38;5;241;43m=\u001b[39;49m\u001b[38;5;28;43mself\u001b[39;49m\u001b[38;5;241;43m.\u001b[39;49m\u001b[43moptions\u001b[49m\u001b[38;5;241;43m.\u001b[39;49m\u001b[43mget\u001b[49m\u001b[43m(\u001b[49m\u001b[38;5;124;43m\"\u001b[39;49m\u001b[38;5;124;43mmemory_map\u001b[39;49m\u001b[38;5;124;43m\"\u001b[39;49m\u001b[43m,\u001b[49m\u001b[43m \u001b[49m\u001b[38;5;28;43;01mFalse\u001b[39;49;00m\u001b[43m)\u001b[49m\u001b[43m,\u001b[49m\n\u001b[0;32m   1886\u001b[0m \u001b[43m    \u001b[49m\u001b[43mis_text\u001b[49m\u001b[38;5;241;43m=\u001b[39;49m\u001b[43mis_text\u001b[49m\u001b[43m,\u001b[49m\n\u001b[0;32m   1887\u001b[0m \u001b[43m    \u001b[49m\u001b[43merrors\u001b[49m\u001b[38;5;241;43m=\u001b[39;49m\u001b[38;5;28;43mself\u001b[39;49m\u001b[38;5;241;43m.\u001b[39;49m\u001b[43moptions\u001b[49m\u001b[38;5;241;43m.\u001b[39;49m\u001b[43mget\u001b[49m\u001b[43m(\u001b[49m\u001b[38;5;124;43m\"\u001b[39;49m\u001b[38;5;124;43mencoding_errors\u001b[39;49m\u001b[38;5;124;43m\"\u001b[39;49m\u001b[43m,\u001b[49m\u001b[43m \u001b[49m\u001b[38;5;124;43m\"\u001b[39;49m\u001b[38;5;124;43mstrict\u001b[39;49m\u001b[38;5;124;43m\"\u001b[39;49m\u001b[43m)\u001b[49m\u001b[43m,\u001b[49m\n\u001b[0;32m   1888\u001b[0m \u001b[43m    \u001b[49m\u001b[43mstorage_options\u001b[49m\u001b[38;5;241;43m=\u001b[39;49m\u001b[38;5;28;43mself\u001b[39;49m\u001b[38;5;241;43m.\u001b[39;49m\u001b[43moptions\u001b[49m\u001b[38;5;241;43m.\u001b[39;49m\u001b[43mget\u001b[49m\u001b[43m(\u001b[49m\u001b[38;5;124;43m\"\u001b[39;49m\u001b[38;5;124;43mstorage_options\u001b[39;49m\u001b[38;5;124;43m\"\u001b[39;49m\u001b[43m,\u001b[49m\u001b[43m \u001b[49m\u001b[38;5;28;43;01mNone\u001b[39;49;00m\u001b[43m)\u001b[49m\u001b[43m,\u001b[49m\n\u001b[0;32m   1889\u001b[0m \u001b[43m\u001b[49m\u001b[43m)\u001b[49m\n\u001b[0;32m   1890\u001b[0m \u001b[38;5;28;01massert\u001b[39;00m \u001b[38;5;28mself\u001b[39m\u001b[38;5;241m.\u001b[39mhandles \u001b[38;5;129;01mis\u001b[39;00m \u001b[38;5;129;01mnot\u001b[39;00m \u001b[38;5;28;01mNone\u001b[39;00m\n\u001b[0;32m   1891\u001b[0m f \u001b[38;5;241m=\u001b[39m \u001b[38;5;28mself\u001b[39m\u001b[38;5;241m.\u001b[39mhandles\u001b[38;5;241m.\u001b[39mhandle\n",
      "File \u001b[1;32m~\\AppData\\Local\\Packages\\PythonSoftwareFoundation.Python.3.11_qbz5n2kfra8p0\\LocalCache\\local-packages\\Python311\\site-packages\\pandas\\io\\common.py:873\u001b[0m, in \u001b[0;36mget_handle\u001b[1;34m(path_or_buf, mode, encoding, compression, memory_map, is_text, errors, storage_options)\u001b[0m\n\u001b[0;32m    868\u001b[0m \u001b[38;5;28;01melif\u001b[39;00m \u001b[38;5;28misinstance\u001b[39m(handle, \u001b[38;5;28mstr\u001b[39m):\n\u001b[0;32m    869\u001b[0m     \u001b[38;5;66;03m# Check whether the filename is to be opened in binary mode.\u001b[39;00m\n\u001b[0;32m    870\u001b[0m     \u001b[38;5;66;03m# Binary mode does not support 'encoding' and 'newline'.\u001b[39;00m\n\u001b[0;32m    871\u001b[0m     \u001b[38;5;28;01mif\u001b[39;00m ioargs\u001b[38;5;241m.\u001b[39mencoding \u001b[38;5;129;01mand\u001b[39;00m \u001b[38;5;124m\"\u001b[39m\u001b[38;5;124mb\u001b[39m\u001b[38;5;124m\"\u001b[39m \u001b[38;5;129;01mnot\u001b[39;00m \u001b[38;5;129;01min\u001b[39;00m ioargs\u001b[38;5;241m.\u001b[39mmode:\n\u001b[0;32m    872\u001b[0m         \u001b[38;5;66;03m# Encoding\u001b[39;00m\n\u001b[1;32m--> 873\u001b[0m         handle \u001b[38;5;241m=\u001b[39m \u001b[38;5;28;43mopen\u001b[39;49m\u001b[43m(\u001b[49m\n\u001b[0;32m    874\u001b[0m \u001b[43m            \u001b[49m\u001b[43mhandle\u001b[49m\u001b[43m,\u001b[49m\n\u001b[0;32m    875\u001b[0m \u001b[43m            \u001b[49m\u001b[43mioargs\u001b[49m\u001b[38;5;241;43m.\u001b[39;49m\u001b[43mmode\u001b[49m\u001b[43m,\u001b[49m\n\u001b[0;32m    876\u001b[0m \u001b[43m            \u001b[49m\u001b[43mencoding\u001b[49m\u001b[38;5;241;43m=\u001b[39;49m\u001b[43mioargs\u001b[49m\u001b[38;5;241;43m.\u001b[39;49m\u001b[43mencoding\u001b[49m\u001b[43m,\u001b[49m\n\u001b[0;32m    877\u001b[0m \u001b[43m            \u001b[49m\u001b[43merrors\u001b[49m\u001b[38;5;241;43m=\u001b[39;49m\u001b[43merrors\u001b[49m\u001b[43m,\u001b[49m\n\u001b[0;32m    878\u001b[0m \u001b[43m            \u001b[49m\u001b[43mnewline\u001b[49m\u001b[38;5;241;43m=\u001b[39;49m\u001b[38;5;124;43m\"\u001b[39;49m\u001b[38;5;124;43m\"\u001b[39;49m\u001b[43m,\u001b[49m\n\u001b[0;32m    879\u001b[0m \u001b[43m        \u001b[49m\u001b[43m)\u001b[49m\n\u001b[0;32m    880\u001b[0m     \u001b[38;5;28;01melse\u001b[39;00m:\n\u001b[0;32m    881\u001b[0m         \u001b[38;5;66;03m# Binary mode\u001b[39;00m\n\u001b[0;32m    882\u001b[0m         handle \u001b[38;5;241m=\u001b[39m \u001b[38;5;28mopen\u001b[39m(handle, ioargs\u001b[38;5;241m.\u001b[39mmode)\n",
      "\u001b[1;31mFileNotFoundError\u001b[0m: [Errno 2] No such file or directory: '/datasets/instacart_orders.csv'"
     ]
    }
   ],
   "source": [
    "df_instacart_orders =pd.read_csv('/datasets/instacart_orders.csv',sep = ';')\n",
    "df_products = pd.read_csv('/datasets/products.csv', sep=';') \n",
    "df_aisles = pd.read_csv('/datasets/aisles.csv',sep = ';')\n",
    "df_departments= pd.read_csv('/datasets/departments.csv', sep = ';')\n",
    "df_order_products=pd.read_csv('/datasets/order_products.csv', sep = ';') # leer conjuntos de datos en los DataFrames"
   ]
  },
  {
   "cell_type": "code",
   "execution_count": null,
   "id": "ad6a1efa",
   "metadata": {
    "id": "ad6a1efa"
   },
   "outputs": [
    {
     "name": "stdout",
     "output_type": "stream",
     "text": [
      "<class 'pandas.core.frame.DataFrame'>\n",
      "RangeIndex: 478967 entries, 0 to 478966\n",
      "Data columns (total 6 columns):\n",
      " #   Column                  Non-Null Count   Dtype  \n",
      "---  ------                  --------------   -----  \n",
      " 0   order_id                478967 non-null  int64  \n",
      " 1   user_id                 478967 non-null  int64  \n",
      " 2   order_number            478967 non-null  int64  \n",
      " 3   order_dow               478967 non-null  int64  \n",
      " 4   order_hour_of_day       478967 non-null  int64  \n",
      " 5   days_since_prior_order  450148 non-null  float64\n",
      "dtypes: float64(1), int64(5)\n",
      "memory usage: 21.9 MB\n"
     ]
    },
    {
     "data": {
      "text/html": [
       "<div>\n",
       "<style scoped>\n",
       "    .dataframe tbody tr th:only-of-type {\n",
       "        vertical-align: middle;\n",
       "    }\n",
       "\n",
       "    .dataframe tbody tr th {\n",
       "        vertical-align: top;\n",
       "    }\n",
       "\n",
       "    .dataframe thead th {\n",
       "        text-align: right;\n",
       "    }\n",
       "</style>\n",
       "<table border=\"1\" class=\"dataframe\">\n",
       "  <thead>\n",
       "    <tr style=\"text-align: right;\">\n",
       "      <th></th>\n",
       "      <th>order_id</th>\n",
       "      <th>user_id</th>\n",
       "      <th>order_number</th>\n",
       "      <th>order_dow</th>\n",
       "      <th>order_hour_of_day</th>\n",
       "      <th>days_since_prior_order</th>\n",
       "    </tr>\n",
       "  </thead>\n",
       "  <tbody>\n",
       "    <tr>\n",
       "      <th>0</th>\n",
       "      <td>1515936</td>\n",
       "      <td>183418</td>\n",
       "      <td>11</td>\n",
       "      <td>6</td>\n",
       "      <td>13</td>\n",
       "      <td>30.0</td>\n",
       "    </tr>\n",
       "    <tr>\n",
       "      <th>1</th>\n",
       "      <td>1690866</td>\n",
       "      <td>163593</td>\n",
       "      <td>5</td>\n",
       "      <td>5</td>\n",
       "      <td>12</td>\n",
       "      <td>9.0</td>\n",
       "    </tr>\n",
       "    <tr>\n",
       "      <th>2</th>\n",
       "      <td>1454967</td>\n",
       "      <td>39980</td>\n",
       "      <td>4</td>\n",
       "      <td>5</td>\n",
       "      <td>19</td>\n",
       "      <td>2.0</td>\n",
       "    </tr>\n",
       "    <tr>\n",
       "      <th>3</th>\n",
       "      <td>1768857</td>\n",
       "      <td>82516</td>\n",
       "      <td>56</td>\n",
       "      <td>0</td>\n",
       "      <td>20</td>\n",
       "      <td>10.0</td>\n",
       "    </tr>\n",
       "    <tr>\n",
       "      <th>4</th>\n",
       "      <td>3007858</td>\n",
       "      <td>196724</td>\n",
       "      <td>2</td>\n",
       "      <td>4</td>\n",
       "      <td>12</td>\n",
       "      <td>17.0</td>\n",
       "    </tr>\n",
       "  </tbody>\n",
       "</table>\n",
       "</div>"
      ],
      "text/plain": [
       "   order_id  user_id  order_number  order_dow  order_hour_of_day  \\\n",
       "0   1515936   183418            11          6                 13   \n",
       "1   1690866   163593             5          5                 12   \n",
       "2   1454967    39980             4          5                 19   \n",
       "3   1768857    82516            56          0                 20   \n",
       "4   3007858   196724             2          4                 12   \n",
       "\n",
       "   days_since_prior_order  \n",
       "0                    30.0  \n",
       "1                     9.0  \n",
       "2                     2.0  \n",
       "3                    10.0  \n",
       "4                    17.0  "
      ]
     },
     "metadata": {},
     "output_type": "display_data"
    },
    {
     "data": {
      "text/html": [
       "<div>\n",
       "<style scoped>\n",
       "    .dataframe tbody tr th:only-of-type {\n",
       "        vertical-align: middle;\n",
       "    }\n",
       "\n",
       "    .dataframe tbody tr th {\n",
       "        vertical-align: top;\n",
       "    }\n",
       "\n",
       "    .dataframe thead th {\n",
       "        text-align: right;\n",
       "    }\n",
       "</style>\n",
       "<table border=\"1\" class=\"dataframe\">\n",
       "  <thead>\n",
       "    <tr style=\"text-align: right;\">\n",
       "      <th></th>\n",
       "      <th>order_id</th>\n",
       "      <th>user_id</th>\n",
       "      <th>order_number</th>\n",
       "      <th>order_dow</th>\n",
       "      <th>order_hour_of_day</th>\n",
       "      <th>days_since_prior_order</th>\n",
       "    </tr>\n",
       "  </thead>\n",
       "  <tbody>\n",
       "    <tr>\n",
       "      <th>count</th>\n",
       "      <td>4.789670e+05</td>\n",
       "      <td>478967.000000</td>\n",
       "      <td>478967.000000</td>\n",
       "      <td>478967.000000</td>\n",
       "      <td>478967.000000</td>\n",
       "      <td>450148.000000</td>\n",
       "    </tr>\n",
       "    <tr>\n",
       "      <th>mean</th>\n",
       "      <td>1.709947e+06</td>\n",
       "      <td>102966.537475</td>\n",
       "      <td>17.157808</td>\n",
       "      <td>2.775058</td>\n",
       "      <td>13.446676</td>\n",
       "      <td>11.101751</td>\n",
       "    </tr>\n",
       "    <tr>\n",
       "      <th>std</th>\n",
       "      <td>9.869480e+05</td>\n",
       "      <td>59525.328991</td>\n",
       "      <td>17.704688</td>\n",
       "      <td>2.045869</td>\n",
       "      <td>4.224986</td>\n",
       "      <td>9.189975</td>\n",
       "    </tr>\n",
       "    <tr>\n",
       "      <th>min</th>\n",
       "      <td>4.000000e+00</td>\n",
       "      <td>2.000000</td>\n",
       "      <td>1.000000</td>\n",
       "      <td>0.000000</td>\n",
       "      <td>0.000000</td>\n",
       "      <td>0.000000</td>\n",
       "    </tr>\n",
       "    <tr>\n",
       "      <th>25%</th>\n",
       "      <td>8.564685e+05</td>\n",
       "      <td>51414.000000</td>\n",
       "      <td>5.000000</td>\n",
       "      <td>1.000000</td>\n",
       "      <td>10.000000</td>\n",
       "      <td>4.000000</td>\n",
       "    </tr>\n",
       "    <tr>\n",
       "      <th>50%</th>\n",
       "      <td>1.709522e+06</td>\n",
       "      <td>102633.000000</td>\n",
       "      <td>11.000000</td>\n",
       "      <td>3.000000</td>\n",
       "      <td>13.000000</td>\n",
       "      <td>7.000000</td>\n",
       "    </tr>\n",
       "    <tr>\n",
       "      <th>75%</th>\n",
       "      <td>2.562990e+06</td>\n",
       "      <td>154419.000000</td>\n",
       "      <td>23.000000</td>\n",
       "      <td>5.000000</td>\n",
       "      <td>16.000000</td>\n",
       "      <td>15.000000</td>\n",
       "    </tr>\n",
       "    <tr>\n",
       "      <th>max</th>\n",
       "      <td>3.421079e+06</td>\n",
       "      <td>206209.000000</td>\n",
       "      <td>100.000000</td>\n",
       "      <td>6.000000</td>\n",
       "      <td>23.000000</td>\n",
       "      <td>30.000000</td>\n",
       "    </tr>\n",
       "  </tbody>\n",
       "</table>\n",
       "</div>"
      ],
      "text/plain": [
       "           order_id        user_id   order_number      order_dow  \\\n",
       "count  4.789670e+05  478967.000000  478967.000000  478967.000000   \n",
       "mean   1.709947e+06  102966.537475      17.157808       2.775058   \n",
       "std    9.869480e+05   59525.328991      17.704688       2.045869   \n",
       "min    4.000000e+00       2.000000       1.000000       0.000000   \n",
       "25%    8.564685e+05   51414.000000       5.000000       1.000000   \n",
       "50%    1.709522e+06  102633.000000      11.000000       3.000000   \n",
       "75%    2.562990e+06  154419.000000      23.000000       5.000000   \n",
       "max    3.421079e+06  206209.000000     100.000000       6.000000   \n",
       "\n",
       "       order_hour_of_day  days_since_prior_order  \n",
       "count      478967.000000           450148.000000  \n",
       "mean           13.446676               11.101751  \n",
       "std             4.224986                9.189975  \n",
       "min             0.000000                0.000000  \n",
       "25%            10.000000                4.000000  \n",
       "50%            13.000000                7.000000  \n",
       "75%            16.000000               15.000000  \n",
       "max            23.000000               30.000000  "
      ]
     },
     "metadata": {},
     "output_type": "display_data"
    }
   ],
   "source": [
    "df_instacart_orders.info()\n",
    "display(df_instacart_orders.head())\n",
    "display(df_instacart_orders.describe())\n",
    "# mostrar información del DataFrame"
   ]
  },
  {
   "cell_type": "code",
   "execution_count": null,
   "id": "5130e05e",
   "metadata": {
    "id": "5130e05e"
   },
   "outputs": [
    {
     "name": "stdout",
     "output_type": "stream",
     "text": [
      "<class 'pandas.core.frame.DataFrame'>\n",
      "RangeIndex: 49694 entries, 0 to 49693\n",
      "Data columns (total 4 columns):\n",
      " #   Column         Non-Null Count  Dtype \n",
      "---  ------         --------------  ----- \n",
      " 0   product_id     49694 non-null  int64 \n",
      " 1   product_name   48436 non-null  object\n",
      " 2   aisle_id       49694 non-null  int64 \n",
      " 3   department_id  49694 non-null  int64 \n",
      "dtypes: int64(3), object(1)\n",
      "memory usage: 1.5+ MB\n",
      "   product_id                                       product_name  aisle_id  \\\n",
      "0           1                         Chocolate Sandwich Cookies        61   \n",
      "1           2                                   All-Seasons Salt       104   \n",
      "2           3               Robust Golden Unsweetened Oolong Tea        94   \n",
      "3           4  Smart Ones Classic Favorites Mini Rigatoni Wit...        38   \n",
      "4           5                          Green Chile Anytime Sauce         5   \n",
      "\n",
      "   department_id  \n",
      "0             19  \n",
      "1             13  \n",
      "2              7  \n",
      "3              1  \n",
      "4             13  \n"
     ]
    }
   ],
   "source": [
    "df_products.info()\n",
    "print(df_products.head())\n",
    "# mostrar información del DataFrame"
   ]
  },
  {
   "cell_type": "code",
   "execution_count": null,
   "id": "d8370c05",
   "metadata": {
    "id": "d8370c05"
   },
   "outputs": [
    {
     "name": "stdout",
     "output_type": "stream",
     "text": [
      "<class 'pandas.core.frame.DataFrame'>\n",
      "RangeIndex: 134 entries, 0 to 133\n",
      "Data columns (total 2 columns):\n",
      " #   Column    Non-Null Count  Dtype \n",
      "---  ------    --------------  ----- \n",
      " 0   aisle_id  134 non-null    int64 \n",
      " 1   aisle     134 non-null    object\n",
      "dtypes: int64(1), object(1)\n",
      "memory usage: 2.2+ KB\n"
     ]
    },
    {
     "data": {
      "text/html": [
       "<div>\n",
       "<style scoped>\n",
       "    .dataframe tbody tr th:only-of-type {\n",
       "        vertical-align: middle;\n",
       "    }\n",
       "\n",
       "    .dataframe tbody tr th {\n",
       "        vertical-align: top;\n",
       "    }\n",
       "\n",
       "    .dataframe thead th {\n",
       "        text-align: right;\n",
       "    }\n",
       "</style>\n",
       "<table border=\"1\" class=\"dataframe\">\n",
       "  <thead>\n",
       "    <tr style=\"text-align: right;\">\n",
       "      <th></th>\n",
       "      <th>aisle_id</th>\n",
       "      <th>aisle</th>\n",
       "    </tr>\n",
       "  </thead>\n",
       "  <tbody>\n",
       "    <tr>\n",
       "      <th>0</th>\n",
       "      <td>1</td>\n",
       "      <td>prepared soups salads</td>\n",
       "    </tr>\n",
       "    <tr>\n",
       "      <th>1</th>\n",
       "      <td>2</td>\n",
       "      <td>specialty cheeses</td>\n",
       "    </tr>\n",
       "    <tr>\n",
       "      <th>2</th>\n",
       "      <td>3</td>\n",
       "      <td>energy granola bars</td>\n",
       "    </tr>\n",
       "    <tr>\n",
       "      <th>3</th>\n",
       "      <td>4</td>\n",
       "      <td>instant foods</td>\n",
       "    </tr>\n",
       "    <tr>\n",
       "      <th>4</th>\n",
       "      <td>5</td>\n",
       "      <td>marinades meat preparation</td>\n",
       "    </tr>\n",
       "  </tbody>\n",
       "</table>\n",
       "</div>"
      ],
      "text/plain": [
       "   aisle_id                       aisle\n",
       "0         1       prepared soups salads\n",
       "1         2           specialty cheeses\n",
       "2         3         energy granola bars\n",
       "3         4               instant foods\n",
       "4         5  marinades meat preparation"
      ]
     },
     "metadata": {},
     "output_type": "display_data"
    },
    {
     "data": {
      "text/html": [
       "<div>\n",
       "<style scoped>\n",
       "    .dataframe tbody tr th:only-of-type {\n",
       "        vertical-align: middle;\n",
       "    }\n",
       "\n",
       "    .dataframe tbody tr th {\n",
       "        vertical-align: top;\n",
       "    }\n",
       "\n",
       "    .dataframe thead th {\n",
       "        text-align: right;\n",
       "    }\n",
       "</style>\n",
       "<table border=\"1\" class=\"dataframe\">\n",
       "  <thead>\n",
       "    <tr style=\"text-align: right;\">\n",
       "      <th></th>\n",
       "      <th>aisle_id</th>\n",
       "    </tr>\n",
       "  </thead>\n",
       "  <tbody>\n",
       "    <tr>\n",
       "      <th>count</th>\n",
       "      <td>134.000000</td>\n",
       "    </tr>\n",
       "    <tr>\n",
       "      <th>mean</th>\n",
       "      <td>67.500000</td>\n",
       "    </tr>\n",
       "    <tr>\n",
       "      <th>std</th>\n",
       "      <td>38.826537</td>\n",
       "    </tr>\n",
       "    <tr>\n",
       "      <th>min</th>\n",
       "      <td>1.000000</td>\n",
       "    </tr>\n",
       "    <tr>\n",
       "      <th>25%</th>\n",
       "      <td>34.250000</td>\n",
       "    </tr>\n",
       "    <tr>\n",
       "      <th>50%</th>\n",
       "      <td>67.500000</td>\n",
       "    </tr>\n",
       "    <tr>\n",
       "      <th>75%</th>\n",
       "      <td>100.750000</td>\n",
       "    </tr>\n",
       "    <tr>\n",
       "      <th>max</th>\n",
       "      <td>134.000000</td>\n",
       "    </tr>\n",
       "  </tbody>\n",
       "</table>\n",
       "</div>"
      ],
      "text/plain": [
       "         aisle_id\n",
       "count  134.000000\n",
       "mean    67.500000\n",
       "std     38.826537\n",
       "min      1.000000\n",
       "25%     34.250000\n",
       "50%     67.500000\n",
       "75%    100.750000\n",
       "max    134.000000"
      ]
     },
     "metadata": {},
     "output_type": "display_data"
    }
   ],
   "source": [
    "df_aisles.info()\n",
    "display(df_aisles.head())\n",
    "display(df_aisles.describe())\n",
    "# mostrar información del DataFrame"
   ]
  },
  {
   "cell_type": "code",
   "execution_count": null,
   "id": "59e2090f",
   "metadata": {
    "id": "59e2090f"
   },
   "outputs": [
    {
     "name": "stdout",
     "output_type": "stream",
     "text": [
      "<class 'pandas.core.frame.DataFrame'>\n",
      "RangeIndex: 21 entries, 0 to 20\n",
      "Data columns (total 2 columns):\n",
      " #   Column         Non-Null Count  Dtype \n",
      "---  ------         --------------  ----- \n",
      " 0   department_id  21 non-null     int64 \n",
      " 1   department     21 non-null     object\n",
      "dtypes: int64(1), object(1)\n",
      "memory usage: 464.0+ bytes\n"
     ]
    },
    {
     "data": {
      "text/html": [
       "<div>\n",
       "<style scoped>\n",
       "    .dataframe tbody tr th:only-of-type {\n",
       "        vertical-align: middle;\n",
       "    }\n",
       "\n",
       "    .dataframe tbody tr th {\n",
       "        vertical-align: top;\n",
       "    }\n",
       "\n",
       "    .dataframe thead th {\n",
       "        text-align: right;\n",
       "    }\n",
       "</style>\n",
       "<table border=\"1\" class=\"dataframe\">\n",
       "  <thead>\n",
       "    <tr style=\"text-align: right;\">\n",
       "      <th></th>\n",
       "      <th>department_id</th>\n",
       "      <th>department</th>\n",
       "    </tr>\n",
       "  </thead>\n",
       "  <tbody>\n",
       "    <tr>\n",
       "      <th>0</th>\n",
       "      <td>1</td>\n",
       "      <td>frozen</td>\n",
       "    </tr>\n",
       "    <tr>\n",
       "      <th>1</th>\n",
       "      <td>2</td>\n",
       "      <td>other</td>\n",
       "    </tr>\n",
       "    <tr>\n",
       "      <th>2</th>\n",
       "      <td>3</td>\n",
       "      <td>bakery</td>\n",
       "    </tr>\n",
       "    <tr>\n",
       "      <th>3</th>\n",
       "      <td>4</td>\n",
       "      <td>produce</td>\n",
       "    </tr>\n",
       "    <tr>\n",
       "      <th>4</th>\n",
       "      <td>5</td>\n",
       "      <td>alcohol</td>\n",
       "    </tr>\n",
       "  </tbody>\n",
       "</table>\n",
       "</div>"
      ],
      "text/plain": [
       "   department_id department\n",
       "0              1     frozen\n",
       "1              2      other\n",
       "2              3     bakery\n",
       "3              4    produce\n",
       "4              5    alcohol"
      ]
     },
     "metadata": {},
     "output_type": "display_data"
    },
    {
     "data": {
      "text/html": [
       "<div>\n",
       "<style scoped>\n",
       "    .dataframe tbody tr th:only-of-type {\n",
       "        vertical-align: middle;\n",
       "    }\n",
       "\n",
       "    .dataframe tbody tr th {\n",
       "        vertical-align: top;\n",
       "    }\n",
       "\n",
       "    .dataframe thead th {\n",
       "        text-align: right;\n",
       "    }\n",
       "</style>\n",
       "<table border=\"1\" class=\"dataframe\">\n",
       "  <thead>\n",
       "    <tr style=\"text-align: right;\">\n",
       "      <th></th>\n",
       "      <th>department_id</th>\n",
       "    </tr>\n",
       "  </thead>\n",
       "  <tbody>\n",
       "    <tr>\n",
       "      <th>count</th>\n",
       "      <td>21.000000</td>\n",
       "    </tr>\n",
       "    <tr>\n",
       "      <th>mean</th>\n",
       "      <td>11.000000</td>\n",
       "    </tr>\n",
       "    <tr>\n",
       "      <th>std</th>\n",
       "      <td>6.204837</td>\n",
       "    </tr>\n",
       "    <tr>\n",
       "      <th>min</th>\n",
       "      <td>1.000000</td>\n",
       "    </tr>\n",
       "    <tr>\n",
       "      <th>25%</th>\n",
       "      <td>6.000000</td>\n",
       "    </tr>\n",
       "    <tr>\n",
       "      <th>50%</th>\n",
       "      <td>11.000000</td>\n",
       "    </tr>\n",
       "    <tr>\n",
       "      <th>75%</th>\n",
       "      <td>16.000000</td>\n",
       "    </tr>\n",
       "    <tr>\n",
       "      <th>max</th>\n",
       "      <td>21.000000</td>\n",
       "    </tr>\n",
       "  </tbody>\n",
       "</table>\n",
       "</div>"
      ],
      "text/plain": [
       "       department_id\n",
       "count      21.000000\n",
       "mean       11.000000\n",
       "std         6.204837\n",
       "min         1.000000\n",
       "25%         6.000000\n",
       "50%        11.000000\n",
       "75%        16.000000\n",
       "max        21.000000"
      ]
     },
     "metadata": {},
     "output_type": "display_data"
    }
   ],
   "source": [
    "df_departments.info()\n",
    "display(df_departments.head())\n",
    "display(df_departments.describe())\n",
    "# mostrar información del DataFrame"
   ]
  },
  {
   "cell_type": "code",
   "execution_count": null,
   "id": "6fc81694",
   "metadata": {
    "id": "6fc81694"
   },
   "outputs": [
    {
     "name": "stdout",
     "output_type": "stream",
     "text": [
      "<class 'pandas.core.frame.DataFrame'>\n",
      "RangeIndex: 4545007 entries, 0 to 4545006\n",
      "Data columns (total 4 columns):\n",
      " #   Column             Non-Null Count    Dtype  \n",
      "---  ------             --------------    -----  \n",
      " 0   order_id           4545007 non-null  int64  \n",
      " 1   product_id         4545007 non-null  int64  \n",
      " 2   add_to_cart_order  4544171 non-null  float64\n",
      " 3   reordered          4545007 non-null  int64  \n",
      "dtypes: float64(1), int64(3)\n",
      "memory usage: 138.7 MB\n"
     ]
    },
    {
     "data": {
      "text/html": [
       "<div>\n",
       "<style scoped>\n",
       "    .dataframe tbody tr th:only-of-type {\n",
       "        vertical-align: middle;\n",
       "    }\n",
       "\n",
       "    .dataframe tbody tr th {\n",
       "        vertical-align: top;\n",
       "    }\n",
       "\n",
       "    .dataframe thead th {\n",
       "        text-align: right;\n",
       "    }\n",
       "</style>\n",
       "<table border=\"1\" class=\"dataframe\">\n",
       "  <thead>\n",
       "    <tr style=\"text-align: right;\">\n",
       "      <th></th>\n",
       "      <th>order_id</th>\n",
       "      <th>product_id</th>\n",
       "      <th>add_to_cart_order</th>\n",
       "      <th>reordered</th>\n",
       "    </tr>\n",
       "  </thead>\n",
       "  <tbody>\n",
       "    <tr>\n",
       "      <th>0</th>\n",
       "      <td>2141543</td>\n",
       "      <td>11440</td>\n",
       "      <td>17.0</td>\n",
       "      <td>0</td>\n",
       "    </tr>\n",
       "    <tr>\n",
       "      <th>1</th>\n",
       "      <td>567889</td>\n",
       "      <td>1560</td>\n",
       "      <td>1.0</td>\n",
       "      <td>1</td>\n",
       "    </tr>\n",
       "    <tr>\n",
       "      <th>2</th>\n",
       "      <td>2261212</td>\n",
       "      <td>26683</td>\n",
       "      <td>1.0</td>\n",
       "      <td>1</td>\n",
       "    </tr>\n",
       "    <tr>\n",
       "      <th>3</th>\n",
       "      <td>491251</td>\n",
       "      <td>8670</td>\n",
       "      <td>35.0</td>\n",
       "      <td>1</td>\n",
       "    </tr>\n",
       "    <tr>\n",
       "      <th>4</th>\n",
       "      <td>2571142</td>\n",
       "      <td>1940</td>\n",
       "      <td>5.0</td>\n",
       "      <td>1</td>\n",
       "    </tr>\n",
       "  </tbody>\n",
       "</table>\n",
       "</div>"
      ],
      "text/plain": [
       "   order_id  product_id  add_to_cart_order  reordered\n",
       "0   2141543       11440               17.0          0\n",
       "1    567889        1560                1.0          1\n",
       "2   2261212       26683                1.0          1\n",
       "3    491251        8670               35.0          1\n",
       "4   2571142        1940                5.0          1"
      ]
     },
     "metadata": {},
     "output_type": "display_data"
    },
    {
     "data": {
      "text/html": [
       "<div>\n",
       "<style scoped>\n",
       "    .dataframe tbody tr th:only-of-type {\n",
       "        vertical-align: middle;\n",
       "    }\n",
       "\n",
       "    .dataframe tbody tr th {\n",
       "        vertical-align: top;\n",
       "    }\n",
       "\n",
       "    .dataframe thead th {\n",
       "        text-align: right;\n",
       "    }\n",
       "</style>\n",
       "<table border=\"1\" class=\"dataframe\">\n",
       "  <thead>\n",
       "    <tr style=\"text-align: right;\">\n",
       "      <th></th>\n",
       "      <th>order_id</th>\n",
       "      <th>product_id</th>\n",
       "      <th>add_to_cart_order</th>\n",
       "      <th>reordered</th>\n",
       "    </tr>\n",
       "  </thead>\n",
       "  <tbody>\n",
       "    <tr>\n",
       "      <th>count</th>\n",
       "      <td>4.545007e+06</td>\n",
       "      <td>4.545007e+06</td>\n",
       "      <td>4.544171e+06</td>\n",
       "      <td>4.545007e+06</td>\n",
       "    </tr>\n",
       "    <tr>\n",
       "      <th>mean</th>\n",
       "      <td>1.711166e+06</td>\n",
       "      <td>2.558084e+04</td>\n",
       "      <td>8.351669e+00</td>\n",
       "      <td>5.905025e-01</td>\n",
       "    </tr>\n",
       "    <tr>\n",
       "      <th>std</th>\n",
       "      <td>9.850955e+05</td>\n",
       "      <td>1.409552e+04</td>\n",
       "      <td>7.080368e+00</td>\n",
       "      <td>4.917411e-01</td>\n",
       "    </tr>\n",
       "    <tr>\n",
       "      <th>min</th>\n",
       "      <td>4.000000e+00</td>\n",
       "      <td>1.000000e+00</td>\n",
       "      <td>1.000000e+00</td>\n",
       "      <td>0.000000e+00</td>\n",
       "    </tr>\n",
       "    <tr>\n",
       "      <th>25%</th>\n",
       "      <td>8.608170e+05</td>\n",
       "      <td>1.353500e+04</td>\n",
       "      <td>3.000000e+00</td>\n",
       "      <td>0.000000e+00</td>\n",
       "    </tr>\n",
       "    <tr>\n",
       "      <th>50%</th>\n",
       "      <td>1.711530e+06</td>\n",
       "      <td>2.527200e+04</td>\n",
       "      <td>6.000000e+00</td>\n",
       "      <td>1.000000e+00</td>\n",
       "    </tr>\n",
       "    <tr>\n",
       "      <th>75%</th>\n",
       "      <td>2.561311e+06</td>\n",
       "      <td>3.793500e+04</td>\n",
       "      <td>1.100000e+01</td>\n",
       "      <td>1.000000e+00</td>\n",
       "    </tr>\n",
       "    <tr>\n",
       "      <th>max</th>\n",
       "      <td>3.421079e+06</td>\n",
       "      <td>4.969400e+04</td>\n",
       "      <td>6.400000e+01</td>\n",
       "      <td>1.000000e+00</td>\n",
       "    </tr>\n",
       "  </tbody>\n",
       "</table>\n",
       "</div>"
      ],
      "text/plain": [
       "           order_id    product_id  add_to_cart_order     reordered\n",
       "count  4.545007e+06  4.545007e+06       4.544171e+06  4.545007e+06\n",
       "mean   1.711166e+06  2.558084e+04       8.351669e+00  5.905025e-01\n",
       "std    9.850955e+05  1.409552e+04       7.080368e+00  4.917411e-01\n",
       "min    4.000000e+00  1.000000e+00       1.000000e+00  0.000000e+00\n",
       "25%    8.608170e+05  1.353500e+04       3.000000e+00  0.000000e+00\n",
       "50%    1.711530e+06  2.527200e+04       6.000000e+00  1.000000e+00\n",
       "75%    2.561311e+06  3.793500e+04       1.100000e+01  1.000000e+00\n",
       "max    3.421079e+06  4.969400e+04       6.400000e+01  1.000000e+00"
      ]
     },
     "metadata": {},
     "output_type": "display_data"
    }
   ],
   "source": [
    "df_order_products.info(show_counts=True)\n",
    "display(df_order_products.head())\n",
    "display(df_order_products.describe())\n",
    "# mostrar información del DataFrame"
   ]
  },
  {
   "cell_type": "markdown",
   "id": "t75BD19oaR5f",
   "metadata": {
    "id": "t75BD19oaR5f"
   },
   "source": [
    "## Conclusiones\n",
    "\n",
    "Escribe aquí tus conclusiones intermedias sobre el Paso 1. Descripción de los datos.\n",
    "* Los datos se encontraban separados por \";\" así que se agregó el parametro correcto de lectura\n",
    "* Podemos notar que algunos DataFrames contienen datos nulos\n",
    "* Algunos DataFrames contienen una gran cantidad de filas\n"
   ]
  },
  {
   "cell_type": "markdown",
   "id": "8RJHqxVmaVsF",
   "metadata": {
    "id": "8RJHqxVmaVsF"
   },
   "source": [
    "# Paso 2. Preprocesamiento de los datos\n",
    "\n",
    "Preprocesa los datos de la siguiente manera:\n",
    "\n",
    "- Verifica y corrige los tipos de datos (por ejemplo, asegúrate de que las columnas de ID sean números enteros).\n",
    "- Identifica y completa los valores ausentes.\n",
    "- Identifica y elimina los valores duplicados.\n",
    "\n",
    "Asegúrate de explicar qué tipos de valores ausentes y duplicados encontraste, cómo los completaste o eliminaste y por qué usaste esos métodos. ¿Por qué crees que estos valores ausentes y duplicados pueden haber estado presentes en el conjunto de datos?"
   ]
  },
  {
   "cell_type": "markdown",
   "id": "p6poABZQaZYb",
   "metadata": {
    "id": "p6poABZQaZYb"
   },
   "source": [
    "## Plan de solución\n",
    "\n",
    "Escribe aquí tu plan para el Paso 2. Preprocesamiento de los datos.\n",
    "\n",
    "* Utilizar metodos como \"pd.to_numeric()\" o \"astype()\" para convertir los datos al formato deseado\n",
    "* Determinar que tipo de valores ausentes nos presentan para poder darles el tratamiento más optimo\n",
    "* Aplicar técnicas para buscar duplicados como \"duplicated().sum()\", \"value_counts()\" o busqueda manual. Eliminar los valores duplicados con el metodo \"drop_duplicates()\" o corrigiendo errores ortográficos.\n",
    "\n",
    "\n"
   ]
  },
  {
   "cell_type": "markdown",
   "id": "07357848-dc64-4156-9cc3-01ff4365226d",
   "metadata": {
    "id": "07357848-dc64-4156-9cc3-01ff4365226d"
   },
   "source": [
    "## Encuentra y elimina los valores duplicados (y describe cómo tomaste tus decisiones)."
   ]
  },
  {
   "cell_type": "markdown",
   "id": "f179f0a9",
   "metadata": {
    "id": "f179f0a9"
   },
   "source": [
    "### `instacart_orders` data frame"
   ]
  },
  {
   "cell_type": "code",
   "execution_count": null,
   "id": "b99297a5-405a-463d-8535-9adc3da4ad74",
   "metadata": {
    "id": "b99297a5-405a-463d-8535-9adc3da4ad74"
   },
   "outputs": [
    {
     "name": "stdout",
     "output_type": "stream",
     "text": [
      "Pedidos duplicados: 15\n",
      "\n"
     ]
    },
    {
     "data": {
      "text/html": [
       "<div>\n",
       "<style scoped>\n",
       "    .dataframe tbody tr th:only-of-type {\n",
       "        vertical-align: middle;\n",
       "    }\n",
       "\n",
       "    .dataframe tbody tr th {\n",
       "        vertical-align: top;\n",
       "    }\n",
       "\n",
       "    .dataframe thead th {\n",
       "        text-align: right;\n",
       "    }\n",
       "</style>\n",
       "<table border=\"1\" class=\"dataframe\">\n",
       "  <thead>\n",
       "    <tr style=\"text-align: right;\">\n",
       "      <th></th>\n",
       "      <th>order_id</th>\n",
       "      <th>user_id</th>\n",
       "      <th>order_number</th>\n",
       "      <th>order_dow</th>\n",
       "      <th>order_hour_of_day</th>\n",
       "      <th>days_since_prior_order</th>\n",
       "    </tr>\n",
       "  </thead>\n",
       "  <tbody>\n",
       "    <tr>\n",
       "      <th>145574</th>\n",
       "      <td>794638</td>\n",
       "      <td>50898</td>\n",
       "      <td>24</td>\n",
       "      <td>3</td>\n",
       "      <td>2</td>\n",
       "      <td>2.0</td>\n",
       "    </tr>\n",
       "    <tr>\n",
       "      <th>223105</th>\n",
       "      <td>2160484</td>\n",
       "      <td>107525</td>\n",
       "      <td>16</td>\n",
       "      <td>3</td>\n",
       "      <td>2</td>\n",
       "      <td>30.0</td>\n",
       "    </tr>\n",
       "    <tr>\n",
       "      <th>230807</th>\n",
       "      <td>1918001</td>\n",
       "      <td>188546</td>\n",
       "      <td>14</td>\n",
       "      <td>3</td>\n",
       "      <td>2</td>\n",
       "      <td>16.0</td>\n",
       "    </tr>\n",
       "    <tr>\n",
       "      <th>266232</th>\n",
       "      <td>1782114</td>\n",
       "      <td>106752</td>\n",
       "      <td>1</td>\n",
       "      <td>3</td>\n",
       "      <td>2</td>\n",
       "      <td>NaN</td>\n",
       "    </tr>\n",
       "    <tr>\n",
       "      <th>273805</th>\n",
       "      <td>1112182</td>\n",
       "      <td>202304</td>\n",
       "      <td>84</td>\n",
       "      <td>3</td>\n",
       "      <td>2</td>\n",
       "      <td>6.0</td>\n",
       "    </tr>\n",
       "    <tr>\n",
       "      <th>284038</th>\n",
       "      <td>2845099</td>\n",
       "      <td>31189</td>\n",
       "      <td>11</td>\n",
       "      <td>3</td>\n",
       "      <td>2</td>\n",
       "      <td>7.0</td>\n",
       "    </tr>\n",
       "    <tr>\n",
       "      <th>311713</th>\n",
       "      <td>1021560</td>\n",
       "      <td>53767</td>\n",
       "      <td>3</td>\n",
       "      <td>3</td>\n",
       "      <td>2</td>\n",
       "      <td>9.0</td>\n",
       "    </tr>\n",
       "    <tr>\n",
       "      <th>321100</th>\n",
       "      <td>408114</td>\n",
       "      <td>68324</td>\n",
       "      <td>4</td>\n",
       "      <td>3</td>\n",
       "      <td>2</td>\n",
       "      <td>18.0</td>\n",
       "    </tr>\n",
       "    <tr>\n",
       "      <th>323900</th>\n",
       "      <td>1919531</td>\n",
       "      <td>191501</td>\n",
       "      <td>32</td>\n",
       "      <td>3</td>\n",
       "      <td>2</td>\n",
       "      <td>7.0</td>\n",
       "    </tr>\n",
       "    <tr>\n",
       "      <th>345917</th>\n",
       "      <td>2232988</td>\n",
       "      <td>82565</td>\n",
       "      <td>1</td>\n",
       "      <td>3</td>\n",
       "      <td>2</td>\n",
       "      <td>NaN</td>\n",
       "    </tr>\n",
       "    <tr>\n",
       "      <th>371905</th>\n",
       "      <td>391768</td>\n",
       "      <td>57671</td>\n",
       "      <td>19</td>\n",
       "      <td>3</td>\n",
       "      <td>2</td>\n",
       "      <td>10.0</td>\n",
       "    </tr>\n",
       "    <tr>\n",
       "      <th>394347</th>\n",
       "      <td>467134</td>\n",
       "      <td>63189</td>\n",
       "      <td>21</td>\n",
       "      <td>3</td>\n",
       "      <td>2</td>\n",
       "      <td>2.0</td>\n",
       "    </tr>\n",
       "    <tr>\n",
       "      <th>411408</th>\n",
       "      <td>1286742</td>\n",
       "      <td>183220</td>\n",
       "      <td>48</td>\n",
       "      <td>3</td>\n",
       "      <td>2</td>\n",
       "      <td>4.0</td>\n",
       "    </tr>\n",
       "    <tr>\n",
       "      <th>415163</th>\n",
       "      <td>2282673</td>\n",
       "      <td>86751</td>\n",
       "      <td>49</td>\n",
       "      <td>3</td>\n",
       "      <td>2</td>\n",
       "      <td>2.0</td>\n",
       "    </tr>\n",
       "    <tr>\n",
       "      <th>441599</th>\n",
       "      <td>2125197</td>\n",
       "      <td>14050</td>\n",
       "      <td>48</td>\n",
       "      <td>3</td>\n",
       "      <td>2</td>\n",
       "      <td>3.0</td>\n",
       "    </tr>\n",
       "  </tbody>\n",
       "</table>\n",
       "</div>"
      ],
      "text/plain": [
       "        order_id  user_id  order_number  order_dow  order_hour_of_day  \\\n",
       "145574    794638    50898            24          3                  2   \n",
       "223105   2160484   107525            16          3                  2   \n",
       "230807   1918001   188546            14          3                  2   \n",
       "266232   1782114   106752             1          3                  2   \n",
       "273805   1112182   202304            84          3                  2   \n",
       "284038   2845099    31189            11          3                  2   \n",
       "311713   1021560    53767             3          3                  2   \n",
       "321100    408114    68324             4          3                  2   \n",
       "323900   1919531   191501            32          3                  2   \n",
       "345917   2232988    82565             1          3                  2   \n",
       "371905    391768    57671            19          3                  2   \n",
       "394347    467134    63189            21          3                  2   \n",
       "411408   1286742   183220            48          3                  2   \n",
       "415163   2282673    86751            49          3                  2   \n",
       "441599   2125197    14050            48          3                  2   \n",
       "\n",
       "        days_since_prior_order  \n",
       "145574                     2.0  \n",
       "223105                    30.0  \n",
       "230807                    16.0  \n",
       "266232                     NaN  \n",
       "273805                     6.0  \n",
       "284038                     7.0  \n",
       "311713                     9.0  \n",
       "321100                    18.0  \n",
       "323900                     7.0  \n",
       "345917                     NaN  \n",
       "371905                    10.0  \n",
       "394347                     2.0  \n",
       "411408                     4.0  \n",
       "415163                     2.0  \n",
       "441599                     3.0  "
      ]
     },
     "metadata": {},
     "output_type": "display_data"
    }
   ],
   "source": [
    "print(f'Pedidos duplicados: {df_instacart_orders.duplicated().sum()}')\n",
    "print()\n",
    "display(df_instacart_orders[df_instacart_orders.duplicated()])# Revisa si hay pedidos duplicados\n"
   ]
  },
  {
   "cell_type": "markdown",
   "id": "PEkwUX_gvt5A",
   "metadata": {
    "id": "PEkwUX_gvt5A"
   },
   "source": [
    "¿Tienes líneas duplicadas? Si sí, ¿qué tienen en común?\n",
    "\n",
    "El día y la hora"
   ]
  },
  {
   "cell_type": "code",
   "execution_count": null,
   "id": "0d44de5d",
   "metadata": {
    "id": "0d44de5d"
   },
   "outputs": [
    {
     "data": {
      "text/html": [
       "<div>\n",
       "<style scoped>\n",
       "    .dataframe tbody tr th:only-of-type {\n",
       "        vertical-align: middle;\n",
       "    }\n",
       "\n",
       "    .dataframe tbody tr th {\n",
       "        vertical-align: top;\n",
       "    }\n",
       "\n",
       "    .dataframe thead th {\n",
       "        text-align: right;\n",
       "    }\n",
       "</style>\n",
       "<table border=\"1\" class=\"dataframe\">\n",
       "  <thead>\n",
       "    <tr style=\"text-align: right;\">\n",
       "      <th></th>\n",
       "      <th>order_id</th>\n",
       "      <th>user_id</th>\n",
       "      <th>order_number</th>\n",
       "      <th>order_dow</th>\n",
       "      <th>order_hour_of_day</th>\n",
       "      <th>days_since_prior_order</th>\n",
       "    </tr>\n",
       "  </thead>\n",
       "  <tbody>\n",
       "    <tr>\n",
       "      <th>4838</th>\n",
       "      <td>2766110</td>\n",
       "      <td>162084</td>\n",
       "      <td>41</td>\n",
       "      <td>3</td>\n",
       "      <td>2</td>\n",
       "      <td>16.0</td>\n",
       "    </tr>\n",
       "    <tr>\n",
       "      <th>5156</th>\n",
       "      <td>2190225</td>\n",
       "      <td>138285</td>\n",
       "      <td>18</td>\n",
       "      <td>3</td>\n",
       "      <td>2</td>\n",
       "      <td>11.0</td>\n",
       "    </tr>\n",
       "    <tr>\n",
       "      <th>15506</th>\n",
       "      <td>553049</td>\n",
       "      <td>58599</td>\n",
       "      <td>13</td>\n",
       "      <td>3</td>\n",
       "      <td>2</td>\n",
       "      <td>7.0</td>\n",
       "    </tr>\n",
       "    <tr>\n",
       "      <th>18420</th>\n",
       "      <td>382357</td>\n",
       "      <td>120200</td>\n",
       "      <td>19</td>\n",
       "      <td>3</td>\n",
       "      <td>2</td>\n",
       "      <td>11.0</td>\n",
       "    </tr>\n",
       "    <tr>\n",
       "      <th>24691</th>\n",
       "      <td>690242</td>\n",
       "      <td>77357</td>\n",
       "      <td>2</td>\n",
       "      <td>3</td>\n",
       "      <td>2</td>\n",
       "      <td>9.0</td>\n",
       "    </tr>\n",
       "    <tr>\n",
       "      <th>...</th>\n",
       "      <td>...</td>\n",
       "      <td>...</td>\n",
       "      <td>...</td>\n",
       "      <td>...</td>\n",
       "      <td>...</td>\n",
       "      <td>...</td>\n",
       "    </tr>\n",
       "    <tr>\n",
       "      <th>457013</th>\n",
       "      <td>3384021</td>\n",
       "      <td>14881</td>\n",
       "      <td>6</td>\n",
       "      <td>3</td>\n",
       "      <td>2</td>\n",
       "      <td>30.0</td>\n",
       "    </tr>\n",
       "    <tr>\n",
       "      <th>458816</th>\n",
       "      <td>910166</td>\n",
       "      <td>164782</td>\n",
       "      <td>18</td>\n",
       "      <td>3</td>\n",
       "      <td>2</td>\n",
       "      <td>4.0</td>\n",
       "    </tr>\n",
       "    <tr>\n",
       "      <th>459635</th>\n",
       "      <td>1680532</td>\n",
       "      <td>106435</td>\n",
       "      <td>6</td>\n",
       "      <td>3</td>\n",
       "      <td>2</td>\n",
       "      <td>21.0</td>\n",
       "    </tr>\n",
       "    <tr>\n",
       "      <th>468324</th>\n",
       "      <td>222962</td>\n",
       "      <td>54979</td>\n",
       "      <td>59</td>\n",
       "      <td>3</td>\n",
       "      <td>2</td>\n",
       "      <td>3.0</td>\n",
       "    </tr>\n",
       "    <tr>\n",
       "      <th>477526</th>\n",
       "      <td>2592344</td>\n",
       "      <td>46860</td>\n",
       "      <td>38</td>\n",
       "      <td>3</td>\n",
       "      <td>2</td>\n",
       "      <td>3.0</td>\n",
       "    </tr>\n",
       "  </tbody>\n",
       "</table>\n",
       "<p>121 rows × 6 columns</p>\n",
       "</div>"
      ],
      "text/plain": [
       "        order_id  user_id  order_number  order_dow  order_hour_of_day  \\\n",
       "4838     2766110   162084            41          3                  2   \n",
       "5156     2190225   138285            18          3                  2   \n",
       "15506     553049    58599            13          3                  2   \n",
       "18420     382357   120200            19          3                  2   \n",
       "24691     690242    77357             2          3                  2   \n",
       "...          ...      ...           ...        ...                ...   \n",
       "457013   3384021    14881             6          3                  2   \n",
       "458816    910166   164782            18          3                  2   \n",
       "459635   1680532   106435             6          3                  2   \n",
       "468324    222962    54979            59          3                  2   \n",
       "477526   2592344    46860            38          3                  2   \n",
       "\n",
       "        days_since_prior_order  \n",
       "4838                      16.0  \n",
       "5156                      11.0  \n",
       "15506                      7.0  \n",
       "18420                     11.0  \n",
       "24691                      9.0  \n",
       "...                        ...  \n",
       "457013                    30.0  \n",
       "458816                     4.0  \n",
       "459635                    21.0  \n",
       "468324                     3.0  \n",
       "477526                     3.0  \n",
       "\n",
       "[121 rows x 6 columns]"
      ]
     },
     "metadata": {},
     "output_type": "display_data"
    },
    {
     "name": "stdout",
     "output_type": "stream",
     "text": [
      "\n",
      "2282673    2\n",
      "1919531    2\n",
      "1286742    2\n",
      "1782114    2\n",
      "2160484    2\n",
      "          ..\n",
      "2767450    1\n",
      "553049     1\n",
      "774488     1\n",
      "2027608    1\n",
      "2725375    1\n",
      "Name: order_id, Length: 106, dtype: int64\n"
     ]
    }
   ],
   "source": [
    "# Basándote en tus hallazgos,\n",
    "# Verifica todos los pedidos que se hicieron el miércoles a las 2:00 a.m.\n",
    "\n",
    "filter_day_hour = df_instacart_orders.query('order_dow == 3 and order_hour_of_day == 2')\n",
    "display(filter_day_hour)\n",
    "print()\n",
    "print(filter_day_hour['order_id'].value_counts()) #verificar si hay ordenes duplicadas"
   ]
  },
  {
   "cell_type": "markdown",
   "id": "da3b1026",
   "metadata": {},
   "source": [
    "<div class=\"alert alert-block alert-success\">\n",
    "<b>Comentario del revisor (1ra Iteracion)</b> <a class=“tocSkip”></a>\n",
    "\n",
    "Genial! Hiciste un muy buen trabajo aplicando el filtro y buscando los valores duplicados\n",
    "</div>"
   ]
  },
  {
   "cell_type": "markdown",
   "id": "vu2OWyoqwOx5",
   "metadata": {
    "id": "vu2OWyoqwOx5"
   },
   "source": [
    "¿Qué sugiere este resultado?\n",
    "\n",
    "Existen ordenes de pedidos \"unicos\" con más de un resultado"
   ]
  },
  {
   "cell_type": "code",
   "execution_count": null,
   "id": "480563c7",
   "metadata": {
    "id": "480563c7"
   },
   "outputs": [],
   "source": [
    "df_instacart_orders.drop_duplicates(inplace = True) # Elimina los pedidos duplicados\n"
   ]
  },
  {
   "cell_type": "code",
   "execution_count": null,
   "id": "0b2396a2",
   "metadata": {
    "id": "0b2396a2"
   },
   "outputs": [
    {
     "name": "stdout",
     "output_type": "stream",
     "text": [
      "Filas duplicadas: 0\n"
     ]
    }
   ],
   "source": [
    "print(f'Filas duplicadas: {df_instacart_orders.duplicated().sum()}')# Vuelve a verificar si hay filas duplicadas\n"
   ]
  },
  {
   "cell_type": "code",
   "execution_count": null,
   "id": "f6113ef1",
   "metadata": {
    "id": "f6113ef1"
   },
   "outputs": [
    {
     "name": "stdout",
     "output_type": "stream",
     "text": [
      "IDs de pedidos duplicados: 0\n"
     ]
    }
   ],
   "source": [
    "print(f'IDs de pedidos duplicados: {df_instacart_orders[\"order_id\"].duplicated().sum()}') \n",
    "# Vuelve a verificar únicamente si hay IDs duplicados de pedidos\n"
   ]
  },
  {
   "cell_type": "markdown",
   "id": "5e8905ae",
   "metadata": {
    "id": "5e8905ae"
   },
   "source": [
    "Describe brevemente tus hallazgos y lo que hiciste con ellos\n",
    "\n",
    "Se encontraron valores duplicados en la columna que identifica a los pedidos únicos, lo cual indica la presencia de errores. Por lo tanto, se decidió eliminar los duplicados"
   ]
  },
  {
   "cell_type": "markdown",
   "id": "45e6bc46",
   "metadata": {
    "id": "45e6bc46"
   },
   "source": [
    "### `products` data frame"
   ]
  },
  {
   "cell_type": "code",
   "execution_count": null,
   "id": "5f526b5b-8175-46fa-a0fd-441767d50e64",
   "metadata": {
    "id": "5f526b5b-8175-46fa-a0fd-441767d50e64"
   },
   "outputs": [
    {
     "name": "stdout",
     "output_type": "stream",
     "text": [
      "Filas duplicadas: 0\n"
     ]
    }
   ],
   "source": [
    "print(f'Filas duplicadas: {df_products.duplicated().sum()}')# Verifica si hay filas totalmente duplicadas\n"
   ]
  },
  {
   "cell_type": "code",
   "execution_count": null,
   "id": "88daa4f4",
   "metadata": {
    "id": "88daa4f4"
   },
   "outputs": [
    {
     "name": "stdout",
     "output_type": "stream",
     "text": [
      "IDs de departamentos duplicados: 49673\n",
      "\n"
     ]
    },
    {
     "data": {
      "text/html": [
       "<div>\n",
       "<style scoped>\n",
       "    .dataframe tbody tr th:only-of-type {\n",
       "        vertical-align: middle;\n",
       "    }\n",
       "\n",
       "    .dataframe tbody tr th {\n",
       "        vertical-align: top;\n",
       "    }\n",
       "\n",
       "    .dataframe thead th {\n",
       "        text-align: right;\n",
       "    }\n",
       "</style>\n",
       "<table border=\"1\" class=\"dataframe\">\n",
       "  <thead>\n",
       "    <tr style=\"text-align: right;\">\n",
       "      <th></th>\n",
       "      <th>product_id</th>\n",
       "      <th>product_name</th>\n",
       "      <th>aisle_id</th>\n",
       "      <th>department_id</th>\n",
       "    </tr>\n",
       "  </thead>\n",
       "  <tbody>\n",
       "    <tr>\n",
       "      <th>4</th>\n",
       "      <td>5</td>\n",
       "      <td>Green Chile Anytime Sauce</td>\n",
       "      <td>5</td>\n",
       "      <td>13</td>\n",
       "    </tr>\n",
       "    <tr>\n",
       "      <th>6</th>\n",
       "      <td>7</td>\n",
       "      <td>Pure Coconut Water With Orange</td>\n",
       "      <td>98</td>\n",
       "      <td>7</td>\n",
       "    </tr>\n",
       "    <tr>\n",
       "      <th>7</th>\n",
       "      <td>8</td>\n",
       "      <td>Cut Russet Potatoes Steam N' Mash</td>\n",
       "      <td>116</td>\n",
       "      <td>1</td>\n",
       "    </tr>\n",
       "    <tr>\n",
       "      <th>9</th>\n",
       "      <td>10</td>\n",
       "      <td>Sparkling Orange Juice &amp; Prickly Pear Beverage</td>\n",
       "      <td>115</td>\n",
       "      <td>7</td>\n",
       "    </tr>\n",
       "    <tr>\n",
       "      <th>10</th>\n",
       "      <td>11</td>\n",
       "      <td>Peach Mango Juice</td>\n",
       "      <td>31</td>\n",
       "      <td>7</td>\n",
       "    </tr>\n",
       "    <tr>\n",
       "      <th>...</th>\n",
       "      <td>...</td>\n",
       "      <td>...</td>\n",
       "      <td>...</td>\n",
       "      <td>...</td>\n",
       "    </tr>\n",
       "    <tr>\n",
       "      <th>49689</th>\n",
       "      <td>49690</td>\n",
       "      <td>HIGH PERFORMANCE ENERGY DRINK</td>\n",
       "      <td>64</td>\n",
       "      <td>7</td>\n",
       "    </tr>\n",
       "    <tr>\n",
       "      <th>49690</th>\n",
       "      <td>49691</td>\n",
       "      <td>ORIGINAL PANCAKE &amp; WAFFLE MIX</td>\n",
       "      <td>130</td>\n",
       "      <td>14</td>\n",
       "    </tr>\n",
       "    <tr>\n",
       "      <th>49691</th>\n",
       "      <td>49692</td>\n",
       "      <td>ORGANIC INSTANT OATMEAL LIGHT MAPLE BROWN SUGAR</td>\n",
       "      <td>130</td>\n",
       "      <td>14</td>\n",
       "    </tr>\n",
       "    <tr>\n",
       "      <th>49692</th>\n",
       "      <td>49693</td>\n",
       "      <td>SPRING WATER BODY WASH</td>\n",
       "      <td>127</td>\n",
       "      <td>11</td>\n",
       "    </tr>\n",
       "    <tr>\n",
       "      <th>49693</th>\n",
       "      <td>49694</td>\n",
       "      <td>BURRITO- STEAK &amp; CHEESE</td>\n",
       "      <td>38</td>\n",
       "      <td>1</td>\n",
       "    </tr>\n",
       "  </tbody>\n",
       "</table>\n",
       "<p>49673 rows × 4 columns</p>\n",
       "</div>"
      ],
      "text/plain": [
       "       product_id                                     product_name  aisle_id  \\\n",
       "4               5                        Green Chile Anytime Sauce         5   \n",
       "6               7                   Pure Coconut Water With Orange        98   \n",
       "7               8                Cut Russet Potatoes Steam N' Mash       116   \n",
       "9              10   Sparkling Orange Juice & Prickly Pear Beverage       115   \n",
       "10             11                                Peach Mango Juice        31   \n",
       "...           ...                                              ...       ...   \n",
       "49689       49690                    HIGH PERFORMANCE ENERGY DRINK        64   \n",
       "49690       49691                    ORIGINAL PANCAKE & WAFFLE MIX       130   \n",
       "49691       49692  ORGANIC INSTANT OATMEAL LIGHT MAPLE BROWN SUGAR       130   \n",
       "49692       49693                           SPRING WATER BODY WASH       127   \n",
       "49693       49694                          BURRITO- STEAK & CHEESE        38   \n",
       "\n",
       "       department_id  \n",
       "4                 13  \n",
       "6                  7  \n",
       "7                  1  \n",
       "9                  7  \n",
       "10                 7  \n",
       "...              ...  \n",
       "49689              7  \n",
       "49690             14  \n",
       "49691             14  \n",
       "49692             11  \n",
       "49693              1  \n",
       "\n",
       "[49673 rows x 4 columns]"
      ]
     },
     "metadata": {},
     "output_type": "display_data"
    }
   ],
   "source": [
    "print(f'IDs de departamentos duplicados: {df_products[\"department_id\"].duplicated().sum()}')\n",
    "print()\n",
    "display(df_products[df_products[\"department_id\"].duplicated()])\n",
    "# Revisa únicamente si hay ID de departamentos duplicados\n"
   ]
  },
  {
   "cell_type": "markdown",
   "id": "a0bbd327",
   "metadata": {},
   "source": []
  },
  {
   "cell_type": "code",
   "execution_count": null,
   "id": "c773f0bf",
   "metadata": {
    "id": "c773f0bf"
   },
   "outputs": [
    {
     "name": "stdout",
     "output_type": "stream",
     "text": [
      "Nombres de productos duplicados: 1361\n",
      "\n"
     ]
    },
    {
     "data": {
      "text/html": [
       "<div>\n",
       "<style scoped>\n",
       "    .dataframe tbody tr th:only-of-type {\n",
       "        vertical-align: middle;\n",
       "    }\n",
       "\n",
       "    .dataframe tbody tr th {\n",
       "        vertical-align: top;\n",
       "    }\n",
       "\n",
       "    .dataframe thead th {\n",
       "        text-align: right;\n",
       "    }\n",
       "</style>\n",
       "<table border=\"1\" class=\"dataframe\">\n",
       "  <thead>\n",
       "    <tr style=\"text-align: right;\">\n",
       "      <th></th>\n",
       "      <th>product_id</th>\n",
       "      <th>product_name</th>\n",
       "      <th>aisle_id</th>\n",
       "      <th>department_id</th>\n",
       "    </tr>\n",
       "  </thead>\n",
       "  <tbody>\n",
       "    <tr>\n",
       "      <th>71</th>\n",
       "      <td>72</td>\n",
       "      <td>NaN</td>\n",
       "      <td>100</td>\n",
       "      <td>21</td>\n",
       "    </tr>\n",
       "    <tr>\n",
       "      <th>109</th>\n",
       "      <td>110</td>\n",
       "      <td>NaN</td>\n",
       "      <td>100</td>\n",
       "      <td>21</td>\n",
       "    </tr>\n",
       "    <tr>\n",
       "      <th>296</th>\n",
       "      <td>297</td>\n",
       "      <td>NaN</td>\n",
       "      <td>100</td>\n",
       "      <td>21</td>\n",
       "    </tr>\n",
       "    <tr>\n",
       "      <th>416</th>\n",
       "      <td>417</td>\n",
       "      <td>NaN</td>\n",
       "      <td>100</td>\n",
       "      <td>21</td>\n",
       "    </tr>\n",
       "    <tr>\n",
       "      <th>436</th>\n",
       "      <td>437</td>\n",
       "      <td>NaN</td>\n",
       "      <td>100</td>\n",
       "      <td>21</td>\n",
       "    </tr>\n",
       "    <tr>\n",
       "      <th>...</th>\n",
       "      <td>...</td>\n",
       "      <td>...</td>\n",
       "      <td>...</td>\n",
       "      <td>...</td>\n",
       "    </tr>\n",
       "    <tr>\n",
       "      <th>49689</th>\n",
       "      <td>49690</td>\n",
       "      <td>HIGH PERFORMANCE ENERGY DRINK</td>\n",
       "      <td>64</td>\n",
       "      <td>7</td>\n",
       "    </tr>\n",
       "    <tr>\n",
       "      <th>49690</th>\n",
       "      <td>49691</td>\n",
       "      <td>ORIGINAL PANCAKE &amp; WAFFLE MIX</td>\n",
       "      <td>130</td>\n",
       "      <td>14</td>\n",
       "    </tr>\n",
       "    <tr>\n",
       "      <th>49691</th>\n",
       "      <td>49692</td>\n",
       "      <td>ORGANIC INSTANT OATMEAL LIGHT MAPLE BROWN SUGAR</td>\n",
       "      <td>130</td>\n",
       "      <td>14</td>\n",
       "    </tr>\n",
       "    <tr>\n",
       "      <th>49692</th>\n",
       "      <td>49693</td>\n",
       "      <td>SPRING WATER BODY WASH</td>\n",
       "      <td>127</td>\n",
       "      <td>11</td>\n",
       "    </tr>\n",
       "    <tr>\n",
       "      <th>49693</th>\n",
       "      <td>49694</td>\n",
       "      <td>BURRITO- STEAK &amp; CHEESE</td>\n",
       "      <td>38</td>\n",
       "      <td>1</td>\n",
       "    </tr>\n",
       "  </tbody>\n",
       "</table>\n",
       "<p>1361 rows × 4 columns</p>\n",
       "</div>"
      ],
      "text/plain": [
       "       product_id                                     product_name  aisle_id  \\\n",
       "71             72                                              NaN       100   \n",
       "109           110                                              NaN       100   \n",
       "296           297                                              NaN       100   \n",
       "416           417                                              NaN       100   \n",
       "436           437                                              NaN       100   \n",
       "...           ...                                              ...       ...   \n",
       "49689       49690                    HIGH PERFORMANCE ENERGY DRINK        64   \n",
       "49690       49691                    ORIGINAL PANCAKE & WAFFLE MIX       130   \n",
       "49691       49692  ORGANIC INSTANT OATMEAL LIGHT MAPLE BROWN SUGAR       130   \n",
       "49692       49693                           SPRING WATER BODY WASH       127   \n",
       "49693       49694                          BURRITO- STEAK & CHEESE        38   \n",
       "\n",
       "       department_id  \n",
       "71                21  \n",
       "109               21  \n",
       "296               21  \n",
       "416               21  \n",
       "436               21  \n",
       "...              ...  \n",
       "49689              7  \n",
       "49690             14  \n",
       "49691             14  \n",
       "49692             11  \n",
       "49693              1  \n",
       "\n",
       "[1361 rows x 4 columns]"
      ]
     },
     "metadata": {},
     "output_type": "display_data"
    }
   ],
   "source": [
    "df_products['product_name'] = df_products['product_name'].str.upper()\n",
    "\n",
    "print(f'Nombres de productos duplicados: {df_products[\"product_name\"].duplicated().sum()}')\n",
    "print()\n",
    "display(df_products[df_products[\"product_name\"].duplicated()])\n",
    "\n",
    "# Revisa únicamente si hay nombres duplicados de productos (convierte los nombres a letras mayúsculas para compararlos mejor)\n"
   ]
  },
  {
   "cell_type": "code",
   "execution_count": null,
   "id": "01efd02e",
   "metadata": {
    "id": "01efd02e",
    "scrolled": true
   },
   "outputs": [
    {
     "name": "stdout",
     "output_type": "stream",
     "text": [
      "Duplicados de productos no faltantes: 104\n"
     ]
    },
    {
     "data": {
      "text/html": [
       "<div>\n",
       "<style scoped>\n",
       "    .dataframe tbody tr th:only-of-type {\n",
       "        vertical-align: middle;\n",
       "    }\n",
       "\n",
       "    .dataframe tbody tr th {\n",
       "        vertical-align: top;\n",
       "    }\n",
       "\n",
       "    .dataframe thead th {\n",
       "        text-align: right;\n",
       "    }\n",
       "</style>\n",
       "<table border=\"1\" class=\"dataframe\">\n",
       "  <thead>\n",
       "    <tr style=\"text-align: right;\">\n",
       "      <th></th>\n",
       "      <th>product_id</th>\n",
       "      <th>product_name</th>\n",
       "      <th>aisle_id</th>\n",
       "      <th>department_id</th>\n",
       "    </tr>\n",
       "  </thead>\n",
       "  <tbody>\n",
       "    <tr>\n",
       "      <th>2058</th>\n",
       "      <td>2059</td>\n",
       "      <td>BIOTIN 1000 MCG</td>\n",
       "      <td>47</td>\n",
       "      <td>11</td>\n",
       "    </tr>\n",
       "    <tr>\n",
       "      <th>5455</th>\n",
       "      <td>5456</td>\n",
       "      <td>GREEN TEA WITH GINSENG AND HONEY</td>\n",
       "      <td>96</td>\n",
       "      <td>20</td>\n",
       "    </tr>\n",
       "    <tr>\n",
       "      <th>5558</th>\n",
       "      <td>5559</td>\n",
       "      <td>CREAM OF MUSHROOM SOUP</td>\n",
       "      <td>69</td>\n",
       "      <td>15</td>\n",
       "    </tr>\n",
       "    <tr>\n",
       "      <th>7558</th>\n",
       "      <td>7559</td>\n",
       "      <td>CINNAMON ROLLS WITH ICING</td>\n",
       "      <td>105</td>\n",
       "      <td>13</td>\n",
       "    </tr>\n",
       "    <tr>\n",
       "      <th>9037</th>\n",
       "      <td>9038</td>\n",
       "      <td>AMERICAN CHEESE SLICES</td>\n",
       "      <td>21</td>\n",
       "      <td>16</td>\n",
       "    </tr>\n",
       "    <tr>\n",
       "      <th>...</th>\n",
       "      <td>...</td>\n",
       "      <td>...</td>\n",
       "      <td>...</td>\n",
       "      <td>...</td>\n",
       "    </tr>\n",
       "    <tr>\n",
       "      <th>49689</th>\n",
       "      <td>49690</td>\n",
       "      <td>HIGH PERFORMANCE ENERGY DRINK</td>\n",
       "      <td>64</td>\n",
       "      <td>7</td>\n",
       "    </tr>\n",
       "    <tr>\n",
       "      <th>49690</th>\n",
       "      <td>49691</td>\n",
       "      <td>ORIGINAL PANCAKE &amp; WAFFLE MIX</td>\n",
       "      <td>130</td>\n",
       "      <td>14</td>\n",
       "    </tr>\n",
       "    <tr>\n",
       "      <th>49691</th>\n",
       "      <td>49692</td>\n",
       "      <td>ORGANIC INSTANT OATMEAL LIGHT MAPLE BROWN SUGAR</td>\n",
       "      <td>130</td>\n",
       "      <td>14</td>\n",
       "    </tr>\n",
       "    <tr>\n",
       "      <th>49692</th>\n",
       "      <td>49693</td>\n",
       "      <td>SPRING WATER BODY WASH</td>\n",
       "      <td>127</td>\n",
       "      <td>11</td>\n",
       "    </tr>\n",
       "    <tr>\n",
       "      <th>49693</th>\n",
       "      <td>49694</td>\n",
       "      <td>BURRITO- STEAK &amp; CHEESE</td>\n",
       "      <td>38</td>\n",
       "      <td>1</td>\n",
       "    </tr>\n",
       "  </tbody>\n",
       "</table>\n",
       "<p>104 rows × 4 columns</p>\n",
       "</div>"
      ],
      "text/plain": [
       "       product_id                                     product_name  aisle_id  \\\n",
       "2058         2059                                  BIOTIN 1000 MCG        47   \n",
       "5455         5456                 GREEN TEA WITH GINSENG AND HONEY        96   \n",
       "5558         5559                           CREAM OF MUSHROOM SOUP        69   \n",
       "7558         7559                        CINNAMON ROLLS WITH ICING       105   \n",
       "9037         9038                           AMERICAN CHEESE SLICES        21   \n",
       "...           ...                                              ...       ...   \n",
       "49689       49690                    HIGH PERFORMANCE ENERGY DRINK        64   \n",
       "49690       49691                    ORIGINAL PANCAKE & WAFFLE MIX       130   \n",
       "49691       49692  ORGANIC INSTANT OATMEAL LIGHT MAPLE BROWN SUGAR       130   \n",
       "49692       49693                           SPRING WATER BODY WASH       127   \n",
       "49693       49694                          BURRITO- STEAK & CHEESE        38   \n",
       "\n",
       "       department_id  \n",
       "2058              11  \n",
       "5455              20  \n",
       "5558              15  \n",
       "7558              13  \n",
       "9037              16  \n",
       "...              ...  \n",
       "49689              7  \n",
       "49690             14  \n",
       "49691             14  \n",
       "49692             11  \n",
       "49693              1  \n",
       "\n",
       "[104 rows x 4 columns]"
      ]
     },
     "metadata": {},
     "output_type": "display_data"
    }
   ],
   "source": [
    "non_null_products = df_products[~df_products['product_name'].isna()]\n",
    "print(f'Duplicados de productos no faltantes: {non_null_products[\"product_name\"].duplicated().sum()}')\n",
    "\n",
    "display(non_null_products[non_null_products[\"product_name\"].duplicated()])\n",
    "# Revisa si hay nombres duplicados de productos no faltantes"
   ]
  },
  {
   "cell_type": "markdown",
   "id": "9da8d293",
   "metadata": {
    "id": "9da8d293"
   },
   "source": [
    "Describe brevemente tus hallazgos y lo que hiciste con ellos.\n",
    "\n",
    "Se analizaron los datos duplicados del DataFrame 'products' aplicando los métodos 'duplicated().sum()' al DataFrame total, a sus columnas cuantitativas y categóricas. En las columnas categóricas, unificamos a mayúsculas para una mejor comparación. Después, creamos un filtro para buscar duplicados sin valores nulos.\n",
    "\n",
    "Se detectaron duplicados que pueden ser tratados como datos categóricos. También se identificó que había valores nulos que estaban afectando el número de duplicados\n"
   ]
  },
  {
   "cell_type": "markdown",
   "id": "60f30db1",
   "metadata": {
    "id": "60f30db1"
   },
   "source": [
    "### `departments` data frame"
   ]
  },
  {
   "cell_type": "code",
   "execution_count": null,
   "id": "fb410ad4-0fbf-4b80-bb09-23fdea79afe3",
   "metadata": {
    "id": "fb410ad4-0fbf-4b80-bb09-23fdea79afe3"
   },
   "outputs": [
    {
     "name": "stdout",
     "output_type": "stream",
     "text": [
      "Filas duplicadas: 0\n"
     ]
    }
   ],
   "source": [
    "print('Filas duplicadas:', df_departments.duplicated().sum())\n",
    "# Revisa si hay filas totalmente duplicadas"
   ]
  },
  {
   "cell_type": "code",
   "execution_count": null,
   "id": "332b12bb",
   "metadata": {
    "id": "332b12bb"
   },
   "outputs": [
    {
     "name": "stdout",
     "output_type": "stream",
     "text": [
      "IDs duplicados: 0\n"
     ]
    }
   ],
   "source": [
    "print('IDs duplicados:', df_departments['department_id'].duplicated().sum()) \n",
    "# Revisa únicamente si hay IDs duplicadas de productos"
   ]
  },
  {
   "cell_type": "markdown",
   "id": "bd30d78e",
   "metadata": {
    "id": "bd30d78e"
   },
   "source": [
    "Describe brevemente tus hallazgos y lo que hiciste con ellos.\n",
    "\n",
    "En el DataFrame 'departments' no existen valores duplicados. Es un DataFrame con pocas filas que guarda el identificador de cada departamento\n"
   ]
  },
  {
   "cell_type": "markdown",
   "id": "889349c1",
   "metadata": {
    "id": "889349c1"
   },
   "source": [
    "### `aisles` data frame"
   ]
  },
  {
   "cell_type": "code",
   "execution_count": null,
   "id": "9da89fb9-4679-40f5-ad0d-c34df753a3f8",
   "metadata": {
    "id": "9da89fb9-4679-40f5-ad0d-c34df753a3f8"
   },
   "outputs": [
    {
     "name": "stdout",
     "output_type": "stream",
     "text": [
      "Filas duplicadas: 0\n"
     ]
    }
   ],
   "source": [
    " print('Filas duplicadas:', df_aisles.duplicated().sum()) # Revisa si hay filas totalmente duplicadas"
   ]
  },
  {
   "cell_type": "code",
   "execution_count": null,
   "id": "da7c2822",
   "metadata": {
    "id": "da7c2822",
    "scrolled": true
   },
   "outputs": [
    {
     "name": "stdout",
     "output_type": "stream",
     "text": [
      "IDs duplicados: 0\n"
     ]
    }
   ],
   "source": [
    " print('IDs duplicados:', df_aisles['aisle_id'].duplicated().sum())# Revisa únicamente si hay IDs duplicadas de productos\n"
   ]
  },
  {
   "cell_type": "markdown",
   "id": "ac63826f",
   "metadata": {
    "id": "ac63826f"
   },
   "source": [
    "Describe brevemente tus hallazgos y lo que hiciste con ellos.\n",
    "\n",
    "En el DataFrame 'aisles' no existen valores duplicados. Es un DataFrame que guarda el identificador de cada pasillo"
   ]
  },
  {
   "cell_type": "markdown",
   "id": "274cd06a",
   "metadata": {
    "id": "274cd06a"
   },
   "source": [
    "### `order_products` data frame"
   ]
  },
  {
   "cell_type": "code",
   "execution_count": null,
   "id": "52326689-84a8-4b8f-a881-7c68780f62c9",
   "metadata": {
    "id": "52326689-84a8-4b8f-a881-7c68780f62c9"
   },
   "outputs": [
    {
     "name": "stdout",
     "output_type": "stream",
     "text": [
      "Filas duplicadas: 0\n"
     ]
    }
   ],
   "source": [
    " print('Filas duplicadas:', df_order_products.duplicated().sum()) # Revisa si hay filas totalmente duplicadas\n"
   ]
  },
  {
   "cell_type": "code",
   "execution_count": null,
   "id": "7b861391",
   "metadata": {
    "id": "7b861391"
   },
   "outputs": [
    {
     "name": "stdout",
     "output_type": "stream",
     "text": [
      "Duplicados de order_id y product_id:\n",
      "0\n"
     ]
    }
   ],
   "source": [
    "     \n",
    "print(\"Duplicados de order_id y product_id:\")\n",
    "print(df_order_products[['order_id','product_id']].duplicated().sum()) # Analizando duplicados\n",
    "\n",
    "# Vuelve a verificar si hay cualquier otro duplicado engañoso"
   ]
  },
  {
   "cell_type": "markdown",
   "id": "0b890492",
   "metadata": {
    "id": "0b890492"
   },
   "source": [
    "Describe brevemente tus hallazgos y lo que hiciste con ellos.\n",
    "\n",
    "* De acuerdo con el diccionario de datos, cada fila en order_products.csv corresponde a un artículo en un pedido. Para encontrar duplicados engañosos, buscamos específicamente en la combinación de las columnas order_id y product_id, ya que un duplicado en esta combinación significaría un error\n"
   ]
  },
  {
   "cell_type": "markdown",
   "id": "1e46de76",
   "metadata": {
    "id": "1e46de76"
   },
   "source": [
    "## Encuentra y elimina los valores ausentes\n",
    "\n",
    "Al trabajar con valores duplicados, pudimos observar que también nos falta investigar valores ausentes:\n",
    "\n",
    "* La columna `'product_name'` de la tabla products.\n",
    "* La columna `'days_since_prior_order'` de la tabla orders.\n",
    "* La columna `'add_to_cart_order'` de la tabla order_productos."
   ]
  },
  {
   "cell_type": "markdown",
   "id": "c0aebd78",
   "metadata": {
    "id": "c0aebd78"
   },
   "source": [
    "### `products` data frame"
   ]
  },
  {
   "cell_type": "code",
   "execution_count": null,
   "id": "fe4a8b0f",
   "metadata": {
    "id": "fe4a8b0f"
   },
   "outputs": [
    {
     "name": "stdout",
     "output_type": "stream",
     "text": [
      "       product_id product_name  aisle_id  department_id\n",
      "37             38          NaN       100             21\n",
      "71             72          NaN       100             21\n",
      "109           110          NaN       100             21\n",
      "296           297          NaN       100             21\n",
      "416           417          NaN       100             21\n",
      "...           ...          ...       ...            ...\n",
      "49552       49553          NaN       100             21\n",
      "49574       49575          NaN       100             21\n",
      "49640       49641          NaN       100             21\n",
      "49663       49664          NaN       100             21\n",
      "49668       49669          NaN       100             21\n",
      "\n",
      "[1258 rows x 4 columns]\n"
     ]
    }
   ],
   "source": [
    "print(df_products[df_products['product_name'].isna()])\n",
    "# Encuentra los valores ausentes en la columna 'product_name'"
   ]
  },
  {
   "cell_type": "markdown",
   "id": "-A6x1AbJhjkp",
   "metadata": {
    "id": "-A6x1AbJhjkp"
   },
   "source": [
    "Describe brevemente cuáles son tus hallazgos.\n",
    "\n",
    "Tenemos dos datos en común, el pasillo 100 y el departamento 21"
   ]
  },
  {
   "cell_type": "code",
   "execution_count": null,
   "id": "e96167bc",
   "metadata": {
    "id": "e96167bc"
   },
   "outputs": [
    {
     "name": "stdout",
     "output_type": "stream",
     "text": [
      "Empty DataFrame\n",
      "Columns: [product_id, product_name, aisle_id, department_id]\n",
      "Index: []\n"
     ]
    }
   ],
   "source": [
    "print(df_products[(df_products['product_name'].isna()) & (df_products['aisle_id'] != 100)])\n",
    "#  ¿Todos los nombres de productos ausentes están relacionados con el pasillo con ID 100?"
   ]
  },
  {
   "cell_type": "markdown",
   "id": "WRpIfXRphpSL",
   "metadata": {
    "id": "WRpIfXRphpSL"
   },
   "source": [
    "Describe brevemente cuáles son tus hallazgos.\n",
    "\n",
    "Si, Todos los nombres de productos ausentes están relacionados con el pasillo con ID 100 porque el resultado de buscar un desigual nos arroja un DataFrame vacio"
   ]
  },
  {
   "cell_type": "code",
   "execution_count": null,
   "id": "8fd0a541",
   "metadata": {
    "id": "8fd0a541"
   },
   "outputs": [
    {
     "name": "stdout",
     "output_type": "stream",
     "text": [
      "Empty DataFrame\n",
      "Columns: [product_id, product_name, aisle_id, department_id]\n",
      "Index: []\n"
     ]
    }
   ],
   "source": [
    "print(df_products[(df_products['product_name'].isna()) & (df_products['department_id'] != 21)])\n",
    "# ¿Todos los nombres de productos ausentes están relacionados con el departamento con ID 21?\n"
   ]
  },
  {
   "cell_type": "markdown",
   "id": "qDpdYn1Fht_I",
   "metadata": {
    "id": "qDpdYn1Fht_I"
   },
   "source": [
    "Describe brevemente cuáles son tus hallazgos.\n",
    "\n",
    "Si, todos los nombres de productos ausentes están relacionados con el departamento con ID 21 porque el resultado de buscar un desigual nos arroja un DataFrame vacio"
   ]
  },
  {
   "cell_type": "code",
   "execution_count": null,
   "id": "325c3464",
   "metadata": {
    "id": "325c3464"
   },
   "outputs": [
    {
     "name": "stdout",
     "output_type": "stream",
     "text": [
      "    department_id department\n",
      "20             21    missing\n",
      "\n",
      "    aisle_id    aisle\n",
      "99       100  missing\n"
     ]
    }
   ],
   "source": [
    "print(df_departments[df_departments['department_id'] == 21])\n",
    "print()\n",
    "print(df_aisles[df_aisles['aisle_id'] == 100])\n",
    "# Usa las tablas department y aisle para revisar los datos del pasillo con ID 100 y el departamento con ID 21.\n"
   ]
  },
  {
   "cell_type": "markdown",
   "id": "nqhSTUPhhvEJ",
   "metadata": {
    "id": "nqhSTUPhhvEJ"
   },
   "source": [
    "Describe brevemente cuáles son tus hallazgos.\n",
    "\n",
    "Para los datos de nombre de productos faltantes tambien le son desconocidos los datos del pasillo y el departamento al que pertenecen"
   ]
  },
  {
   "cell_type": "code",
   "execution_count": null,
   "id": "6b295120",
   "metadata": {
    "id": "6b295120"
   },
   "outputs": [],
   "source": [
    "df_products['product_name'].fillna('Unknown', inplace =True)\n",
    "# Completa los nombres de productos ausentes con 'Unknown'\n"
   ]
  },
  {
   "cell_type": "markdown",
   "id": "fc70e5ad",
   "metadata": {
    "id": "fc70e5ad"
   },
   "source": [
    "Describe brevemente tus hallazgos y lo que hiciste con ellos.\n",
    "\n",
    "Se descubrió que los valores ausentes de los nombres de productos estaban relacionados con datos desconocidos de pasillo y departamento, por lo tanto se decidió rellenarlo con el string 'Unknown'"
   ]
  },
  {
   "cell_type": "markdown",
   "id": "7eb45c86",
   "metadata": {
    "id": "7eb45c86"
   },
   "source": [
    "### `orders` data frame"
   ]
  },
  {
   "cell_type": "code",
   "execution_count": null,
   "id": "93e41d96",
   "metadata": {
    "id": "93e41d96"
   },
   "outputs": [
    {
     "name": "stdout",
     "output_type": "stream",
     "text": [
      "order_id                      0\n",
      "user_id                       0\n",
      "order_number                  0\n",
      "order_dow                     0\n",
      "order_hour_of_day             0\n",
      "days_since_prior_order    28817\n",
      "dtype: int64\n",
      "        order_id  user_id  order_number  order_dow  order_hour_of_day  \\\n",
      "28        133707   182261             1          3                 10   \n",
      "96        787445    25685             1          6                 18   \n",
      "100       294410   111449             1          0                 19   \n",
      "103      2869915   123958             1          4                 16   \n",
      "104      2521921    42286             1          3                 18   \n",
      "...          ...      ...           ...        ...                ...   \n",
      "478895   2589657   205028             1          0                 16   \n",
      "478896   2222353   141211             1          2                 13   \n",
      "478922   2272807   204154             1          1                 15   \n",
      "478926   2499542    68810             1          4                 19   \n",
      "478945   1387033    22496             1          5                 14   \n",
      "\n",
      "        days_since_prior_order  \n",
      "28                         NaN  \n",
      "96                         NaN  \n",
      "100                        NaN  \n",
      "103                        NaN  \n",
      "104                        NaN  \n",
      "...                        ...  \n",
      "478895                     NaN  \n",
      "478896                     NaN  \n",
      "478922                     NaN  \n",
      "478926                     NaN  \n",
      "478945                     NaN  \n",
      "\n",
      "[28817 rows x 6 columns]\n"
     ]
    }
   ],
   "source": [
    "print(df_instacart_orders.isna().sum())\n",
    "print(df_instacart_orders[df_instacart_orders['days_since_prior_order'].isna()])# Encuentra los valores ausentes"
   ]
  },
  {
   "cell_type": "code",
   "execution_count": null,
   "id": "166e5a86",
   "metadata": {
    "id": "166e5a86"
   },
   "outputs": [
    {
     "name": "stdout",
     "output_type": "stream",
     "text": [
      "Empty DataFrame\n",
      "Columns: [order_id, user_id, order_number, order_dow, order_hour_of_day, days_since_prior_order]\n",
      "Index: []\n"
     ]
    }
   ],
   "source": [
    "print(df_instacart_orders[(df_instacart_orders['days_since_prior_order'].isna()) & (df_instacart_orders['order_number']!=1)])\n",
    "\n",
    "# ¿Hay algún valor ausente que no sea el primer pedido del cliente?\n"
   ]
  },
  {
   "cell_type": "markdown",
   "id": "4e23d089",
   "metadata": {
    "id": "4e23d089"
   },
   "source": [
    "Describe brevemente tus hallazgos y lo que hiciste con ellos.\n",
    "\n",
    "Los valores faltantes de la columna \"días desde la orden anterior\" se generan porque es la primer orden que se hace"
   ]
  },
  {
   "cell_type": "markdown",
   "id": "69dc9ca4",
   "metadata": {
    "id": "69dc9ca4"
   },
   "source": [
    "### `order_products` data frame"
   ]
  },
  {
   "cell_type": "code",
   "execution_count": null,
   "id": "b8240253",
   "metadata": {
    "id": "b8240253"
   },
   "outputs": [
    {
     "name": "stdout",
     "output_type": "stream",
     "text": [
      "order_id               0\n",
      "product_id             0\n",
      "add_to_cart_order    836\n",
      "reordered              0\n",
      "dtype: int64\n",
      "         order_id  product_id  add_to_cart_order  reordered\n",
      "737       2449164        5068                NaN          0\n",
      "9926      1968313       43867                NaN          0\n",
      "14394     2926893       11688                NaN          0\n",
      "16418     1717990        4142                NaN          0\n",
      "30114     1959075       42828                NaN          1\n",
      "...           ...         ...                ...        ...\n",
      "4505662   1800005        7411                NaN          0\n",
      "4511400   1633337         260                NaN          0\n",
      "4517562    404157        9517                NaN          0\n",
      "4534112   1673227       17835                NaN          0\n",
      "4535739   1832957       17949                NaN          1\n",
      "\n",
      "[836 rows x 4 columns]\n"
     ]
    }
   ],
   "source": [
    "print(df_order_products.isna().sum())\n",
    "print(df_order_products[df_order_products['add_to_cart_order'].isna()])\n",
    "# Encuentra los valores ausentes"
   ]
  },
  {
   "cell_type": "code",
   "execution_count": null,
   "id": "9a78e5ee",
   "metadata": {
    "id": "9a78e5ee"
   },
   "outputs": [
    {
     "name": "stdout",
     "output_type": "stream",
     "text": [
      "Valor maximo: 64.0\n",
      "Valor minimo: 1.0\n"
     ]
    }
   ],
   "source": [
    "print(\"Valor maximo:\",df_order_products['add_to_cart_order'].max())\n",
    "print(\"Valor minimo:\",df_order_products['add_to_cart_order'].min())\n",
    "# ¿Cuáles son los valores mínimos y máximos en esta columna?\n"
   ]
  },
  {
   "cell_type": "markdown",
   "id": "-Z2Ja215jW78",
   "metadata": {
    "id": "-Z2Ja215jW78"
   },
   "source": [
    "Describe brevemente cuáles son tus hallazgos.\n",
    "\n",
    "Los valores faltantes se generan probalemente porque es la primera vez que se hace el pedido"
   ]
  },
  {
   "cell_type": "code",
   "execution_count": null,
   "id": "ab9d0c2b",
   "metadata": {
    "id": "ab9d0c2b"
   },
   "outputs": [
    {
     "name": "stdout",
     "output_type": "stream",
     "text": [
      "[2449164 1968313 2926893 1717990 1959075  844733   61355  936852  264710\n",
      " 1564093  129627  293169 2849370 1386261 3308010  903110 2136777 3347453\n",
      " 1888628  165801 2094761 1038146 2997021  813364 2256933  171934 2409109\n",
      " 1730767 1169835  733526  404157 3125735  747668 1800005 1961723  871281\n",
      "  388234 1648217 1477139  102236 1021563 1832957 2721963  678116 1220886\n",
      " 1673227 2999801 1633337 2470674 2625444 1677118 2479011 3383594 1183255\n",
      " 1713430 2652650 1598369 1916118  854647 1302315  888470  180546 2621907\n",
      " 1308785 2729254    9310 2170451 2979697 1625713 1529171]\n"
     ]
    }
   ],
   "source": [
    "na_values = df_order_products[df_order_products['add_to_cart_order'].isna()]\n",
    "oder_id_na = na_values['order_id'].unique()\n",
    "print(oder_id_na)\n",
    "# Guarda todas las IDs de pedidos que tengan un valor ausente en 'add_to_cart_order'\n"
   ]
  },
  {
   "cell_type": "code",
   "execution_count": null,
   "id": "54c31695",
   "metadata": {
    "id": "54c31695"
   },
   "outputs": [
    {
     "name": "stdout",
     "output_type": "stream",
     "text": [
      "Productos minimo de pedidos con valores ausentes: 65\n"
     ]
    }
   ],
   "source": [
    "order_na_filter = df_order_products[df_order_products['order_id'].isin(oder_id_na)] \n",
    "sum_grp_order = order_na_filter.groupby('order_id')['product_id'].count()\n",
    "print('Productos minimo de pedidos con valores ausentes:',sum_grp_order.min())\n",
    "# ¿Todos los pedidos con valores ausentes tienen más de 64 productos?\n",
    "# Agrupa todos los pedidos con datos ausentes por su ID de pedido.\n",
    "# Cuenta el número de 'product_id' en cada pedido y revisa el valor mínimo del conteo.\n"
   ]
  },
  {
   "cell_type": "markdown",
   "id": "p9V6pddtjglj",
   "metadata": {
    "id": "p9V6pddtjglj"
   },
   "source": [
    "Describe brevemente cuáles son tus hallazgos.\n",
    "\n",
    "Todos los pedidos con una cantidad mayor de 65 productos ocacionan un valor ausente en la columna \"add_to_cart_order\""
   ]
  },
  {
   "cell_type": "code",
   "execution_count": null,
   "id": "7a987d08",
   "metadata": {
    "id": "7a987d08"
   },
   "outputs": [
    {
     "name": "stdout",
     "output_type": "stream",
     "text": [
      "<class 'pandas.core.frame.DataFrame'>\n",
      "RangeIndex: 4545007 entries, 0 to 4545006\n",
      "Data columns (total 4 columns):\n",
      " #   Column             Non-Null Count    Dtype\n",
      "---  ------             --------------    -----\n",
      " 0   order_id           4545007 non-null  int64\n",
      " 1   product_id         4545007 non-null  int64\n",
      " 2   add_to_cart_order  4545007 non-null  int64\n",
      " 3   reordered          4545007 non-null  int64\n",
      "dtypes: int64(4)\n",
      "memory usage: 138.7 MB\n"
     ]
    }
   ],
   "source": [
    "df_order_products['add_to_cart_order'] = df_order_products['add_to_cart_order'].fillna('999').astype(int)\n",
    "df_order_products.info(show_counts=True)\n",
    "# Remplaza los valores ausentes en la columna 'add_to_cart? con 999 y convierte la columna al tipo entero.\n"
   ]
  },
  {
   "cell_type": "markdown",
   "id": "fea4bcc7",
   "metadata": {
    "id": "fea4bcc7"
   },
   "source": [
    "Describe brevemente tus hallazgos y lo que hiciste con ellos.\n",
    "\n",
    "Se decidó rellenar los valores nulos con el número 999 y se convirtienron los valores a enteros ya que tenian el formato float"
   ]
  },
  {
   "cell_type": "markdown",
   "id": "RnplPFY1gSrb",
   "metadata": {
    "id": "RnplPFY1gSrb"
   },
   "source": [
    "## Conclusiones\n",
    "\n",
    "Escribe aquí tus conclusiones intermedias sobre el Paso 2. Preprocesamiento de los datos\n",
    "\n",
    "* En esta etapa del proyecto observamos de dónde provienen los valores duplicados y los valores ausentes, es necesario enteder esta parte para darle procesamiento adecuado\n"
   ]
  },
  {
   "cell_type": "markdown",
   "id": "UjrOIwTcz3ri",
   "metadata": {
    "id": "UjrOIwTcz3ri"
   },
   "source": [
    "# Paso 3. Análisis de los datos\n",
    "\n",
    "Una vez los datos estén procesados y listos, haz el siguiente análisis:"
   ]
  },
  {
   "cell_type": "markdown",
   "id": "turkish-kidney",
   "metadata": {
    "id": "turkish-kidney"
   },
   "source": [
    "# [A] Fácil (deben completarse todos para aprobar)\n",
    "\n",
    "1. Verifica que los valores en las columnas `'order_hour_of_day'` y `'order_dow'` en la tabla orders sean razonables (es decir, `'order_hour_of_day'` oscile entre 0 y 23 y `'order_dow'` oscile entre 0 y 6).\n",
    "2. Crea un gráfico que muestre el número de personas que hacen pedidos dependiendo de la hora del día.\n",
    "3. Crea un gráfico que muestre qué día de la semana la gente hace sus compras.\n",
    "4. Crea un gráfico que muestre el tiempo que la gente espera hasta hacer su siguiente pedido, y comenta sobre los valores mínimos y máximos."
   ]
  },
  {
   "cell_type": "markdown",
   "id": "short-capability",
   "metadata": {
    "id": "short-capability"
   },
   "source": [
    "### [A1] Verifica que los valores sean sensibles"
   ]
  },
  {
   "cell_type": "code",
   "execution_count": null,
   "id": "growing-fruit",
   "metadata": {
    "id": "growing-fruit"
   },
   "outputs": [
    {
     "name": "stdout",
     "output_type": "stream",
     "text": [
      "0\n",
      "23\n"
     ]
    }
   ],
   "source": [
    "print(df_instacart_orders['order_hour_of_day'].min())\n",
    "print(df_instacart_orders['order_hour_of_day'].max())\n"
   ]
  },
  {
   "cell_type": "code",
   "execution_count": null,
   "id": "accessory-malaysia",
   "metadata": {
    "id": "accessory-malaysia"
   },
   "outputs": [
    {
     "name": "stdout",
     "output_type": "stream",
     "text": [
      "0\n",
      "6\n"
     ]
    }
   ],
   "source": [
    "print(df_instacart_orders['order_dow'].min())\n",
    "print(df_instacart_orders['order_dow'].max())"
   ]
  },
  {
   "cell_type": "markdown",
   "id": "hmR2GNQ6lCsX",
   "metadata": {
    "id": "hmR2GNQ6lCsX"
   },
   "source": [
    "Escribe aquí tus conclusiones\n",
    "\n",
    "Los valores son correctos, los cuales representan los días y las hora del pedido"
   ]
  },
  {
   "cell_type": "markdown",
   "id": "a6743a70",
   "metadata": {
    "id": "a6743a70"
   },
   "source": [
    "### [A2] Para cada hora del día, ¿cuántas personas hacen órdenes?"
   ]
  },
  {
   "cell_type": "code",
   "execution_count": null,
   "id": "a36cca27",
   "metadata": {
    "id": "a36cca27"
   },
   "outputs": [
    {
     "data": {
      "image/png": "[encoded data removed]",
      "text/plain": [
       "<Figure size 1000x600 with 1 Axes>"
      ]
     },
     "metadata": {},
     "output_type": "display_data"
    }
   ],
   "source": [
    "users_per_hour = df_instacart_orders.groupby('order_hour_of_day')['user_id'].nunique().reset_index()\n",
    "# DF que agrupa el número de usuarios unicos por hora\n",
    "\n",
    "# Crear el gráfico de barras\n",
    "users_per_hour.plot(\n",
    "    kind='bar',\n",
    "    title='Number of people who ordered by hour of the day',\n",
    "    xlabel='Hour of the day',\n",
    "    ylabel='Number of people',\n",
    "    legend = False,\n",
    "    figsize = (10,6))\n",
    "\n",
    "# Mostrar el gráfico\n",
    "plt.show()"
   ]
  },
  {
   "cell_type": "markdown",
   "id": "11270eed",
   "metadata": {
    "id": "11270eed"
   },
   "source": [
    "Escribe aquí tus conclusiones\n",
    "\n",
    "La mayoria de las  personas tienden a hacer sus pedidos entre las 10 y 16 horas"
   ]
  },
  {
   "cell_type": "markdown",
   "id": "documented-command",
   "metadata": {
    "id": "documented-command"
   },
   "source": [
    "### [A3] ¿Qué día de la semana compran víveres las personas?"
   ]
  },
  {
   "cell_type": "code",
   "execution_count": null,
   "id": "chief-digit",
   "metadata": {
    "id": "chief-digit"
   },
   "outputs": [
    {
     "data": {
      "image/png": "[encoded data removed]",
      "text/plain": [
       "<Figure size 1000x600 with 1 Axes>"
      ]
     },
     "metadata": {},
     "output_type": "display_data"
    }
   ],
   "source": [
    "users_per_day = df_instacart_orders.groupby('order_dow')['user_id'].nunique().reset_index()\n",
    "# DF que agrupa el número de usuarios unicos por día de pedido\n",
    "\n",
    "# Crear el gráfico de barras\n",
    "users_per_day.plot(\n",
    "                    title = 'Number of people who ordered by day of the week',\n",
    "                    xlabel = 'Day of the week',\n",
    "                    ylabel = 'Number of people',\n",
    "                    legend = False,\n",
    "                    figsize = (10,6),\n",
    "                    kind = 'bar'\n",
    "                   )\n",
    "\n",
    "# Mostrar el gráfico\n",
    "plt.show()"
   ]
  },
  {
   "cell_type": "markdown",
   "id": "dominant-lightning",
   "metadata": {
    "id": "dominant-lightning"
   },
   "source": [
    "Escribe aquí tus conclusiones\n",
    "\n",
    "Las personas tienen una leve preferencia a realizar sus pedidos los domingos y los lunes"
   ]
  },
  {
   "cell_type": "markdown",
   "id": "cutting-concert",
   "metadata": {
    "id": "cutting-concert"
   },
   "source": [
    "### [A4] ¿Cuánto tiempo esperan las personas hasta hacer otro pedido? Comenta sobre los valores mínimos y máximos."
   ]
  },
  {
   "cell_type": "code",
   "execution_count": null,
   "id": "c231f523",
   "metadata": {
    "id": "c231f523"
   },
   "outputs": [
    {
     "data": {
      "image/png": "[encoded data removed]",
      "text/plain": [
       "<Figure size 1000x600 with 1 Axes>"
      ]
     },
     "metadata": {},
     "output_type": "display_data"
    },
    {
     "data": {
      "text/html": [
       "<div>\n",
       "<style scoped>\n",
       "    .dataframe tbody tr th:only-of-type {\n",
       "        vertical-align: middle;\n",
       "    }\n",
       "\n",
       "    .dataframe tbody tr th {\n",
       "        vertical-align: top;\n",
       "    }\n",
       "\n",
       "    .dataframe thead th {\n",
       "        text-align: right;\n",
       "    }\n",
       "</style>\n",
       "<table border=\"1\" class=\"dataframe\">\n",
       "  <thead>\n",
       "    <tr style=\"text-align: right;\">\n",
       "      <th></th>\n",
       "      <th>days_since_prior_order</th>\n",
       "      <th>user_id</th>\n",
       "    </tr>\n",
       "  </thead>\n",
       "  <tbody>\n",
       "    <tr>\n",
       "      <th>count</th>\n",
       "      <td>31.000000</td>\n",
       "      <td>31.000000</td>\n",
       "    </tr>\n",
       "    <tr>\n",
       "      <th>mean</th>\n",
       "      <td>15.000000</td>\n",
       "      <td>11931.645161</td>\n",
       "    </tr>\n",
       "    <tr>\n",
       "      <th>std</th>\n",
       "      <td>9.092121</td>\n",
       "      <td>10062.336917</td>\n",
       "    </tr>\n",
       "    <tr>\n",
       "      <th>min</th>\n",
       "      <td>0.000000</td>\n",
       "      <td>2620.000000</td>\n",
       "    </tr>\n",
       "    <tr>\n",
       "      <th>25%</th>\n",
       "      <td>7.500000</td>\n",
       "      <td>4637.000000</td>\n",
       "    </tr>\n",
       "    <tr>\n",
       "      <th>50%</th>\n",
       "      <td>15.000000</td>\n",
       "      <td>9044.000000</td>\n",
       "    </tr>\n",
       "    <tr>\n",
       "      <th>75%</th>\n",
       "      <td>22.500000</td>\n",
       "      <td>16453.000000</td>\n",
       "    </tr>\n",
       "    <tr>\n",
       "      <th>max</th>\n",
       "      <td>30.000000</td>\n",
       "      <td>44444.000000</td>\n",
       "    </tr>\n",
       "  </tbody>\n",
       "</table>\n",
       "</div>"
      ],
      "text/plain": [
       "       days_since_prior_order       user_id\n",
       "count               31.000000     31.000000\n",
       "mean                15.000000  11931.645161\n",
       "std                  9.092121  10062.336917\n",
       "min                  0.000000   2620.000000\n",
       "25%                  7.500000   4637.000000\n",
       "50%                 15.000000   9044.000000\n",
       "75%                 22.500000  16453.000000\n",
       "max                 30.000000  44444.000000"
      ]
     },
     "metadata": {},
     "output_type": "display_data"
    }
   ],
   "source": [
    "users_prior_order = df_instacart_orders.groupby('days_since_prior_order')['user_id'].nunique().reset_index()\n",
    "# DF que agrupa el numero de usuarios por los dias que se tardaron en hacer el siguiente pedido\n",
    "\n",
    "# Crear el gráfico \n",
    "users_prior_order.plot(\n",
    "                    title = 'the time people wait to place another order',\n",
    "                    xlabel = 'Days',\n",
    "                    ylabel = 'Number of people',\n",
    "                    legend = False,\n",
    "                    figsize = (10,6),\n",
    "                    kind = 'bar',\n",
    "                   )\n",
    "\n",
    "# Mostrar el gráfico\n",
    "plt.show()\n",
    "\n",
    "\n",
    "\n",
    "\n",
    "# Calculo de minimos y maximos\n",
    "display(users_prior_order.describe())"
   ]
  },
  {
   "cell_type": "markdown",
   "id": "discrete-vertex",
   "metadata": {
    "id": "discrete-vertex"
   },
   "source": [
    "Escribe aquí tus conclusiones\n",
    "\n",
    "La mayoria de las personas esperan 30 dias en hacer el proximo pedido. El tiempo oscila entre 0 y 30 días de espera."
   ]
  },
  {
   "cell_type": "markdown",
   "id": "tight-staff",
   "metadata": {
    "id": "tight-staff"
   },
   "source": [
    "# [B] Intermedio (deben completarse todos para aprobar)\n",
    "\n",
    "1. ¿Existe alguna diferencia entre las distribuciones `'order_hour_of_day'` de los miércoles y los sábados? Traza gráficos de barra de `'order_hour_of_day'` para ambos días en la misma figura y describe las diferencias que observes.\n",
    "2. Grafica la distribución para el número de órdenes que hacen los clientes (es decir, cuántos clientes hicieron solo 1 pedido, cuántos hicieron 2, cuántos 3, y así sucesivamente...).\n",
    "3. ¿Cuáles son los 20 principales productos que se piden con más frecuencia (muestra su identificación y nombre)?"
   ]
  },
  {
   "cell_type": "markdown",
   "id": "packed-classic",
   "metadata": {
    "id": "packed-classic"
   },
   "source": [
    "### [B1] Diferencia entre miércoles y sábados para  `'order_hour_of_day'`. Traza gráficos de barra para los dos días y describe las diferencias que veas."
   ]
  },
  {
   "cell_type": "code",
   "execution_count": null,
   "id": "d89b8403",
   "metadata": {
    "id": "d89b8403"
   },
   "outputs": [
    {
     "ename": "NameError",
     "evalue": "name 'df_instacart_orders' is not defined",
     "output_type": "error",
     "traceback": [
      "\u001b[1;31m---------------------------------------------------------------------------\u001b[0m",
      "\u001b[1;31mNameError\u001b[0m                                 Traceback (most recent call last)",
      "Cell \u001b[1;32mIn[2], line 2\u001b[0m\n\u001b[0;32m      1\u001b[0m \u001b[38;5;66;03m# Filtrar los datos para miércoles (order_dow = 3) y sábados (order_dow = 6)\u001b[39;00m\n\u001b[1;32m----> 2\u001b[0m wedn_sat \u001b[38;5;241m=\u001b[39m \u001b[43mdf_instacart_orders\u001b[49m[(df_instacart_orders[\u001b[38;5;124m'\u001b[39m\u001b[38;5;124morder_dow\u001b[39m\u001b[38;5;124m'\u001b[39m] \u001b[38;5;241m==\u001b[39m \u001b[38;5;241m3\u001b[39m) \u001b[38;5;241m|\u001b[39m (df_instacart_orders[\u001b[38;5;124m'\u001b[39m\u001b[38;5;124morder_dow\u001b[39m\u001b[38;5;124m'\u001b[39m] \u001b[38;5;241m==\u001b[39m \u001b[38;5;241m6\u001b[39m)]\n\u001b[0;32m      4\u001b[0m \u001b[38;5;66;03m# Pivot Table\u001b[39;00m\n\u001b[0;32m      5\u001b[0m pivot_wednesday_saturday \u001b[38;5;241m=\u001b[39m wedn_sat\u001b[38;5;241m.\u001b[39mpivot_table(index \u001b[38;5;241m=\u001b[39m \u001b[38;5;124m'\u001b[39m\u001b[38;5;124morder_hour_of_day\u001b[39m\u001b[38;5;124m'\u001b[39m,columns \u001b[38;5;241m=\u001b[39m \u001b[38;5;124m'\u001b[39m\u001b[38;5;124morder_dow\u001b[39m\u001b[38;5;124m'\u001b[39m, values \u001b[38;5;241m=\u001b[39m \u001b[38;5;124m'\u001b[39m\u001b[38;5;124morder_id\u001b[39m\u001b[38;5;124m'\u001b[39m,aggfunc \u001b[38;5;241m=\u001b[39m \u001b[38;5;124m'\u001b[39m\u001b[38;5;124mcount\u001b[39m\u001b[38;5;124m'\u001b[39m)\n",
      "\u001b[1;31mNameError\u001b[0m: name 'df_instacart_orders' is not defined"
     ]
    }
   ],
   "source": [
    "# Filtrar los datos para miércoles (order_dow = 3) y sábados (order_dow = 6)\n",
    "wedn_sat = df_instacart_orders[(df_instacart_orders['order_dow'] == 3) | (df_instacart_orders['order_dow'] == 6)]\n",
    "\n",
    "# Pivot Table\n",
    "pivot_wednesday_saturday = wedn_sat.pivot_table(index = 'order_hour_of_day',columns = 'order_dow', values = 'order_id',aggfunc = 'count')\n",
    "\n",
    "pivot_wednesday_saturday\n",
    "\n",
    "\n",
    "# Graficar\n",
    "pivot_wednesday_saturday.plot(kind = 'bar',\n",
    "                              xlabel = 'order hour of the day',\n",
    "                              ylabel = 'orders',\n",
    "                              title = 'Wednenesday vs Saturday',\n",
    "                              figsize = (10,6)\n",
    "                             )\n",
    "\n",
    "plt.legend(['Wednesday','Saturday'])                             \n",
    "plt.show()\n"
   ]
  },
  {
   "cell_type": "markdown",
   "id": "charitable-congo",
   "metadata": {
    "id": "charitable-congo"
   },
   "source": [
    "Escribe aquí tus conclusiones\n",
    "\n",
    "* Se observan que la distribución de pedidos por hora es muy similar los miércoles y sábados, teniendo una leve ventaja los sábados en la franja del medio día."
   ]
  },
  {
   "cell_type": "markdown",
   "id": "7f56ee24",
   "metadata": {},
   "source": [
    "<div class=\"alert alert-block alert-success\">\n",
    "<b>Comentario del revisor (1ra Iteracion)</b> <a class=“tocSkip”></a>\n",
    "\n",
    "Muy buen trabajo con la gráfica y la conclusión a partir de la misma\n",
    "</div>"
   ]
  },
  {
   "cell_type": "markdown",
   "id": "e3891143",
   "metadata": {
    "id": "e3891143"
   },
   "source": [
    "### [B2] ¿Cuál es la distribución para el número de pedidos por cliente?"
   ]
  },
  {
   "cell_type": "code",
   "execution_count": null,
   "id": "d8c26c23",
   "metadata": {
    "id": "d8c26c23"
   },
   "outputs": [
    {
     "data": {
      "image/png": "[encoded data removed]",
      "text/plain": [
       "<Figure size 1000x600 with 1 Axes>"
      ]
     },
     "metadata": {},
     "output_type": "display_data"
    }
   ],
   "source": [
    "# Contar el número de órdenes por cliente\n",
    "order_counts = df_instacart_orders.groupby('user_id')['order_id'].nunique().sort_index()\n",
    "\n",
    "# Crear el gráfico histograma\n",
    "order_counts.plot(kind = 'hist',\n",
    "                  xlabel= 'orders by client',\n",
    "                  ylabel= 'Frequency',\n",
    "                  title= 'Distribution of orders by client',\n",
    "                  figsize= (10,6)\n",
    "                 )\n",
    "plt.show()\n",
    "                  \n",
    "                 \n"
   ]
  },
  {
   "cell_type": "markdown",
   "id": "d2eff7d5",
   "metadata": {
    "id": "d2eff7d5"
   },
   "source": [
    "Escribe aquí tus conclusiones\n",
    "\n",
    "La distribución esta muy inclinada hacia la izquierda, lo que quiere decir que la mayoria de los clientes no piden más de 5 veces."
   ]
  },
  {
   "cell_type": "markdown",
   "id": "54a0319c",
   "metadata": {
    "id": "54a0319c"
   },
   "source": [
    "### [B3] ¿Cuáles son los 20 productos más populares (muestra su ID y nombre)?"
   ]
  },
  {
   "cell_type": "code",
   "execution_count": null,
   "id": "exterior-arizona",
   "metadata": {
    "id": "exterior-arizona",
    "scrolled": true
   },
   "outputs": [
    {
     "data": {
      "text/html": [
       "<div>\n",
       "<style scoped>\n",
       "    .dataframe tbody tr th:only-of-type {\n",
       "        vertical-align: middle;\n",
       "    }\n",
       "\n",
       "    .dataframe tbody tr th {\n",
       "        vertical-align: top;\n",
       "    }\n",
       "\n",
       "    .dataframe thead th {\n",
       "        text-align: right;\n",
       "    }\n",
       "</style>\n",
       "<table border=\"1\" class=\"dataframe\">\n",
       "  <thead>\n",
       "    <tr style=\"text-align: right;\">\n",
       "      <th></th>\n",
       "      <th>product_id</th>\n",
       "      <th>product_name</th>\n",
       "      <th>count</th>\n",
       "      <th>product_name_id</th>\n",
       "    </tr>\n",
       "  </thead>\n",
       "  <tbody>\n",
       "    <tr>\n",
       "      <th>0</th>\n",
       "      <td>24852</td>\n",
       "      <td>BANANA</td>\n",
       "      <td>66050</td>\n",
       "      <td>24852-BANANA</td>\n",
       "    </tr>\n",
       "    <tr>\n",
       "      <th>1</th>\n",
       "      <td>13176</td>\n",
       "      <td>BAG OF ORGANIC BANANAS</td>\n",
       "      <td>53297</td>\n",
       "      <td>13176-BAG OF ORGANIC BANANAS</td>\n",
       "    </tr>\n",
       "    <tr>\n",
       "      <th>2</th>\n",
       "      <td>21137</td>\n",
       "      <td>ORGANIC STRAWBERRIES</td>\n",
       "      <td>37039</td>\n",
       "      <td>21137-ORGANIC STRAWBERRIES</td>\n",
       "    </tr>\n",
       "    <tr>\n",
       "      <th>3</th>\n",
       "      <td>21903</td>\n",
       "      <td>ORGANIC BABY SPINACH</td>\n",
       "      <td>33971</td>\n",
       "      <td>21903-ORGANIC BABY SPINACH</td>\n",
       "    </tr>\n",
       "    <tr>\n",
       "      <th>4</th>\n",
       "      <td>47209</td>\n",
       "      <td>ORGANIC HASS AVOCADO</td>\n",
       "      <td>29773</td>\n",
       "      <td>47209-ORGANIC HASS AVOCADO</td>\n",
       "    </tr>\n",
       "    <tr>\n",
       "      <th>5</th>\n",
       "      <td>47766</td>\n",
       "      <td>ORGANIC AVOCADO</td>\n",
       "      <td>24689</td>\n",
       "      <td>47766-ORGANIC AVOCADO</td>\n",
       "    </tr>\n",
       "    <tr>\n",
       "      <th>6</th>\n",
       "      <td>47626</td>\n",
       "      <td>LARGE LEMON</td>\n",
       "      <td>21495</td>\n",
       "      <td>47626-LARGE LEMON</td>\n",
       "    </tr>\n",
       "    <tr>\n",
       "      <th>7</th>\n",
       "      <td>16797</td>\n",
       "      <td>STRAWBERRIES</td>\n",
       "      <td>20018</td>\n",
       "      <td>16797-STRAWBERRIES</td>\n",
       "    </tr>\n",
       "    <tr>\n",
       "      <th>8</th>\n",
       "      <td>26209</td>\n",
       "      <td>LIMES</td>\n",
       "      <td>19690</td>\n",
       "      <td>26209-LIMES</td>\n",
       "    </tr>\n",
       "    <tr>\n",
       "      <th>9</th>\n",
       "      <td>27845</td>\n",
       "      <td>ORGANIC WHOLE MILK</td>\n",
       "      <td>19600</td>\n",
       "      <td>27845-ORGANIC WHOLE MILK</td>\n",
       "    </tr>\n",
       "    <tr>\n",
       "      <th>10</th>\n",
       "      <td>27966</td>\n",
       "      <td>ORGANIC RASPBERRIES</td>\n",
       "      <td>19197</td>\n",
       "      <td>27966-ORGANIC RASPBERRIES</td>\n",
       "    </tr>\n",
       "    <tr>\n",
       "      <th>11</th>\n",
       "      <td>22935</td>\n",
       "      <td>ORGANIC YELLOW ONION</td>\n",
       "      <td>15898</td>\n",
       "      <td>22935-ORGANIC YELLOW ONION</td>\n",
       "    </tr>\n",
       "    <tr>\n",
       "      <th>12</th>\n",
       "      <td>24964</td>\n",
       "      <td>ORGANIC GARLIC</td>\n",
       "      <td>15292</td>\n",
       "      <td>24964-ORGANIC GARLIC</td>\n",
       "    </tr>\n",
       "    <tr>\n",
       "      <th>13</th>\n",
       "      <td>45007</td>\n",
       "      <td>ORGANIC ZUCCHINI</td>\n",
       "      <td>14584</td>\n",
       "      <td>45007-ORGANIC ZUCCHINI</td>\n",
       "    </tr>\n",
       "    <tr>\n",
       "      <th>14</th>\n",
       "      <td>39275</td>\n",
       "      <td>ORGANIC BLUEBERRIES</td>\n",
       "      <td>13879</td>\n",
       "      <td>39275-ORGANIC BLUEBERRIES</td>\n",
       "    </tr>\n",
       "    <tr>\n",
       "      <th>15</th>\n",
       "      <td>49683</td>\n",
       "      <td>CUCUMBER KIRBY</td>\n",
       "      <td>13675</td>\n",
       "      <td>49683-CUCUMBER KIRBY</td>\n",
       "    </tr>\n",
       "    <tr>\n",
       "      <th>16</th>\n",
       "      <td>28204</td>\n",
       "      <td>ORGANIC FUJI APPLE</td>\n",
       "      <td>12544</td>\n",
       "      <td>28204-ORGANIC FUJI APPLE</td>\n",
       "    </tr>\n",
       "    <tr>\n",
       "      <th>17</th>\n",
       "      <td>5876</td>\n",
       "      <td>ORGANIC LEMON</td>\n",
       "      <td>12232</td>\n",
       "      <td>5876-ORGANIC LEMON</td>\n",
       "    </tr>\n",
       "    <tr>\n",
       "      <th>18</th>\n",
       "      <td>8277</td>\n",
       "      <td>APPLE HONEYCRISP ORGANIC</td>\n",
       "      <td>11993</td>\n",
       "      <td>8277-APPLE HONEYCRISP ORGANIC</td>\n",
       "    </tr>\n",
       "    <tr>\n",
       "      <th>19</th>\n",
       "      <td>40706</td>\n",
       "      <td>ORGANIC GRAPE TOMATOES</td>\n",
       "      <td>11781</td>\n",
       "      <td>40706-ORGANIC GRAPE TOMATOES</td>\n",
       "    </tr>\n",
       "  </tbody>\n",
       "</table>\n",
       "</div>"
      ],
      "text/plain": [
       "    product_id              product_name  count                product_name_id\n",
       "0        24852                    BANANA  66050                   24852-BANANA\n",
       "1        13176    BAG OF ORGANIC BANANAS  53297   13176-BAG OF ORGANIC BANANAS\n",
       "2        21137      ORGANIC STRAWBERRIES  37039     21137-ORGANIC STRAWBERRIES\n",
       "3        21903      ORGANIC BABY SPINACH  33971     21903-ORGANIC BABY SPINACH\n",
       "4        47209      ORGANIC HASS AVOCADO  29773     47209-ORGANIC HASS AVOCADO\n",
       "5        47766           ORGANIC AVOCADO  24689          47766-ORGANIC AVOCADO\n",
       "6        47626               LARGE LEMON  21495              47626-LARGE LEMON\n",
       "7        16797              STRAWBERRIES  20018             16797-STRAWBERRIES\n",
       "8        26209                     LIMES  19690                    26209-LIMES\n",
       "9        27845        ORGANIC WHOLE MILK  19600       27845-ORGANIC WHOLE MILK\n",
       "10       27966       ORGANIC RASPBERRIES  19197      27966-ORGANIC RASPBERRIES\n",
       "11       22935      ORGANIC YELLOW ONION  15898     22935-ORGANIC YELLOW ONION\n",
       "12       24964            ORGANIC GARLIC  15292           24964-ORGANIC GARLIC\n",
       "13       45007          ORGANIC ZUCCHINI  14584         45007-ORGANIC ZUCCHINI\n",
       "14       39275       ORGANIC BLUEBERRIES  13879      39275-ORGANIC BLUEBERRIES\n",
       "15       49683            CUCUMBER KIRBY  13675           49683-CUCUMBER KIRBY\n",
       "16       28204        ORGANIC FUJI APPLE  12544       28204-ORGANIC FUJI APPLE\n",
       "17        5876             ORGANIC LEMON  12232             5876-ORGANIC LEMON\n",
       "18        8277  APPLE HONEYCRISP ORGANIC  11993  8277-APPLE HONEYCRISP ORGANIC\n",
       "19       40706    ORGANIC GRAPE TOMATOES  11781   40706-ORGANIC GRAPE TOMATOES"
      ]
     },
     "metadata": {},
     "output_type": "display_data"
    }
   ],
   "source": [
    "# Contar la frecuencia de cada producto\n",
    "product_counts = df_order_products['product_id'].value_counts().reset_index()\n",
    "product_counts.columns = ['product_id', 'count']\n",
    "\n",
    "# Obtener los 20 productos más frecuentes\n",
    "top_20_products = product_counts.head(20)\n",
    "\n",
    "# Unir con el DataFrame de productos para obtener los nombres\n",
    "top_20_products = top_20_products.merge(df_products, on='product_id', how='left')\n",
    "                                    \n",
    "# Mostrar los 20 productos más frecuentes\n",
    "top_20_products = top_20_products[['product_id', 'product_name', 'count']] # Solamente las columnas que nos interesan\n",
    "\n",
    "top_20_products['product_name_id'] = top_20_products['product_id'].astype(str) + '-' +top_20_products['product_name'] # Creando una columna que muestre el id y el nombre\n",
    "\n",
    "display(top_20_products) \n",
    "\n"
   ]
  },
  {
   "cell_type": "code",
   "execution_count": null,
   "id": "universal-facial",
   "metadata": {
    "id": "universal-facial"
   },
   "outputs": [
    {
     "data": {
      "image/png": "[encoded data removed]",
      "text/plain": [
       "<Figure size 1000x600 with 1 Axes>"
      ]
     },
     "metadata": {},
     "output_type": "display_data"
    }
   ],
   "source": [
    "# Creando gráfica\n",
    "top_20_products.plot(x= 'product_name_id',\n",
    "                     y = 'count',\n",
    "                     kind = 'bar',\n",
    "                     xlabel = 'Product',\n",
    "                     ylabel= 'Orders',\n",
    "                     title= 'Top 20 products',\n",
    "                     legend= False,\n",
    "                     figsize=(10,6)\n",
    "                    )\n",
    "plt.show()\n"
   ]
  },
  {
   "cell_type": "markdown",
   "id": "7df00f47",
   "metadata": {
    "id": "7df00f47"
   },
   "source": [
    "Escribe aquí tus conclusiones\n",
    "\n",
    "Las frutas y verduras son los articulos mas populares."
   ]
  },
  {
   "cell_type": "markdown",
   "id": "gross-theme",
   "metadata": {
    "id": "gross-theme"
   },
   "source": [
    "# [C] Difícil (deben completarse todos para aprobar)\n",
    "\n",
    "1. ¿Cuántos artículos suelen comprar las personas en un pedido? ¿Cómo es la distribución?\n",
    "2. ¿Cuáles son los 20 principales artículos que vuelven a pedirse con mayor frecuencia (muestra sus nombres e IDs de los productos)?\n",
    "3. Para cada producto, ¿cuál es la tasa de repetición del pedido (número de repeticiones de pedido/total de pedidos?\n",
    "4. Para cada cliente, ¿qué proporción de los productos que pidió ya los había pedido? Calcula la tasa de repetición de pedido para cada usuario en lugar de para cada producto.\n",
    "5. ¿Cuáles son los 20 principales artículos que la gente pone primero en sus carritos (muestra las IDs de los productos, sus nombres, y el número de veces en que fueron el primer artículo en añadirse al carrito)?"
   ]
  },
  {
   "cell_type": "markdown",
   "id": "romantic-deposit",
   "metadata": {
    "id": "romantic-deposit"
   },
   "source": [
    "### [C1] ¿Cuántos artículos compran normalmente las personas en un pedido? ¿Cómo es la distribución?"
   ]
  },
  {
   "cell_type": "code",
   "execution_count": null,
   "id": "virtual-punch",
   "metadata": {
    "id": "virtual-punch"
   },
   "outputs": [
    {
     "data": {
      "image/png": "[encoded data removed]",
      "text/plain": [
       "<Figure size 1000x600 with 1 Axes>"
      ]
     },
     "metadata": {},
     "output_type": "display_data"
    }
   ],
   "source": [
    "# Calcular cuántos artículos compra cada persona en un pedido\n",
    "items_per_order = df_order_products.groupby('order_id').size()\n",
    "\n",
    "# Crear el gráfico de distribución\n",
    "items_per_order.plot(kind = 'hist',\n",
    "                     title = 'Distribution of Items by Order',\n",
    "                     xlabel = 'Number of Items per Order',\n",
    "                     ylabel = 'Number of Orders',\n",
    "                     figsize = (10, 6)\n",
    "                    )\n",
    "\n",
    "# Mostrar el gráfico\n",
    "plt.show()\n",
    "\n"
   ]
  },
  {
   "cell_type": "markdown",
   "id": "designed-mortality",
   "metadata": {
    "id": "designed-mortality"
   },
   "source": [
    "Escribe aquí tus conclusiones\n",
    "\n",
    "* La gran mayoría de las personas no compran más de 20 artículos por orden"
   ]
  },
  {
   "cell_type": "markdown",
   "id": "5e6b5537",
   "metadata": {
    "id": "5e6b5537"
   },
   "source": [
    "### [C2] ¿Cuáles son los 20 principales artículos que vuelven a pedirse con mayor frecuencia (muestra sus nombres e IDs de los productos)?"
   ]
  },
  {
   "cell_type": "code",
   "execution_count": null,
   "id": "68147c69",
   "metadata": {},
   "outputs": [
    {
     "data": {
      "text/html": [
       "<div>\n",
       "<style scoped>\n",
       "    .dataframe tbody tr th:only-of-type {\n",
       "        vertical-align: middle;\n",
       "    }\n",
       "\n",
       "    .dataframe tbody tr th {\n",
       "        vertical-align: top;\n",
       "    }\n",
       "\n",
       "    .dataframe thead th {\n",
       "        text-align: right;\n",
       "    }\n",
       "</style>\n",
       "<table border=\"1\" class=\"dataframe\">\n",
       "  <thead>\n",
       "    <tr style=\"text-align: right;\">\n",
       "      <th></th>\n",
       "      <th>product_id</th>\n",
       "      <th>product_name</th>\n",
       "      <th>count</th>\n",
       "    </tr>\n",
       "  </thead>\n",
       "  <tbody>\n",
       "    <tr>\n",
       "      <th>24851</th>\n",
       "      <td>24852</td>\n",
       "      <td>BANANA</td>\n",
       "      <td>55763</td>\n",
       "    </tr>\n",
       "    <tr>\n",
       "      <th>13175</th>\n",
       "      <td>13176</td>\n",
       "      <td>BAG OF ORGANIC BANANAS</td>\n",
       "      <td>44450</td>\n",
       "    </tr>\n",
       "    <tr>\n",
       "      <th>21136</th>\n",
       "      <td>21137</td>\n",
       "      <td>ORGANIC STRAWBERRIES</td>\n",
       "      <td>28639</td>\n",
       "    </tr>\n",
       "    <tr>\n",
       "      <th>21902</th>\n",
       "      <td>21903</td>\n",
       "      <td>ORGANIC BABY SPINACH</td>\n",
       "      <td>26233</td>\n",
       "    </tr>\n",
       "    <tr>\n",
       "      <th>47208</th>\n",
       "      <td>47209</td>\n",
       "      <td>ORGANIC HASS AVOCADO</td>\n",
       "      <td>23629</td>\n",
       "    </tr>\n",
       "    <tr>\n",
       "      <th>47765</th>\n",
       "      <td>47766</td>\n",
       "      <td>ORGANIC AVOCADO</td>\n",
       "      <td>18743</td>\n",
       "    </tr>\n",
       "    <tr>\n",
       "      <th>27844</th>\n",
       "      <td>27845</td>\n",
       "      <td>ORGANIC WHOLE MILK</td>\n",
       "      <td>16251</td>\n",
       "    </tr>\n",
       "    <tr>\n",
       "      <th>47625</th>\n",
       "      <td>47626</td>\n",
       "      <td>LARGE LEMON</td>\n",
       "      <td>15044</td>\n",
       "    </tr>\n",
       "    <tr>\n",
       "      <th>27965</th>\n",
       "      <td>27966</td>\n",
       "      <td>ORGANIC RASPBERRIES</td>\n",
       "      <td>14748</td>\n",
       "    </tr>\n",
       "    <tr>\n",
       "      <th>16796</th>\n",
       "      <td>16797</td>\n",
       "      <td>STRAWBERRIES</td>\n",
       "      <td>13945</td>\n",
       "    </tr>\n",
       "    <tr>\n",
       "      <th>26208</th>\n",
       "      <td>26209</td>\n",
       "      <td>LIMES</td>\n",
       "      <td>13327</td>\n",
       "    </tr>\n",
       "    <tr>\n",
       "      <th>22934</th>\n",
       "      <td>22935</td>\n",
       "      <td>ORGANIC YELLOW ONION</td>\n",
       "      <td>11145</td>\n",
       "    </tr>\n",
       "    <tr>\n",
       "      <th>24963</th>\n",
       "      <td>24964</td>\n",
       "      <td>ORGANIC GARLIC</td>\n",
       "      <td>10411</td>\n",
       "    </tr>\n",
       "    <tr>\n",
       "      <th>45006</th>\n",
       "      <td>45007</td>\n",
       "      <td>ORGANIC ZUCCHINI</td>\n",
       "      <td>10076</td>\n",
       "    </tr>\n",
       "    <tr>\n",
       "      <th>49682</th>\n",
       "      <td>49683</td>\n",
       "      <td>CUCUMBER KIRBY</td>\n",
       "      <td>9538</td>\n",
       "    </tr>\n",
       "    <tr>\n",
       "      <th>28203</th>\n",
       "      <td>28204</td>\n",
       "      <td>ORGANIC FUJI APPLE</td>\n",
       "      <td>8989</td>\n",
       "    </tr>\n",
       "    <tr>\n",
       "      <th>8276</th>\n",
       "      <td>8277</td>\n",
       "      <td>APPLE HONEYCRISP ORGANIC</td>\n",
       "      <td>8836</td>\n",
       "    </tr>\n",
       "    <tr>\n",
       "      <th>39274</th>\n",
       "      <td>39275</td>\n",
       "      <td>ORGANIC BLUEBERRIES</td>\n",
       "      <td>8799</td>\n",
       "    </tr>\n",
       "    <tr>\n",
       "      <th>5875</th>\n",
       "      <td>5876</td>\n",
       "      <td>ORGANIC LEMON</td>\n",
       "      <td>8412</td>\n",
       "    </tr>\n",
       "    <tr>\n",
       "      <th>49234</th>\n",
       "      <td>49235</td>\n",
       "      <td>ORGANIC HALF &amp; HALF</td>\n",
       "      <td>8389</td>\n",
       "    </tr>\n",
       "  </tbody>\n",
       "</table>\n",
       "</div>"
      ],
      "text/plain": [
       "       product_id              product_name  count\n",
       "24851       24852                    BANANA  55763\n",
       "13175       13176    BAG OF ORGANIC BANANAS  44450\n",
       "21136       21137      ORGANIC STRAWBERRIES  28639\n",
       "21902       21903      ORGANIC BABY SPINACH  26233\n",
       "47208       47209      ORGANIC HASS AVOCADO  23629\n",
       "47765       47766           ORGANIC AVOCADO  18743\n",
       "27844       27845        ORGANIC WHOLE MILK  16251\n",
       "47625       47626               LARGE LEMON  15044\n",
       "27965       27966       ORGANIC RASPBERRIES  14748\n",
       "16796       16797              STRAWBERRIES  13945\n",
       "26208       26209                     LIMES  13327\n",
       "22934       22935      ORGANIC YELLOW ONION  11145\n",
       "24963       24964            ORGANIC GARLIC  10411\n",
       "45006       45007          ORGANIC ZUCCHINI  10076\n",
       "49682       49683            CUCUMBER KIRBY   9538\n",
       "28203       28204        ORGANIC FUJI APPLE   8989\n",
       "8276         8277  APPLE HONEYCRISP ORGANIC   8836\n",
       "39274       39275       ORGANIC BLUEBERRIES   8799\n",
       "5875         5876             ORGANIC LEMON   8412\n",
       "49234       49235       ORGANIC HALF & HALF   8389"
      ]
     },
     "metadata": {},
     "output_type": "display_data"
    },
    {
     "data": {
      "image/png": "[encoded data removed]",
      "text/plain": [
       "<Figure size 1000x600 with 1 Axes>"
      ]
     },
     "metadata": {},
     "output_type": "display_data"
    }
   ],
   "source": [
    "# Filtro para mostrar solamente los artículos que ya se hayan ordenado\n",
    "reordered_products = df_order_products[df_order_products['reordered'] == 1]\n",
    "\n",
    "# Unir los DF para mostrar los nombre y ID's de los 20 principales artículos\n",
    "top_20_reordered = pd.merge(\n",
    "    left=df_products[[\"product_id\", \"product_name\"]],\n",
    "    right=reordered_products['product_id'].value_counts().nlargest(20).rename(\"count\"),\n",
    "    left_on=\"product_id\",\n",
    "    right_index=True\n",
    ").sort_values(by = 'count',ascending = False)\n",
    "\n",
    "# Mostrar tabla\n",
    "display(top_20_reordered)\n",
    "\n",
    "# Hacer columna que contenga los nombres y Id's de los productos\n",
    "top_20_reordered['reordered_name_id'] = top_20_reordered['product_id'].astype(str) + '-' +top_20_reordered['product_name']\n",
    "\n",
    "# Crear gráfico\n",
    "top_20_reordered.plot(x= 'reordered_name_id',\n",
    "                      y = 'count', \n",
    "                      kind = 'bar',\n",
    "                      xlabel = 'Product',\n",
    "                      ylabel = 'orders',\n",
    "                      figsize = (10,6),\n",
    "                      legend = False\n",
    "                     )\n",
    "plt.show()\n"
   ]
  },
  {
   "cell_type": "markdown",
   "id": "80e70c74",
   "metadata": {
    "id": "80e70c74"
   },
   "source": [
    "Escribe aquí tus conclusiones\n",
    "\n",
    "* Los productos que más se vuelven a pedir son frutas y verduras"
   ]
  },
  {
   "cell_type": "markdown",
   "id": "9d312b14",
   "metadata": {
    "id": "9d312b14"
   },
   "source": [
    "### [C3] Para cada producto, ¿cuál es la proporción de las veces que se pide y que se vuelve a pedir?"
   ]
  },
  {
   "cell_type": "code",
   "execution_count": null,
   "id": "8ae9f4b1",
   "metadata": {
    "id": "8ae9f4b1"
   },
   "outputs": [
    {
     "data": {
      "text/plain": [
       "product_id\n",
       "1        0.564286\n",
       "2        0.000000\n",
       "3        0.738095\n",
       "4        0.510204\n",
       "7        0.500000\n",
       "           ...   \n",
       "49690    0.800000\n",
       "49691    0.430556\n",
       "49692    0.416667\n",
       "49693    0.440000\n",
       "49694    0.333333\n",
       "Name: reordered, Length: 45573, dtype: float64"
      ]
     },
     "metadata": {},
     "output_type": "display_data"
    },
    {
     "data": {
      "image/png": "[encoded data removed]",
      "text/plain": [
       "<Figure size 1000x600 with 1 Axes>"
      ]
     },
     "metadata": {},
     "output_type": "display_data"
    }
   ],
   "source": [
    "# Calcular proporción que un artículo se vuelve a pedir\n",
    "reorder_rate = df_order_products.groupby('product_id')['reordered'].mean()\n",
    "\n",
    "# Mostrar\n",
    "display(reorder_rate)\n",
    "\n",
    "# Gráficar \n",
    "\n",
    "reorder_rate.plot(kind = 'hist',\n",
    "                  title = 'Reorder products rate',\n",
    "                  figsize = (10,6)\n",
    "                 )\n",
    "plt.show()"
   ]
  },
  {
   "cell_type": "markdown",
   "id": "I10dEIAyldcO",
   "metadata": {
    "id": "I10dEIAyldcO"
   },
   "source": [
    "Escribe aquí tus conclusiones\n",
    "\n",
    "* Se pueden observar dos picos muy altos uno en la cantidad de productos que se vuelven a ordenar, el primero es 0 lo que significa que ya no se vuelven a ordenar, y el segundo pico se encuentra en el medio, lo que significa que las veces que se reordenan es similar a las veces que ya no se vuelven a ordenar.\n",
    "\n",
    "* En general la distribucion se inclina mas hacia el lado izquierdo, lo que significa que en la mayoria de los casos ya no se reordena un producto"
   ]
  },
  {
   "cell_type": "markdown",
   "id": "subject-boxing",
   "metadata": {
    "id": "subject-boxing"
   },
   "source": [
    "### [C4] Para cada cliente, ¿qué proporción de sus productos ya los había pedido?"
   ]
  },
  {
   "cell_type": "code",
   "execution_count": null,
   "id": "medical-couple",
   "metadata": {
    "id": "medical-couple",
    "scrolled": true
   },
   "outputs": [
    {
     "data": {
      "text/html": [
       "<div>\n",
       "<style scoped>\n",
       "    .dataframe tbody tr th:only-of-type {\n",
       "        vertical-align: middle;\n",
       "    }\n",
       "\n",
       "    .dataframe tbody tr th {\n",
       "        vertical-align: top;\n",
       "    }\n",
       "\n",
       "    .dataframe thead th {\n",
       "        text-align: right;\n",
       "    }\n",
       "</style>\n",
       "<table border=\"1\" class=\"dataframe\">\n",
       "  <thead>\n",
       "    <tr style=\"text-align: right;\">\n",
       "      <th></th>\n",
       "      <th>order_id</th>\n",
       "      <th>user_id</th>\n",
       "      <th>reordered</th>\n",
       "    </tr>\n",
       "  </thead>\n",
       "  <tbody>\n",
       "    <tr>\n",
       "      <th>0</th>\n",
       "      <td>1515936</td>\n",
       "      <td>183418</td>\n",
       "      <td>1</td>\n",
       "    </tr>\n",
       "    <tr>\n",
       "      <th>1</th>\n",
       "      <td>1515936</td>\n",
       "      <td>183418</td>\n",
       "      <td>1</td>\n",
       "    </tr>\n",
       "    <tr>\n",
       "      <th>2</th>\n",
       "      <td>1515936</td>\n",
       "      <td>183418</td>\n",
       "      <td>0</td>\n",
       "    </tr>\n",
       "    <tr>\n",
       "      <th>3</th>\n",
       "      <td>1515936</td>\n",
       "      <td>183418</td>\n",
       "      <td>0</td>\n",
       "    </tr>\n",
       "    <tr>\n",
       "      <th>4</th>\n",
       "      <td>1515936</td>\n",
       "      <td>183418</td>\n",
       "      <td>0</td>\n",
       "    </tr>\n",
       "    <tr>\n",
       "      <th>...</th>\n",
       "      <td>...</td>\n",
       "      <td>...</td>\n",
       "      <td>...</td>\n",
       "    </tr>\n",
       "    <tr>\n",
       "      <th>4545002</th>\n",
       "      <td>2071924</td>\n",
       "      <td>1730</td>\n",
       "      <td>0</td>\n",
       "    </tr>\n",
       "    <tr>\n",
       "      <th>4545003</th>\n",
       "      <td>2071924</td>\n",
       "      <td>1730</td>\n",
       "      <td>1</td>\n",
       "    </tr>\n",
       "    <tr>\n",
       "      <th>4545004</th>\n",
       "      <td>2071924</td>\n",
       "      <td>1730</td>\n",
       "      <td>1</td>\n",
       "    </tr>\n",
       "    <tr>\n",
       "      <th>4545005</th>\n",
       "      <td>2071924</td>\n",
       "      <td>1730</td>\n",
       "      <td>1</td>\n",
       "    </tr>\n",
       "    <tr>\n",
       "      <th>4545006</th>\n",
       "      <td>2071924</td>\n",
       "      <td>1730</td>\n",
       "      <td>1</td>\n",
       "    </tr>\n",
       "  </tbody>\n",
       "</table>\n",
       "<p>4545007 rows × 3 columns</p>\n",
       "</div>"
      ],
      "text/plain": [
       "         order_id  user_id  reordered\n",
       "0         1515936   183418          1\n",
       "1         1515936   183418          1\n",
       "2         1515936   183418          0\n",
       "3         1515936   183418          0\n",
       "4         1515936   183418          0\n",
       "...           ...      ...        ...\n",
       "4545002   2071924     1730          0\n",
       "4545003   2071924     1730          1\n",
       "4545004   2071924     1730          1\n",
       "4545005   2071924     1730          1\n",
       "4545006   2071924     1730          1\n",
       "\n",
       "[4545007 rows x 3 columns]"
      ]
     },
     "metadata": {},
     "output_type": "display_data"
    }
   ],
   "source": [
    "# Juntamos los dos DF para extraer la columna de usuarios\n",
    "clients_reorder = pd.merge(\n",
    "    left=df_instacart_orders[[\"order_id\",\"user_id\"]],\n",
    "    right=df_order_products[['order_id','reordered']],\n",
    "    on = 'order_id'\n",
    ")\n",
    "\n",
    "display(clients_reorder)   \n"
   ]
  },
  {
   "cell_type": "code",
   "execution_count": null,
   "id": "8892e4b4",
   "metadata": {
    "id": "8892e4b4"
   },
   "outputs": [
    {
     "data": {
      "image/png": "[encoded data removed]",
      "text/plain": [
       "<Figure size 1000x600 with 1 Axes>"
      ]
     },
     "metadata": {},
     "output_type": "display_data"
    }
   ],
   "source": [
    "# Calcular tasa de reorden por usuario\n",
    "reorder_user_rate = clients_reorder.groupby('user_id')['reordered'].mean()\n",
    "\n",
    "# Crear gráfico\n",
    "reorder_user_rate.plot(kind = 'hist',\n",
    "                      title = 'Reorder User Rate',\n",
    "                      figsize = (10,6)\n",
    "                     )\n",
    "                  \n",
    "                 \n",
    "plt.show()\n"
   ]
  },
  {
   "cell_type": "markdown",
   "id": "BgJSvXDsleXz",
   "metadata": {
    "id": "BgJSvXDsleXz"
   },
   "source": [
    "Escribe aquí tus conclusiones\n",
    "\n",
    "* La distribución es muy similar a la anterior en los picos de las distribuciones, la diferencia que veo es que la grafica de la tasa de los usuarios que vuelven a ordenar se inclina hacia la derecha, lo que quiere decir que los usuarios se inclinan por mas por odernar de nuevo."
   ]
  },
  {
   "cell_type": "markdown",
   "id": "92d35137",
   "metadata": {
    "id": "92d35137"
   },
   "source": [
    "### [C5] ¿Cuáles son los 20 principales artículos que las personas ponen primero en sus carritos?"
   ]
  },
  {
   "cell_type": "code",
   "execution_count": null,
   "id": "0ae57274",
   "metadata": {
    "id": "0ae57274",
    "scrolled": true
   },
   "outputs": [
    {
     "data": {
      "text/html": [
       "<div>\n",
       "<style scoped>\n",
       "    .dataframe tbody tr th:only-of-type {\n",
       "        vertical-align: middle;\n",
       "    }\n",
       "\n",
       "    .dataframe tbody tr th {\n",
       "        vertical-align: top;\n",
       "    }\n",
       "\n",
       "    .dataframe thead th {\n",
       "        text-align: right;\n",
       "    }\n",
       "</style>\n",
       "<table border=\"1\" class=\"dataframe\">\n",
       "  <thead>\n",
       "    <tr style=\"text-align: right;\">\n",
       "      <th></th>\n",
       "      <th>product_id</th>\n",
       "      <th>product_name</th>\n",
       "      <th>count</th>\n",
       "      <th>reordered_name_id</th>\n",
       "    </tr>\n",
       "  </thead>\n",
       "  <tbody>\n",
       "    <tr>\n",
       "      <th>24851</th>\n",
       "      <td>24852</td>\n",
       "      <td>BANANA</td>\n",
       "      <td>55763</td>\n",
       "      <td>24852-BANANA</td>\n",
       "    </tr>\n",
       "    <tr>\n",
       "      <th>13175</th>\n",
       "      <td>13176</td>\n",
       "      <td>BAG OF ORGANIC BANANAS</td>\n",
       "      <td>44450</td>\n",
       "      <td>13176-BAG OF ORGANIC BANANAS</td>\n",
       "    </tr>\n",
       "    <tr>\n",
       "      <th>21136</th>\n",
       "      <td>21137</td>\n",
       "      <td>ORGANIC STRAWBERRIES</td>\n",
       "      <td>28639</td>\n",
       "      <td>21137-ORGANIC STRAWBERRIES</td>\n",
       "    </tr>\n",
       "    <tr>\n",
       "      <th>21902</th>\n",
       "      <td>21903</td>\n",
       "      <td>ORGANIC BABY SPINACH</td>\n",
       "      <td>26233</td>\n",
       "      <td>21903-ORGANIC BABY SPINACH</td>\n",
       "    </tr>\n",
       "    <tr>\n",
       "      <th>47208</th>\n",
       "      <td>47209</td>\n",
       "      <td>ORGANIC HASS AVOCADO</td>\n",
       "      <td>23629</td>\n",
       "      <td>47209-ORGANIC HASS AVOCADO</td>\n",
       "    </tr>\n",
       "    <tr>\n",
       "      <th>47765</th>\n",
       "      <td>47766</td>\n",
       "      <td>ORGANIC AVOCADO</td>\n",
       "      <td>18743</td>\n",
       "      <td>47766-ORGANIC AVOCADO</td>\n",
       "    </tr>\n",
       "    <tr>\n",
       "      <th>27844</th>\n",
       "      <td>27845</td>\n",
       "      <td>ORGANIC WHOLE MILK</td>\n",
       "      <td>16251</td>\n",
       "      <td>27845-ORGANIC WHOLE MILK</td>\n",
       "    </tr>\n",
       "    <tr>\n",
       "      <th>47625</th>\n",
       "      <td>47626</td>\n",
       "      <td>LARGE LEMON</td>\n",
       "      <td>15044</td>\n",
       "      <td>47626-LARGE LEMON</td>\n",
       "    </tr>\n",
       "    <tr>\n",
       "      <th>27965</th>\n",
       "      <td>27966</td>\n",
       "      <td>ORGANIC RASPBERRIES</td>\n",
       "      <td>14748</td>\n",
       "      <td>27966-ORGANIC RASPBERRIES</td>\n",
       "    </tr>\n",
       "    <tr>\n",
       "      <th>16796</th>\n",
       "      <td>16797</td>\n",
       "      <td>STRAWBERRIES</td>\n",
       "      <td>13945</td>\n",
       "      <td>16797-STRAWBERRIES</td>\n",
       "    </tr>\n",
       "    <tr>\n",
       "      <th>26208</th>\n",
       "      <td>26209</td>\n",
       "      <td>LIMES</td>\n",
       "      <td>13327</td>\n",
       "      <td>26209-LIMES</td>\n",
       "    </tr>\n",
       "    <tr>\n",
       "      <th>22934</th>\n",
       "      <td>22935</td>\n",
       "      <td>ORGANIC YELLOW ONION</td>\n",
       "      <td>11145</td>\n",
       "      <td>22935-ORGANIC YELLOW ONION</td>\n",
       "    </tr>\n",
       "    <tr>\n",
       "      <th>24963</th>\n",
       "      <td>24964</td>\n",
       "      <td>ORGANIC GARLIC</td>\n",
       "      <td>10411</td>\n",
       "      <td>24964-ORGANIC GARLIC</td>\n",
       "    </tr>\n",
       "    <tr>\n",
       "      <th>45006</th>\n",
       "      <td>45007</td>\n",
       "      <td>ORGANIC ZUCCHINI</td>\n",
       "      <td>10076</td>\n",
       "      <td>45007-ORGANIC ZUCCHINI</td>\n",
       "    </tr>\n",
       "    <tr>\n",
       "      <th>49682</th>\n",
       "      <td>49683</td>\n",
       "      <td>CUCUMBER KIRBY</td>\n",
       "      <td>9538</td>\n",
       "      <td>49683-CUCUMBER KIRBY</td>\n",
       "    </tr>\n",
       "    <tr>\n",
       "      <th>28203</th>\n",
       "      <td>28204</td>\n",
       "      <td>ORGANIC FUJI APPLE</td>\n",
       "      <td>8989</td>\n",
       "      <td>28204-ORGANIC FUJI APPLE</td>\n",
       "    </tr>\n",
       "    <tr>\n",
       "      <th>8276</th>\n",
       "      <td>8277</td>\n",
       "      <td>APPLE HONEYCRISP ORGANIC</td>\n",
       "      <td>8836</td>\n",
       "      <td>8277-APPLE HONEYCRISP ORGANIC</td>\n",
       "    </tr>\n",
       "    <tr>\n",
       "      <th>39274</th>\n",
       "      <td>39275</td>\n",
       "      <td>ORGANIC BLUEBERRIES</td>\n",
       "      <td>8799</td>\n",
       "      <td>39275-ORGANIC BLUEBERRIES</td>\n",
       "    </tr>\n",
       "    <tr>\n",
       "      <th>5875</th>\n",
       "      <td>5876</td>\n",
       "      <td>ORGANIC LEMON</td>\n",
       "      <td>8412</td>\n",
       "      <td>5876-ORGANIC LEMON</td>\n",
       "    </tr>\n",
       "    <tr>\n",
       "      <th>49234</th>\n",
       "      <td>49235</td>\n",
       "      <td>ORGANIC HALF &amp; HALF</td>\n",
       "      <td>8389</td>\n",
       "      <td>49235-ORGANIC HALF &amp; HALF</td>\n",
       "    </tr>\n",
       "  </tbody>\n",
       "</table>\n",
       "</div>"
      ],
      "text/plain": [
       "       product_id              product_name  count  \\\n",
       "24851       24852                    BANANA  55763   \n",
       "13175       13176    BAG OF ORGANIC BANANAS  44450   \n",
       "21136       21137      ORGANIC STRAWBERRIES  28639   \n",
       "21902       21903      ORGANIC BABY SPINACH  26233   \n",
       "47208       47209      ORGANIC HASS AVOCADO  23629   \n",
       "47765       47766           ORGANIC AVOCADO  18743   \n",
       "27844       27845        ORGANIC WHOLE MILK  16251   \n",
       "47625       47626               LARGE LEMON  15044   \n",
       "27965       27966       ORGANIC RASPBERRIES  14748   \n",
       "16796       16797              STRAWBERRIES  13945   \n",
       "26208       26209                     LIMES  13327   \n",
       "22934       22935      ORGANIC YELLOW ONION  11145   \n",
       "24963       24964            ORGANIC GARLIC  10411   \n",
       "45006       45007          ORGANIC ZUCCHINI  10076   \n",
       "49682       49683            CUCUMBER KIRBY   9538   \n",
       "28203       28204        ORGANIC FUJI APPLE   8989   \n",
       "8276         8277  APPLE HONEYCRISP ORGANIC   8836   \n",
       "39274       39275       ORGANIC BLUEBERRIES   8799   \n",
       "5875         5876             ORGANIC LEMON   8412   \n",
       "49234       49235       ORGANIC HALF & HALF   8389   \n",
       "\n",
       "                   reordered_name_id  \n",
       "24851                   24852-BANANA  \n",
       "13175   13176-BAG OF ORGANIC BANANAS  \n",
       "21136     21137-ORGANIC STRAWBERRIES  \n",
       "21902     21903-ORGANIC BABY SPINACH  \n",
       "47208     47209-ORGANIC HASS AVOCADO  \n",
       "47765          47766-ORGANIC AVOCADO  \n",
       "27844       27845-ORGANIC WHOLE MILK  \n",
       "47625              47626-LARGE LEMON  \n",
       "27965      27966-ORGANIC RASPBERRIES  \n",
       "16796             16797-STRAWBERRIES  \n",
       "26208                    26209-LIMES  \n",
       "22934     22935-ORGANIC YELLOW ONION  \n",
       "24963           24964-ORGANIC GARLIC  \n",
       "45006         45007-ORGANIC ZUCCHINI  \n",
       "49682           49683-CUCUMBER KIRBY  \n",
       "28203       28204-ORGANIC FUJI APPLE  \n",
       "8276   8277-APPLE HONEYCRISP ORGANIC  \n",
       "39274      39275-ORGANIC BLUEBERRIES  \n",
       "5875              5876-ORGANIC LEMON  \n",
       "49234      49235-ORGANIC HALF & HALF  "
      ]
     },
     "metadata": {},
     "output_type": "display_data"
    }
   ],
   "source": [
    "# Filtrar artículos que son los primeros en poner en el carrito\n",
    "first_add_to_cart_order = df_order_products[df_order_products['add_to_cart_order'] == 1]\n",
    "\n",
    "# Unir los DF para extraer el nombre del producto y el ID; extraer los 20 que más se repiten\n",
    "top_20_add_to_cart_order = pd.merge(\n",
    "    left=df_products[[\"product_id\", \"product_name\"]],\n",
    "    right=first_add_to_cart_order['product_id'].value_counts().nlargest(20).rename(\"count\"),\n",
    "    left_on=\"product_id\",\n",
    "    right_index=True\n",
    ").sort_values(by = 'count',ascending = False)\n",
    "\n",
    "#Mostrar tabla\n",
    "display(top_20_reordered)\n",
    "\n",
    "# Agregar columna con el nombre y el ID de los productos\n",
    "top_20_add_to_cart_order['product_name_id'] = top_20_add_to_cart_order['product_id'].astype(str) + '-' +top_20_add_to_cart_order['product_name']\n",
    "\n"
   ]
  },
  {
   "cell_type": "code",
   "execution_count": null,
   "id": "forty-netherlands",
   "metadata": {
    "id": "forty-netherlands",
    "scrolled": true
   },
   "outputs": [
    {
     "data": {
      "image/png": "[encoded data removed]",
      "text/plain": [
       "<Figure size 1000x600 with 1 Axes>"
      ]
     },
     "metadata": {},
     "output_type": "display_data"
    }
   ],
   "source": [
    "# Graficar\n",
    "top_20_add_to_cart_order.plot(x= 'product_name_id',\n",
    "                              y = 'count',\n",
    "                              kind = 'bar',\n",
    "                              xlabel = 'Product',\n",
    "                              ylabel = 'Frecuencia',\n",
    "                              title = 'Top 20 items first to add cart order',\n",
    "                              legend = False,\n",
    "                              figsize = (10,6)                             \n",
    "                             )\n",
    "plt.show()"
   ]
  },
  {
   "cell_type": "markdown",
   "id": "28ce9872",
   "metadata": {
    "id": "28ce9872"
   },
   "source": [
    "Escribe aquí tus conclusiones\n",
    "\n",
    "* La mayoria de los primero articulos que la gente agrega a sus carritos son frutas y verduras"
   ]
  },
  {
   "cell_type": "markdown",
   "id": "uITbFCEoDosC",
   "metadata": {
    "id": "uITbFCEoDosC"
   },
   "source": [
    "### Conclusion general del proyecto:\n",
    "\n",
    "* Se han conseguido sacar buenos análisis sobre el consumo de las personas, lo cual nos podria ayudar a la toma de decisiones de todo tipo, como ofertas, abastecimiento de insumos, publicidad, etc.\n",
    "\n",
    "* Si bien el análisis está bien, creo que podria ser mejor si nos mostrar los datos de la fecha en que fueron hechas las ordenes para poder preveer algun tipo de estacionalidad y darnos una idea de cuan grande es el periodo de muestra que se analiza.\n",
    "\n",
    "\n",
    "\n"
   ]
  }
 ],
 "metadata": {
  "ExecuteTimeLog": [
   {
    "duration": 455,
    "start_time": "2024-06-03T22:58:57.216Z"
   },
   {
    "duration": 4025,
    "start_time": "2024-06-03T23:06:33.782Z"
   },
   {
    "duration": 33,
    "start_time": "2024-06-03T23:07:22.336Z"
   },
   {
    "duration": 14,
    "start_time": "2024-06-03T23:08:10.029Z"
   },
   {
    "duration": 14,
    "start_time": "2024-06-03T23:08:40.264Z"
   },
   {
    "duration": 13,
    "start_time": "2024-06-03T23:09:19.654Z"
   },
   {
    "duration": 11,
    "start_time": "2024-06-03T23:09:54.577Z"
   },
   {
    "duration": 3945,
    "start_time": "2024-06-03T23:20:57.508Z"
   },
   {
    "duration": 19,
    "start_time": "2024-06-03T23:21:02.563Z"
   },
   {
    "duration": 7,
    "start_time": "2024-06-03T23:22:39.593Z"
   },
   {
    "duration": 1560,
    "start_time": "2024-06-03T23:23:00.735Z"
   },
   {
    "duration": 17,
    "start_time": "2024-06-03T23:23:07.913Z"
   },
   {
    "duration": 16,
    "start_time": "2024-06-03T23:23:12.874Z"
   },
   {
    "duration": 13,
    "start_time": "2024-06-03T23:23:13.928Z"
   },
   {
    "duration": 16,
    "start_time": "2024-06-03T23:23:14.957Z"
   },
   {
    "duration": 11,
    "start_time": "2024-06-03T23:23:15.880Z"
   },
   {
    "duration": 315,
    "start_time": "2024-06-04T03:07:13.148Z"
   },
   {
    "duration": 483,
    "start_time": "2024-06-04T03:07:51.219Z"
   },
   {
    "duration": 1648,
    "start_time": "2024-06-04T03:07:51.709Z"
   },
   {
    "duration": 367,
    "start_time": "2024-06-04T03:07:53.359Z"
   },
   {
    "duration": 0,
    "start_time": "2024-06-04T03:07:53.731Z"
   },
   {
    "duration": 0,
    "start_time": "2024-06-04T03:07:53.733Z"
   },
   {
    "duration": 0,
    "start_time": "2024-06-04T03:07:53.735Z"
   },
   {
    "duration": 0,
    "start_time": "2024-06-04T03:07:53.738Z"
   },
   {
    "duration": 0,
    "start_time": "2024-06-04T03:07:53.740Z"
   },
   {
    "duration": 0,
    "start_time": "2024-06-04T03:07:53.742Z"
   },
   {
    "duration": 0,
    "start_time": "2024-06-04T03:07:53.745Z"
   },
   {
    "duration": 0,
    "start_time": "2024-06-04T03:07:53.748Z"
   },
   {
    "duration": 0,
    "start_time": "2024-06-04T03:07:53.750Z"
   },
   {
    "duration": 0,
    "start_time": "2024-06-04T03:07:53.752Z"
   },
   {
    "duration": 0,
    "start_time": "2024-06-04T03:07:53.755Z"
   },
   {
    "duration": 0,
    "start_time": "2024-06-04T03:07:53.757Z"
   },
   {
    "duration": 0,
    "start_time": "2024-06-04T03:07:53.760Z"
   },
   {
    "duration": 0,
    "start_time": "2024-06-04T03:07:53.762Z"
   },
   {
    "duration": 0,
    "start_time": "2024-06-04T03:07:53.807Z"
   },
   {
    "duration": 0,
    "start_time": "2024-06-04T03:07:53.809Z"
   },
   {
    "duration": 0,
    "start_time": "2024-06-04T03:07:53.812Z"
   },
   {
    "duration": 0,
    "start_time": "2024-06-04T03:07:53.813Z"
   },
   {
    "duration": 0,
    "start_time": "2024-06-04T03:07:53.816Z"
   },
   {
    "duration": 0,
    "start_time": "2024-06-04T03:07:53.817Z"
   },
   {
    "duration": 0,
    "start_time": "2024-06-04T03:07:53.820Z"
   },
   {
    "duration": 0,
    "start_time": "2024-06-04T03:07:53.822Z"
   },
   {
    "duration": 0,
    "start_time": "2024-06-04T03:07:53.824Z"
   },
   {
    "duration": 0,
    "start_time": "2024-06-04T03:07:53.827Z"
   },
   {
    "duration": 0,
    "start_time": "2024-06-04T03:07:53.829Z"
   },
   {
    "duration": 0,
    "start_time": "2024-06-04T03:07:53.831Z"
   },
   {
    "duration": 0,
    "start_time": "2024-06-04T03:07:53.833Z"
   },
   {
    "duration": 0,
    "start_time": "2024-06-04T03:07:53.835Z"
   },
   {
    "duration": 0,
    "start_time": "2024-06-04T03:07:53.838Z"
   },
   {
    "duration": 0,
    "start_time": "2024-06-04T03:07:53.841Z"
   },
   {
    "duration": 0,
    "start_time": "2024-06-04T03:07:53.843Z"
   },
   {
    "duration": 57,
    "start_time": "2024-06-04T03:09:48.584Z"
   },
   {
    "duration": 148,
    "start_time": "2024-06-04T03:10:09.703Z"
   },
   {
    "duration": 1728,
    "start_time": "2024-06-04T03:17:12.780Z"
   },
   {
    "duration": 633,
    "start_time": "2024-06-04T03:17:17.782Z"
   },
   {
    "duration": 1472,
    "start_time": "2024-06-04T03:19:03.339Z"
   },
   {
    "duration": 150,
    "start_time": "2024-06-04T03:19:07.710Z"
   },
   {
    "duration": 776,
    "start_time": "2024-06-04T03:38:56.121Z"
   },
   {
    "duration": 455,
    "start_time": "2024-06-04T03:39:04.678Z"
   },
   {
    "duration": 1531,
    "start_time": "2024-06-04T03:39:05.137Z"
   },
   {
    "duration": 163,
    "start_time": "2024-06-04T03:39:06.671Z"
   },
   {
    "duration": 33,
    "start_time": "2024-06-04T03:39:06.838Z"
   },
   {
    "duration": 47,
    "start_time": "2024-06-04T03:39:06.875Z"
   },
   {
    "duration": 24,
    "start_time": "2024-06-04T03:39:06.925Z"
   },
   {
    "duration": 829,
    "start_time": "2024-06-04T03:39:06.952Z"
   },
   {
    "duration": 4,
    "start_time": "2024-06-04T03:39:07.783Z"
   },
   {
    "duration": 16,
    "start_time": "2024-06-04T03:39:07.791Z"
   },
   {
    "duration": 2,
    "start_time": "2024-06-04T03:39:07.815Z"
   },
   {
    "duration": 5,
    "start_time": "2024-06-04T03:39:07.821Z"
   },
   {
    "duration": 5,
    "start_time": "2024-06-04T03:39:07.830Z"
   },
   {
    "duration": 4,
    "start_time": "2024-06-04T03:39:07.838Z"
   },
   {
    "duration": 3,
    "start_time": "2024-06-04T03:39:07.845Z"
   },
   {
    "duration": 58,
    "start_time": "2024-06-04T03:39:07.852Z"
   },
   {
    "duration": 9,
    "start_time": "2024-06-04T03:39:07.917Z"
   },
   {
    "duration": 6,
    "start_time": "2024-06-04T03:39:07.929Z"
   },
   {
    "duration": 3,
    "start_time": "2024-06-04T03:39:07.939Z"
   },
   {
    "duration": 4,
    "start_time": "2024-06-04T03:39:07.945Z"
   },
   {
    "duration": 4,
    "start_time": "2024-06-04T03:39:07.952Z"
   },
   {
    "duration": 3,
    "start_time": "2024-06-04T03:39:07.959Z"
   },
   {
    "duration": 3,
    "start_time": "2024-06-04T03:39:08.007Z"
   },
   {
    "duration": 5,
    "start_time": "2024-06-04T03:39:08.014Z"
   },
   {
    "duration": 4,
    "start_time": "2024-06-04T03:39:08.022Z"
   },
   {
    "duration": 3,
    "start_time": "2024-06-04T03:39:08.029Z"
   },
   {
    "duration": 4,
    "start_time": "2024-06-04T03:39:08.035Z"
   },
   {
    "duration": 4,
    "start_time": "2024-06-04T03:39:08.042Z"
   },
   {
    "duration": 53,
    "start_time": "2024-06-04T03:39:08.053Z"
   },
   {
    "duration": 4,
    "start_time": "2024-06-04T03:39:08.109Z"
   },
   {
    "duration": 4,
    "start_time": "2024-06-04T03:39:08.117Z"
   },
   {
    "duration": 4,
    "start_time": "2024-06-04T03:39:08.124Z"
   },
   {
    "duration": 3,
    "start_time": "2024-06-04T03:39:08.131Z"
   },
   {
    "duration": 4,
    "start_time": "2024-06-04T03:39:08.137Z"
   },
   {
    "duration": 3,
    "start_time": "2024-06-04T03:39:08.144Z"
   },
   {
    "duration": 441,
    "start_time": "2024-06-04T03:47:53.162Z"
   },
   {
    "duration": 1545,
    "start_time": "2024-06-04T03:47:53.606Z"
   },
   {
    "duration": 23,
    "start_time": "2024-06-04T03:47:55.154Z"
   },
   {
    "duration": 38,
    "start_time": "2024-06-04T03:47:55.181Z"
   },
   {
    "duration": 15,
    "start_time": "2024-06-04T03:47:55.222Z"
   },
   {
    "duration": 17,
    "start_time": "2024-06-04T03:47:55.240Z"
   },
   {
    "duration": 51,
    "start_time": "2024-06-04T03:47:55.260Z"
   },
   {
    "duration": 3,
    "start_time": "2024-06-04T03:47:55.314Z"
   },
   {
    "duration": 6,
    "start_time": "2024-06-04T03:47:55.320Z"
   },
   {
    "duration": 3,
    "start_time": "2024-06-04T03:47:55.332Z"
   },
   {
    "duration": 4,
    "start_time": "2024-06-04T03:47:55.337Z"
   },
   {
    "duration": 4,
    "start_time": "2024-06-04T03:47:55.344Z"
   },
   {
    "duration": 3,
    "start_time": "2024-06-04T03:47:55.351Z"
   },
   {
    "duration": 4,
    "start_time": "2024-06-04T03:47:55.405Z"
   },
   {
    "duration": 4,
    "start_time": "2024-06-04T03:47:55.412Z"
   },
   {
    "duration": 3,
    "start_time": "2024-06-04T03:47:55.420Z"
   },
   {
    "duration": 4,
    "start_time": "2024-06-04T03:47:55.426Z"
   },
   {
    "duration": 4,
    "start_time": "2024-06-04T03:47:55.433Z"
   },
   {
    "duration": 4,
    "start_time": "2024-06-04T03:47:55.441Z"
   },
   {
    "duration": 60,
    "start_time": "2024-06-04T03:47:55.448Z"
   },
   {
    "duration": 4,
    "start_time": "2024-06-04T03:47:55.511Z"
   },
   {
    "duration": 4,
    "start_time": "2024-06-04T03:47:55.518Z"
   },
   {
    "duration": 3,
    "start_time": "2024-06-04T03:47:55.525Z"
   },
   {
    "duration": 4,
    "start_time": "2024-06-04T03:47:55.531Z"
   },
   {
    "duration": 4,
    "start_time": "2024-06-04T03:47:55.538Z"
   },
   {
    "duration": 4,
    "start_time": "2024-06-04T03:47:55.545Z"
   },
   {
    "duration": 3,
    "start_time": "2024-06-04T03:47:55.607Z"
   },
   {
    "duration": 4,
    "start_time": "2024-06-04T03:47:55.618Z"
   },
   {
    "duration": 5,
    "start_time": "2024-06-04T03:47:55.626Z"
   },
   {
    "duration": 4,
    "start_time": "2024-06-04T03:47:55.634Z"
   },
   {
    "duration": 3,
    "start_time": "2024-06-04T03:47:55.641Z"
   },
   {
    "duration": 4,
    "start_time": "2024-06-04T03:47:55.648Z"
   },
   {
    "duration": 4,
    "start_time": "2024-06-04T03:47:55.706Z"
   },
   {
    "duration": 3,
    "start_time": "2024-06-04T03:47:55.713Z"
   },
   {
    "duration": 1565,
    "start_time": "2024-06-04T03:52:27.847Z"
   },
   {
    "duration": 20,
    "start_time": "2024-06-04T03:52:35.918Z"
   },
   {
    "duration": 20,
    "start_time": "2024-06-04T03:53:17.422Z"
   },
   {
    "duration": 542,
    "start_time": "2024-06-04T03:53:25.005Z"
   },
   {
    "duration": 1637,
    "start_time": "2024-06-04T03:53:25.550Z"
   },
   {
    "duration": 34,
    "start_time": "2024-06-04T03:53:27.190Z"
   },
   {
    "duration": 26,
    "start_time": "2024-06-04T03:53:27.229Z"
   },
   {
    "duration": 51,
    "start_time": "2024-06-04T03:53:27.258Z"
   },
   {
    "duration": 16,
    "start_time": "2024-06-04T03:53:27.312Z"
   },
   {
    "duration": 14,
    "start_time": "2024-06-04T03:53:27.331Z"
   },
   {
    "duration": 5,
    "start_time": "2024-06-04T03:53:27.349Z"
   },
   {
    "duration": 3,
    "start_time": "2024-06-04T03:53:27.358Z"
   },
   {
    "duration": 5,
    "start_time": "2024-06-04T03:53:27.409Z"
   },
   {
    "duration": 4,
    "start_time": "2024-06-04T03:53:27.418Z"
   },
   {
    "duration": 7,
    "start_time": "2024-06-04T03:53:27.427Z"
   },
   {
    "duration": 3,
    "start_time": "2024-06-04T03:53:27.437Z"
   },
   {
    "duration": 3,
    "start_time": "2024-06-04T03:53:27.444Z"
   },
   {
    "duration": 4,
    "start_time": "2024-06-04T03:53:27.451Z"
   },
   {
    "duration": 51,
    "start_time": "2024-06-04T03:53:27.457Z"
   },
   {
    "duration": 5,
    "start_time": "2024-06-04T03:53:27.512Z"
   },
   {
    "duration": 4,
    "start_time": "2024-06-04T03:53:27.521Z"
   },
   {
    "duration": 4,
    "start_time": "2024-06-04T03:53:27.529Z"
   },
   {
    "duration": 3,
    "start_time": "2024-06-04T03:53:27.536Z"
   },
   {
    "duration": 3,
    "start_time": "2024-06-04T03:53:27.543Z"
   },
   {
    "duration": 3,
    "start_time": "2024-06-04T03:53:27.550Z"
   },
   {
    "duration": 3,
    "start_time": "2024-06-04T03:53:27.556Z"
   },
   {
    "duration": 5,
    "start_time": "2024-06-04T03:53:27.608Z"
   },
   {
    "duration": 4,
    "start_time": "2024-06-04T03:53:27.616Z"
   },
   {
    "duration": 4,
    "start_time": "2024-06-04T03:53:27.624Z"
   },
   {
    "duration": 5,
    "start_time": "2024-06-04T03:53:27.632Z"
   },
   {
    "duration": 61,
    "start_time": "2024-06-04T03:53:27.646Z"
   },
   {
    "duration": 4,
    "start_time": "2024-06-04T03:53:27.712Z"
   },
   {
    "duration": 5,
    "start_time": "2024-06-04T03:53:27.719Z"
   },
   {
    "duration": 3,
    "start_time": "2024-06-04T03:53:27.728Z"
   },
   {
    "duration": 4,
    "start_time": "2024-06-04T03:53:27.735Z"
   },
   {
    "duration": 4,
    "start_time": "2024-06-04T03:53:27.742Z"
   },
   {
    "duration": 4,
    "start_time": "2024-06-04T03:53:27.750Z"
   },
   {
    "duration": 329,
    "start_time": "2024-06-06T23:37:19.358Z"
   },
   {
    "duration": 457,
    "start_time": "2024-06-06T23:37:40.066Z"
   },
   {
    "duration": 1944,
    "start_time": "2024-06-06T23:37:40.527Z"
   },
   {
    "duration": 25,
    "start_time": "2024-06-06T23:37:42.476Z"
   },
   {
    "duration": 45,
    "start_time": "2024-06-06T23:37:42.506Z"
   },
   {
    "duration": 19,
    "start_time": "2024-06-06T23:37:42.554Z"
   },
   {
    "duration": 18,
    "start_time": "2024-06-06T23:37:42.580Z"
   },
   {
    "duration": 38,
    "start_time": "2024-06-06T23:37:42.601Z"
   },
   {
    "duration": 14,
    "start_time": "2024-06-06T23:37:42.647Z"
   },
   {
    "duration": 6,
    "start_time": "2024-06-06T23:37:42.663Z"
   },
   {
    "duration": 8,
    "start_time": "2024-06-06T23:37:42.675Z"
   },
   {
    "duration": 4,
    "start_time": "2024-06-06T23:37:42.690Z"
   },
   {
    "duration": 4,
    "start_time": "2024-06-06T23:37:42.697Z"
   },
   {
    "duration": 4,
    "start_time": "2024-06-06T23:37:42.704Z"
   },
   {
    "duration": 28,
    "start_time": "2024-06-06T23:37:42.711Z"
   },
   {
    "duration": 6,
    "start_time": "2024-06-06T23:37:42.747Z"
   },
   {
    "duration": 6,
    "start_time": "2024-06-06T23:37:42.757Z"
   },
   {
    "duration": 8,
    "start_time": "2024-06-06T23:37:42.768Z"
   },
   {
    "duration": 5,
    "start_time": "2024-06-06T23:37:42.783Z"
   },
   {
    "duration": 4,
    "start_time": "2024-06-06T23:37:42.792Z"
   },
   {
    "duration": 4,
    "start_time": "2024-06-06T23:37:42.800Z"
   },
   {
    "duration": 3,
    "start_time": "2024-06-06T23:37:42.834Z"
   },
   {
    "duration": 3,
    "start_time": "2024-06-06T23:37:42.845Z"
   },
   {
    "duration": 6,
    "start_time": "2024-06-06T23:37:42.851Z"
   },
   {
    "duration": 3,
    "start_time": "2024-06-06T23:37:42.860Z"
   },
   {
    "duration": 4,
    "start_time": "2024-06-06T23:37:42.867Z"
   },
   {
    "duration": 3,
    "start_time": "2024-06-06T23:37:42.875Z"
   },
   {
    "duration": 4,
    "start_time": "2024-06-06T23:37:42.881Z"
   },
   {
    "duration": 30,
    "start_time": "2024-06-06T23:37:42.903Z"
   },
   {
    "duration": 3,
    "start_time": "2024-06-06T23:37:42.937Z"
   },
   {
    "duration": 14,
    "start_time": "2024-06-06T23:37:42.945Z"
   },
   {
    "duration": 3,
    "start_time": "2024-06-06T23:37:42.962Z"
   },
   {
    "duration": 4,
    "start_time": "2024-06-06T23:37:42.973Z"
   },
   {
    "duration": 6,
    "start_time": "2024-06-06T23:37:42.980Z"
   },
   {
    "duration": 8,
    "start_time": "2024-06-06T23:37:42.993Z"
   },
   {
    "duration": 53,
    "start_time": "2024-06-06T23:39:10.907Z"
   },
   {
    "duration": 19,
    "start_time": "2024-06-06T23:39:53.049Z"
   },
   {
    "duration": 14,
    "start_time": "2024-06-06T23:40:22.312Z"
   },
   {
    "duration": 61,
    "start_time": "2024-06-06T23:40:32.045Z"
   },
   {
    "duration": 378,
    "start_time": "2024-06-07T02:31:56.552Z"
   },
   {
    "duration": 546,
    "start_time": "2024-06-07T02:33:37.067Z"
   },
   {
    "duration": 259,
    "start_time": "2024-06-07T02:43:04.431Z"
   },
   {
    "duration": 213,
    "start_time": "2024-06-07T02:43:25.356Z"
   },
   {
    "duration": 73,
    "start_time": "2024-06-07T02:59:49.581Z"
   },
   {
    "duration": 315,
    "start_time": "2024-06-07T03:02:43.659Z"
   },
   {
    "duration": 431,
    "start_time": "2024-06-07T03:03:22.076Z"
   },
   {
    "duration": 379,
    "start_time": "2024-06-07T03:24:41.176Z"
   },
   {
    "duration": 422,
    "start_time": "2024-06-07T03:24:53.436Z"
   },
   {
    "duration": 761,
    "start_time": "2024-06-07T03:26:03.531Z"
   },
   {
    "duration": 480,
    "start_time": "2024-06-07T03:26:11.065Z"
   },
   {
    "duration": 424,
    "start_time": "2024-06-07T03:26:28.331Z"
   },
   {
    "duration": 416,
    "start_time": "2024-06-07T03:30:55.914Z"
   },
   {
    "duration": 9,
    "start_time": "2024-06-07T03:53:02.164Z"
   },
   {
    "duration": 561,
    "start_time": "2024-06-07T03:55:01.670Z"
   },
   {
    "duration": 2128,
    "start_time": "2024-06-07T03:55:02.235Z"
   },
   {
    "duration": 29,
    "start_time": "2024-06-07T03:55:04.367Z"
   },
   {
    "duration": 51,
    "start_time": "2024-06-07T03:55:04.400Z"
   },
   {
    "duration": 21,
    "start_time": "2024-06-07T03:55:04.464Z"
   },
   {
    "duration": 20,
    "start_time": "2024-06-07T03:55:04.490Z"
   },
   {
    "duration": 61,
    "start_time": "2024-06-07T03:55:04.532Z"
   },
   {
    "duration": 552,
    "start_time": "2024-06-07T03:55:04.597Z"
   },
   {
    "duration": 6,
    "start_time": "2024-06-07T03:55:05.154Z"
   },
   {
    "duration": 0,
    "start_time": "2024-06-07T03:55:05.168Z"
   },
   {
    "duration": 0,
    "start_time": "2024-06-07T03:55:05.170Z"
   },
   {
    "duration": 0,
    "start_time": "2024-06-07T03:55:05.172Z"
   },
   {
    "duration": 0,
    "start_time": "2024-06-07T03:55:05.175Z"
   },
   {
    "duration": 0,
    "start_time": "2024-06-07T03:55:05.176Z"
   },
   {
    "duration": 0,
    "start_time": "2024-06-07T03:55:05.183Z"
   },
   {
    "duration": 0,
    "start_time": "2024-06-07T03:55:05.186Z"
   },
   {
    "duration": 0,
    "start_time": "2024-06-07T03:55:05.189Z"
   },
   {
    "duration": 0,
    "start_time": "2024-06-07T03:55:05.192Z"
   },
   {
    "duration": 0,
    "start_time": "2024-06-07T03:55:05.195Z"
   },
   {
    "duration": 0,
    "start_time": "2024-06-07T03:55:05.197Z"
   },
   {
    "duration": 0,
    "start_time": "2024-06-07T03:55:05.224Z"
   },
   {
    "duration": 0,
    "start_time": "2024-06-07T03:55:05.233Z"
   },
   {
    "duration": 0,
    "start_time": "2024-06-07T03:55:05.238Z"
   },
   {
    "duration": 0,
    "start_time": "2024-06-07T03:55:05.241Z"
   },
   {
    "duration": 0,
    "start_time": "2024-06-07T03:55:05.248Z"
   },
   {
    "duration": 0,
    "start_time": "2024-06-07T03:55:05.251Z"
   },
   {
    "duration": 0,
    "start_time": "2024-06-07T03:55:05.255Z"
   },
   {
    "duration": 0,
    "start_time": "2024-06-07T03:55:05.258Z"
   },
   {
    "duration": 0,
    "start_time": "2024-06-07T03:55:05.262Z"
   },
   {
    "duration": 0,
    "start_time": "2024-06-07T03:55:05.265Z"
   },
   {
    "duration": 0,
    "start_time": "2024-06-07T03:55:05.268Z"
   },
   {
    "duration": 0,
    "start_time": "2024-06-07T03:55:05.272Z"
   },
   {
    "duration": 0,
    "start_time": "2024-06-07T03:55:05.276Z"
   },
   {
    "duration": 0,
    "start_time": "2024-06-07T03:55:05.279Z"
   },
   {
    "duration": 31,
    "start_time": "2024-06-07T03:57:34.219Z"
   },
   {
    "duration": 177,
    "start_time": "2024-06-07T04:03:20.855Z"
   },
   {
    "duration": 25,
    "start_time": "2024-06-07T04:05:54.307Z"
   },
   {
    "duration": 16,
    "start_time": "2024-06-07T04:19:19.187Z"
   },
   {
    "duration": 21,
    "start_time": "2024-06-07T04:27:50.354Z"
   },
   {
    "duration": 15,
    "start_time": "2024-06-07T04:29:35.579Z"
   },
   {
    "duration": 32,
    "start_time": "2024-06-07T04:29:42.634Z"
   },
   {
    "duration": 28,
    "start_time": "2024-06-07T04:31:42.923Z"
   },
   {
    "duration": 23,
    "start_time": "2024-06-07T04:32:03.181Z"
   },
   {
    "duration": 19,
    "start_time": "2024-06-07T04:32:15.881Z"
   },
   {
    "duration": 15,
    "start_time": "2024-06-07T04:38:26.160Z"
   },
   {
    "duration": 27,
    "start_time": "2024-06-07T04:44:17.375Z"
   },
   {
    "duration": 11,
    "start_time": "2024-06-07T04:44:47.610Z"
   },
   {
    "duration": 283,
    "start_time": "2024-06-07T04:46:03.656Z"
   },
   {
    "duration": 206,
    "start_time": "2024-06-07T04:48:12.050Z"
   },
   {
    "duration": 176,
    "start_time": "2024-06-07T04:49:42.579Z"
   },
   {
    "duration": 235,
    "start_time": "2024-06-07T04:53:13.930Z"
   },
   {
    "duration": 190,
    "start_time": "2024-06-07T04:53:23.950Z"
   },
   {
    "duration": 384,
    "start_time": "2024-06-07T05:09:37.177Z"
   },
   {
    "duration": 525,
    "start_time": "2024-06-07T05:10:00.221Z"
   },
   {
    "duration": 1799,
    "start_time": "2024-06-07T05:10:00.761Z"
   },
   {
    "duration": 26,
    "start_time": "2024-06-07T05:10:02.563Z"
   },
   {
    "duration": 50,
    "start_time": "2024-06-07T05:10:02.596Z"
   },
   {
    "duration": 25,
    "start_time": "2024-06-07T05:10:02.649Z"
   },
   {
    "duration": 18,
    "start_time": "2024-06-07T05:10:02.677Z"
   },
   {
    "duration": 57,
    "start_time": "2024-06-07T05:10:02.722Z"
   },
   {
    "duration": 455,
    "start_time": "2024-06-07T05:10:02.783Z"
   },
   {
    "duration": 18,
    "start_time": "2024-06-07T05:10:03.246Z"
   },
   {
    "duration": 234,
    "start_time": "2024-06-07T05:10:03.272Z"
   },
   {
    "duration": 253,
    "start_time": "2024-06-07T05:10:03.509Z"
   },
   {
    "duration": 89,
    "start_time": "2024-06-07T05:10:03.765Z"
   },
   {
    "duration": 3,
    "start_time": "2024-06-07T05:10:03.857Z"
   },
   {
    "duration": 5,
    "start_time": "2024-06-07T05:10:03.867Z"
   },
   {
    "duration": 5,
    "start_time": "2024-06-07T05:10:03.876Z"
   },
   {
    "duration": 5,
    "start_time": "2024-06-07T05:10:03.885Z"
   },
   {
    "duration": 32,
    "start_time": "2024-06-07T05:10:03.894Z"
   },
   {
    "duration": 4,
    "start_time": "2024-06-07T05:10:03.932Z"
   },
   {
    "duration": 5,
    "start_time": "2024-06-07T05:10:03.941Z"
   },
   {
    "duration": 11,
    "start_time": "2024-06-07T05:10:03.949Z"
   },
   {
    "duration": 5,
    "start_time": "2024-06-07T05:10:03.964Z"
   },
   {
    "duration": 6,
    "start_time": "2024-06-07T05:10:03.972Z"
   },
   {
    "duration": 42,
    "start_time": "2024-06-07T05:10:03.982Z"
   },
   {
    "duration": 7,
    "start_time": "2024-06-07T05:10:04.028Z"
   },
   {
    "duration": 7,
    "start_time": "2024-06-07T05:10:04.040Z"
   },
   {
    "duration": 5,
    "start_time": "2024-06-07T05:10:04.050Z"
   },
   {
    "duration": 4,
    "start_time": "2024-06-07T05:10:04.060Z"
   },
   {
    "duration": 3,
    "start_time": "2024-06-07T05:10:04.072Z"
   },
   {
    "duration": 53,
    "start_time": "2024-06-07T05:10:04.078Z"
   },
   {
    "duration": 10,
    "start_time": "2024-06-07T05:10:04.135Z"
   },
   {
    "duration": 11,
    "start_time": "2024-06-07T05:10:04.148Z"
   },
   {
    "duration": 4,
    "start_time": "2024-06-07T05:10:04.165Z"
   },
   {
    "duration": 4,
    "start_time": "2024-06-07T05:10:04.173Z"
   },
   {
    "duration": 44,
    "start_time": "2024-06-07T05:10:04.182Z"
   },
   {
    "duration": 4,
    "start_time": "2024-06-07T05:12:00.891Z"
   },
   {
    "duration": 501,
    "start_time": "2024-06-07T05:12:30.501Z"
   },
   {
    "duration": 1750,
    "start_time": "2024-06-07T05:12:31.006Z"
   },
   {
    "duration": 24,
    "start_time": "2024-06-07T05:12:32.759Z"
   },
   {
    "duration": 42,
    "start_time": "2024-06-07T05:12:32.787Z"
   },
   {
    "duration": 24,
    "start_time": "2024-06-07T05:12:32.832Z"
   },
   {
    "duration": 16,
    "start_time": "2024-06-07T05:12:32.860Z"
   },
   {
    "duration": 83,
    "start_time": "2024-06-07T05:12:32.880Z"
   },
   {
    "duration": 413,
    "start_time": "2024-06-07T05:12:32.967Z"
   },
   {
    "duration": 15,
    "start_time": "2024-06-07T05:12:33.384Z"
   },
   {
    "duration": 236,
    "start_time": "2024-06-07T05:12:33.428Z"
   },
   {
    "duration": 5,
    "start_time": "2024-06-07T05:12:33.667Z"
   },
   {
    "duration": 87,
    "start_time": "2024-06-07T05:12:33.676Z"
   },
   {
    "duration": 5,
    "start_time": "2024-06-07T05:12:33.769Z"
   },
   {
    "duration": 3,
    "start_time": "2024-06-07T05:12:33.792Z"
   },
   {
    "duration": 8,
    "start_time": "2024-06-07T05:12:33.799Z"
   },
   {
    "duration": 4,
    "start_time": "2024-06-07T05:12:33.830Z"
   },
   {
    "duration": 25,
    "start_time": "2024-06-07T05:12:33.839Z"
   },
   {
    "duration": 5,
    "start_time": "2024-06-07T05:12:33.867Z"
   },
   {
    "duration": 7,
    "start_time": "2024-06-07T05:12:33.877Z"
   },
   {
    "duration": 4,
    "start_time": "2024-06-07T05:12:33.888Z"
   },
   {
    "duration": 3,
    "start_time": "2024-06-07T05:12:33.896Z"
   },
   {
    "duration": 3,
    "start_time": "2024-06-07T05:12:33.924Z"
   },
   {
    "duration": 4,
    "start_time": "2024-06-07T05:12:33.931Z"
   },
   {
    "duration": 3,
    "start_time": "2024-06-07T05:12:33.938Z"
   },
   {
    "duration": 5,
    "start_time": "2024-06-07T05:12:33.945Z"
   },
   {
    "duration": 4,
    "start_time": "2024-06-07T05:12:33.963Z"
   },
   {
    "duration": 4,
    "start_time": "2024-06-07T05:12:33.971Z"
   },
   {
    "duration": 7,
    "start_time": "2024-06-07T05:12:34.023Z"
   },
   {
    "duration": 10,
    "start_time": "2024-06-07T05:12:34.033Z"
   },
   {
    "duration": 11,
    "start_time": "2024-06-07T05:12:34.047Z"
   },
   {
    "duration": 4,
    "start_time": "2024-06-07T05:12:34.063Z"
   },
   {
    "duration": 5,
    "start_time": "2024-06-07T05:12:34.070Z"
   },
   {
    "duration": 4,
    "start_time": "2024-06-07T05:12:34.080Z"
   },
   {
    "duration": 7,
    "start_time": "2024-06-07T05:12:34.127Z"
   },
   {
    "duration": 540,
    "start_time": "2024-06-07T05:14:07.210Z"
   },
   {
    "duration": 1705,
    "start_time": "2024-06-07T05:14:07.753Z"
   },
   {
    "duration": 25,
    "start_time": "2024-06-07T05:14:09.461Z"
   },
   {
    "duration": 51,
    "start_time": "2024-06-07T05:14:09.493Z"
   },
   {
    "duration": 19,
    "start_time": "2024-06-07T05:14:09.550Z"
   },
   {
    "duration": 19,
    "start_time": "2024-06-07T05:14:09.572Z"
   },
   {
    "duration": 88,
    "start_time": "2024-06-07T05:14:09.594Z"
   },
   {
    "duration": 425,
    "start_time": "2024-06-07T05:14:09.686Z"
   },
   {
    "duration": 0,
    "start_time": "2024-06-07T05:14:10.116Z"
   },
   {
    "duration": 0,
    "start_time": "2024-06-07T05:14:10.131Z"
   },
   {
    "duration": 0,
    "start_time": "2024-06-07T05:14:10.132Z"
   },
   {
    "duration": 0,
    "start_time": "2024-06-07T05:14:10.139Z"
   },
   {
    "duration": 0,
    "start_time": "2024-06-07T05:14:10.143Z"
   },
   {
    "duration": 0,
    "start_time": "2024-06-07T05:14:10.145Z"
   },
   {
    "duration": 0,
    "start_time": "2024-06-07T05:14:10.152Z"
   },
   {
    "duration": 0,
    "start_time": "2024-06-07T05:14:10.154Z"
   },
   {
    "duration": 0,
    "start_time": "2024-06-07T05:14:10.156Z"
   },
   {
    "duration": 0,
    "start_time": "2024-06-07T05:14:10.159Z"
   },
   {
    "duration": 0,
    "start_time": "2024-06-07T05:14:10.162Z"
   },
   {
    "duration": 0,
    "start_time": "2024-06-07T05:14:10.164Z"
   },
   {
    "duration": 0,
    "start_time": "2024-06-07T05:14:10.167Z"
   },
   {
    "duration": 0,
    "start_time": "2024-06-07T05:14:10.170Z"
   },
   {
    "duration": 0,
    "start_time": "2024-06-07T05:14:10.172Z"
   },
   {
    "duration": 0,
    "start_time": "2024-06-07T05:14:10.175Z"
   },
   {
    "duration": 0,
    "start_time": "2024-06-07T05:14:10.177Z"
   },
   {
    "duration": 0,
    "start_time": "2024-06-07T05:14:10.179Z"
   },
   {
    "duration": 0,
    "start_time": "2024-06-07T05:14:10.183Z"
   },
   {
    "duration": 0,
    "start_time": "2024-06-07T05:14:10.185Z"
   },
   {
    "duration": 0,
    "start_time": "2024-06-07T05:14:10.223Z"
   },
   {
    "duration": 0,
    "start_time": "2024-06-07T05:14:10.231Z"
   },
   {
    "duration": 0,
    "start_time": "2024-06-07T05:14:10.233Z"
   },
   {
    "duration": 0,
    "start_time": "2024-06-07T05:14:10.236Z"
   },
   {
    "duration": 0,
    "start_time": "2024-06-07T05:14:10.238Z"
   },
   {
    "duration": 0,
    "start_time": "2024-06-07T05:14:10.240Z"
   },
   {
    "duration": 23,
    "start_time": "2024-06-07T05:15:00.188Z"
   },
   {
    "duration": 402,
    "start_time": "2024-06-07T05:15:14.598Z"
   },
   {
    "duration": 243,
    "start_time": "2024-06-07T05:15:40.235Z"
   },
   {
    "duration": 368,
    "start_time": "2024-06-07T05:15:48.547Z"
   },
   {
    "duration": 550,
    "start_time": "2024-06-07T05:16:29.355Z"
   },
   {
    "duration": 1764,
    "start_time": "2024-06-07T05:16:29.909Z"
   },
   {
    "duration": 25,
    "start_time": "2024-06-07T05:16:31.677Z"
   },
   {
    "duration": 42,
    "start_time": "2024-06-07T05:16:31.706Z"
   },
   {
    "duration": 16,
    "start_time": "2024-06-07T05:16:31.756Z"
   },
   {
    "duration": 50,
    "start_time": "2024-06-07T05:16:31.775Z"
   },
   {
    "duration": 52,
    "start_time": "2024-06-07T05:16:31.830Z"
   },
   {
    "duration": 415,
    "start_time": "2024-06-07T05:16:31.885Z"
   },
   {
    "duration": 31,
    "start_time": "2024-06-07T05:16:32.303Z"
   },
   {
    "duration": 223,
    "start_time": "2024-06-07T05:16:32.341Z"
   },
   {
    "duration": 208,
    "start_time": "2024-06-07T05:16:32.567Z"
   },
   {
    "duration": 81,
    "start_time": "2024-06-07T05:16:32.779Z"
   },
   {
    "duration": 4,
    "start_time": "2024-06-07T05:16:32.864Z"
   },
   {
    "duration": 6,
    "start_time": "2024-06-07T05:16:32.871Z"
   },
   {
    "duration": 3,
    "start_time": "2024-06-07T05:16:32.882Z"
   },
   {
    "duration": 4,
    "start_time": "2024-06-07T05:16:32.889Z"
   },
   {
    "duration": 10,
    "start_time": "2024-06-07T05:16:32.935Z"
   },
   {
    "duration": 3,
    "start_time": "2024-06-07T05:16:32.954Z"
   },
   {
    "duration": 5,
    "start_time": "2024-06-07T05:16:32.961Z"
   },
   {
    "duration": 4,
    "start_time": "2024-06-07T05:16:32.970Z"
   },
   {
    "duration": 5,
    "start_time": "2024-06-07T05:16:32.978Z"
   },
   {
    "duration": 38,
    "start_time": "2024-06-07T05:16:32.986Z"
   },
   {
    "duration": 11,
    "start_time": "2024-06-07T05:16:33.029Z"
   },
   {
    "duration": 14,
    "start_time": "2024-06-07T05:16:33.044Z"
   },
   {
    "duration": 7,
    "start_time": "2024-06-07T05:16:33.061Z"
   },
   {
    "duration": 4,
    "start_time": "2024-06-07T05:16:33.073Z"
   },
   {
    "duration": 4,
    "start_time": "2024-06-07T05:16:33.081Z"
   },
   {
    "duration": 10,
    "start_time": "2024-06-07T05:16:33.128Z"
   },
   {
    "duration": 9,
    "start_time": "2024-06-07T05:16:33.142Z"
   },
   {
    "duration": 5,
    "start_time": "2024-06-07T05:16:33.154Z"
   },
   {
    "duration": 5,
    "start_time": "2024-06-07T05:16:33.162Z"
   },
   {
    "duration": 5,
    "start_time": "2024-06-07T05:16:33.172Z"
   },
   {
    "duration": 4,
    "start_time": "2024-06-07T05:16:33.181Z"
   },
   {
    "duration": 4,
    "start_time": "2024-06-07T05:16:33.225Z"
   },
   {
    "duration": 6,
    "start_time": "2024-06-07T05:17:48.281Z"
   },
   {
    "duration": 6,
    "start_time": "2024-06-07T05:19:28.558Z"
   },
   {
    "duration": 8,
    "start_time": "2024-06-07T05:19:43.977Z"
   },
   {
    "duration": 15,
    "start_time": "2024-06-07T05:21:26.924Z"
   },
   {
    "duration": 206,
    "start_time": "2024-06-07T05:22:13.471Z"
   },
   {
    "duration": 215,
    "start_time": "2024-06-07T05:23:03.545Z"
   },
   {
    "duration": 13,
    "start_time": "2024-06-07T05:23:32.730Z"
   },
   {
    "duration": 58,
    "start_time": "2024-06-07T05:24:53.476Z"
   },
   {
    "duration": 207,
    "start_time": "2024-06-07T05:26:10.583Z"
   },
   {
    "duration": 49,
    "start_time": "2024-06-07T05:26:12.788Z"
   },
   {
    "duration": 23,
    "start_time": "2024-06-07T05:29:25.680Z"
   },
   {
    "duration": 38,
    "start_time": "2024-06-07T05:29:39.832Z"
   },
   {
    "duration": 23,
    "start_time": "2024-06-07T05:29:58.067Z"
   },
   {
    "duration": 6,
    "start_time": "2024-06-07T05:39:18.969Z"
   },
   {
    "duration": 6,
    "start_time": "2024-06-07T05:40:29.384Z"
   },
   {
    "duration": 6,
    "start_time": "2024-06-07T05:40:58.765Z"
   },
   {
    "duration": 154,
    "start_time": "2024-06-07T05:51:26.499Z"
   },
   {
    "duration": 262,
    "start_time": "2024-06-07T05:53:16.801Z"
   },
   {
    "duration": 4,
    "start_time": "2024-06-07T05:54:23.856Z"
   },
   {
    "duration": 44,
    "start_time": "2024-06-07T05:55:27.903Z"
   },
   {
    "duration": 9,
    "start_time": "2024-06-07T06:00:43.500Z"
   },
   {
    "duration": 8,
    "start_time": "2024-06-07T06:01:42.403Z"
   },
   {
    "duration": 28,
    "start_time": "2024-06-07T06:22:31.051Z"
   },
   {
    "duration": 15,
    "start_time": "2024-06-07T06:22:42.576Z"
   },
   {
    "duration": 16,
    "start_time": "2024-06-07T06:42:52.142Z"
   },
   {
    "duration": 24,
    "start_time": "2024-06-08T00:57:39.289Z"
   },
   {
    "duration": 503,
    "start_time": "2024-06-08T00:59:02.932Z"
   },
   {
    "duration": 1544,
    "start_time": "2024-06-08T00:59:03.438Z"
   },
   {
    "duration": 25,
    "start_time": "2024-06-08T00:59:04.985Z"
   },
   {
    "duration": 33,
    "start_time": "2024-06-08T00:59:05.014Z"
   },
   {
    "duration": 17,
    "start_time": "2024-06-08T00:59:05.049Z"
   },
   {
    "duration": 15,
    "start_time": "2024-06-08T00:59:05.069Z"
   },
   {
    "duration": 81,
    "start_time": "2024-06-08T00:59:05.087Z"
   },
   {
    "duration": 333,
    "start_time": "2024-06-08T00:59:05.171Z"
   },
   {
    "duration": 26,
    "start_time": "2024-06-08T00:59:05.506Z"
   },
   {
    "duration": 195,
    "start_time": "2024-06-08T00:59:05.539Z"
   },
   {
    "duration": 160,
    "start_time": "2024-06-08T00:59:05.736Z"
   },
   {
    "duration": 61,
    "start_time": "2024-06-08T00:59:05.899Z"
   },
   {
    "duration": 22,
    "start_time": "2024-06-08T00:59:05.963Z"
   },
   {
    "duration": 6,
    "start_time": "2024-06-08T00:59:05.987Z"
   },
   {
    "duration": 42,
    "start_time": "2024-06-08T00:59:05.996Z"
   },
   {
    "duration": 11,
    "start_time": "2024-06-08T00:59:06.041Z"
   },
   {
    "duration": 4,
    "start_time": "2024-06-08T00:59:06.054Z"
   },
   {
    "duration": 3,
    "start_time": "2024-06-08T00:59:06.061Z"
   },
   {
    "duration": 3,
    "start_time": "2024-06-08T00:59:06.067Z"
   },
   {
    "duration": 3,
    "start_time": "2024-06-08T00:59:06.074Z"
   },
   {
    "duration": 4,
    "start_time": "2024-06-08T00:59:06.080Z"
   },
   {
    "duration": 4,
    "start_time": "2024-06-08T00:59:06.134Z"
   },
   {
    "duration": 3,
    "start_time": "2024-06-08T00:59:06.140Z"
   },
   {
    "duration": 3,
    "start_time": "2024-06-08T00:59:06.147Z"
   },
   {
    "duration": 3,
    "start_time": "2024-06-08T00:59:06.154Z"
   },
   {
    "duration": 3,
    "start_time": "2024-06-08T00:59:06.160Z"
   },
   {
    "duration": 3,
    "start_time": "2024-06-08T00:59:06.166Z"
   },
   {
    "duration": 56,
    "start_time": "2024-06-08T00:59:06.177Z"
   },
   {
    "duration": 4,
    "start_time": "2024-06-08T00:59:06.236Z"
   },
   {
    "duration": 4,
    "start_time": "2024-06-08T00:59:06.243Z"
   },
   {
    "duration": 4,
    "start_time": "2024-06-08T00:59:06.250Z"
   },
   {
    "duration": 4,
    "start_time": "2024-06-08T00:59:06.257Z"
   },
   {
    "duration": 3,
    "start_time": "2024-06-08T00:59:06.265Z"
   },
   {
    "duration": 3,
    "start_time": "2024-06-08T00:59:06.273Z"
   },
   {
    "duration": 18,
    "start_time": "2024-06-08T00:59:51.572Z"
   },
   {
    "duration": 15,
    "start_time": "2024-06-08T00:59:59.871Z"
   },
   {
    "duration": 15,
    "start_time": "2024-06-08T01:01:25.816Z"
   },
   {
    "duration": 28,
    "start_time": "2024-06-08T01:01:56.836Z"
   },
   {
    "duration": 6,
    "start_time": "2024-06-08T01:03:30.173Z"
   },
   {
    "duration": 13,
    "start_time": "2024-06-08T01:03:56.496Z"
   },
   {
    "duration": 308,
    "start_time": "2024-06-08T04:16:08.613Z"
   },
   {
    "duration": 501,
    "start_time": "2024-06-08T04:16:21.232Z"
   },
   {
    "duration": 1667,
    "start_time": "2024-06-08T04:16:21.736Z"
   },
   {
    "duration": 37,
    "start_time": "2024-06-08T04:16:23.407Z"
   },
   {
    "duration": 18,
    "start_time": "2024-06-08T04:16:23.448Z"
   },
   {
    "duration": 16,
    "start_time": "2024-06-08T04:16:23.469Z"
   },
   {
    "duration": 48,
    "start_time": "2024-06-08T04:16:23.487Z"
   },
   {
    "duration": 41,
    "start_time": "2024-06-08T04:16:23.538Z"
   },
   {
    "duration": 332,
    "start_time": "2024-06-08T04:16:23.582Z"
   },
   {
    "duration": 25,
    "start_time": "2024-06-08T04:16:23.916Z"
   },
   {
    "duration": 180,
    "start_time": "2024-06-08T04:16:23.947Z"
   },
   {
    "duration": 167,
    "start_time": "2024-06-08T04:16:24.136Z"
   },
   {
    "duration": 58,
    "start_time": "2024-06-08T04:16:24.305Z"
   },
   {
    "duration": 21,
    "start_time": "2024-06-08T04:16:24.366Z"
   },
   {
    "duration": 5,
    "start_time": "2024-06-08T04:16:24.390Z"
   },
   {
    "duration": 44,
    "start_time": "2024-06-08T04:16:24.398Z"
   },
   {
    "duration": 9,
    "start_time": "2024-06-08T04:16:24.445Z"
   },
   {
    "duration": 3,
    "start_time": "2024-06-08T04:16:24.457Z"
   },
   {
    "duration": 3,
    "start_time": "2024-06-08T04:16:24.463Z"
   },
   {
    "duration": 4,
    "start_time": "2024-06-08T04:16:24.469Z"
   },
   {
    "duration": 5,
    "start_time": "2024-06-08T04:16:24.476Z"
   },
   {
    "duration": 3,
    "start_time": "2024-06-08T04:16:24.533Z"
   },
   {
    "duration": 3,
    "start_time": "2024-06-08T04:16:24.539Z"
   },
   {
    "duration": 3,
    "start_time": "2024-06-08T04:16:24.546Z"
   },
   {
    "duration": 4,
    "start_time": "2024-06-08T04:16:24.552Z"
   },
   {
    "duration": 4,
    "start_time": "2024-06-08T04:16:24.558Z"
   },
   {
    "duration": 3,
    "start_time": "2024-06-08T04:16:24.565Z"
   },
   {
    "duration": 4,
    "start_time": "2024-06-08T04:16:24.571Z"
   },
   {
    "duration": 3,
    "start_time": "2024-06-08T04:16:24.634Z"
   },
   {
    "duration": 4,
    "start_time": "2024-06-08T04:16:24.640Z"
   },
   {
    "duration": 3,
    "start_time": "2024-06-08T04:16:24.647Z"
   },
   {
    "duration": 3,
    "start_time": "2024-06-08T04:16:24.654Z"
   },
   {
    "duration": 4,
    "start_time": "2024-06-08T04:16:24.660Z"
   },
   {
    "duration": 4,
    "start_time": "2024-06-08T04:16:24.666Z"
   },
   {
    "duration": 3,
    "start_time": "2024-06-08T04:16:24.673Z"
   },
   {
    "duration": 14,
    "start_time": "2024-06-08T04:16:57.417Z"
   },
   {
    "duration": 72,
    "start_time": "2024-06-08T04:18:18.385Z"
   },
   {
    "duration": 7,
    "start_time": "2024-06-08T04:18:52.334Z"
   },
   {
    "duration": 11,
    "start_time": "2024-06-08T04:21:16.266Z"
   },
   {
    "duration": 1134,
    "start_time": "2024-06-08T04:27:45.543Z"
   },
   {
    "duration": 13,
    "start_time": "2024-06-08T04:29:01.327Z"
   },
   {
    "duration": 6,
    "start_time": "2024-06-08T04:31:02.041Z"
   },
   {
    "duration": 7,
    "start_time": "2024-06-08T04:40:10.466Z"
   },
   {
    "duration": 6,
    "start_time": "2024-06-08T04:41:17.335Z"
   },
   {
    "duration": 270,
    "start_time": "2024-06-08T04:43:02.096Z"
   },
   {
    "duration": 6,
    "start_time": "2024-06-08T04:45:36.014Z"
   },
   {
    "duration": 688,
    "start_time": "2024-06-08T04:51:40.299Z"
   },
   {
    "duration": 6,
    "start_time": "2024-06-08T04:53:25.996Z"
   },
   {
    "duration": 1258,
    "start_time": "2024-06-08T05:09:23.084Z"
   },
   {
    "duration": 26,
    "start_time": "2024-06-08T05:09:49.038Z"
   },
   {
    "duration": 45,
    "start_time": "2024-06-08T05:11:00.898Z"
   },
   {
    "duration": 56,
    "start_time": "2024-06-08T05:11:14.605Z"
   },
   {
    "duration": 37,
    "start_time": "2024-06-08T05:15:17.145Z"
   },
   {
    "duration": 55,
    "start_time": "2024-06-08T05:16:43.694Z"
   },
   {
    "duration": 438,
    "start_time": "2024-06-08T05:17:15.496Z"
   },
   {
    "duration": 1531,
    "start_time": "2024-06-08T05:17:15.938Z"
   },
   {
    "duration": 22,
    "start_time": "2024-06-08T05:17:17.472Z"
   },
   {
    "duration": 35,
    "start_time": "2024-06-08T05:17:17.498Z"
   },
   {
    "duration": 17,
    "start_time": "2024-06-08T05:17:17.536Z"
   },
   {
    "duration": 16,
    "start_time": "2024-06-08T05:17:17.557Z"
   },
   {
    "duration": 78,
    "start_time": "2024-06-08T05:17:17.576Z"
   },
   {
    "duration": 317,
    "start_time": "2024-06-08T05:17:17.657Z"
   },
   {
    "duration": 13,
    "start_time": "2024-06-08T05:17:17.977Z"
   },
   {
    "duration": 192,
    "start_time": "2024-06-08T05:17:17.996Z"
   },
   {
    "duration": 167,
    "start_time": "2024-06-08T05:17:18.191Z"
   },
   {
    "duration": 54,
    "start_time": "2024-06-08T05:17:18.362Z"
   },
   {
    "duration": 22,
    "start_time": "2024-06-08T05:17:18.432Z"
   },
   {
    "duration": 6,
    "start_time": "2024-06-08T05:17:18.457Z"
   },
   {
    "duration": 70,
    "start_time": "2024-06-08T05:17:18.466Z"
   },
   {
    "duration": 29,
    "start_time": "2024-06-08T05:17:18.540Z"
   },
   {
    "duration": 3,
    "start_time": "2024-06-08T05:17:18.572Z"
   },
   {
    "duration": 3,
    "start_time": "2024-06-08T05:17:18.579Z"
   },
   {
    "duration": 3,
    "start_time": "2024-06-08T05:17:18.586Z"
   },
   {
    "duration": 4,
    "start_time": "2024-06-08T05:17:18.633Z"
   },
   {
    "duration": 3,
    "start_time": "2024-06-08T05:17:18.641Z"
   },
   {
    "duration": 3,
    "start_time": "2024-06-08T05:17:18.647Z"
   },
   {
    "duration": 3,
    "start_time": "2024-06-08T05:17:18.656Z"
   },
   {
    "duration": 3,
    "start_time": "2024-06-08T05:17:18.663Z"
   },
   {
    "duration": 4,
    "start_time": "2024-06-08T05:17:18.669Z"
   },
   {
    "duration": 3,
    "start_time": "2024-06-08T05:17:18.676Z"
   },
   {
    "duration": 54,
    "start_time": "2024-06-08T05:17:18.681Z"
   },
   {
    "duration": 4,
    "start_time": "2024-06-08T05:17:18.742Z"
   },
   {
    "duration": 4,
    "start_time": "2024-06-08T05:17:18.748Z"
   },
   {
    "duration": 3,
    "start_time": "2024-06-08T05:17:18.757Z"
   },
   {
    "duration": 5,
    "start_time": "2024-06-08T05:17:18.763Z"
   },
   {
    "duration": 3,
    "start_time": "2024-06-08T05:17:18.771Z"
   },
   {
    "duration": 55,
    "start_time": "2024-06-08T05:17:18.778Z"
   },
   {
    "duration": 4,
    "start_time": "2024-06-08T05:17:18.836Z"
   },
   {
    "duration": 166,
    "start_time": "2024-06-08T05:18:10.310Z"
   },
   {
    "duration": 433,
    "start_time": "2024-06-08T05:18:20.186Z"
   },
   {
    "duration": 1573,
    "start_time": "2024-06-08T05:18:20.623Z"
   },
   {
    "duration": 33,
    "start_time": "2024-06-08T05:18:22.199Z"
   },
   {
    "duration": 19,
    "start_time": "2024-06-08T05:18:22.238Z"
   },
   {
    "duration": 16,
    "start_time": "2024-06-08T05:18:22.262Z"
   },
   {
    "duration": 16,
    "start_time": "2024-06-08T05:18:22.281Z"
   },
   {
    "duration": 43,
    "start_time": "2024-06-08T05:18:22.334Z"
   },
   {
    "duration": 347,
    "start_time": "2024-06-08T05:18:22.380Z"
   },
   {
    "duration": 13,
    "start_time": "2024-06-08T05:18:22.730Z"
   },
   {
    "duration": 187,
    "start_time": "2024-06-08T05:18:22.749Z"
   },
   {
    "duration": 165,
    "start_time": "2024-06-08T05:18:22.939Z"
   },
   {
    "duration": 57,
    "start_time": "2024-06-08T05:18:23.107Z"
   },
   {
    "duration": 23,
    "start_time": "2024-06-08T05:18:23.166Z"
   },
   {
    "duration": 5,
    "start_time": "2024-06-08T05:18:23.193Z"
   },
   {
    "duration": 232,
    "start_time": "2024-06-08T05:18:23.201Z"
   },
   {
    "duration": 0,
    "start_time": "2024-06-08T05:18:23.436Z"
   },
   {
    "duration": 0,
    "start_time": "2024-06-08T05:18:23.438Z"
   },
   {
    "duration": 0,
    "start_time": "2024-06-08T05:18:23.440Z"
   },
   {
    "duration": 0,
    "start_time": "2024-06-08T05:18:23.443Z"
   },
   {
    "duration": 0,
    "start_time": "2024-06-08T05:18:23.445Z"
   },
   {
    "duration": 0,
    "start_time": "2024-06-08T05:18:23.448Z"
   },
   {
    "duration": 0,
    "start_time": "2024-06-08T05:18:23.450Z"
   },
   {
    "duration": 1,
    "start_time": "2024-06-08T05:18:23.452Z"
   },
   {
    "duration": 0,
    "start_time": "2024-06-08T05:18:23.455Z"
   },
   {
    "duration": 0,
    "start_time": "2024-06-08T05:18:23.457Z"
   },
   {
    "duration": 0,
    "start_time": "2024-06-08T05:18:23.459Z"
   },
   {
    "duration": 0,
    "start_time": "2024-06-08T05:18:23.461Z"
   },
   {
    "duration": 0,
    "start_time": "2024-06-08T05:18:23.464Z"
   },
   {
    "duration": 0,
    "start_time": "2024-06-08T05:18:23.466Z"
   },
   {
    "duration": 0,
    "start_time": "2024-06-08T05:18:23.468Z"
   },
   {
    "duration": 0,
    "start_time": "2024-06-08T05:18:23.471Z"
   },
   {
    "duration": 0,
    "start_time": "2024-06-08T05:18:23.473Z"
   },
   {
    "duration": 0,
    "start_time": "2024-06-08T05:18:23.475Z"
   },
   {
    "duration": 0,
    "start_time": "2024-06-08T05:18:23.477Z"
   },
   {
    "duration": 42,
    "start_time": "2024-06-08T05:18:56.157Z"
   },
   {
    "duration": 37,
    "start_time": "2024-06-08T05:19:44.103Z"
   },
   {
    "duration": 50,
    "start_time": "2024-06-08T05:21:12.098Z"
   },
   {
    "duration": 50,
    "start_time": "2024-06-08T05:21:58.249Z"
   },
   {
    "duration": 439,
    "start_time": "2024-06-08T05:24:02.590Z"
   },
   {
    "duration": 1503,
    "start_time": "2024-06-08T05:24:03.034Z"
   },
   {
    "duration": 23,
    "start_time": "2024-06-08T05:24:04.540Z"
   },
   {
    "duration": 18,
    "start_time": "2024-06-08T05:24:04.567Z"
   },
   {
    "duration": 52,
    "start_time": "2024-06-08T05:24:04.588Z"
   },
   {
    "duration": 15,
    "start_time": "2024-06-08T05:24:04.643Z"
   },
   {
    "duration": 43,
    "start_time": "2024-06-08T05:24:04.661Z"
   },
   {
    "duration": 334,
    "start_time": "2024-06-08T05:24:04.734Z"
   },
   {
    "duration": 12,
    "start_time": "2024-06-08T05:24:05.071Z"
   },
   {
    "duration": 185,
    "start_time": "2024-06-08T05:24:05.090Z"
   },
   {
    "duration": 165,
    "start_time": "2024-06-08T05:24:05.278Z"
   },
   {
    "duration": 45,
    "start_time": "2024-06-08T05:24:05.447Z"
   },
   {
    "duration": 47,
    "start_time": "2024-06-08T05:24:05.495Z"
   },
   {
    "duration": 5,
    "start_time": "2024-06-08T05:24:05.545Z"
   },
   {
    "duration": 43,
    "start_time": "2024-06-08T05:24:05.553Z"
   },
   {
    "duration": 78,
    "start_time": "2024-06-08T05:24:05.598Z"
   },
   {
    "duration": 6,
    "start_time": "2024-06-08T05:24:05.679Z"
   },
   {
    "duration": 3,
    "start_time": "2024-06-08T05:24:05.688Z"
   },
   {
    "duration": 3,
    "start_time": "2024-06-08T05:24:05.694Z"
   },
   {
    "duration": 3,
    "start_time": "2024-06-08T05:24:05.732Z"
   },
   {
    "duration": 3,
    "start_time": "2024-06-08T05:24:05.739Z"
   },
   {
    "duration": 4,
    "start_time": "2024-06-08T05:24:05.746Z"
   },
   {
    "duration": 3,
    "start_time": "2024-06-08T05:24:05.753Z"
   },
   {
    "duration": 3,
    "start_time": "2024-06-08T05:24:05.759Z"
   },
   {
    "duration": 4,
    "start_time": "2024-06-08T05:24:05.765Z"
   },
   {
    "duration": 3,
    "start_time": "2024-06-08T05:24:05.772Z"
   },
   {
    "duration": 3,
    "start_time": "2024-06-08T05:24:05.834Z"
   },
   {
    "duration": 3,
    "start_time": "2024-06-08T05:24:05.844Z"
   },
   {
    "duration": 3,
    "start_time": "2024-06-08T05:24:05.850Z"
   },
   {
    "duration": 3,
    "start_time": "2024-06-08T05:24:05.857Z"
   },
   {
    "duration": 3,
    "start_time": "2024-06-08T05:24:05.864Z"
   },
   {
    "duration": 4,
    "start_time": "2024-06-08T05:24:05.871Z"
   },
   {
    "duration": 56,
    "start_time": "2024-06-08T05:24:05.878Z"
   },
   {
    "duration": 3,
    "start_time": "2024-06-08T05:24:05.937Z"
   },
   {
    "duration": 34,
    "start_time": "2024-06-08T05:25:13.506Z"
   },
   {
    "duration": 28,
    "start_time": "2024-06-08T05:25:21.603Z"
   },
   {
    "duration": 39,
    "start_time": "2024-06-08T05:33:23.853Z"
   },
   {
    "duration": 27,
    "start_time": "2024-06-08T05:33:38.476Z"
   },
   {
    "duration": 30,
    "start_time": "2024-06-08T05:33:56.257Z"
   },
   {
    "duration": 39,
    "start_time": "2024-06-08T05:34:32.003Z"
   },
   {
    "duration": 15,
    "start_time": "2024-06-08T05:42:15.146Z"
   },
   {
    "duration": 145,
    "start_time": "2024-06-08T06:20:53.683Z"
   },
   {
    "duration": 29,
    "start_time": "2024-06-08T06:21:05.911Z"
   },
   {
    "duration": 29,
    "start_time": "2024-06-08T06:21:33.895Z"
   },
   {
    "duration": 238,
    "start_time": "2024-06-08T06:21:44.435Z"
   },
   {
    "duration": 35,
    "start_time": "2024-06-08T06:21:59.378Z"
   },
   {
    "duration": 21,
    "start_time": "2024-06-08T06:22:31.922Z"
   },
   {
    "duration": 21,
    "start_time": "2024-06-08T06:26:42.469Z"
   },
   {
    "duration": 28,
    "start_time": "2024-06-08T06:29:33.831Z"
   },
   {
    "duration": 104,
    "start_time": "2024-06-08T06:29:41.785Z"
   },
   {
    "duration": 47,
    "start_time": "2024-06-08T06:30:37.258Z"
   },
   {
    "duration": 42,
    "start_time": "2024-06-08T06:31:19.272Z"
   },
   {
    "duration": 45,
    "start_time": "2024-06-08T06:31:37.645Z"
   },
   {
    "duration": 51,
    "start_time": "2024-06-08T06:31:45.187Z"
   },
   {
    "duration": 14,
    "start_time": "2024-06-08T06:39:03.906Z"
   },
   {
    "duration": 13,
    "start_time": "2024-06-08T16:54:33.381Z"
   },
   {
    "duration": 395,
    "start_time": "2024-06-08T16:54:41.894Z"
   },
   {
    "duration": 1716,
    "start_time": "2024-06-08T16:54:42.292Z"
   },
   {
    "duration": 28,
    "start_time": "2024-06-08T16:54:44.011Z"
   },
   {
    "duration": 30,
    "start_time": "2024-06-08T16:54:44.043Z"
   },
   {
    "duration": 26,
    "start_time": "2024-06-08T16:54:44.076Z"
   },
   {
    "duration": 44,
    "start_time": "2024-06-08T16:54:44.107Z"
   },
   {
    "duration": 51,
    "start_time": "2024-06-08T16:54:44.154Z"
   },
   {
    "duration": 323,
    "start_time": "2024-06-08T16:54:44.208Z"
   },
   {
    "duration": 17,
    "start_time": "2024-06-08T16:54:44.533Z"
   },
   {
    "duration": 182,
    "start_time": "2024-06-08T16:54:44.555Z"
   },
   {
    "duration": 160,
    "start_time": "2024-06-08T16:54:44.739Z"
   },
   {
    "duration": 62,
    "start_time": "2024-06-08T16:54:44.903Z"
   },
   {
    "duration": 24,
    "start_time": "2024-06-08T16:54:44.968Z"
   },
   {
    "duration": 6,
    "start_time": "2024-06-08T16:54:44.996Z"
   },
   {
    "duration": 38,
    "start_time": "2024-06-08T16:54:45.033Z"
   },
   {
    "duration": 15,
    "start_time": "2024-06-08T16:54:45.075Z"
   },
   {
    "duration": 6,
    "start_time": "2024-06-08T16:54:45.092Z"
   },
   {
    "duration": 0,
    "start_time": "2024-06-08T16:54:45.102Z"
   },
   {
    "duration": 0,
    "start_time": "2024-06-08T16:54:45.134Z"
   },
   {
    "duration": 0,
    "start_time": "2024-06-08T16:54:45.135Z"
   },
   {
    "duration": 0,
    "start_time": "2024-06-08T16:54:45.136Z"
   },
   {
    "duration": 0,
    "start_time": "2024-06-08T16:54:45.137Z"
   },
   {
    "duration": 0,
    "start_time": "2024-06-08T16:54:45.139Z"
   },
   {
    "duration": 0,
    "start_time": "2024-06-08T16:54:45.141Z"
   },
   {
    "duration": 0,
    "start_time": "2024-06-08T16:54:45.148Z"
   },
   {
    "duration": 0,
    "start_time": "2024-06-08T16:54:45.153Z"
   },
   {
    "duration": 0,
    "start_time": "2024-06-08T16:54:45.159Z"
   },
   {
    "duration": 0,
    "start_time": "2024-06-08T16:54:45.166Z"
   },
   {
    "duration": 0,
    "start_time": "2024-06-08T16:54:45.172Z"
   },
   {
    "duration": 0,
    "start_time": "2024-06-08T16:54:45.174Z"
   },
   {
    "duration": 0,
    "start_time": "2024-06-08T16:54:45.180Z"
   },
   {
    "duration": 0,
    "start_time": "2024-06-08T16:54:45.182Z"
   },
   {
    "duration": 0,
    "start_time": "2024-06-08T16:54:45.185Z"
   },
   {
    "duration": 0,
    "start_time": "2024-06-08T16:54:45.189Z"
   },
   {
    "duration": 17,
    "start_time": "2024-06-08T16:55:56.259Z"
   },
   {
    "duration": 429,
    "start_time": "2024-06-08T16:56:54.868Z"
   },
   {
    "duration": 1502,
    "start_time": "2024-06-08T16:56:55.301Z"
   },
   {
    "duration": 32,
    "start_time": "2024-06-08T16:56:56.806Z"
   },
   {
    "duration": 19,
    "start_time": "2024-06-08T16:56:56.840Z"
   },
   {
    "duration": 15,
    "start_time": "2024-06-08T16:56:56.864Z"
   },
   {
    "duration": 56,
    "start_time": "2024-06-08T16:56:56.882Z"
   },
   {
    "duration": 41,
    "start_time": "2024-06-08T16:56:56.941Z"
   },
   {
    "duration": 362,
    "start_time": "2024-06-08T16:56:56.985Z"
   },
   {
    "duration": 13,
    "start_time": "2024-06-08T16:56:57.349Z"
   },
   {
    "duration": 195,
    "start_time": "2024-06-08T16:56:57.365Z"
   },
   {
    "duration": 175,
    "start_time": "2024-06-08T16:56:57.563Z"
   },
   {
    "duration": 44,
    "start_time": "2024-06-08T16:56:57.741Z"
   },
   {
    "duration": 45,
    "start_time": "2024-06-08T16:56:57.788Z"
   },
   {
    "duration": 6,
    "start_time": "2024-06-08T16:56:57.838Z"
   },
   {
    "duration": 35,
    "start_time": "2024-06-08T16:56:57.847Z"
   },
   {
    "duration": 48,
    "start_time": "2024-06-08T16:56:57.886Z"
   },
   {
    "duration": 5,
    "start_time": "2024-06-08T16:56:57.937Z"
   },
   {
    "duration": 0,
    "start_time": "2024-06-08T16:56:57.945Z"
   },
   {
    "duration": 0,
    "start_time": "2024-06-08T16:56:57.946Z"
   },
   {
    "duration": 0,
    "start_time": "2024-06-08T16:56:57.949Z"
   },
   {
    "duration": 0,
    "start_time": "2024-06-08T16:56:57.952Z"
   },
   {
    "duration": 0,
    "start_time": "2024-06-08T16:56:57.954Z"
   },
   {
    "duration": 0,
    "start_time": "2024-06-08T16:56:57.956Z"
   },
   {
    "duration": 0,
    "start_time": "2024-06-08T16:56:57.958Z"
   },
   {
    "duration": 0,
    "start_time": "2024-06-08T16:56:57.960Z"
   },
   {
    "duration": 0,
    "start_time": "2024-06-08T16:56:57.961Z"
   },
   {
    "duration": 0,
    "start_time": "2024-06-08T16:56:57.964Z"
   },
   {
    "duration": 0,
    "start_time": "2024-06-08T16:56:57.965Z"
   },
   {
    "duration": 0,
    "start_time": "2024-06-08T16:56:57.968Z"
   },
   {
    "duration": 0,
    "start_time": "2024-06-08T16:56:57.970Z"
   },
   {
    "duration": 0,
    "start_time": "2024-06-08T16:56:57.972Z"
   },
   {
    "duration": 0,
    "start_time": "2024-06-08T16:56:57.975Z"
   },
   {
    "duration": 0,
    "start_time": "2024-06-08T16:56:58.033Z"
   },
   {
    "duration": 0,
    "start_time": "2024-06-08T16:56:58.035Z"
   },
   {
    "duration": 8,
    "start_time": "2024-06-08T16:57:41.277Z"
   },
   {
    "duration": 1166,
    "start_time": "2024-06-08T17:02:04.987Z"
   },
   {
    "duration": 5,
    "start_time": "2024-06-08T17:04:26.375Z"
   },
   {
    "duration": 423,
    "start_time": "2024-06-08T17:06:17.881Z"
   },
   {
    "duration": 1539,
    "start_time": "2024-06-08T17:06:18.308Z"
   },
   {
    "duration": 28,
    "start_time": "2024-06-08T17:06:19.849Z"
   },
   {
    "duration": 20,
    "start_time": "2024-06-08T17:06:19.881Z"
   },
   {
    "duration": 41,
    "start_time": "2024-06-08T17:06:19.905Z"
   },
   {
    "duration": 20,
    "start_time": "2024-06-08T17:06:19.948Z"
   },
   {
    "duration": 42,
    "start_time": "2024-06-08T17:06:19.970Z"
   },
   {
    "duration": 328,
    "start_time": "2024-06-08T17:06:20.033Z"
   },
   {
    "duration": 14,
    "start_time": "2024-06-08T17:06:20.365Z"
   },
   {
    "duration": 198,
    "start_time": "2024-06-08T17:06:20.385Z"
   },
   {
    "duration": 162,
    "start_time": "2024-06-08T17:06:20.586Z"
   },
   {
    "duration": 45,
    "start_time": "2024-06-08T17:06:20.750Z"
   },
   {
    "duration": 46,
    "start_time": "2024-06-08T17:06:20.798Z"
   },
   {
    "duration": 7,
    "start_time": "2024-06-08T17:06:20.851Z"
   },
   {
    "duration": 36,
    "start_time": "2024-06-08T17:06:20.863Z"
   },
   {
    "duration": 38,
    "start_time": "2024-06-08T17:06:20.903Z"
   },
   {
    "duration": 342,
    "start_time": "2024-06-08T17:06:20.948Z"
   },
   {
    "duration": 0,
    "start_time": "2024-06-08T17:06:21.293Z"
   },
   {
    "duration": 0,
    "start_time": "2024-06-08T17:06:21.295Z"
   },
   {
    "duration": 0,
    "start_time": "2024-06-08T17:06:21.297Z"
   },
   {
    "duration": 0,
    "start_time": "2024-06-08T17:06:21.299Z"
   },
   {
    "duration": 0,
    "start_time": "2024-06-08T17:06:21.300Z"
   },
   {
    "duration": 0,
    "start_time": "2024-06-08T17:06:21.302Z"
   },
   {
    "duration": 0,
    "start_time": "2024-06-08T17:06:21.303Z"
   },
   {
    "duration": 0,
    "start_time": "2024-06-08T17:06:21.333Z"
   },
   {
    "duration": 0,
    "start_time": "2024-06-08T17:06:21.334Z"
   },
   {
    "duration": 0,
    "start_time": "2024-06-08T17:06:21.346Z"
   },
   {
    "duration": 0,
    "start_time": "2024-06-08T17:06:21.348Z"
   },
   {
    "duration": 0,
    "start_time": "2024-06-08T17:06:21.349Z"
   },
   {
    "duration": 0,
    "start_time": "2024-06-08T17:06:21.351Z"
   },
   {
    "duration": 0,
    "start_time": "2024-06-08T17:06:21.352Z"
   },
   {
    "duration": 0,
    "start_time": "2024-06-08T17:06:21.354Z"
   },
   {
    "duration": 0,
    "start_time": "2024-06-08T17:06:21.355Z"
   },
   {
    "duration": 0,
    "start_time": "2024-06-08T17:06:21.356Z"
   },
   {
    "duration": 6,
    "start_time": "2024-06-08T17:06:28.921Z"
   },
   {
    "duration": 21,
    "start_time": "2024-06-08T17:06:40.478Z"
   },
   {
    "duration": 5,
    "start_time": "2024-06-08T17:06:44.880Z"
   },
   {
    "duration": 7,
    "start_time": "2024-06-08T17:07:38.690Z"
   },
   {
    "duration": 8,
    "start_time": "2024-06-08T17:08:13.245Z"
   },
   {
    "duration": 6,
    "start_time": "2024-06-08T18:14:17.983Z"
   },
   {
    "duration": 5,
    "start_time": "2024-06-08T18:15:05.684Z"
   },
   {
    "duration": 5,
    "start_time": "2024-06-08T18:19:07.177Z"
   },
   {
    "duration": 5,
    "start_time": "2024-06-08T18:21:04.127Z"
   },
   {
    "duration": 10,
    "start_time": "2024-06-08T18:21:13.510Z"
   },
   {
    "duration": 5,
    "start_time": "2024-06-08T18:22:56.283Z"
   },
   {
    "duration": 21,
    "start_time": "2024-06-08T18:57:04.633Z"
   },
   {
    "duration": 1310,
    "start_time": "2024-06-08T18:57:39.460Z"
   },
   {
    "duration": 3486,
    "start_time": "2024-06-08T19:05:23.409Z"
   },
   {
    "duration": 21,
    "start_time": "2024-06-08T19:17:09.912Z"
   },
   {
    "duration": 460,
    "start_time": "2024-06-08T19:17:27.292Z"
   },
   {
    "duration": 626,
    "start_time": "2024-06-08T19:17:53.199Z"
   },
   {
    "duration": 175,
    "start_time": "2024-06-08T19:18:04.127Z"
   },
   {
    "duration": 79,
    "start_time": "2024-06-08T19:36:00.796Z"
   },
   {
    "duration": 349,
    "start_time": "2024-06-08T19:40:55.642Z"
   },
   {
    "duration": 328,
    "start_time": "2024-06-08T19:48:39.070Z"
   },
   {
    "duration": 312,
    "start_time": "2024-06-08T22:54:55.093Z"
   },
   {
    "duration": 26,
    "start_time": "2024-06-08T22:55:39.893Z"
   },
   {
    "duration": 452,
    "start_time": "2024-06-08T22:55:54.564Z"
   },
   {
    "duration": 1694,
    "start_time": "2024-06-08T22:55:55.019Z"
   },
   {
    "duration": 24,
    "start_time": "2024-06-08T22:55:56.715Z"
   },
   {
    "duration": 23,
    "start_time": "2024-06-08T22:55:56.743Z"
   },
   {
    "duration": 46,
    "start_time": "2024-06-08T22:55:56.769Z"
   },
   {
    "duration": 16,
    "start_time": "2024-06-08T22:55:56.818Z"
   },
   {
    "duration": 43,
    "start_time": "2024-06-08T22:55:56.837Z"
   },
   {
    "duration": 368,
    "start_time": "2024-06-08T22:55:56.882Z"
   },
   {
    "duration": 16,
    "start_time": "2024-06-08T22:55:57.253Z"
   },
   {
    "duration": 211,
    "start_time": "2024-06-08T22:55:57.276Z"
   },
   {
    "duration": 163,
    "start_time": "2024-06-08T22:55:57.490Z"
   },
   {
    "duration": 56,
    "start_time": "2024-06-08T22:55:57.656Z"
   },
   {
    "duration": 22,
    "start_time": "2024-06-08T22:55:57.715Z"
   },
   {
    "duration": 6,
    "start_time": "2024-06-08T22:55:57.740Z"
   },
   {
    "duration": 70,
    "start_time": "2024-06-08T22:55:57.749Z"
   },
   {
    "duration": 15,
    "start_time": "2024-06-08T22:55:57.822Z"
   },
   {
    "duration": 7,
    "start_time": "2024-06-08T22:55:57.840Z"
   },
   {
    "duration": 5,
    "start_time": "2024-06-08T22:55:57.851Z"
   },
   {
    "duration": 7,
    "start_time": "2024-06-08T22:55:57.859Z"
   },
   {
    "duration": 6,
    "start_time": "2024-06-08T22:55:57.916Z"
   },
   {
    "duration": 1336,
    "start_time": "2024-06-08T22:55:57.925Z"
   },
   {
    "duration": 832,
    "start_time": "2024-06-08T22:55:59.264Z"
   },
   {
    "duration": 14,
    "start_time": "2024-06-08T22:56:00.099Z"
   },
   {
    "duration": 4,
    "start_time": "2024-06-08T22:56:00.116Z"
   },
   {
    "duration": 6,
    "start_time": "2024-06-08T22:56:00.123Z"
   },
   {
    "duration": 3,
    "start_time": "2024-06-08T22:56:00.132Z"
   },
   {
    "duration": 6,
    "start_time": "2024-06-08T22:56:00.138Z"
   },
   {
    "duration": 4,
    "start_time": "2024-06-08T22:56:00.152Z"
   },
   {
    "duration": 4,
    "start_time": "2024-06-08T22:56:00.160Z"
   },
   {
    "duration": 4,
    "start_time": "2024-06-08T22:56:00.214Z"
   },
   {
    "duration": 3,
    "start_time": "2024-06-08T22:56:00.222Z"
   },
   {
    "duration": 4,
    "start_time": "2024-06-08T22:56:00.228Z"
   },
   {
    "duration": 6,
    "start_time": "2024-06-08T22:56:00.236Z"
   },
   {
    "duration": 5,
    "start_time": "2024-06-08T22:56:00.245Z"
   },
   {
    "duration": 951,
    "start_time": "2024-06-08T23:06:40.963Z"
   },
   {
    "duration": 940,
    "start_time": "2024-06-08T23:10:34.391Z"
   },
   {
    "duration": 47,
    "start_time": "2024-06-08T23:17:37.457Z"
   },
   {
    "duration": 63,
    "start_time": "2024-06-08T23:18:51.998Z"
   },
   {
    "duration": 10,
    "start_time": "2024-06-08T23:19:50.640Z"
   },
   {
    "duration": 42,
    "start_time": "2024-06-08T23:19:58.984Z"
   },
   {
    "duration": 50,
    "start_time": "2024-06-08T23:20:24.428Z"
   },
   {
    "duration": 6,
    "start_time": "2024-06-08T23:22:55.285Z"
   },
   {
    "duration": 50,
    "start_time": "2024-06-08T23:23:10.570Z"
   },
   {
    "duration": 45,
    "start_time": "2024-06-08T23:23:25.837Z"
   },
   {
    "duration": 13,
    "start_time": "2024-06-08T23:24:05.110Z"
   },
   {
    "duration": 30,
    "start_time": "2024-06-08T23:27:25.978Z"
   },
   {
    "duration": 962,
    "start_time": "2024-06-08T23:29:50.599Z"
   },
   {
    "duration": 971,
    "start_time": "2024-06-08T23:30:52.521Z"
   },
   {
    "duration": 969,
    "start_time": "2024-06-08T23:31:57.922Z"
   },
   {
    "duration": 1766,
    "start_time": "2024-06-08T23:34:10.063Z"
   },
   {
    "duration": 951,
    "start_time": "2024-06-08T23:35:02.250Z"
   },
   {
    "duration": 1422,
    "start_time": "2024-06-08T23:37:15.097Z"
   },
   {
    "duration": 1457,
    "start_time": "2024-06-08T23:43:10.832Z"
   },
   {
    "duration": 2632,
    "start_time": "2024-06-08T23:45:20.039Z"
   },
   {
    "duration": 2658,
    "start_time": "2024-06-08T23:47:55.090Z"
   },
   {
    "duration": 24,
    "start_time": "2024-06-09T00:10:06.145Z"
   },
   {
    "duration": 38,
    "start_time": "2024-06-09T00:10:14.174Z"
   },
   {
    "duration": 238,
    "start_time": "2024-06-09T00:18:49.785Z"
   },
   {
    "duration": 7,
    "start_time": "2024-06-09T00:22:11.929Z"
   },
   {
    "duration": 120,
    "start_time": "2024-06-09T00:22:49.097Z"
   },
   {
    "duration": 103,
    "start_time": "2024-06-09T00:23:08.211Z"
   },
   {
    "duration": 767,
    "start_time": "2024-06-09T00:27:09.356Z"
   },
   {
    "duration": 808,
    "start_time": "2024-06-09T00:27:41.383Z"
   },
   {
    "duration": 777,
    "start_time": "2024-06-09T00:27:56.319Z"
   },
   {
    "duration": 784,
    "start_time": "2024-06-09T00:28:08.842Z"
   },
   {
    "duration": 767,
    "start_time": "2024-06-09T00:33:27.978Z"
   },
   {
    "duration": 788,
    "start_time": "2024-06-09T00:34:27.418Z"
   },
   {
    "duration": 892,
    "start_time": "2024-06-09T00:36:27.070Z"
   },
   {
    "duration": 829,
    "start_time": "2024-06-09T00:37:23.961Z"
   },
   {
    "duration": 747,
    "start_time": "2024-06-09T00:41:17.654Z"
   },
   {
    "duration": 16,
    "start_time": "2024-06-09T23:10:35.094Z"
   },
   {
    "duration": 6,
    "start_time": "2024-06-09T23:12:11.861Z"
   },
   {
    "duration": 8,
    "start_time": "2024-06-09T23:12:22.946Z"
   },
   {
    "duration": 9,
    "start_time": "2024-06-09T23:12:32.518Z"
   },
   {
    "duration": 9,
    "start_time": "2024-06-09T23:18:16.482Z"
   },
   {
    "duration": 9,
    "start_time": "2024-06-09T23:22:13.285Z"
   },
   {
    "duration": 17,
    "start_time": "2024-06-09T23:26:32.861Z"
   },
   {
    "duration": 17,
    "start_time": "2024-06-09T23:29:14.801Z"
   },
   {
    "duration": 14,
    "start_time": "2024-06-09T23:33:58.107Z"
   },
   {
    "duration": 6,
    "start_time": "2024-06-09T23:58:22.424Z"
   },
   {
    "duration": 11,
    "start_time": "2024-06-09T23:58:52.582Z"
   },
   {
    "duration": 11,
    "start_time": "2024-06-09T23:59:16.574Z"
   },
   {
    "duration": 446,
    "start_time": "2024-06-10T02:03:32.242Z"
   },
   {
    "duration": 88,
    "start_time": "2024-06-10T02:05:25.120Z"
   },
   {
    "duration": 7,
    "start_time": "2024-06-10T02:06:05.951Z"
   },
   {
    "duration": 6,
    "start_time": "2024-06-10T02:07:29.092Z"
   },
   {
    "duration": 81,
    "start_time": "2024-06-10T02:07:42.119Z"
   },
   {
    "duration": 9,
    "start_time": "2024-06-10T02:07:56.838Z"
   },
   {
    "duration": 8,
    "start_time": "2024-06-10T02:22:22.443Z"
   },
   {
    "duration": 15,
    "start_time": "2024-06-10T02:22:53.980Z"
   },
   {
    "duration": 12,
    "start_time": "2024-06-10T02:23:50.653Z"
   },
   {
    "duration": 10,
    "start_time": "2024-06-10T02:24:24.297Z"
   },
   {
    "duration": 7,
    "start_time": "2024-06-10T02:24:48.047Z"
   },
   {
    "duration": 22,
    "start_time": "2024-06-10T02:34:00.000Z"
   },
   {
    "duration": 28,
    "start_time": "2024-06-10T02:35:06.790Z"
   },
   {
    "duration": 12,
    "start_time": "2024-06-10T02:44:11.197Z"
   },
   {
    "duration": 64,
    "start_time": "2024-06-10T02:51:50.792Z"
   },
   {
    "duration": 52,
    "start_time": "2024-06-10T02:52:03.952Z"
   },
   {
    "duration": 17,
    "start_time": "2024-06-10T02:53:48.939Z"
   },
   {
    "duration": 18,
    "start_time": "2024-06-10T02:54:50.335Z"
   },
   {
    "duration": 318,
    "start_time": "2024-06-10T06:35:33.231Z"
   },
   {
    "duration": 472,
    "start_time": "2024-06-10T06:35:48.513Z"
   },
   {
    "duration": 1701,
    "start_time": "2024-06-10T06:35:48.988Z"
   },
   {
    "duration": 23,
    "start_time": "2024-06-10T06:35:50.692Z"
   },
   {
    "duration": 18,
    "start_time": "2024-06-10T06:35:50.735Z"
   },
   {
    "duration": 16,
    "start_time": "2024-06-10T06:35:50.756Z"
   },
   {
    "duration": 15,
    "start_time": "2024-06-10T06:35:50.775Z"
   },
   {
    "duration": 78,
    "start_time": "2024-06-10T06:35:50.793Z"
   },
   {
    "duration": 329,
    "start_time": "2024-06-10T06:35:50.873Z"
   },
   {
    "duration": 30,
    "start_time": "2024-06-10T06:35:51.205Z"
   },
   {
    "duration": 201,
    "start_time": "2024-06-10T06:35:51.241Z"
   },
   {
    "duration": 171,
    "start_time": "2024-06-10T06:35:51.445Z"
   },
   {
    "duration": 61,
    "start_time": "2024-06-10T06:35:51.618Z"
   },
   {
    "duration": 21,
    "start_time": "2024-06-10T06:35:51.682Z"
   },
   {
    "duration": 38,
    "start_time": "2024-06-10T06:35:51.706Z"
   },
   {
    "duration": 45,
    "start_time": "2024-06-10T06:35:51.747Z"
   },
   {
    "duration": 52,
    "start_time": "2024-06-10T06:35:51.795Z"
   },
   {
    "duration": 6,
    "start_time": "2024-06-10T06:35:51.850Z"
   },
   {
    "duration": 5,
    "start_time": "2024-06-10T06:35:51.859Z"
   },
   {
    "duration": 7,
    "start_time": "2024-06-10T06:35:51.868Z"
   },
   {
    "duration": 5,
    "start_time": "2024-06-10T06:35:51.878Z"
   },
   {
    "duration": 1321,
    "start_time": "2024-06-10T06:35:51.937Z"
   },
   {
    "duration": 711,
    "start_time": "2024-06-10T06:35:53.261Z"
   },
   {
    "duration": 14,
    "start_time": "2024-06-10T06:35:53.975Z"
   },
   {
    "duration": 44,
    "start_time": "2024-06-10T06:35:53.992Z"
   },
   {
    "duration": 11,
    "start_time": "2024-06-10T06:35:54.039Z"
   },
   {
    "duration": 9,
    "start_time": "2024-06-10T06:35:54.054Z"
   },
   {
    "duration": 7,
    "start_time": "2024-06-10T06:35:54.067Z"
   },
   {
    "duration": 61,
    "start_time": "2024-06-10T06:35:54.083Z"
   },
   {
    "duration": 16,
    "start_time": "2024-06-10T06:35:54.147Z"
   },
   {
    "duration": 3,
    "start_time": "2024-06-10T06:35:54.166Z"
   },
   {
    "duration": 4,
    "start_time": "2024-06-10T06:35:54.172Z"
   },
   {
    "duration": 3,
    "start_time": "2024-06-10T06:35:54.179Z"
   },
   {
    "duration": 49,
    "start_time": "2024-06-10T06:35:54.185Z"
   },
   {
    "duration": 3,
    "start_time": "2024-06-10T06:35:54.238Z"
   },
   {
    "duration": 9,
    "start_time": "2024-06-10T06:42:27.251Z"
   },
   {
    "duration": 9,
    "start_time": "2024-06-10T06:44:50.789Z"
   },
   {
    "duration": 6,
    "start_time": "2024-06-10T06:49:41.968Z"
   },
   {
    "duration": 9,
    "start_time": "2024-06-10T06:49:56.189Z"
   },
   {
    "duration": 7,
    "start_time": "2024-06-10T06:51:25.797Z"
   },
   {
    "duration": 10,
    "start_time": "2024-06-10T06:54:40.101Z"
   },
   {
    "duration": 28,
    "start_time": "2024-06-10T06:55:13.403Z"
   },
   {
    "duration": 31,
    "start_time": "2024-06-10T06:56:18.055Z"
   },
   {
    "duration": 45,
    "start_time": "2024-06-10T06:56:38.836Z"
   },
   {
    "duration": 322,
    "start_time": "2024-06-10T07:01:47.449Z"
   },
   {
    "duration": 26,
    "start_time": "2024-06-10T07:02:16.444Z"
   },
   {
    "duration": 54,
    "start_time": "2024-06-10T07:03:02.893Z"
   },
   {
    "duration": 47,
    "start_time": "2024-06-10T07:03:57.624Z"
   },
   {
    "duration": 348,
    "start_time": "2024-06-10T07:34:08.695Z"
   },
   {
    "duration": 349,
    "start_time": "2024-06-10T07:35:11.543Z"
   },
   {
    "duration": 515,
    "start_time": "2024-06-10T07:50:46.759Z"
   },
   {
    "duration": 30,
    "start_time": "2024-06-10T07:53:08.636Z"
   },
   {
    "duration": 14,
    "start_time": "2024-06-10T18:37:14.717Z"
   },
   {
    "duration": 323,
    "start_time": "2024-06-10T18:43:42.980Z"
   },
   {
    "duration": 461,
    "start_time": "2024-06-10T18:44:21.743Z"
   },
   {
    "duration": 1733,
    "start_time": "2024-06-10T18:44:22.207Z"
   },
   {
    "duration": 21,
    "start_time": "2024-06-10T18:44:23.943Z"
   },
   {
    "duration": 19,
    "start_time": "2024-06-10T18:44:23.967Z"
   },
   {
    "duration": 52,
    "start_time": "2024-06-10T18:44:23.991Z"
   },
   {
    "duration": 21,
    "start_time": "2024-06-10T18:44:24.046Z"
   },
   {
    "duration": 71,
    "start_time": "2024-06-10T18:44:24.072Z"
   },
   {
    "duration": 324,
    "start_time": "2024-06-10T18:44:24.147Z"
   },
   {
    "duration": 13,
    "start_time": "2024-06-10T18:44:24.474Z"
   },
   {
    "duration": 191,
    "start_time": "2024-06-10T18:44:24.489Z"
   },
   {
    "duration": 183,
    "start_time": "2024-06-10T18:44:24.683Z"
   },
   {
    "duration": 43,
    "start_time": "2024-06-10T18:44:24.870Z"
   },
   {
    "duration": 23,
    "start_time": "2024-06-10T18:44:24.933Z"
   },
   {
    "duration": 13,
    "start_time": "2024-06-10T18:44:24.962Z"
   },
   {
    "duration": 83,
    "start_time": "2024-06-10T18:44:24.978Z"
   },
   {
    "duration": 29,
    "start_time": "2024-06-10T18:44:25.064Z"
   },
   {
    "duration": 12,
    "start_time": "2024-06-10T18:44:25.098Z"
   },
   {
    "duration": 8,
    "start_time": "2024-06-10T18:44:25.136Z"
   },
   {
    "duration": 11,
    "start_time": "2024-06-10T18:44:25.152Z"
   },
   {
    "duration": 7,
    "start_time": "2024-06-10T18:44:25.167Z"
   },
   {
    "duration": 1465,
    "start_time": "2024-06-10T18:44:25.179Z"
   },
   {
    "duration": 776,
    "start_time": "2024-06-10T18:44:26.646Z"
   },
   {
    "duration": 12,
    "start_time": "2024-06-10T18:44:27.435Z"
   },
   {
    "duration": 10,
    "start_time": "2024-06-10T18:44:27.451Z"
   },
   {
    "duration": 10,
    "start_time": "2024-06-10T18:44:27.464Z"
   },
   {
    "duration": 11,
    "start_time": "2024-06-10T18:44:27.477Z"
   },
   {
    "duration": 47,
    "start_time": "2024-06-10T18:44:27.491Z"
   },
   {
    "duration": 22,
    "start_time": "2024-06-10T18:44:27.540Z"
   },
   {
    "duration": 7,
    "start_time": "2024-06-10T18:44:27.565Z"
   },
   {
    "duration": 83,
    "start_time": "2024-06-10T18:44:27.575Z"
   },
   {
    "duration": 73,
    "start_time": "2024-06-10T18:44:27.661Z"
   },
   {
    "duration": 12,
    "start_time": "2024-06-10T18:44:27.737Z"
   },
   {
    "duration": 4,
    "start_time": "2024-06-10T18:44:27.752Z"
   },
   {
    "duration": 7,
    "start_time": "2024-06-10T18:44:27.760Z"
   },
   {
    "duration": 11,
    "start_time": "2024-06-10T18:48:44.739Z"
   },
   {
    "duration": 10,
    "start_time": "2024-06-10T18:48:57.405Z"
   },
   {
    "duration": 10,
    "start_time": "2024-06-10T18:49:02.147Z"
   },
   {
    "duration": 10,
    "start_time": "2024-06-10T18:49:19.474Z"
   },
   {
    "duration": 11,
    "start_time": "2024-06-10T18:55:10.326Z"
   },
   {
    "duration": 1213,
    "start_time": "2024-06-10T19:04:29.380Z"
   },
   {
    "duration": 23,
    "start_time": "2024-06-10T19:26:34.756Z"
   },
   {
    "duration": 101,
    "start_time": "2024-06-10T19:27:02.166Z"
   },
   {
    "duration": 106,
    "start_time": "2024-06-10T19:27:24.628Z"
   },
   {
    "duration": 106,
    "start_time": "2024-06-10T19:29:00.567Z"
   },
   {
    "duration": 108,
    "start_time": "2024-06-10T19:41:22.191Z"
   },
   {
    "duration": 105,
    "start_time": "2024-06-10T19:47:01.590Z"
   },
   {
    "duration": 104,
    "start_time": "2024-06-10T19:48:21.439Z"
   },
   {
    "duration": 107,
    "start_time": "2024-06-10T20:01:02.339Z"
   },
   {
    "duration": 108,
    "start_time": "2024-06-10T20:01:31.255Z"
   },
   {
    "duration": 271,
    "start_time": "2024-06-10T20:02:08.426Z"
   },
   {
    "duration": 131,
    "start_time": "2024-06-10T20:02:29.938Z"
   },
   {
    "duration": 104,
    "start_time": "2024-06-10T20:31:09.673Z"
   },
   {
    "duration": 109,
    "start_time": "2024-06-10T20:31:21.932Z"
   },
   {
    "duration": 8,
    "start_time": "2024-06-10T20:32:04.403Z"
   },
   {
    "duration": 104,
    "start_time": "2024-06-10T20:32:08.554Z"
   },
   {
    "duration": 106,
    "start_time": "2024-06-10T20:52:12.595Z"
   },
   {
    "duration": 109,
    "start_time": "2024-06-10T21:06:12.843Z"
   },
   {
    "duration": 106,
    "start_time": "2024-06-10T21:06:48.463Z"
   },
   {
    "duration": 104,
    "start_time": "2024-06-10T21:07:31.090Z"
   },
   {
    "duration": 104,
    "start_time": "2024-06-10T21:08:27.084Z"
   },
   {
    "duration": 104,
    "start_time": "2024-06-10T21:08:38.481Z"
   },
   {
    "duration": 103,
    "start_time": "2024-06-10T21:08:56.902Z"
   },
   {
    "duration": 107,
    "start_time": "2024-06-10T21:14:57.436Z"
   },
   {
    "duration": 771,
    "start_time": "2024-06-10T21:18:23.437Z"
   },
   {
    "duration": 39,
    "start_time": "2024-06-10T21:18:47.005Z"
   },
   {
    "duration": 61,
    "start_time": "2024-06-10T21:19:33.252Z"
   },
   {
    "duration": 166,
    "start_time": "2024-06-10T23:50:35.243Z"
   },
   {
    "duration": 61,
    "start_time": "2024-06-10T23:53:00.820Z"
   },
   {
    "duration": 8,
    "start_time": "2024-06-10T23:54:43.604Z"
   },
   {
    "duration": 9,
    "start_time": "2024-06-10T23:55:02.848Z"
   },
   {
    "duration": 10,
    "start_time": "2024-06-10T23:56:24.109Z"
   },
   {
    "duration": 27,
    "start_time": "2024-06-10T23:56:47.095Z"
   },
   {
    "duration": 3882,
    "start_time": "2024-06-10T23:59:34.100Z"
   },
   {
    "duration": 699,
    "start_time": "2024-06-10T23:59:47.931Z"
   },
   {
    "duration": 1559,
    "start_time": "2024-06-10T23:59:48.635Z"
   },
   {
    "duration": 22,
    "start_time": "2024-06-10T23:59:50.199Z"
   },
   {
    "duration": 19,
    "start_time": "2024-06-10T23:59:50.235Z"
   },
   {
    "duration": 15,
    "start_time": "2024-06-10T23:59:50.258Z"
   },
   {
    "duration": 16,
    "start_time": "2024-06-10T23:59:50.276Z"
   },
   {
    "duration": 74,
    "start_time": "2024-06-10T23:59:50.294Z"
   },
   {
    "duration": 331,
    "start_time": "2024-06-10T23:59:50.370Z"
   },
   {
    "duration": 15,
    "start_time": "2024-06-10T23:59:50.703Z"
   },
   {
    "duration": 194,
    "start_time": "2024-06-10T23:59:50.735Z"
   },
   {
    "duration": 163,
    "start_time": "2024-06-10T23:59:50.934Z"
   },
   {
    "duration": 57,
    "start_time": "2024-06-10T23:59:51.100Z"
   },
   {
    "duration": 21,
    "start_time": "2024-06-10T23:59:51.160Z"
   },
   {
    "duration": 13,
    "start_time": "2024-06-10T23:59:51.188Z"
   },
   {
    "duration": 73,
    "start_time": "2024-06-10T23:59:51.204Z"
   },
   {
    "duration": 25,
    "start_time": "2024-06-10T23:59:51.280Z"
   },
   {
    "duration": 6,
    "start_time": "2024-06-10T23:59:51.335Z"
   },
   {
    "duration": 5,
    "start_time": "2024-06-10T23:59:51.344Z"
   },
   {
    "duration": 7,
    "start_time": "2024-06-10T23:59:51.352Z"
   },
   {
    "duration": 5,
    "start_time": "2024-06-10T23:59:51.362Z"
   },
   {
    "duration": 1366,
    "start_time": "2024-06-10T23:59:51.370Z"
   },
   {
    "duration": 764,
    "start_time": "2024-06-10T23:59:52.739Z"
   },
   {
    "duration": 13,
    "start_time": "2024-06-10T23:59:53.506Z"
   },
   {
    "duration": 9,
    "start_time": "2024-06-10T23:59:53.535Z"
   },
   {
    "duration": 9,
    "start_time": "2024-06-10T23:59:53.547Z"
   },
   {
    "duration": 10,
    "start_time": "2024-06-10T23:59:53.560Z"
   },
   {
    "duration": 6,
    "start_time": "2024-06-10T23:59:53.573Z"
   },
   {
    "duration": 66,
    "start_time": "2024-06-10T23:59:53.582Z"
   },
   {
    "duration": 7,
    "start_time": "2024-06-10T23:59:53.651Z"
   },
   {
    "duration": 74,
    "start_time": "2024-06-10T23:59:53.661Z"
   },
   {
    "duration": 52,
    "start_time": "2024-06-10T23:59:53.737Z"
   },
   {
    "duration": 52,
    "start_time": "2024-06-10T23:59:53.792Z"
   },
   {
    "duration": 153,
    "start_time": "2024-06-10T23:59:53.848Z"
   },
   {
    "duration": 840,
    "start_time": "2024-06-10T23:59:54.004Z"
   },
   {
    "duration": 366,
    "start_time": "2024-06-10T23:59:54.847Z"
   },
   {
    "duration": 306,
    "start_time": "2024-06-11T03:38:12.593Z"
   },
   {
    "duration": 4291,
    "start_time": "2024-06-11T03:38:32.551Z"
   },
   {
    "duration": 1702,
    "start_time": "2024-06-11T03:38:36.846Z"
   },
   {
    "duration": 22,
    "start_time": "2024-06-11T03:38:38.551Z"
   },
   {
    "duration": 36,
    "start_time": "2024-06-11T03:38:38.576Z"
   },
   {
    "duration": 16,
    "start_time": "2024-06-11T03:38:38.615Z"
   },
   {
    "duration": 16,
    "start_time": "2024-06-11T03:38:38.634Z"
   },
   {
    "duration": 81,
    "start_time": "2024-06-11T03:38:38.653Z"
   },
   {
    "duration": 341,
    "start_time": "2024-06-11T03:38:38.737Z"
   },
   {
    "duration": 34,
    "start_time": "2024-06-11T03:38:39.082Z"
   },
   {
    "duration": 208,
    "start_time": "2024-06-11T03:38:39.124Z"
   },
   {
    "duration": 181,
    "start_time": "2024-06-11T03:38:39.335Z"
   },
   {
    "duration": 47,
    "start_time": "2024-06-11T03:38:39.519Z"
   },
   {
    "duration": 48,
    "start_time": "2024-06-11T03:38:39.569Z"
   },
   {
    "duration": 14,
    "start_time": "2024-06-11T03:38:39.620Z"
   },
   {
    "duration": 75,
    "start_time": "2024-06-11T03:38:39.637Z"
   },
   {
    "duration": 27,
    "start_time": "2024-06-11T03:38:39.715Z"
   },
   {
    "duration": 6,
    "start_time": "2024-06-11T03:38:39.745Z"
   },
   {
    "duration": 5,
    "start_time": "2024-06-11T03:38:39.755Z"
   },
   {
    "duration": 53,
    "start_time": "2024-06-11T03:38:39.765Z"
   },
   {
    "duration": 5,
    "start_time": "2024-06-11T03:38:39.821Z"
   },
   {
    "duration": 1371,
    "start_time": "2024-06-11T03:38:39.830Z"
   },
   {
    "duration": 767,
    "start_time": "2024-06-11T03:38:41.204Z"
   },
   {
    "duration": 37,
    "start_time": "2024-06-11T03:38:41.975Z"
   },
   {
    "duration": 10,
    "start_time": "2024-06-11T03:38:42.016Z"
   },
   {
    "duration": 9,
    "start_time": "2024-06-11T03:38:42.030Z"
   },
   {
    "duration": 10,
    "start_time": "2024-06-11T03:38:42.043Z"
   },
   {
    "duration": 7,
    "start_time": "2024-06-11T03:38:42.057Z"
   },
   {
    "duration": 18,
    "start_time": "2024-06-11T03:38:42.117Z"
   },
   {
    "duration": 8,
    "start_time": "2024-06-11T03:38:42.138Z"
   },
   {
    "duration": 83,
    "start_time": "2024-06-11T03:38:42.149Z"
   },
   {
    "duration": 50,
    "start_time": "2024-06-11T03:38:42.235Z"
   },
   {
    "duration": 11,
    "start_time": "2024-06-11T03:38:42.311Z"
   },
   {
    "duration": 115,
    "start_time": "2024-06-11T03:38:42.325Z"
   },
   {
    "duration": 843,
    "start_time": "2024-06-11T03:38:42.443Z"
   },
   {
    "duration": 9,
    "start_time": "2024-06-11T03:38:43.288Z"
   },
   {
    "duration": 73,
    "start_time": "2024-06-11T03:39:06.966Z"
   },
   {
    "duration": 4,
    "start_time": "2024-06-11T03:43:12.321Z"
   },
   {
    "duration": 8,
    "start_time": "2024-06-11T03:46:00.571Z"
   },
   {
    "duration": 10,
    "start_time": "2024-06-11T03:46:28.219Z"
   },
   {
    "duration": 10,
    "start_time": "2024-06-11T03:46:38.508Z"
   },
   {
    "duration": 25,
    "start_time": "2024-06-11T03:47:01.067Z"
   },
   {
    "duration": 25,
    "start_time": "2024-06-11T03:47:24.703Z"
   },
   {
    "duration": 25,
    "start_time": "2024-06-11T03:48:55.876Z"
   },
   {
    "duration": 7,
    "start_time": "2024-06-11T03:50:33.664Z"
   },
   {
    "duration": 6,
    "start_time": "2024-06-11T03:51:11.440Z"
   },
   {
    "duration": 124,
    "start_time": "2024-06-11T03:56:01.485Z"
   },
   {
    "duration": 109,
    "start_time": "2024-06-11T03:57:52.471Z"
   },
   {
    "duration": 128,
    "start_time": "2024-06-11T03:58:09.046Z"
   },
   {
    "duration": 41,
    "start_time": "2024-06-11T04:02:10.736Z"
   },
   {
    "duration": 118,
    "start_time": "2024-06-11T04:16:21.174Z"
   },
   {
    "duration": 461,
    "start_time": "2024-06-11T06:30:40.093Z"
   },
   {
    "duration": 256,
    "start_time": "2024-06-11T06:32:50.194Z"
   },
   {
    "duration": 319,
    "start_time": "2024-06-11T06:34:35.622Z"
   },
   {
    "duration": 608,
    "start_time": "2024-06-11T06:36:36.555Z"
   },
   {
    "duration": 91,
    "start_time": "2024-06-11T06:37:23.996Z"
   },
   {
    "duration": 446,
    "start_time": "2024-06-11T06:37:56.508Z"
   },
   {
    "duration": 756,
    "start_time": "2024-06-11T06:38:52.742Z"
   },
   {
    "duration": 952,
    "start_time": "2024-06-11T06:40:00.709Z"
   },
   {
    "duration": 304,
    "start_time": "2024-06-11T06:41:15.764Z"
   },
   {
    "duration": 172,
    "start_time": "2024-06-11T06:42:30.334Z"
   },
   {
    "duration": 1521,
    "start_time": "2024-06-11T06:43:17.166Z"
   },
   {
    "duration": 1487,
    "start_time": "2024-06-11T06:44:11.033Z"
   },
   {
    "duration": 10980,
    "start_time": "2024-06-11T06:47:38.891Z"
   },
   {
    "duration": 3660,
    "start_time": "2024-06-11T06:49:20.305Z"
   },
   {
    "duration": 256,
    "start_time": "2024-06-11T06:50:58.674Z"
   },
   {
    "duration": 4717,
    "start_time": "2024-06-13T00:14:01.161Z"
   },
   {
    "duration": 1744,
    "start_time": "2024-06-13T00:14:05.882Z"
   },
   {
    "duration": 29,
    "start_time": "2024-06-13T00:14:07.631Z"
   },
   {
    "duration": 23,
    "start_time": "2024-06-13T00:14:07.665Z"
   },
   {
    "duration": 43,
    "start_time": "2024-06-13T00:14:07.692Z"
   },
   {
    "duration": 19,
    "start_time": "2024-06-13T00:14:07.741Z"
   },
   {
    "duration": 80,
    "start_time": "2024-06-13T00:14:07.764Z"
   },
   {
    "duration": 359,
    "start_time": "2024-06-13T00:14:07.850Z"
   },
   {
    "duration": 22,
    "start_time": "2024-06-13T00:14:08.213Z"
   },
   {
    "duration": 210,
    "start_time": "2024-06-13T00:14:08.243Z"
   },
   {
    "duration": 186,
    "start_time": "2024-06-13T00:14:08.456Z"
   },
   {
    "duration": 54,
    "start_time": "2024-06-13T00:14:08.645Z"
   },
   {
    "duration": 41,
    "start_time": "2024-06-13T00:14:08.702Z"
   },
   {
    "duration": 18,
    "start_time": "2024-06-13T00:14:08.747Z"
   },
   {
    "duration": 94,
    "start_time": "2024-06-13T00:14:08.772Z"
   },
   {
    "duration": 58,
    "start_time": "2024-06-13T00:14:08.870Z"
   },
   {
    "duration": 6,
    "start_time": "2024-06-13T00:14:08.932Z"
   },
   {
    "duration": 6,
    "start_time": "2024-06-13T00:14:08.942Z"
   },
   {
    "duration": 7,
    "start_time": "2024-06-13T00:14:08.952Z"
   },
   {
    "duration": 6,
    "start_time": "2024-06-13T00:14:08.963Z"
   },
   {
    "duration": 1639,
    "start_time": "2024-06-13T00:14:08.972Z"
   },
   {
    "duration": 814,
    "start_time": "2024-06-13T00:14:10.614Z"
   },
   {
    "duration": 14,
    "start_time": "2024-06-13T00:14:11.431Z"
   },
   {
    "duration": 11,
    "start_time": "2024-06-13T00:14:11.448Z"
   },
   {
    "duration": 10,
    "start_time": "2024-06-13T00:14:11.463Z"
   },
   {
    "duration": 53,
    "start_time": "2024-06-13T00:14:11.477Z"
   },
   {
    "duration": 8,
    "start_time": "2024-06-13T00:14:11.534Z"
   },
   {
    "duration": 19,
    "start_time": "2024-06-13T00:14:11.550Z"
   },
   {
    "duration": 9,
    "start_time": "2024-06-13T00:14:11.573Z"
   },
   {
    "duration": 56,
    "start_time": "2024-06-13T00:14:11.624Z"
   },
   {
    "duration": 88,
    "start_time": "2024-06-13T00:14:11.684Z"
   },
   {
    "duration": 11,
    "start_time": "2024-06-13T00:14:11.775Z"
   },
   {
    "duration": 133,
    "start_time": "2024-06-13T00:14:11.790Z"
   },
   {
    "duration": 844,
    "start_time": "2024-06-13T00:14:11.926Z"
   },
   {
    "duration": 7,
    "start_time": "2024-06-13T00:14:12.776Z"
   },
   {
    "duration": 8,
    "start_time": "2024-06-13T00:14:12.787Z"
   },
   {
    "duration": 578,
    "start_time": "2024-06-13T00:14:12.799Z"
   },
   {
    "duration": 345,
    "start_time": "2024-06-13T00:14:13.381Z"
   },
   {
    "duration": 369,
    "start_time": "2024-06-13T00:14:13.730Z"
   },
   {
    "duration": 740,
    "start_time": "2024-06-13T00:14:14.102Z"
   },
   {
    "duration": 423,
    "start_time": "2024-06-13T00:14:14.847Z"
   },
   {
    "duration": 1266,
    "start_time": "2024-06-13T00:14:15.274Z"
   },
   {
    "duration": 0,
    "start_time": "2024-06-13T00:14:16.545Z"
   },
   {
    "duration": 0,
    "start_time": "2024-06-13T00:14:16.547Z"
   },
   {
    "duration": 0,
    "start_time": "2024-06-13T00:14:16.551Z"
   },
   {
    "duration": 0,
    "start_time": "2024-06-13T00:14:16.552Z"
   },
   {
    "duration": 0,
    "start_time": "2024-06-13T00:14:16.557Z"
   },
   {
    "duration": 15,
    "start_time": "2024-06-13T00:20:01.796Z"
   },
   {
    "duration": 16,
    "start_time": "2024-06-13T00:21:41.054Z"
   },
   {
    "duration": 19,
    "start_time": "2024-06-13T00:22:13.428Z"
   },
   {
    "duration": 756,
    "start_time": "2024-06-13T00:24:28.417Z"
   },
   {
    "duration": 1679,
    "start_time": "2024-06-13T00:24:29.178Z"
   },
   {
    "duration": 25,
    "start_time": "2024-06-13T00:24:30.860Z"
   },
   {
    "duration": 41,
    "start_time": "2024-06-13T00:24:30.889Z"
   },
   {
    "duration": 17,
    "start_time": "2024-06-13T00:24:30.933Z"
   },
   {
    "duration": 18,
    "start_time": "2024-06-13T00:24:30.953Z"
   },
   {
    "duration": 84,
    "start_time": "2024-06-13T00:24:30.975Z"
   },
   {
    "duration": 419,
    "start_time": "2024-06-13T00:24:31.063Z"
   },
   {
    "duration": 37,
    "start_time": "2024-06-13T00:24:31.486Z"
   },
   {
    "duration": 234,
    "start_time": "2024-06-13T00:24:31.531Z"
   },
   {
    "duration": 200,
    "start_time": "2024-06-13T00:24:31.769Z"
   },
   {
    "duration": 72,
    "start_time": "2024-06-13T00:24:31.972Z"
   },
   {
    "duration": 27,
    "start_time": "2024-06-13T00:24:32.047Z"
   },
   {
    "duration": 45,
    "start_time": "2024-06-13T00:24:32.078Z"
   },
   {
    "duration": 53,
    "start_time": "2024-06-13T00:24:32.127Z"
   },
   {
    "duration": 53,
    "start_time": "2024-06-13T00:24:32.184Z"
   },
   {
    "duration": 7,
    "start_time": "2024-06-13T00:24:32.240Z"
   },
   {
    "duration": 6,
    "start_time": "2024-06-13T00:24:32.251Z"
   },
   {
    "duration": 7,
    "start_time": "2024-06-13T00:24:32.262Z"
   },
   {
    "duration": 7,
    "start_time": "2024-06-13T00:24:32.324Z"
   },
   {
    "duration": 1480,
    "start_time": "2024-06-13T00:24:32.335Z"
   },
   {
    "duration": 750,
    "start_time": "2024-06-13T00:24:33.826Z"
   },
   {
    "duration": 14,
    "start_time": "2024-06-13T00:24:34.579Z"
   },
   {
    "duration": 29,
    "start_time": "2024-06-13T00:24:34.599Z"
   },
   {
    "duration": 9,
    "start_time": "2024-06-13T00:24:34.631Z"
   },
   {
    "duration": 11,
    "start_time": "2024-06-13T00:24:34.643Z"
   },
   {
    "duration": 8,
    "start_time": "2024-06-13T00:24:34.657Z"
   },
   {
    "duration": 62,
    "start_time": "2024-06-13T00:24:34.675Z"
   },
   {
    "duration": 10,
    "start_time": "2024-06-13T00:24:34.740Z"
   },
   {
    "duration": 78,
    "start_time": "2024-06-13T00:24:34.753Z"
   },
   {
    "duration": 54,
    "start_time": "2024-06-13T00:24:34.834Z"
   },
   {
    "duration": 35,
    "start_time": "2024-06-13T00:24:34.891Z"
   },
   {
    "duration": 124,
    "start_time": "2024-06-13T00:24:34.930Z"
   },
   {
    "duration": 847,
    "start_time": "2024-06-13T00:24:35.058Z"
   },
   {
    "duration": 15,
    "start_time": "2024-06-13T00:24:35.908Z"
   },
   {
    "duration": 7,
    "start_time": "2024-06-13T00:24:35.927Z"
   },
   {
    "duration": 591,
    "start_time": "2024-06-13T00:24:35.939Z"
   },
   {
    "duration": 276,
    "start_time": "2024-06-13T00:24:36.532Z"
   },
   {
    "duration": 343,
    "start_time": "2024-06-13T00:24:36.812Z"
   },
   {
    "duration": 661,
    "start_time": "2024-06-13T00:24:37.158Z"
   },
   {
    "duration": 416,
    "start_time": "2024-06-13T00:24:37.825Z"
   },
   {
    "duration": 1203,
    "start_time": "2024-06-13T00:24:38.245Z"
   },
   {
    "duration": 0,
    "start_time": "2024-06-13T00:24:39.451Z"
   },
   {
    "duration": 0,
    "start_time": "2024-06-13T00:24:39.454Z"
   },
   {
    "duration": 0,
    "start_time": "2024-06-13T00:24:39.457Z"
   },
   {
    "duration": 0,
    "start_time": "2024-06-13T00:24:39.459Z"
   },
   {
    "duration": 0,
    "start_time": "2024-06-13T00:24:39.461Z"
   },
   {
    "duration": 14,
    "start_time": "2024-06-13T16:39:12.949Z"
   },
   {
    "duration": 6,
    "start_time": "2024-06-13T16:39:33.640Z"
   },
   {
    "duration": 4389,
    "start_time": "2024-06-13T16:39:45.060Z"
   },
   {
    "duration": 2109,
    "start_time": "2024-06-13T16:39:49.452Z"
   },
   {
    "duration": 23,
    "start_time": "2024-06-13T16:39:51.564Z"
   },
   {
    "duration": 40,
    "start_time": "2024-06-13T16:39:51.591Z"
   },
   {
    "duration": 16,
    "start_time": "2024-06-13T16:39:51.634Z"
   },
   {
    "duration": 15,
    "start_time": "2024-06-13T16:39:51.653Z"
   },
   {
    "duration": 81,
    "start_time": "2024-06-13T16:39:51.672Z"
   },
   {
    "duration": 335,
    "start_time": "2024-06-13T16:39:51.756Z"
   },
   {
    "duration": 37,
    "start_time": "2024-06-13T16:39:52.094Z"
   },
   {
    "duration": 179,
    "start_time": "2024-06-13T16:39:52.137Z"
   },
   {
    "duration": 156,
    "start_time": "2024-06-13T16:39:52.325Z"
   },
   {
    "duration": 58,
    "start_time": "2024-06-13T16:39:52.484Z"
   },
   {
    "duration": 22,
    "start_time": "2024-06-13T16:39:52.544Z"
   },
   {
    "duration": 13,
    "start_time": "2024-06-13T16:39:52.569Z"
   },
   {
    "duration": 72,
    "start_time": "2024-06-13T16:39:52.585Z"
   },
   {
    "duration": 23,
    "start_time": "2024-06-13T16:39:52.661Z"
   },
   {
    "duration": 6,
    "start_time": "2024-06-13T16:39:52.687Z"
   },
   {
    "duration": 6,
    "start_time": "2024-06-13T16:39:52.727Z"
   },
   {
    "duration": 7,
    "start_time": "2024-06-13T16:39:52.736Z"
   },
   {
    "duration": 6,
    "start_time": "2024-06-13T16:39:52.747Z"
   },
   {
    "duration": 1433,
    "start_time": "2024-06-13T16:39:52.756Z"
   },
   {
    "duration": 752,
    "start_time": "2024-06-13T16:39:54.192Z"
   },
   {
    "duration": 13,
    "start_time": "2024-06-13T16:39:54.947Z"
   },
   {
    "duration": 10,
    "start_time": "2024-06-13T16:39:54.962Z"
   },
   {
    "duration": 10,
    "start_time": "2024-06-13T16:39:54.975Z"
   },
   {
    "duration": 46,
    "start_time": "2024-06-13T16:39:54.988Z"
   },
   {
    "duration": 8,
    "start_time": "2024-06-13T16:39:55.037Z"
   },
   {
    "duration": 18,
    "start_time": "2024-06-13T16:39:55.053Z"
   },
   {
    "duration": 9,
    "start_time": "2024-06-13T16:39:55.074Z"
   },
   {
    "duration": 50,
    "start_time": "2024-06-13T16:39:55.127Z"
   },
   {
    "duration": 86,
    "start_time": "2024-06-13T16:39:55.180Z"
   },
   {
    "duration": 10,
    "start_time": "2024-06-13T16:39:55.269Z"
   },
   {
    "duration": 127,
    "start_time": "2024-06-13T16:39:55.282Z"
   },
   {
    "duration": 811,
    "start_time": "2024-06-13T16:39:55.412Z"
   },
   {
    "duration": 7,
    "start_time": "2024-06-13T16:39:56.227Z"
   },
   {
    "duration": 6,
    "start_time": "2024-06-13T16:39:56.238Z"
   },
   {
    "duration": 6,
    "start_time": "2024-06-13T16:39:59.371Z"
   },
   {
    "duration": 6,
    "start_time": "2024-06-13T16:40:10.014Z"
   },
   {
    "duration": 7,
    "start_time": "2024-06-13T16:52:53.158Z"
   },
   {
    "duration": 7,
    "start_time": "2024-06-13T16:54:54.167Z"
   },
   {
    "duration": 8,
    "start_time": "2024-06-13T16:56:54.977Z"
   },
   {
    "duration": 6,
    "start_time": "2024-06-13T16:58:15.878Z"
   },
   {
    "duration": 5,
    "start_time": "2024-06-13T16:59:45.788Z"
   },
   {
    "duration": 13,
    "start_time": "2024-06-13T17:25:23.942Z"
   },
   {
    "duration": 4801,
    "start_time": "2024-06-13T17:25:32.000Z"
   },
   {
    "duration": 1952,
    "start_time": "2024-06-13T17:25:36.805Z"
   },
   {
    "duration": 22,
    "start_time": "2024-06-13T17:25:38.760Z"
   },
   {
    "duration": 47,
    "start_time": "2024-06-13T17:25:38.787Z"
   },
   {
    "duration": 15,
    "start_time": "2024-06-13T17:25:38.841Z"
   },
   {
    "duration": 15,
    "start_time": "2024-06-13T17:25:38.860Z"
   },
   {
    "duration": 92,
    "start_time": "2024-06-13T17:25:38.879Z"
   },
   {
    "duration": 358,
    "start_time": "2024-06-13T17:25:38.975Z"
   },
   {
    "duration": 21,
    "start_time": "2024-06-13T17:25:39.341Z"
   },
   {
    "duration": 250,
    "start_time": "2024-06-13T17:25:39.369Z"
   },
   {
    "duration": 184,
    "start_time": "2024-06-13T17:25:39.623Z"
   },
   {
    "duration": 72,
    "start_time": "2024-06-13T17:25:39.810Z"
   },
   {
    "duration": 23,
    "start_time": "2024-06-13T17:25:39.885Z"
   },
   {
    "duration": 31,
    "start_time": "2024-06-13T17:25:39.912Z"
   },
   {
    "duration": 49,
    "start_time": "2024-06-13T17:25:39.946Z"
   },
   {
    "duration": 55,
    "start_time": "2024-06-13T17:25:39.998Z"
   },
   {
    "duration": 7,
    "start_time": "2024-06-13T17:25:40.057Z"
   },
   {
    "duration": 8,
    "start_time": "2024-06-13T17:25:40.070Z"
   },
   {
    "duration": 8,
    "start_time": "2024-06-13T17:25:40.081Z"
   },
   {
    "duration": 5,
    "start_time": "2024-06-13T17:25:40.133Z"
   },
   {
    "duration": 1501,
    "start_time": "2024-06-13T17:25:40.141Z"
   },
   {
    "duration": 890,
    "start_time": "2024-06-13T17:25:41.646Z"
   },
   {
    "duration": 16,
    "start_time": "2024-06-13T17:25:42.546Z"
   },
   {
    "duration": 10,
    "start_time": "2024-06-13T17:25:42.566Z"
   },
   {
    "duration": 9,
    "start_time": "2024-06-13T17:25:42.580Z"
   },
   {
    "duration": 42,
    "start_time": "2024-06-13T17:25:42.592Z"
   },
   {
    "duration": 10,
    "start_time": "2024-06-13T17:25:42.637Z"
   },
   {
    "duration": 18,
    "start_time": "2024-06-13T17:25:42.656Z"
   },
   {
    "duration": 10,
    "start_time": "2024-06-13T17:25:42.677Z"
   },
   {
    "duration": 102,
    "start_time": "2024-06-13T17:25:42.692Z"
   },
   {
    "duration": 80,
    "start_time": "2024-06-13T17:25:42.797Z"
   },
   {
    "duration": 13,
    "start_time": "2024-06-13T17:25:42.881Z"
   },
   {
    "duration": 149,
    "start_time": "2024-06-13T17:25:42.898Z"
   },
   {
    "duration": 827,
    "start_time": "2024-06-13T17:25:43.050Z"
   },
   {
    "duration": 8,
    "start_time": "2024-06-13T17:25:43.880Z"
   },
   {
    "duration": 7,
    "start_time": "2024-06-13T17:25:43.892Z"
   },
   {
    "duration": 7,
    "start_time": "2024-06-13T17:25:43.934Z"
   },
   {
    "duration": 342,
    "start_time": "2024-06-13T17:31:23.310Z"
   },
   {
    "duration": 752,
    "start_time": "2024-06-13T17:31:34.804Z"
   },
   {
    "duration": 1685,
    "start_time": "2024-06-13T17:31:35.561Z"
   },
   {
    "duration": 22,
    "start_time": "2024-06-13T17:31:37.250Z"
   },
   {
    "duration": 18,
    "start_time": "2024-06-13T17:31:37.277Z"
   },
   {
    "duration": 48,
    "start_time": "2024-06-13T17:31:37.298Z"
   },
   {
    "duration": 19,
    "start_time": "2024-06-13T17:31:37.349Z"
   },
   {
    "duration": 73,
    "start_time": "2024-06-13T17:31:37.370Z"
   },
   {
    "duration": 339,
    "start_time": "2024-06-13T17:31:37.446Z"
   },
   {
    "duration": 19,
    "start_time": "2024-06-13T17:31:37.788Z"
   },
   {
    "duration": 177,
    "start_time": "2024-06-13T17:31:37.832Z"
   },
   {
    "duration": 163,
    "start_time": "2024-06-13T17:31:38.012Z"
   },
   {
    "duration": 57,
    "start_time": "2024-06-13T17:31:38.177Z"
   },
   {
    "duration": 22,
    "start_time": "2024-06-13T17:31:38.237Z"
   },
   {
    "duration": 13,
    "start_time": "2024-06-13T17:31:38.262Z"
   },
   {
    "duration": 76,
    "start_time": "2024-06-13T17:31:38.280Z"
   },
   {
    "duration": 23,
    "start_time": "2024-06-13T17:31:38.360Z"
   },
   {
    "duration": 6,
    "start_time": "2024-06-13T17:31:38.386Z"
   },
   {
    "duration": 37,
    "start_time": "2024-06-13T17:31:38.396Z"
   },
   {
    "duration": 6,
    "start_time": "2024-06-13T17:31:38.437Z"
   },
   {
    "duration": 6,
    "start_time": "2024-06-13T17:31:38.446Z"
   },
   {
    "duration": 1361,
    "start_time": "2024-06-13T17:31:38.455Z"
   },
   {
    "duration": 757,
    "start_time": "2024-06-13T17:31:39.819Z"
   },
   {
    "duration": 14,
    "start_time": "2024-06-13T17:31:40.579Z"
   },
   {
    "duration": 9,
    "start_time": "2024-06-13T17:31:40.596Z"
   },
   {
    "duration": 9,
    "start_time": "2024-06-13T17:31:40.634Z"
   },
   {
    "duration": 10,
    "start_time": "2024-06-13T17:31:40.646Z"
   },
   {
    "duration": 7,
    "start_time": "2024-06-13T17:31:40.659Z"
   },
   {
    "duration": 62,
    "start_time": "2024-06-13T17:31:40.674Z"
   },
   {
    "duration": 8,
    "start_time": "2024-06-13T17:31:40.739Z"
   },
   {
    "duration": 46,
    "start_time": "2024-06-13T17:31:40.750Z"
   },
   {
    "duration": 81,
    "start_time": "2024-06-13T17:31:40.799Z"
   },
   {
    "duration": 11,
    "start_time": "2024-06-13T17:31:40.883Z"
   },
   {
    "duration": 139,
    "start_time": "2024-06-13T17:31:40.897Z"
   },
   {
    "duration": 827,
    "start_time": "2024-06-13T17:31:41.038Z"
   },
   {
    "duration": 5,
    "start_time": "2024-06-13T17:31:41.868Z"
   },
   {
    "duration": 7,
    "start_time": "2024-06-13T17:31:41.877Z"
   },
   {
    "duration": 14,
    "start_time": "2024-06-13T17:36:53.755Z"
   },
   {
    "duration": 733,
    "start_time": "2024-06-13T17:36:58.161Z"
   },
   {
    "duration": 1726,
    "start_time": "2024-06-13T17:36:58.897Z"
   },
   {
    "duration": 26,
    "start_time": "2024-06-13T17:37:00.626Z"
   },
   {
    "duration": 17,
    "start_time": "2024-06-13T17:37:00.656Z"
   },
   {
    "duration": 17,
    "start_time": "2024-06-13T17:37:00.676Z"
   },
   {
    "duration": 16,
    "start_time": "2024-06-13T17:37:00.732Z"
   },
   {
    "duration": 41,
    "start_time": "2024-06-13T17:37:00.751Z"
   },
   {
    "duration": 380,
    "start_time": "2024-06-13T17:37:00.795Z"
   },
   {
    "duration": 18,
    "start_time": "2024-06-13T17:37:01.178Z"
   },
   {
    "duration": 226,
    "start_time": "2024-06-13T17:37:01.202Z"
   },
   {
    "duration": 187,
    "start_time": "2024-06-13T17:37:01.431Z"
   },
   {
    "duration": 59,
    "start_time": "2024-06-13T17:37:01.621Z"
   },
   {
    "duration": 23,
    "start_time": "2024-06-13T17:37:01.682Z"
   },
   {
    "duration": 38,
    "start_time": "2024-06-13T17:37:01.708Z"
   },
   {
    "duration": 46,
    "start_time": "2024-06-13T17:37:01.749Z"
   },
   {
    "duration": 51,
    "start_time": "2024-06-13T17:37:01.797Z"
   },
   {
    "duration": 6,
    "start_time": "2024-06-13T17:37:01.851Z"
   },
   {
    "duration": 5,
    "start_time": "2024-06-13T17:37:01.860Z"
   },
   {
    "duration": 6,
    "start_time": "2024-06-13T17:37:01.869Z"
   },
   {
    "duration": 5,
    "start_time": "2024-06-13T17:37:01.879Z"
   },
   {
    "duration": 1378,
    "start_time": "2024-06-13T17:37:01.935Z"
   },
   {
    "duration": 727,
    "start_time": "2024-06-13T17:37:03.316Z"
   },
   {
    "duration": 13,
    "start_time": "2024-06-13T17:37:04.046Z"
   },
   {
    "duration": 9,
    "start_time": "2024-06-13T17:37:04.062Z"
   },
   {
    "duration": 9,
    "start_time": "2024-06-13T17:37:04.075Z"
   },
   {
    "duration": 50,
    "start_time": "2024-06-13T17:37:04.087Z"
   },
   {
    "duration": 7,
    "start_time": "2024-06-13T17:37:04.139Z"
   },
   {
    "duration": 17,
    "start_time": "2024-06-13T17:37:04.154Z"
   },
   {
    "duration": 8,
    "start_time": "2024-06-13T17:37:04.174Z"
   },
   {
    "duration": 91,
    "start_time": "2024-06-13T17:37:04.185Z"
   },
   {
    "duration": 83,
    "start_time": "2024-06-13T17:37:04.279Z"
   },
   {
    "duration": 11,
    "start_time": "2024-06-13T17:37:04.366Z"
   },
   {
    "duration": 129,
    "start_time": "2024-06-13T17:37:04.381Z"
   },
   {
    "duration": 932,
    "start_time": "2024-06-13T17:37:04.512Z"
   },
   {
    "duration": 7,
    "start_time": "2024-06-13T17:37:05.447Z"
   },
   {
    "duration": 7,
    "start_time": "2024-06-13T17:37:05.457Z"
   },
   {
    "duration": 8,
    "start_time": "2024-06-13T17:37:05.467Z"
   },
   {
    "duration": 7,
    "start_time": "2024-06-13T17:37:37.554Z"
   },
   {
    "duration": 500,
    "start_time": "2024-06-13T17:37:50.432Z"
   },
   {
    "duration": 471,
    "start_time": "2024-06-13T17:38:56.361Z"
   },
   {
    "duration": 517,
    "start_time": "2024-06-13T17:44:38.543Z"
   },
   {
    "duration": 457,
    "start_time": "2024-06-13T17:44:52.490Z"
   },
   {
    "duration": 500,
    "start_time": "2024-06-13T17:49:19.520Z"
   },
   {
    "duration": 6,
    "start_time": "2024-06-13T17:49:45.192Z"
   },
   {
    "duration": 2095,
    "start_time": "2024-06-13T17:49:50.273Z"
   },
   {
    "duration": 456,
    "start_time": "2024-06-13T17:50:38.287Z"
   },
   {
    "duration": 9,
    "start_time": "2024-06-13T18:21:54.199Z"
   },
   {
    "duration": 8,
    "start_time": "2024-06-13T18:22:10.276Z"
   },
   {
    "duration": 367,
    "start_time": "2024-06-13T18:29:06.650Z"
   },
   {
    "duration": 7,
    "start_time": "2024-06-13T18:29:30.871Z"
   },
   {
    "duration": 422,
    "start_time": "2024-06-13T18:29:56.998Z"
   },
   {
    "duration": 365,
    "start_time": "2024-06-13T18:30:33.135Z"
   },
   {
    "duration": 331,
    "start_time": "2024-06-13T18:41:07.223Z"
   },
   {
    "duration": 339,
    "start_time": "2024-06-13T18:47:51.724Z"
   },
   {
    "duration": 404,
    "start_time": "2024-06-14T00:17:51.839Z"
   },
   {
    "duration": 341,
    "start_time": "2024-06-14T00:19:27.541Z"
   },
   {
    "duration": 327,
    "start_time": "2024-06-14T00:19:54.649Z"
   },
   {
    "duration": 318,
    "start_time": "2024-06-14T03:34:30.643Z"
   },
   {
    "duration": 4231,
    "start_time": "2024-06-14T03:34:53.160Z"
   },
   {
    "duration": 1813,
    "start_time": "2024-06-14T03:34:57.397Z"
   },
   {
    "duration": 21,
    "start_time": "2024-06-14T03:34:59.213Z"
   },
   {
    "duration": 19,
    "start_time": "2024-06-14T03:34:59.239Z"
   },
   {
    "duration": 49,
    "start_time": "2024-06-14T03:34:59.261Z"
   },
   {
    "duration": 16,
    "start_time": "2024-06-14T03:34:59.313Z"
   },
   {
    "duration": 41,
    "start_time": "2024-06-14T03:34:59.332Z"
   },
   {
    "duration": 345,
    "start_time": "2024-06-14T03:34:59.376Z"
   },
   {
    "duration": 18,
    "start_time": "2024-06-14T03:34:59.725Z"
   },
   {
    "duration": 205,
    "start_time": "2024-06-14T03:34:59.748Z"
   },
   {
    "duration": 179,
    "start_time": "2024-06-14T03:34:59.955Z"
   },
   {
    "duration": 46,
    "start_time": "2024-06-14T03:35:00.137Z"
   },
   {
    "duration": 22,
    "start_time": "2024-06-14T03:35:00.206Z"
   },
   {
    "duration": 13,
    "start_time": "2024-06-14T03:35:00.231Z"
   },
   {
    "duration": 76,
    "start_time": "2024-06-14T03:35:00.247Z"
   },
   {
    "duration": 23,
    "start_time": "2024-06-14T03:35:00.326Z"
   },
   {
    "duration": 6,
    "start_time": "2024-06-14T03:35:00.352Z"
   },
   {
    "duration": 5,
    "start_time": "2024-06-14T03:35:00.361Z"
   },
   {
    "duration": 7,
    "start_time": "2024-06-14T03:35:00.405Z"
   },
   {
    "duration": 6,
    "start_time": "2024-06-14T03:35:00.415Z"
   },
   {
    "duration": 1355,
    "start_time": "2024-06-14T03:35:00.425Z"
   },
   {
    "duration": 804,
    "start_time": "2024-06-14T03:35:01.783Z"
   },
   {
    "duration": 25,
    "start_time": "2024-06-14T03:35:02.591Z"
   },
   {
    "duration": 10,
    "start_time": "2024-06-14T03:35:02.619Z"
   },
   {
    "duration": 11,
    "start_time": "2024-06-14T03:35:02.632Z"
   },
   {
    "duration": 11,
    "start_time": "2024-06-14T03:35:02.647Z"
   },
   {
    "duration": 8,
    "start_time": "2024-06-14T03:35:02.706Z"
   },
   {
    "duration": 19,
    "start_time": "2024-06-14T03:35:02.722Z"
   },
   {
    "duration": 8,
    "start_time": "2024-06-14T03:35:02.744Z"
   },
   {
    "duration": 86,
    "start_time": "2024-06-14T03:35:02.756Z"
   },
   {
    "duration": 76,
    "start_time": "2024-06-14T03:35:02.847Z"
   },
   {
    "duration": 12,
    "start_time": "2024-06-14T03:35:02.926Z"
   },
   {
    "duration": 128,
    "start_time": "2024-06-14T03:35:02.941Z"
   },
   {
    "duration": 825,
    "start_time": "2024-06-14T03:35:03.073Z"
   },
   {
    "duration": 8,
    "start_time": "2024-06-14T03:35:03.901Z"
   },
   {
    "duration": 6,
    "start_time": "2024-06-14T03:35:03.912Z"
   },
   {
    "duration": 509,
    "start_time": "2024-06-14T03:35:03.921Z"
   },
   {
    "duration": 360,
    "start_time": "2024-06-14T03:35:04.434Z"
   },
   {
    "duration": 1103,
    "start_time": "2024-06-14T03:35:04.797Z"
   },
   {
    "duration": 227,
    "start_time": "2024-06-14T03:36:06.147Z"
   },
   {
    "duration": 232,
    "start_time": "2024-06-14T03:38:05.866Z"
   },
   {
    "duration": 533,
    "start_time": "2024-06-14T03:38:55.307Z"
   },
   {
    "duration": 683,
    "start_time": "2024-06-14T03:40:35.965Z"
   },
   {
    "duration": 534,
    "start_time": "2024-06-14T03:43:24.694Z"
   },
   {
    "duration": 507,
    "start_time": "2024-06-14T03:44:04.756Z"
   },
   {
    "duration": 508,
    "start_time": "2024-06-14T03:45:04.403Z"
   },
   {
    "duration": 614,
    "start_time": "2024-06-14T03:55:10.818Z"
   },
   {
    "duration": 524,
    "start_time": "2024-06-14T03:57:15.722Z"
   },
   {
    "duration": 529,
    "start_time": "2024-06-14T03:58:27.988Z"
   },
   {
    "duration": 515,
    "start_time": "2024-06-14T16:28:29.351Z"
   },
   {
    "duration": 495,
    "start_time": "2024-06-14T16:58:29.690Z"
   },
   {
    "duration": 342,
    "start_time": "2024-06-14T16:59:17.598Z"
   },
   {
    "duration": 586,
    "start_time": "2024-06-14T17:00:11.720Z"
   },
   {
    "duration": 584,
    "start_time": "2024-06-14T17:00:42.313Z"
   },
   {
    "duration": 4,
    "start_time": "2024-06-14T17:01:46.790Z"
   },
   {
    "duration": 1530,
    "start_time": "2024-06-14T17:01:46.798Z"
   },
   {
    "duration": 19,
    "start_time": "2024-06-14T17:01:48.332Z"
   },
   {
    "duration": 19,
    "start_time": "2024-06-14T17:01:48.354Z"
   },
   {
    "duration": 15,
    "start_time": "2024-06-14T17:01:48.377Z"
   },
   {
    "duration": 52,
    "start_time": "2024-06-14T17:01:48.395Z"
   },
   {
    "duration": 39,
    "start_time": "2024-06-14T17:01:48.450Z"
   },
   {
    "duration": 355,
    "start_time": "2024-06-14T17:01:48.492Z"
   },
   {
    "duration": 16,
    "start_time": "2024-06-14T17:01:48.850Z"
   },
   {
    "duration": 194,
    "start_time": "2024-06-14T17:01:48.869Z"
   },
   {
    "duration": 175,
    "start_time": "2024-06-14T17:01:49.069Z"
   },
   {
    "duration": 45,
    "start_time": "2024-06-14T17:01:49.247Z"
   },
   {
    "duration": 43,
    "start_time": "2024-06-14T17:01:49.295Z"
   },
   {
    "duration": 13,
    "start_time": "2024-06-14T17:01:49.341Z"
   },
   {
    "duration": 47,
    "start_time": "2024-06-14T17:01:49.357Z"
   },
   {
    "duration": 24,
    "start_time": "2024-06-14T17:01:49.434Z"
   },
   {
    "duration": 6,
    "start_time": "2024-06-14T17:01:49.461Z"
   },
   {
    "duration": 5,
    "start_time": "2024-06-14T17:01:49.470Z"
   },
   {
    "duration": 6,
    "start_time": "2024-06-14T17:01:49.479Z"
   },
   {
    "duration": 48,
    "start_time": "2024-06-14T17:01:49.488Z"
   },
   {
    "duration": 1331,
    "start_time": "2024-06-14T17:01:49.540Z"
   },
   {
    "duration": 705,
    "start_time": "2024-06-14T17:01:50.874Z"
   },
   {
    "duration": 12,
    "start_time": "2024-06-14T17:01:51.582Z"
   },
   {
    "duration": 10,
    "start_time": "2024-06-14T17:01:51.597Z"
   },
   {
    "duration": 14,
    "start_time": "2024-06-14T17:01:51.636Z"
   },
   {
    "duration": 9,
    "start_time": "2024-06-14T17:01:51.653Z"
   },
   {
    "duration": 8,
    "start_time": "2024-06-14T17:01:51.665Z"
   },
   {
    "duration": 58,
    "start_time": "2024-06-14T17:01:51.676Z"
   },
   {
    "duration": 8,
    "start_time": "2024-06-14T17:01:51.745Z"
   },
   {
    "duration": 78,
    "start_time": "2024-06-14T17:01:51.755Z"
   },
   {
    "duration": 50,
    "start_time": "2024-06-14T17:01:51.837Z"
   },
   {
    "duration": 11,
    "start_time": "2024-06-14T17:01:51.890Z"
   },
   {
    "duration": 113,
    "start_time": "2024-06-14T17:01:51.934Z"
   },
   {
    "duration": 822,
    "start_time": "2024-06-14T17:01:52.051Z"
   },
   {
    "duration": 6,
    "start_time": "2024-06-14T17:01:52.876Z"
   },
   {
    "duration": 6,
    "start_time": "2024-06-14T17:01:52.885Z"
   },
   {
    "duration": 688,
    "start_time": "2024-06-14T17:01:52.894Z"
   },
   {
    "duration": 367,
    "start_time": "2024-06-14T17:01:53.585Z"
   },
   {
    "duration": 726,
    "start_time": "2024-06-14T17:03:01.011Z"
   },
   {
    "duration": 560,
    "start_time": "2024-06-14T17:03:42.726Z"
   },
   {
    "duration": 599,
    "start_time": "2024-06-14T17:04:47.031Z"
   },
   {
    "duration": 7,
    "start_time": "2024-06-14T18:22:06.766Z"
   },
   {
    "duration": 940,
    "start_time": "2024-06-14T18:22:33.922Z"
   },
   {
    "duration": 24,
    "start_time": "2024-06-14T18:23:14.537Z"
   },
   {
    "duration": 27,
    "start_time": "2024-06-14T18:23:39.953Z"
   },
   {
    "duration": 8,
    "start_time": "2024-06-14T18:25:06.030Z"
   },
   {
    "duration": 30,
    "start_time": "2024-06-14T18:25:35.632Z"
   },
   {
    "duration": 41,
    "start_time": "2024-06-14T18:26:01.397Z"
   },
   {
    "duration": 48,
    "start_time": "2024-06-14T18:33:29.891Z"
   },
   {
    "duration": 42,
    "start_time": "2024-06-14T18:33:47.726Z"
   },
   {
    "duration": 220,
    "start_time": "2024-06-14T18:35:26.477Z"
   },
   {
    "duration": 215,
    "start_time": "2024-06-14T18:35:59.739Z"
   },
   {
    "duration": 221,
    "start_time": "2024-06-14T18:36:09.565Z"
   },
   {
    "duration": 681,
    "start_time": "2024-06-14T18:36:28.714Z"
   },
   {
    "duration": 38,
    "start_time": "2024-06-14T18:41:28.633Z"
   },
   {
    "duration": 42,
    "start_time": "2024-06-14T18:43:44.871Z"
   },
   {
    "duration": 313,
    "start_time": "2024-06-14T18:44:15.321Z"
   },
   {
    "duration": 35,
    "start_time": "2024-06-14T18:44:42.886Z"
   },
   {
    "duration": 42,
    "start_time": "2024-06-14T18:45:01.137Z"
   },
   {
    "duration": 28,
    "start_time": "2024-06-14T18:45:07.925Z"
   },
   {
    "duration": 35,
    "start_time": "2024-06-14T18:45:34.232Z"
   },
   {
    "duration": 316,
    "start_time": "2024-06-14T18:54:33.818Z"
   },
   {
    "duration": 731,
    "start_time": "2024-06-14T18:54:47.692Z"
   },
   {
    "duration": 1715,
    "start_time": "2024-06-14T18:54:48.434Z"
   },
   {
    "duration": 21,
    "start_time": "2024-06-14T18:54:50.152Z"
   },
   {
    "duration": 21,
    "start_time": "2024-06-14T18:54:50.177Z"
   },
   {
    "duration": 45,
    "start_time": "2024-06-14T18:54:50.201Z"
   },
   {
    "duration": 15,
    "start_time": "2024-06-14T18:54:50.249Z"
   },
   {
    "duration": 75,
    "start_time": "2024-06-14T18:54:50.267Z"
   },
   {
    "duration": 345,
    "start_time": "2024-06-14T18:54:50.345Z"
   },
   {
    "duration": 19,
    "start_time": "2024-06-14T18:54:50.693Z"
   },
   {
    "duration": 173,
    "start_time": "2024-06-14T18:54:50.738Z"
   },
   {
    "duration": 166,
    "start_time": "2024-06-14T18:54:50.914Z"
   },
   {
    "duration": 55,
    "start_time": "2024-06-14T18:54:51.082Z"
   },
   {
    "duration": 23,
    "start_time": "2024-06-14T18:54:51.139Z"
   },
   {
    "duration": 13,
    "start_time": "2024-06-14T18:54:51.165Z"
   },
   {
    "duration": 73,
    "start_time": "2024-06-14T18:54:51.181Z"
   },
   {
    "duration": 23,
    "start_time": "2024-06-14T18:54:51.257Z"
   },
   {
    "duration": 5,
    "start_time": "2024-06-14T18:54:51.283Z"
   },
   {
    "duration": 42,
    "start_time": "2024-06-14T18:54:51.291Z"
   },
   {
    "duration": 12,
    "start_time": "2024-06-14T18:54:51.341Z"
   },
   {
    "duration": 5,
    "start_time": "2024-06-14T18:54:51.358Z"
   },
   {
    "duration": 1336,
    "start_time": "2024-06-14T18:54:51.367Z"
   },
   {
    "duration": 730,
    "start_time": "2024-06-14T18:54:52.708Z"
   },
   {
    "duration": 14,
    "start_time": "2024-06-14T18:54:53.442Z"
   },
   {
    "duration": 10,
    "start_time": "2024-06-14T18:54:53.458Z"
   },
   {
    "duration": 9,
    "start_time": "2024-06-14T18:54:53.471Z"
   },
   {
    "duration": 51,
    "start_time": "2024-06-14T18:54:53.483Z"
   },
   {
    "duration": 7,
    "start_time": "2024-06-14T18:54:53.537Z"
   },
   {
    "duration": 17,
    "start_time": "2024-06-14T18:54:53.552Z"
   },
   {
    "duration": 8,
    "start_time": "2024-06-14T18:54:53.571Z"
   },
   {
    "duration": 90,
    "start_time": "2024-06-14T18:54:53.583Z"
   },
   {
    "duration": 69,
    "start_time": "2024-06-14T18:54:53.676Z"
   },
   {
    "duration": 10,
    "start_time": "2024-06-14T18:54:53.748Z"
   },
   {
    "duration": 124,
    "start_time": "2024-06-14T18:54:53.760Z"
   },
   {
    "duration": 809,
    "start_time": "2024-06-14T18:54:53.887Z"
   },
   {
    "duration": 7,
    "start_time": "2024-06-14T18:54:54.698Z"
   },
   {
    "duration": 27,
    "start_time": "2024-06-14T18:54:54.707Z"
   },
   {
    "duration": 549,
    "start_time": "2024-06-14T18:54:54.738Z"
   },
   {
    "duration": 367,
    "start_time": "2024-06-14T18:54:55.290Z"
   },
   {
    "duration": 567,
    "start_time": "2024-06-14T18:54:55.660Z"
   },
   {
    "duration": 807,
    "start_time": "2024-06-14T18:54:56.234Z"
   },
   {
    "duration": 45,
    "start_time": "2024-06-14T19:00:42.577Z"
   },
   {
    "duration": 201,
    "start_time": "2024-06-14T19:01:03.721Z"
   },
   {
    "duration": 66,
    "start_time": "2024-06-14T19:01:11.533Z"
   },
   {
    "duration": 34,
    "start_time": "2024-06-14T19:01:23.476Z"
   },
   {
    "duration": 49,
    "start_time": "2024-06-14T19:01:56.826Z"
   },
   {
    "duration": 705,
    "start_time": "2024-06-14T19:05:46.718Z"
   },
   {
    "duration": 314,
    "start_time": "2024-06-14T19:09:33.163Z"
   },
   {
    "duration": 812,
    "start_time": "2024-06-14T19:09:39.794Z"
   },
   {
    "duration": 1897,
    "start_time": "2024-06-14T19:09:40.610Z"
   },
   {
    "duration": 34,
    "start_time": "2024-06-14T19:09:42.510Z"
   },
   {
    "duration": 21,
    "start_time": "2024-06-14T19:09:42.551Z"
   },
   {
    "duration": 25,
    "start_time": "2024-06-14T19:09:42.575Z"
   },
   {
    "duration": 42,
    "start_time": "2024-06-14T19:09:42.603Z"
   },
   {
    "duration": 45,
    "start_time": "2024-06-14T19:09:42.649Z"
   },
   {
    "duration": 398,
    "start_time": "2024-06-14T19:09:42.700Z"
   },
   {
    "duration": 32,
    "start_time": "2024-06-14T19:09:43.101Z"
   },
   {
    "duration": 211,
    "start_time": "2024-06-14T19:09:43.140Z"
   },
   {
    "duration": 191,
    "start_time": "2024-06-14T19:09:43.354Z"
   },
   {
    "duration": 62,
    "start_time": "2024-06-14T19:09:43.550Z"
   },
   {
    "duration": 40,
    "start_time": "2024-06-14T19:09:43.615Z"
   },
   {
    "duration": 18,
    "start_time": "2024-06-14T19:09:43.659Z"
   },
   {
    "duration": 77,
    "start_time": "2024-06-14T19:09:43.681Z"
   },
   {
    "duration": 38,
    "start_time": "2024-06-14T19:09:43.765Z"
   },
   {
    "duration": 5,
    "start_time": "2024-06-14T19:09:43.806Z"
   },
   {
    "duration": 26,
    "start_time": "2024-06-14T19:09:43.814Z"
   },
   {
    "duration": 7,
    "start_time": "2024-06-14T19:09:43.843Z"
   },
   {
    "duration": 5,
    "start_time": "2024-06-14T19:09:43.854Z"
   },
   {
    "duration": 1385,
    "start_time": "2024-06-14T19:09:43.862Z"
   },
   {
    "duration": 709,
    "start_time": "2024-06-14T19:09:45.250Z"
   },
   {
    "duration": 12,
    "start_time": "2024-06-14T19:09:45.962Z"
   },
   {
    "duration": 9,
    "start_time": "2024-06-14T19:09:45.977Z"
   },
   {
    "duration": 10,
    "start_time": "2024-06-14T19:09:45.989Z"
   },
   {
    "duration": 9,
    "start_time": "2024-06-14T19:09:46.035Z"
   },
   {
    "duration": 7,
    "start_time": "2024-06-14T19:09:46.048Z"
   },
   {
    "duration": 17,
    "start_time": "2024-06-14T19:09:46.063Z"
   },
   {
    "duration": 52,
    "start_time": "2024-06-14T19:09:46.083Z"
   },
   {
    "duration": 45,
    "start_time": "2024-06-14T19:09:46.138Z"
   },
   {
    "duration": 77,
    "start_time": "2024-06-14T19:09:46.186Z"
   },
   {
    "duration": 10,
    "start_time": "2024-06-14T19:09:46.266Z"
   },
   {
    "duration": 132,
    "start_time": "2024-06-14T19:09:46.279Z"
   },
   {
    "duration": 806,
    "start_time": "2024-06-14T19:09:46.414Z"
   },
   {
    "duration": 11,
    "start_time": "2024-06-14T19:09:47.223Z"
   },
   {
    "duration": 5,
    "start_time": "2024-06-14T19:09:47.237Z"
   },
   {
    "duration": 548,
    "start_time": "2024-06-14T19:09:47.245Z"
   },
   {
    "duration": 375,
    "start_time": "2024-06-14T19:09:47.797Z"
   },
   {
    "duration": 564,
    "start_time": "2024-06-14T19:09:48.175Z"
   },
   {
    "duration": 694,
    "start_time": "2024-06-14T19:09:48.742Z"
   },
   {
    "duration": 331,
    "start_time": "2024-06-14T19:33:51.433Z"
   },
   {
    "duration": 766,
    "start_time": "2024-06-14T19:33:59.818Z"
   },
   {
    "duration": 1721,
    "start_time": "2024-06-14T19:34:00.587Z"
   },
   {
    "duration": 33,
    "start_time": "2024-06-14T19:34:02.310Z"
   },
   {
    "duration": 18,
    "start_time": "2024-06-14T19:34:02.349Z"
   },
   {
    "duration": 16,
    "start_time": "2024-06-14T19:34:02.370Z"
   },
   {
    "duration": 48,
    "start_time": "2024-06-14T19:34:02.389Z"
   },
   {
    "duration": 43,
    "start_time": "2024-06-14T19:34:02.440Z"
   },
   {
    "duration": 334,
    "start_time": "2024-06-14T19:34:02.486Z"
   },
   {
    "duration": 25,
    "start_time": "2024-06-14T19:34:02.823Z"
   },
   {
    "duration": 180,
    "start_time": "2024-06-14T19:34:02.854Z"
   },
   {
    "duration": 175,
    "start_time": "2024-06-14T19:34:03.037Z"
   },
   {
    "duration": 50,
    "start_time": "2024-06-14T19:34:03.214Z"
   },
   {
    "duration": 22,
    "start_time": "2024-06-14T19:34:03.267Z"
   },
   {
    "duration": 43,
    "start_time": "2024-06-14T19:34:03.291Z"
   },
   {
    "duration": 44,
    "start_time": "2024-06-14T19:34:03.336Z"
   },
   {
    "duration": 24,
    "start_time": "2024-06-14T19:34:03.383Z"
   },
   {
    "duration": 26,
    "start_time": "2024-06-14T19:34:03.409Z"
   },
   {
    "duration": 6,
    "start_time": "2024-06-14T19:34:03.438Z"
   },
   {
    "duration": 6,
    "start_time": "2024-06-14T19:34:03.447Z"
   },
   {
    "duration": 6,
    "start_time": "2024-06-14T19:34:03.456Z"
   },
   {
    "duration": 1353,
    "start_time": "2024-06-14T19:34:03.465Z"
   },
   {
    "duration": 697,
    "start_time": "2024-06-14T19:34:04.821Z"
   },
   {
    "duration": 23,
    "start_time": "2024-06-14T19:34:05.521Z"
   },
   {
    "duration": 9,
    "start_time": "2024-06-14T19:34:05.547Z"
   },
   {
    "duration": 8,
    "start_time": "2024-06-14T19:34:05.559Z"
   },
   {
    "duration": 10,
    "start_time": "2024-06-14T19:34:05.571Z"
   },
   {
    "duration": 49,
    "start_time": "2024-06-14T19:34:05.584Z"
   },
   {
    "duration": 18,
    "start_time": "2024-06-14T19:34:05.642Z"
   },
   {
    "duration": 8,
    "start_time": "2024-06-14T19:34:05.663Z"
   },
   {
    "duration": 85,
    "start_time": "2024-06-14T19:34:05.674Z"
   },
   {
    "duration": 48,
    "start_time": "2024-06-14T19:34:05.762Z"
   },
   {
    "duration": 11,
    "start_time": "2024-06-14T19:34:05.834Z"
   },
   {
    "duration": 122,
    "start_time": "2024-06-14T19:34:05.847Z"
   },
   {
    "duration": 930,
    "start_time": "2024-06-14T19:34:05.972Z"
   },
   {
    "duration": 7,
    "start_time": "2024-06-14T19:34:06.905Z"
   },
   {
    "duration": 6,
    "start_time": "2024-06-14T19:34:06.932Z"
   },
   {
    "duration": 559,
    "start_time": "2024-06-14T19:34:06.941Z"
   },
   {
    "duration": 381,
    "start_time": "2024-06-14T19:34:07.504Z"
   },
   {
    "duration": 562,
    "start_time": "2024-06-14T19:34:07.888Z"
   },
   {
    "duration": 694,
    "start_time": "2024-06-14T19:34:08.453Z"
   },
   {
    "duration": 327,
    "start_time": "2024-06-14T19:35:59.828Z"
   },
   {
    "duration": 747,
    "start_time": "2024-06-14T19:36:04.775Z"
   },
   {
    "duration": 1704,
    "start_time": "2024-06-14T19:36:05.526Z"
   },
   {
    "duration": 22,
    "start_time": "2024-06-14T19:36:07.234Z"
   },
   {
    "duration": 19,
    "start_time": "2024-06-14T19:36:07.260Z"
   },
   {
    "duration": 16,
    "start_time": "2024-06-14T19:36:07.282Z"
   },
   {
    "duration": 18,
    "start_time": "2024-06-14T19:36:07.335Z"
   },
   {
    "duration": 47,
    "start_time": "2024-06-14T19:36:07.356Z"
   },
   {
    "duration": 317,
    "start_time": "2024-06-14T19:36:07.435Z"
   },
   {
    "duration": 17,
    "start_time": "2024-06-14T19:36:07.755Z"
   },
   {
    "duration": 189,
    "start_time": "2024-06-14T19:36:07.778Z"
   },
   {
    "duration": 164,
    "start_time": "2024-06-14T19:36:07.969Z"
   },
   {
    "duration": 45,
    "start_time": "2024-06-14T19:36:08.135Z"
   },
   {
    "duration": 22,
    "start_time": "2024-06-14T19:36:08.183Z"
   },
   {
    "duration": 14,
    "start_time": "2024-06-14T19:36:08.233Z"
   },
   {
    "duration": 45,
    "start_time": "2024-06-14T19:36:08.250Z"
   },
   {
    "duration": 49,
    "start_time": "2024-06-14T19:36:08.299Z"
   },
   {
    "duration": 7,
    "start_time": "2024-06-14T19:36:08.351Z"
   },
   {
    "duration": 5,
    "start_time": "2024-06-14T19:36:08.361Z"
   },
   {
    "duration": 6,
    "start_time": "2024-06-14T19:36:08.369Z"
   },
   {
    "duration": 53,
    "start_time": "2024-06-14T19:36:08.379Z"
   },
   {
    "duration": 1324,
    "start_time": "2024-06-14T19:36:08.437Z"
   },
   {
    "duration": 712,
    "start_time": "2024-06-14T19:36:09.764Z"
   },
   {
    "duration": 13,
    "start_time": "2024-06-14T19:36:10.479Z"
   },
   {
    "duration": 37,
    "start_time": "2024-06-14T19:36:10.496Z"
   },
   {
    "duration": 9,
    "start_time": "2024-06-14T19:36:10.535Z"
   },
   {
    "duration": 10,
    "start_time": "2024-06-14T19:36:10.548Z"
   },
   {
    "duration": 9,
    "start_time": "2024-06-14T19:36:10.560Z"
   },
   {
    "duration": 58,
    "start_time": "2024-06-14T19:36:10.576Z"
   },
   {
    "duration": 8,
    "start_time": "2024-06-14T19:36:10.637Z"
   },
   {
    "duration": 47,
    "start_time": "2024-06-14T19:36:10.647Z"
   },
   {
    "duration": 87,
    "start_time": "2024-06-14T19:36:10.698Z"
   },
   {
    "duration": 12,
    "start_time": "2024-06-14T19:36:10.788Z"
   },
   {
    "duration": 110,
    "start_time": "2024-06-14T19:36:10.832Z"
   },
   {
    "duration": 803,
    "start_time": "2024-06-14T19:36:10.945Z"
   },
   {
    "duration": 6,
    "start_time": "2024-06-14T19:36:11.751Z"
   },
   {
    "duration": 6,
    "start_time": "2024-06-14T19:36:11.760Z"
   },
   {
    "duration": 583,
    "start_time": "2024-06-14T19:36:11.769Z"
   },
   {
    "duration": 358,
    "start_time": "2024-06-14T19:36:12.355Z"
   },
   {
    "duration": 582,
    "start_time": "2024-06-14T19:36:12.717Z"
   },
   {
    "duration": 687,
    "start_time": "2024-06-14T19:36:13.302Z"
   },
   {
    "duration": 308,
    "start_time": "2024-06-14T19:38:00.648Z"
   },
   {
    "duration": 770,
    "start_time": "2024-06-14T19:38:06.219Z"
   },
   {
    "duration": 1973,
    "start_time": "2024-06-14T19:38:06.992Z"
   },
   {
    "duration": 22,
    "start_time": "2024-06-14T19:38:08.968Z"
   },
   {
    "duration": 40,
    "start_time": "2024-06-14T19:38:08.996Z"
   },
   {
    "duration": 16,
    "start_time": "2024-06-14T19:38:09.040Z"
   },
   {
    "duration": 16,
    "start_time": "2024-06-14T19:38:09.059Z"
   },
   {
    "duration": 83,
    "start_time": "2024-06-14T19:38:09.078Z"
   },
   {
    "duration": 372,
    "start_time": "2024-06-14T19:38:09.163Z"
   },
   {
    "duration": 18,
    "start_time": "2024-06-14T19:38:09.538Z"
   },
   {
    "duration": 193,
    "start_time": "2024-06-14T19:38:09.561Z"
   },
   {
    "duration": 190,
    "start_time": "2024-06-14T19:38:09.757Z"
   },
   {
    "duration": 48,
    "start_time": "2024-06-14T19:38:09.951Z"
   },
   {
    "duration": 49,
    "start_time": "2024-06-14T19:38:10.003Z"
   },
   {
    "duration": 16,
    "start_time": "2024-06-14T19:38:10.055Z"
   },
   {
    "duration": 78,
    "start_time": "2024-06-14T19:38:10.075Z"
   },
   {
    "duration": 25,
    "start_time": "2024-06-14T19:38:10.157Z"
   },
   {
    "duration": 7,
    "start_time": "2024-06-14T19:38:10.185Z"
   },
   {
    "duration": 40,
    "start_time": "2024-06-14T19:38:10.195Z"
   },
   {
    "duration": 7,
    "start_time": "2024-06-14T19:38:10.239Z"
   },
   {
    "duration": 7,
    "start_time": "2024-06-14T19:38:10.250Z"
   },
   {
    "duration": 1516,
    "start_time": "2024-06-14T19:38:10.261Z"
   },
   {
    "duration": 833,
    "start_time": "2024-06-14T19:38:11.781Z"
   },
   {
    "duration": 26,
    "start_time": "2024-06-14T19:38:12.617Z"
   },
   {
    "duration": 10,
    "start_time": "2024-06-14T19:38:12.647Z"
   },
   {
    "duration": 11,
    "start_time": "2024-06-14T19:38:12.660Z"
   },
   {
    "duration": 11,
    "start_time": "2024-06-14T19:38:12.675Z"
   },
   {
    "duration": 8,
    "start_time": "2024-06-14T19:38:12.734Z"
   },
   {
    "duration": 19,
    "start_time": "2024-06-14T19:38:12.754Z"
   },
   {
    "duration": 10,
    "start_time": "2024-06-14T19:38:12.778Z"
   },
   {
    "duration": 52,
    "start_time": "2024-06-14T19:38:12.840Z"
   },
   {
    "duration": 79,
    "start_time": "2024-06-14T19:38:12.895Z"
   },
   {
    "duration": 12,
    "start_time": "2024-06-14T19:38:12.978Z"
   },
   {
    "duration": 127,
    "start_time": "2024-06-14T19:38:12.996Z"
   },
   {
    "duration": 852,
    "start_time": "2024-06-14T19:38:13.135Z"
   },
   {
    "duration": 8,
    "start_time": "2024-06-14T19:38:13.992Z"
   },
   {
    "duration": 32,
    "start_time": "2024-06-14T19:38:14.004Z"
   },
   {
    "duration": 607,
    "start_time": "2024-06-14T19:38:14.040Z"
   },
   {
    "duration": 398,
    "start_time": "2024-06-14T19:38:14.651Z"
   },
   {
    "duration": 640,
    "start_time": "2024-06-14T19:38:15.053Z"
   },
   {
    "duration": 727,
    "start_time": "2024-06-14T19:38:15.697Z"
   },
   {
    "duration": 57,
    "start_time": "2024-06-14T19:38:16.427Z"
   },
   {
    "duration": 804,
    "start_time": "2024-06-14T20:26:11.517Z"
   },
   {
    "duration": 307,
    "start_time": "2024-06-14T20:49:15.951Z"
   },
   {
    "duration": 717,
    "start_time": "2024-06-14T20:49:20.077Z"
   },
   {
    "duration": 1775,
    "start_time": "2024-06-14T20:49:20.798Z"
   },
   {
    "duration": 22,
    "start_time": "2024-06-14T20:49:22.576Z"
   },
   {
    "duration": 36,
    "start_time": "2024-06-14T20:49:22.602Z"
   },
   {
    "duration": 16,
    "start_time": "2024-06-14T20:49:22.641Z"
   },
   {
    "duration": 16,
    "start_time": "2024-06-14T20:49:22.659Z"
   },
   {
    "duration": 86,
    "start_time": "2024-06-14T20:49:22.678Z"
   },
   {
    "duration": 334,
    "start_time": "2024-06-14T20:49:22.767Z"
   },
   {
    "duration": 31,
    "start_time": "2024-06-14T20:49:23.104Z"
   },
   {
    "duration": 182,
    "start_time": "2024-06-14T20:49:23.142Z"
   },
   {
    "duration": 201,
    "start_time": "2024-06-14T20:49:23.327Z"
   },
   {
    "duration": 54,
    "start_time": "2024-06-14T20:49:23.535Z"
   },
   {
    "duration": 43,
    "start_time": "2024-06-14T20:49:23.592Z"
   },
   {
    "duration": 13,
    "start_time": "2024-06-14T20:49:23.638Z"
   },
   {
    "duration": 44,
    "start_time": "2024-06-14T20:49:23.655Z"
   },
   {
    "duration": 53,
    "start_time": "2024-06-14T20:49:23.702Z"
   },
   {
    "duration": 6,
    "start_time": "2024-06-14T20:49:23.758Z"
   },
   {
    "duration": 6,
    "start_time": "2024-06-14T20:49:23.767Z"
   },
   {
    "duration": 7,
    "start_time": "2024-06-14T20:49:23.777Z"
   },
   {
    "duration": 6,
    "start_time": "2024-06-14T20:49:23.834Z"
   },
   {
    "duration": 1389,
    "start_time": "2024-06-14T20:49:23.844Z"
   },
   {
    "duration": 770,
    "start_time": "2024-06-14T20:49:25.236Z"
   },
   {
    "duration": 24,
    "start_time": "2024-06-14T20:49:26.010Z"
   },
   {
    "duration": 10,
    "start_time": "2024-06-14T20:49:26.037Z"
   },
   {
    "duration": 9,
    "start_time": "2024-06-14T20:49:26.050Z"
   },
   {
    "duration": 10,
    "start_time": "2024-06-14T20:49:26.062Z"
   },
   {
    "duration": 8,
    "start_time": "2024-06-14T20:49:26.075Z"
   },
   {
    "duration": 18,
    "start_time": "2024-06-14T20:49:26.137Z"
   },
   {
    "duration": 8,
    "start_time": "2024-06-14T20:49:26.158Z"
   },
   {
    "duration": 77,
    "start_time": "2024-06-14T20:49:26.169Z"
   },
   {
    "duration": 49,
    "start_time": "2024-06-14T20:49:26.249Z"
   },
   {
    "duration": 34,
    "start_time": "2024-06-14T20:49:26.301Z"
   },
   {
    "duration": 118,
    "start_time": "2024-06-14T20:49:26.338Z"
   },
   {
    "duration": 858,
    "start_time": "2024-06-14T20:49:26.460Z"
   },
   {
    "duration": 15,
    "start_time": "2024-06-14T20:49:27.320Z"
   },
   {
    "duration": 6,
    "start_time": "2024-06-14T20:49:27.338Z"
   },
   {
    "duration": 580,
    "start_time": "2024-06-14T20:49:27.348Z"
   },
   {
    "duration": 379,
    "start_time": "2024-06-14T20:49:27.934Z"
   },
   {
    "duration": 576,
    "start_time": "2024-06-14T20:49:28.316Z"
   },
   {
    "duration": 755,
    "start_time": "2024-06-14T20:49:28.895Z"
   },
   {
    "duration": 308,
    "start_time": "2024-06-14T20:57:39.690Z"
   },
   {
    "duration": 788,
    "start_time": "2024-06-14T20:57:48.344Z"
   },
   {
    "duration": 1630,
    "start_time": "2024-06-14T20:57:49.135Z"
   },
   {
    "duration": 22,
    "start_time": "2024-06-14T20:57:50.769Z"
   },
   {
    "duration": 47,
    "start_time": "2024-06-14T20:57:50.796Z"
   },
   {
    "duration": 15,
    "start_time": "2024-06-14T20:57:50.848Z"
   },
   {
    "duration": 14,
    "start_time": "2024-06-14T20:57:50.866Z"
   },
   {
    "duration": 78,
    "start_time": "2024-06-14T20:57:50.883Z"
   },
   {
    "duration": 428,
    "start_time": "2024-06-14T20:57:50.964Z"
   },
   {
    "duration": 39,
    "start_time": "2024-06-14T20:57:51.395Z"
   },
   {
    "duration": 214,
    "start_time": "2024-06-14T20:57:51.441Z"
   },
   {
    "duration": 193,
    "start_time": "2024-06-14T20:57:51.659Z"
   },
   {
    "duration": 47,
    "start_time": "2024-06-14T20:57:51.855Z"
   },
   {
    "duration": 49,
    "start_time": "2024-06-14T20:57:51.906Z"
   },
   {
    "duration": 14,
    "start_time": "2024-06-14T20:57:51.958Z"
   },
   {
    "duration": 76,
    "start_time": "2024-06-14T20:57:51.976Z"
   },
   {
    "duration": 25,
    "start_time": "2024-06-14T20:57:52.055Z"
   },
   {
    "duration": 6,
    "start_time": "2024-06-14T20:57:52.083Z"
   },
   {
    "duration": 5,
    "start_time": "2024-06-14T20:57:52.092Z"
   },
   {
    "duration": 7,
    "start_time": "2024-06-14T20:57:52.137Z"
   },
   {
    "duration": 6,
    "start_time": "2024-06-14T20:57:52.148Z"
   },
   {
    "duration": 1473,
    "start_time": "2024-06-14T20:57:52.159Z"
   },
   {
    "duration": 757,
    "start_time": "2024-06-14T20:57:53.635Z"
   },
   {
    "duration": 13,
    "start_time": "2024-06-14T20:57:54.395Z"
   },
   {
    "duration": 8,
    "start_time": "2024-06-14T20:57:54.432Z"
   },
   {
    "duration": 12,
    "start_time": "2024-06-14T20:57:54.443Z"
   },
   {
    "duration": 11,
    "start_time": "2024-06-14T20:57:54.458Z"
   },
   {
    "duration": 7,
    "start_time": "2024-06-14T20:57:54.472Z"
   },
   {
    "duration": 53,
    "start_time": "2024-06-14T20:57:54.486Z"
   },
   {
    "duration": 8,
    "start_time": "2024-06-14T20:57:54.543Z"
   },
   {
    "duration": 79,
    "start_time": "2024-06-14T20:57:54.557Z"
   },
   {
    "duration": 51,
    "start_time": "2024-06-14T20:57:54.639Z"
   },
   {
    "duration": 10,
    "start_time": "2024-06-14T20:57:54.693Z"
   },
   {
    "duration": 114,
    "start_time": "2024-06-14T20:57:54.734Z"
   },
   {
    "duration": 802,
    "start_time": "2024-06-14T20:57:54.851Z"
   },
   {
    "duration": 6,
    "start_time": "2024-06-14T20:57:55.656Z"
   },
   {
    "duration": 7,
    "start_time": "2024-06-14T20:57:55.666Z"
   },
   {
    "duration": 581,
    "start_time": "2024-06-14T20:57:55.675Z"
   },
   {
    "duration": 359,
    "start_time": "2024-06-14T20:57:56.260Z"
   },
   {
    "duration": 595,
    "start_time": "2024-06-14T20:57:56.622Z"
   },
   {
    "duration": 712,
    "start_time": "2024-06-14T20:57:57.232Z"
   },
   {
    "duration": 309,
    "start_time": "2024-06-14T21:00:19.937Z"
   },
   {
    "duration": 754,
    "start_time": "2024-06-14T21:00:30.572Z"
   },
   {
    "duration": 1704,
    "start_time": "2024-06-14T21:00:31.332Z"
   },
   {
    "duration": 22,
    "start_time": "2024-06-14T21:00:33.039Z"
   },
   {
    "duration": 19,
    "start_time": "2024-06-14T21:00:33.064Z"
   },
   {
    "duration": 51,
    "start_time": "2024-06-14T21:00:33.088Z"
   },
   {
    "duration": 15,
    "start_time": "2024-06-14T21:00:33.142Z"
   },
   {
    "duration": 41,
    "start_time": "2024-06-14T21:00:33.160Z"
   },
   {
    "duration": 395,
    "start_time": "2024-06-14T21:00:33.204Z"
   },
   {
    "duration": 33,
    "start_time": "2024-06-14T21:00:33.602Z"
   },
   {
    "duration": 206,
    "start_time": "2024-06-14T21:00:33.638Z"
   },
   {
    "duration": 211,
    "start_time": "2024-06-14T21:00:33.847Z"
   },
   {
    "duration": 52,
    "start_time": "2024-06-14T21:00:34.062Z"
   },
   {
    "duration": 38,
    "start_time": "2024-06-14T21:00:34.117Z"
   },
   {
    "duration": 14,
    "start_time": "2024-06-14T21:00:34.163Z"
   },
   {
    "duration": 79,
    "start_time": "2024-06-14T21:00:34.180Z"
   },
   {
    "duration": 24,
    "start_time": "2024-06-14T21:00:34.261Z"
   },
   {
    "duration": 6,
    "start_time": "2024-06-14T21:00:34.288Z"
   },
   {
    "duration": 36,
    "start_time": "2024-06-14T21:00:34.298Z"
   },
   {
    "duration": 6,
    "start_time": "2024-06-14T21:00:34.338Z"
   },
   {
    "duration": 5,
    "start_time": "2024-06-14T21:00:34.347Z"
   },
   {
    "duration": 1380,
    "start_time": "2024-06-14T21:00:34.355Z"
   },
   {
    "duration": 756,
    "start_time": "2024-06-14T21:00:35.738Z"
   },
   {
    "duration": 13,
    "start_time": "2024-06-14T21:00:36.497Z"
   },
   {
    "duration": 26,
    "start_time": "2024-06-14T21:00:36.513Z"
   },
   {
    "duration": 10,
    "start_time": "2024-06-14T21:00:36.542Z"
   },
   {
    "duration": 10,
    "start_time": "2024-06-14T21:00:36.556Z"
   },
   {
    "duration": 11,
    "start_time": "2024-06-14T21:00:36.578Z"
   },
   {
    "duration": 50,
    "start_time": "2024-06-14T21:00:36.592Z"
   },
   {
    "duration": 9,
    "start_time": "2024-06-14T21:00:36.646Z"
   },
   {
    "duration": 75,
    "start_time": "2024-06-14T21:00:36.658Z"
   },
   {
    "duration": 50,
    "start_time": "2024-06-14T21:00:36.735Z"
   },
   {
    "duration": 11,
    "start_time": "2024-06-14T21:00:36.787Z"
   },
   {
    "duration": 109,
    "start_time": "2024-06-14T21:00:36.834Z"
   },
   {
    "duration": 815,
    "start_time": "2024-06-14T21:00:36.946Z"
   },
   {
    "duration": 7,
    "start_time": "2024-06-14T21:00:37.764Z"
   },
   {
    "duration": 6,
    "start_time": "2024-06-14T21:00:37.774Z"
   },
   {
    "duration": 579,
    "start_time": "2024-06-14T21:00:37.783Z"
   },
   {
    "duration": 391,
    "start_time": "2024-06-14T21:00:38.366Z"
   },
   {
    "duration": 572,
    "start_time": "2024-06-14T21:00:38.761Z"
   },
   {
    "duration": 733,
    "start_time": "2024-06-14T21:00:39.336Z"
   },
   {
    "duration": 329,
    "start_time": "2024-06-17T05:07:14.408Z"
   },
   {
    "duration": 1022,
    "start_time": "2024-06-17T05:07:24.248Z"
   },
   {
    "duration": 1822,
    "start_time": "2024-06-17T05:07:25.274Z"
   },
   {
    "duration": 35,
    "start_time": "2024-06-17T05:07:27.099Z"
   },
   {
    "duration": 28,
    "start_time": "2024-06-17T05:07:27.139Z"
   },
   {
    "duration": 16,
    "start_time": "2024-06-17T05:07:27.171Z"
   },
   {
    "duration": 49,
    "start_time": "2024-06-17T05:07:27.190Z"
   },
   {
    "duration": 42,
    "start_time": "2024-06-17T05:07:27.242Z"
   },
   {
    "duration": 412,
    "start_time": "2024-06-17T05:07:27.287Z"
   },
   {
    "duration": 33,
    "start_time": "2024-06-17T05:07:27.703Z"
   },
   {
    "duration": 205,
    "start_time": "2024-06-17T05:07:27.741Z"
   },
   {
    "duration": 194,
    "start_time": "2024-06-17T05:07:27.949Z"
   },
   {
    "duration": 55,
    "start_time": "2024-06-17T05:07:28.147Z"
   },
   {
    "duration": 49,
    "start_time": "2024-06-17T05:07:28.205Z"
   },
   {
    "duration": 17,
    "start_time": "2024-06-17T05:07:28.258Z"
   },
   {
    "duration": 81,
    "start_time": "2024-06-17T05:07:28.278Z"
   },
   {
    "duration": 27,
    "start_time": "2024-06-17T05:07:28.363Z"
   },
   {
    "duration": 7,
    "start_time": "2024-06-17T05:07:28.395Z"
   },
   {
    "duration": 7,
    "start_time": "2024-06-17T05:07:28.434Z"
   },
   {
    "duration": 6,
    "start_time": "2024-06-17T05:07:28.445Z"
   },
   {
    "duration": 6,
    "start_time": "2024-06-17T05:07:28.455Z"
   },
   {
    "duration": 1442,
    "start_time": "2024-06-17T05:07:28.464Z"
   },
   {
    "duration": 746,
    "start_time": "2024-06-17T05:07:29.910Z"
   },
   {
    "duration": 13,
    "start_time": "2024-06-17T05:07:30.659Z"
   },
   {
    "duration": 10,
    "start_time": "2024-06-17T05:07:30.675Z"
   },
   {
    "duration": 45,
    "start_time": "2024-06-17T05:07:30.688Z"
   },
   {
    "duration": 11,
    "start_time": "2024-06-17T05:07:30.736Z"
   },
   {
    "duration": 8,
    "start_time": "2024-06-17T05:07:30.750Z"
   },
   {
    "duration": 17,
    "start_time": "2024-06-17T05:07:30.766Z"
   },
   {
    "duration": 48,
    "start_time": "2024-06-17T05:07:30.786Z"
   },
   {
    "duration": 46,
    "start_time": "2024-06-17T05:07:30.837Z"
   },
   {
    "duration": 83,
    "start_time": "2024-06-17T05:07:30.887Z"
   },
   {
    "duration": 11,
    "start_time": "2024-06-17T05:07:30.973Z"
   },
   {
    "duration": 133,
    "start_time": "2024-06-17T05:07:30.987Z"
   },
   {
    "duration": 928,
    "start_time": "2024-06-17T05:07:31.124Z"
   },
   {
    "duration": 7,
    "start_time": "2024-06-17T05:07:32.056Z"
   },
   {
    "duration": 6,
    "start_time": "2024-06-17T05:07:32.066Z"
   },
   {
    "duration": 737,
    "start_time": "2024-06-17T05:07:32.076Z"
   },
   {
    "duration": 363,
    "start_time": "2024-06-17T05:07:32.816Z"
   },
   {
    "duration": 604,
    "start_time": "2024-06-17T05:07:33.182Z"
   },
   {
    "duration": 752,
    "start_time": "2024-06-17T05:07:33.790Z"
   },
   {
    "duration": 579,
    "start_time": "2024-06-17T05:07:39.481Z"
   },
   {
    "duration": 2292,
    "start_time": "2024-06-17T05:12:59.616Z"
   },
   {
    "duration": 392,
    "start_time": "2024-06-17T05:13:19.011Z"
   },
   {
    "duration": 448,
    "start_time": "2024-06-17T05:13:56.787Z"
   },
   {
    "duration": 418,
    "start_time": "2024-06-17T05:15:28.717Z"
   },
   {
    "duration": 418,
    "start_time": "2024-06-17T05:15:45.549Z"
   },
   {
    "duration": 882,
    "start_time": "2024-06-17T05:41:41.650Z"
   },
   {
    "duration": 171,
    "start_time": "2024-06-17T05:56:00.771Z"
   },
   {
    "duration": 185,
    "start_time": "2024-06-17T06:26:04.664Z"
   },
   {
    "duration": 172,
    "start_time": "2024-06-17T06:28:24.818Z"
   },
   {
    "duration": 186,
    "start_time": "2024-06-17T06:29:59.417Z"
   },
   {
    "duration": 181,
    "start_time": "2024-06-17T06:34:49.592Z"
   },
   {
    "duration": 168,
    "start_time": "2024-06-17T06:35:01.173Z"
   },
   {
    "duration": 169,
    "start_time": "2024-06-17T06:36:04.775Z"
   },
   {
    "duration": 176,
    "start_time": "2024-06-17T06:36:32.230Z"
   },
   {
    "duration": 180,
    "start_time": "2024-06-17T06:36:56.422Z"
   },
   {
    "duration": 179,
    "start_time": "2024-06-17T06:37:38.955Z"
   },
   {
    "duration": 168,
    "start_time": "2024-06-17T06:40:55.010Z"
   },
   {
    "duration": 236,
    "start_time": "2024-06-17T06:41:08.515Z"
   },
   {
    "duration": 223,
    "start_time": "2024-06-17T06:42:15.969Z"
   },
   {
    "duration": 166,
    "start_time": "2024-06-17T06:42:20.243Z"
   },
   {
    "duration": 507,
    "start_time": "2024-06-17T06:48:24.146Z"
   },
   {
    "duration": 174,
    "start_time": "2024-06-17T06:49:35.234Z"
   },
   {
    "duration": 256,
    "start_time": "2024-06-17T06:51:44.998Z"
   },
   {
    "duration": 191,
    "start_time": "2024-06-17T06:54:55.575Z"
   },
   {
    "duration": 10,
    "start_time": "2024-06-17T06:56:26.584Z"
   },
   {
    "duration": 529,
    "start_time": "2024-06-17T06:56:54.239Z"
   },
   {
    "duration": 610,
    "start_time": "2024-06-17T06:57:41.266Z"
   },
   {
    "duration": 671,
    "start_time": "2024-06-17T06:59:27.601Z"
   },
   {
    "duration": 935,
    "start_time": "2024-06-17T06:59:51.637Z"
   },
   {
    "duration": 598,
    "start_time": "2024-06-17T07:00:40.807Z"
   },
   {
    "duration": 569,
    "start_time": "2024-06-17T07:01:00.264Z"
   },
   {
    "duration": 559,
    "start_time": "2024-06-17T07:03:47.090Z"
   },
   {
    "duration": 985,
    "start_time": "2024-06-17T07:34:53.741Z"
   },
   {
    "duration": 313,
    "start_time": "2024-06-18T02:19:04.962Z"
   },
   {
    "duration": 4364,
    "start_time": "2024-06-18T02:19:10.493Z"
   },
   {
    "duration": 1722,
    "start_time": "2024-06-18T02:19:14.860Z"
   },
   {
    "duration": 30,
    "start_time": "2024-06-18T02:19:16.585Z"
   },
   {
    "duration": 18,
    "start_time": "2024-06-18T02:19:16.618Z"
   },
   {
    "duration": 16,
    "start_time": "2024-06-18T02:19:16.639Z"
   },
   {
    "duration": 49,
    "start_time": "2024-06-18T02:19:16.657Z"
   },
   {
    "duration": 41,
    "start_time": "2024-06-18T02:19:16.709Z"
   },
   {
    "duration": 377,
    "start_time": "2024-06-18T02:19:16.753Z"
   },
   {
    "duration": 20,
    "start_time": "2024-06-18T02:19:17.135Z"
   },
   {
    "duration": 197,
    "start_time": "2024-06-18T02:19:17.160Z"
   },
   {
    "duration": 168,
    "start_time": "2024-06-18T02:19:17.359Z"
   },
   {
    "duration": 45,
    "start_time": "2024-06-18T02:19:17.529Z"
   },
   {
    "duration": 45,
    "start_time": "2024-06-18T02:19:17.577Z"
   },
   {
    "duration": 14,
    "start_time": "2024-06-18T02:19:17.625Z"
   },
   {
    "duration": 64,
    "start_time": "2024-06-18T02:19:17.642Z"
   },
   {
    "duration": 24,
    "start_time": "2024-06-18T02:19:17.709Z"
   },
   {
    "duration": 6,
    "start_time": "2024-06-18T02:19:17.736Z"
   },
   {
    "duration": 6,
    "start_time": "2024-06-18T02:19:17.745Z"
   },
   {
    "duration": 53,
    "start_time": "2024-06-18T02:19:17.754Z"
   },
   {
    "duration": 6,
    "start_time": "2024-06-18T02:19:17.810Z"
   },
   {
    "duration": 1365,
    "start_time": "2024-06-18T02:19:17.821Z"
   },
   {
    "duration": 716,
    "start_time": "2024-06-18T02:19:19.189Z"
   },
   {
    "duration": 13,
    "start_time": "2024-06-18T02:19:19.909Z"
   },
   {
    "duration": 10,
    "start_time": "2024-06-18T02:19:19.925Z"
   },
   {
    "duration": 9,
    "start_time": "2024-06-18T02:19:19.938Z"
   },
   {
    "duration": 10,
    "start_time": "2024-06-18T02:19:19.950Z"
   },
   {
    "duration": 7,
    "start_time": "2024-06-18T02:19:20.008Z"
   },
   {
    "duration": 18,
    "start_time": "2024-06-18T02:19:20.023Z"
   },
   {
    "duration": 8,
    "start_time": "2024-06-18T02:19:20.044Z"
   },
   {
    "duration": 86,
    "start_time": "2024-06-18T02:19:20.055Z"
   },
   {
    "duration": 69,
    "start_time": "2024-06-18T02:19:20.144Z"
   },
   {
    "duration": 11,
    "start_time": "2024-06-18T02:19:20.216Z"
   },
   {
    "duration": 128,
    "start_time": "2024-06-18T02:19:20.229Z"
   },
   {
    "duration": 801,
    "start_time": "2024-06-18T02:19:20.360Z"
   },
   {
    "duration": 87,
    "start_time": "2024-06-18T02:19:21.164Z"
   },
   {
    "duration": 319,
    "start_time": "2024-06-18T16:59:44.440Z"
   },
   {
    "duration": 4331,
    "start_time": "2024-06-18T16:59:49.519Z"
   },
   {
    "duration": 1674,
    "start_time": "2024-06-18T16:59:53.854Z"
   },
   {
    "duration": 22,
    "start_time": "2024-06-18T16:59:55.531Z"
   },
   {
    "duration": 19,
    "start_time": "2024-06-18T16:59:55.556Z"
   },
   {
    "duration": 15,
    "start_time": "2024-06-18T16:59:55.606Z"
   },
   {
    "duration": 16,
    "start_time": "2024-06-18T16:59:55.624Z"
   },
   {
    "duration": 74,
    "start_time": "2024-06-18T16:59:55.643Z"
   },
   {
    "duration": 334,
    "start_time": "2024-06-18T16:59:55.720Z"
   },
   {
    "duration": 20,
    "start_time": "2024-06-18T16:59:56.058Z"
   },
   {
    "duration": 190,
    "start_time": "2024-06-18T16:59:56.082Z"
   },
   {
    "duration": 164,
    "start_time": "2024-06-18T16:59:56.275Z"
   },
   {
    "duration": 41,
    "start_time": "2024-06-18T16:59:56.442Z"
   },
   {
    "duration": 36,
    "start_time": "2024-06-18T16:59:56.487Z"
   },
   {
    "duration": 13,
    "start_time": "2024-06-18T16:59:56.531Z"
   },
   {
    "duration": 73,
    "start_time": "2024-06-18T16:59:56.547Z"
   },
   {
    "duration": 24,
    "start_time": "2024-06-18T16:59:56.623Z"
   },
   {
    "duration": 6,
    "start_time": "2024-06-18T16:59:56.650Z"
   },
   {
    "duration": 6,
    "start_time": "2024-06-18T16:59:56.659Z"
   },
   {
    "duration": 6,
    "start_time": "2024-06-18T16:59:56.707Z"
   },
   {
    "duration": 4,
    "start_time": "2024-06-18T16:59:56.717Z"
   },
   {
    "duration": 1346,
    "start_time": "2024-06-18T16:59:56.724Z"
   },
   {
    "duration": 732,
    "start_time": "2024-06-18T16:59:58.073Z"
   },
   {
    "duration": 15,
    "start_time": "2024-06-18T16:59:58.808Z"
   },
   {
    "duration": 9,
    "start_time": "2024-06-18T16:59:58.826Z"
   },
   {
    "duration": 10,
    "start_time": "2024-06-18T16:59:58.839Z"
   },
   {
    "duration": 10,
    "start_time": "2024-06-18T16:59:58.852Z"
   },
   {
    "duration": 9,
    "start_time": "2024-06-18T16:59:58.908Z"
   },
   {
    "duration": 18,
    "start_time": "2024-06-18T16:59:58.920Z"
   },
   {
    "duration": 8,
    "start_time": "2024-06-18T16:59:58.941Z"
   },
   {
    "duration": 89,
    "start_time": "2024-06-18T16:59:58.955Z"
   },
   {
    "duration": 66,
    "start_time": "2024-06-18T16:59:59.047Z"
   },
   {
    "duration": 11,
    "start_time": "2024-06-18T16:59:59.116Z"
   },
   {
    "duration": 129,
    "start_time": "2024-06-18T16:59:59.130Z"
   },
   {
    "duration": 820,
    "start_time": "2024-06-18T16:59:59.262Z"
   },
   {
    "duration": 8,
    "start_time": "2024-06-18T17:00:00.086Z"
   },
   {
    "duration": 0,
    "start_time": "2024-06-18T17:00:00.107Z"
   },
   {
    "duration": 0,
    "start_time": "2024-06-18T17:00:00.109Z"
   },
   {
    "duration": 0,
    "start_time": "2024-06-18T17:00:00.111Z"
   },
   {
    "duration": 0,
    "start_time": "2024-06-18T17:00:00.112Z"
   },
   {
    "duration": 0,
    "start_time": "2024-06-18T17:00:00.114Z"
   },
   {
    "duration": 0,
    "start_time": "2024-06-18T17:00:00.116Z"
   },
   {
    "duration": 0,
    "start_time": "2024-06-18T17:00:00.118Z"
   },
   {
    "duration": 6,
    "start_time": "2024-06-18T17:00:16.370Z"
   },
   {
    "duration": 534,
    "start_time": "2024-06-18T17:00:21.002Z"
   },
   {
    "duration": 371,
    "start_time": "2024-06-18T17:00:24.671Z"
   },
   {
    "duration": 611,
    "start_time": "2024-06-18T17:00:28.370Z"
   },
   {
    "duration": 699,
    "start_time": "2024-06-18T17:00:37.022Z"
   },
   {
    "duration": 466,
    "start_time": "2024-06-18T17:01:24.104Z"
   },
   {
    "duration": 637,
    "start_time": "2024-06-18T17:01:30.882Z"
   },
   {
    "duration": 312,
    "start_time": "2024-06-18T21:51:17.556Z"
   },
   {
    "duration": 4661,
    "start_time": "2024-06-18T21:51:23.922Z"
   },
   {
    "duration": 1776,
    "start_time": "2024-06-18T21:51:28.587Z"
   },
   {
    "duration": 28,
    "start_time": "2024-06-18T21:51:30.366Z"
   },
   {
    "duration": 19,
    "start_time": "2024-06-18T21:51:30.415Z"
   },
   {
    "duration": 21,
    "start_time": "2024-06-18T21:51:30.437Z"
   },
   {
    "duration": 54,
    "start_time": "2024-06-18T21:51:30.462Z"
   },
   {
    "duration": 43,
    "start_time": "2024-06-18T21:51:30.519Z"
   },
   {
    "duration": 391,
    "start_time": "2024-06-18T21:51:30.566Z"
   },
   {
    "duration": 22,
    "start_time": "2024-06-18T21:51:30.960Z"
   },
   {
    "duration": 209,
    "start_time": "2024-06-18T21:51:30.988Z"
   },
   {
    "duration": 188,
    "start_time": "2024-06-18T21:51:31.200Z"
   },
   {
    "duration": 60,
    "start_time": "2024-06-18T21:51:31.390Z"
   },
   {
    "duration": 28,
    "start_time": "2024-06-18T21:51:31.454Z"
   },
   {
    "duration": 19,
    "start_time": "2024-06-18T21:51:31.512Z"
   },
   {
    "duration": 78,
    "start_time": "2024-06-18T21:51:31.535Z"
   },
   {
    "duration": 28,
    "start_time": "2024-06-18T21:51:31.616Z"
   },
   {
    "duration": 7,
    "start_time": "2024-06-18T21:51:31.647Z"
   },
   {
    "duration": 6,
    "start_time": "2024-06-18T21:51:31.657Z"
   },
   {
    "duration": 49,
    "start_time": "2024-06-18T21:51:31.667Z"
   },
   {
    "duration": 6,
    "start_time": "2024-06-18T21:51:31.719Z"
   },
   {
    "duration": 1468,
    "start_time": "2024-06-18T21:51:31.729Z"
   },
   {
    "duration": 778,
    "start_time": "2024-06-18T21:51:33.201Z"
   },
   {
    "duration": 35,
    "start_time": "2024-06-18T21:51:33.984Z"
   },
   {
    "duration": 13,
    "start_time": "2024-06-18T21:51:34.022Z"
   },
   {
    "duration": 11,
    "start_time": "2024-06-18T21:51:34.040Z"
   },
   {
    "duration": 61,
    "start_time": "2024-06-18T21:51:34.054Z"
   },
   {
    "duration": 8,
    "start_time": "2024-06-18T21:51:34.119Z"
   },
   {
    "duration": 18,
    "start_time": "2024-06-18T21:51:34.134Z"
   },
   {
    "duration": 9,
    "start_time": "2024-06-18T21:51:34.155Z"
   },
   {
    "duration": 48,
    "start_time": "2024-06-18T21:51:34.213Z"
   },
   {
    "duration": 81,
    "start_time": "2024-06-18T21:51:34.264Z"
   },
   {
    "duration": 11,
    "start_time": "2024-06-18T21:51:34.348Z"
   },
   {
    "duration": 135,
    "start_time": "2024-06-18T21:51:34.362Z"
   },
   {
    "duration": 826,
    "start_time": "2024-06-18T21:51:34.500Z"
   },
   {
    "duration": 8,
    "start_time": "2024-06-18T21:51:35.329Z"
   },
   {
    "duration": 0,
    "start_time": "2024-06-18T21:51:35.341Z"
   },
   {
    "duration": 0,
    "start_time": "2024-06-18T21:51:35.343Z"
   },
   {
    "duration": 0,
    "start_time": "2024-06-18T21:51:35.345Z"
   },
   {
    "duration": 0,
    "start_time": "2024-06-18T21:51:35.348Z"
   },
   {
    "duration": 0,
    "start_time": "2024-06-18T21:51:35.350Z"
   },
   {
    "duration": 0,
    "start_time": "2024-06-18T21:51:35.352Z"
   },
   {
    "duration": 0,
    "start_time": "2024-06-18T21:51:35.355Z"
   },
   {
    "duration": 0,
    "start_time": "2024-06-18T21:51:35.361Z"
   },
   {
    "duration": 271,
    "start_time": "2024-06-18T21:51:44.893Z"
   },
   {
    "duration": 7,
    "start_time": "2024-06-18T21:52:09.749Z"
   },
   {
    "duration": 3,
    "start_time": "2024-06-18T21:52:20.983Z"
   },
   {
    "duration": 1509,
    "start_time": "2024-06-18T21:52:20.995Z"
   },
   {
    "duration": 23,
    "start_time": "2024-06-18T21:52:22.507Z"
   },
   {
    "duration": 21,
    "start_time": "2024-06-18T21:52:22.534Z"
   },
   {
    "duration": 57,
    "start_time": "2024-06-18T21:52:22.559Z"
   },
   {
    "duration": 15,
    "start_time": "2024-06-18T21:52:22.619Z"
   },
   {
    "duration": 39,
    "start_time": "2024-06-18T21:52:22.637Z"
   },
   {
    "duration": 315,
    "start_time": "2024-06-18T21:52:22.714Z"
   },
   {
    "duration": 19,
    "start_time": "2024-06-18T21:52:23.033Z"
   },
   {
    "duration": 217,
    "start_time": "2024-06-18T21:52:23.055Z"
   },
   {
    "duration": 177,
    "start_time": "2024-06-18T21:52:23.277Z"
   },
   {
    "duration": 69,
    "start_time": "2024-06-18T21:52:23.457Z"
   },
   {
    "duration": 22,
    "start_time": "2024-06-18T21:52:23.530Z"
   },
   {
    "duration": 15,
    "start_time": "2024-06-18T21:52:23.555Z"
   },
   {
    "duration": 83,
    "start_time": "2024-06-18T21:52:23.573Z"
   },
   {
    "duration": 55,
    "start_time": "2024-06-18T21:52:23.659Z"
   },
   {
    "duration": 5,
    "start_time": "2024-06-18T21:52:23.718Z"
   },
   {
    "duration": 6,
    "start_time": "2024-06-18T21:52:23.725Z"
   },
   {
    "duration": 7,
    "start_time": "2024-06-18T21:52:23.734Z"
   },
   {
    "duration": 6,
    "start_time": "2024-06-18T21:52:23.744Z"
   },
   {
    "duration": 1451,
    "start_time": "2024-06-18T21:52:23.753Z"
   },
   {
    "duration": 764,
    "start_time": "2024-06-18T21:52:25.212Z"
   },
   {
    "duration": 38,
    "start_time": "2024-06-18T21:52:25.979Z"
   },
   {
    "duration": 10,
    "start_time": "2024-06-18T21:52:26.020Z"
   },
   {
    "duration": 11,
    "start_time": "2024-06-18T21:52:26.034Z"
   },
   {
    "duration": 10,
    "start_time": "2024-06-18T21:52:26.048Z"
   },
   {
    "duration": 55,
    "start_time": "2024-06-18T21:52:26.062Z"
   },
   {
    "duration": 19,
    "start_time": "2024-06-18T21:52:26.121Z"
   },
   {
    "duration": 8,
    "start_time": "2024-06-18T21:52:26.147Z"
   },
   {
    "duration": 99,
    "start_time": "2024-06-18T21:52:26.159Z"
   },
   {
    "duration": 88,
    "start_time": "2024-06-18T21:52:26.262Z"
   },
   {
    "duration": 12,
    "start_time": "2024-06-18T21:52:26.353Z"
   },
   {
    "duration": 132,
    "start_time": "2024-06-18T21:52:26.368Z"
   },
   {
    "duration": 815,
    "start_time": "2024-06-18T21:52:26.503Z"
   },
   {
    "duration": 6,
    "start_time": "2024-06-18T21:52:27.322Z"
   },
   {
    "duration": 7,
    "start_time": "2024-06-18T21:52:27.332Z"
   },
   {
    "duration": 598,
    "start_time": "2024-06-18T21:52:27.342Z"
   },
   {
    "duration": 370,
    "start_time": "2024-06-18T21:52:27.942Z"
   },
   {
    "duration": 600,
    "start_time": "2024-06-18T21:52:28.316Z"
   },
   {
    "duration": 732,
    "start_time": "2024-06-18T21:52:28.920Z"
   },
   {
    "duration": 436,
    "start_time": "2024-06-18T21:52:29.655Z"
   },
   {
    "duration": 570,
    "start_time": "2024-06-18T21:52:30.095Z"
   },
   {
    "duration": 122,
    "start_time": "2024-06-18T21:53:22.713Z"
   },
   {
    "duration": 571,
    "start_time": "2024-06-18T21:54:36.857Z"
   },
   {
    "duration": 35,
    "start_time": "2024-06-18T21:56:18.152Z"
   },
   {
    "duration": 2085,
    "start_time": "2024-06-18T21:56:40.135Z"
   },
   {
    "duration": 1023,
    "start_time": "2024-06-18T21:57:39.349Z"
   },
   {
    "duration": 34,
    "start_time": "2024-06-18T22:01:32.934Z"
   },
   {
    "duration": 771,
    "start_time": "2024-06-18T22:02:08.818Z"
   },
   {
    "duration": 1210,
    "start_time": "2024-06-18T22:04:57.366Z"
   },
   {
    "duration": 841,
    "start_time": "2024-06-18T22:05:28.541Z"
   },
   {
    "duration": 854,
    "start_time": "2024-06-18T22:10:40.759Z"
   },
   {
    "duration": 822,
    "start_time": "2024-06-18T22:11:57.552Z"
   },
   {
    "duration": 173,
    "start_time": "2024-06-18T22:45:18.386Z"
   },
   {
    "duration": 167,
    "start_time": "2024-06-18T22:51:59.900Z"
   },
   {
    "duration": 474,
    "start_time": "2024-06-18T22:53:59.457Z"
   },
   {
    "duration": 196,
    "start_time": "2024-06-18T22:55:16.413Z"
   },
   {
    "duration": 166,
    "start_time": "2024-06-18T22:58:06.842Z"
   },
   {
    "duration": 639,
    "start_time": "2024-06-18T22:59:28.022Z"
   },
   {
    "duration": 3559,
    "start_time": "2024-06-18T22:59:48.269Z"
   },
   {
    "duration": 9,
    "start_time": "2024-06-18T23:01:44.117Z"
   },
   {
    "duration": 139,
    "start_time": "2024-06-18T23:01:55.108Z"
   },
   {
    "duration": 30,
    "start_time": "2024-06-19T00:49:07.657Z"
   },
   {
    "duration": 198,
    "start_time": "2024-06-19T00:49:37.125Z"
   },
   {
    "duration": 780,
    "start_time": "2024-06-19T00:52:12.121Z"
   },
   {
    "duration": 513,
    "start_time": "2024-06-19T01:19:40.493Z"
   },
   {
    "duration": 542,
    "start_time": "2024-06-19T01:20:39.406Z"
   },
   {
    "duration": 338,
    "start_time": "2024-06-19T01:25:09.462Z"
   },
   {
    "duration": 742,
    "start_time": "2024-06-19T01:25:13.462Z"
   },
   {
    "duration": 1707,
    "start_time": "2024-06-19T01:25:14.208Z"
   },
   {
    "duration": 24,
    "start_time": "2024-06-19T01:25:15.919Z"
   },
   {
    "duration": 24,
    "start_time": "2024-06-19T01:25:15.949Z"
   },
   {
    "duration": 50,
    "start_time": "2024-06-19T01:25:15.975Z"
   },
   {
    "duration": 17,
    "start_time": "2024-06-19T01:25:16.029Z"
   },
   {
    "duration": 94,
    "start_time": "2024-06-19T01:25:16.049Z"
   },
   {
    "duration": 358,
    "start_time": "2024-06-19T01:25:16.146Z"
   },
   {
    "duration": 22,
    "start_time": "2024-06-19T01:25:16.507Z"
   },
   {
    "duration": 214,
    "start_time": "2024-06-19T01:25:16.537Z"
   },
   {
    "duration": 190,
    "start_time": "2024-06-19T01:25:16.754Z"
   },
   {
    "duration": 67,
    "start_time": "2024-06-19T01:25:16.947Z"
   },
   {
    "duration": 28,
    "start_time": "2024-06-19T01:25:17.021Z"
   },
   {
    "duration": 13,
    "start_time": "2024-06-19T01:25:17.052Z"
   },
   {
    "duration": 88,
    "start_time": "2024-06-19T01:25:17.067Z"
   },
   {
    "duration": 60,
    "start_time": "2024-06-19T01:25:17.158Z"
   },
   {
    "duration": 6,
    "start_time": "2024-06-19T01:25:17.221Z"
   },
   {
    "duration": 6,
    "start_time": "2024-06-19T01:25:17.230Z"
   },
   {
    "duration": 6,
    "start_time": "2024-06-19T01:25:17.239Z"
   },
   {
    "duration": 5,
    "start_time": "2024-06-19T01:25:17.249Z"
   },
   {
    "duration": 1468,
    "start_time": "2024-06-19T01:25:17.259Z"
   },
   {
    "duration": 750,
    "start_time": "2024-06-19T01:25:18.731Z"
   },
   {
    "duration": 29,
    "start_time": "2024-06-19T01:25:19.484Z"
   },
   {
    "duration": 12,
    "start_time": "2024-06-19T01:25:19.517Z"
   },
   {
    "duration": 17,
    "start_time": "2024-06-19T01:25:19.533Z"
   },
   {
    "duration": 66,
    "start_time": "2024-06-19T01:25:19.554Z"
   },
   {
    "duration": 8,
    "start_time": "2024-06-19T01:25:19.624Z"
   },
   {
    "duration": 18,
    "start_time": "2024-06-19T01:25:19.640Z"
   },
   {
    "duration": 55,
    "start_time": "2024-06-19T01:25:19.661Z"
   },
   {
    "duration": 48,
    "start_time": "2024-06-19T01:25:19.721Z"
   },
   {
    "duration": 49,
    "start_time": "2024-06-19T01:25:19.813Z"
   },
   {
    "duration": 47,
    "start_time": "2024-06-19T01:25:19.865Z"
   },
   {
    "duration": 122,
    "start_time": "2024-06-19T01:25:19.915Z"
   },
   {
    "duration": 829,
    "start_time": "2024-06-19T01:25:20.040Z"
   },
   {
    "duration": 6,
    "start_time": "2024-06-19T01:25:20.873Z"
   },
   {
    "duration": 31,
    "start_time": "2024-06-19T01:25:20.881Z"
   },
   {
    "duration": 560,
    "start_time": "2024-06-19T01:25:20.915Z"
   },
   {
    "duration": 386,
    "start_time": "2024-06-19T01:25:21.479Z"
   },
   {
    "duration": 605,
    "start_time": "2024-06-19T01:25:21.868Z"
   },
   {
    "duration": 762,
    "start_time": "2024-06-19T01:25:22.476Z"
   },
   {
    "duration": 505,
    "start_time": "2024-06-19T01:25:23.241Z"
   },
   {
    "duration": 595,
    "start_time": "2024-06-19T01:25:23.749Z"
   },
   {
    "duration": 813,
    "start_time": "2024-06-19T01:25:24.347Z"
   },
   {
    "duration": 320,
    "start_time": "2024-06-19T01:25:49.042Z"
   },
   {
    "duration": 802,
    "start_time": "2024-06-19T01:25:58.869Z"
   },
   {
    "duration": 206,
    "start_time": "2024-06-19T01:26:08.446Z"
   },
   {
    "duration": 1051,
    "start_time": "2024-06-19T01:27:14.724Z"
   },
   {
    "duration": 9,
    "start_time": "2024-06-19T01:29:44.536Z"
   },
   {
    "duration": 181,
    "start_time": "2024-06-19T01:29:50.432Z"
   },
   {
    "duration": 190,
    "start_time": "2024-06-19T01:30:19.113Z"
   },
   {
    "duration": 138,
    "start_time": "2024-06-19T01:30:40.833Z"
   },
   {
    "duration": 131,
    "start_time": "2024-06-19T01:31:00.050Z"
   },
   {
    "duration": 1049,
    "start_time": "2024-06-19T01:32:27.169Z"
   },
   {
    "duration": 1052,
    "start_time": "2024-06-19T01:32:54.892Z"
   },
   {
    "duration": 980,
    "start_time": "2024-06-19T01:33:38.524Z"
   },
   {
    "duration": 758,
    "start_time": "2024-06-19T01:41:16.001Z"
   },
   {
    "duration": 739,
    "start_time": "2024-06-19T01:44:00.674Z"
   },
   {
    "duration": 440,
    "start_time": "2024-06-19T01:45:49.161Z"
   },
   {
    "duration": 492,
    "start_time": "2024-06-19T01:50:22.331Z"
   },
   {
    "duration": 519,
    "start_time": "2024-06-19T01:54:14.386Z"
   },
   {
    "duration": 115,
    "start_time": "2024-06-19T02:14:59.181Z"
   },
   {
    "duration": 160,
    "start_time": "2024-06-19T02:15:34.897Z"
   },
   {
    "duration": 118,
    "start_time": "2024-06-19T02:16:35.329Z"
   },
   {
    "duration": 180,
    "start_time": "2024-06-19T02:16:46.905Z"
   },
   {
    "duration": 189,
    "start_time": "2024-06-19T02:16:52.636Z"
   },
   {
    "duration": 154,
    "start_time": "2024-06-19T02:17:20.073Z"
   },
   {
    "duration": 167,
    "start_time": "2024-06-19T02:17:44.510Z"
   },
   {
    "duration": 191,
    "start_time": "2024-06-19T02:18:05.825Z"
   },
   {
    "duration": 116,
    "start_time": "2024-06-19T02:18:46.887Z"
   },
   {
    "duration": 192,
    "start_time": "2024-06-19T02:19:08.022Z"
   },
   {
    "duration": 184,
    "start_time": "2024-06-19T02:19:15.407Z"
   },
   {
    "duration": 191,
    "start_time": "2024-06-19T02:19:24.195Z"
   },
   {
    "duration": 13,
    "start_time": "2024-06-19T02:19:37.837Z"
   },
   {
    "duration": 515,
    "start_time": "2024-06-19T02:20:11.828Z"
   },
   {
    "duration": 10,
    "start_time": "2024-06-19T02:20:20.504Z"
   },
   {
    "duration": 23,
    "start_time": "2024-06-19T02:20:57.632Z"
   },
   {
    "duration": 5,
    "start_time": "2024-06-19T02:21:01.829Z"
   },
   {
    "duration": 16,
    "start_time": "2024-06-19T02:21:10.630Z"
   },
   {
    "duration": 14,
    "start_time": "2024-06-19T02:21:28.142Z"
   },
   {
    "duration": 10,
    "start_time": "2024-06-19T02:21:33.271Z"
   },
   {
    "duration": 16,
    "start_time": "2024-06-19T02:21:57.283Z"
   },
   {
    "duration": 205,
    "start_time": "2024-06-19T02:22:12.231Z"
   },
   {
    "duration": 187,
    "start_time": "2024-06-19T02:22:32.009Z"
   },
   {
    "duration": 9,
    "start_time": "2024-06-19T02:23:30.641Z"
   },
   {
    "duration": 65,
    "start_time": "2024-06-19T02:23:50.786Z"
   },
   {
    "duration": 66,
    "start_time": "2024-06-19T02:24:03.402Z"
   },
   {
    "duration": 216,
    "start_time": "2024-06-19T02:24:42.884Z"
   },
   {
    "duration": 7,
    "start_time": "2024-06-19T02:25:00.017Z"
   },
   {
    "duration": 6,
    "start_time": "2024-06-19T02:25:13.383Z"
   },
   {
    "duration": 79,
    "start_time": "2024-06-19T02:25:46.881Z"
   },
   {
    "duration": 82,
    "start_time": "2024-06-19T02:26:09.756Z"
   },
   {
    "duration": 84,
    "start_time": "2024-06-19T02:26:27.281Z"
   },
   {
    "duration": 15,
    "start_time": "2024-06-19T02:27:11.690Z"
   },
   {
    "duration": 5,
    "start_time": "2024-06-19T02:28:26.314Z"
   },
   {
    "duration": 180,
    "start_time": "2024-06-19T02:31:26.187Z"
   },
   {
    "duration": 384,
    "start_time": "2024-06-22T19:30:18.119Z"
   },
   {
    "duration": 4483,
    "start_time": "2024-06-22T19:30:23.075Z"
   },
   {
    "duration": 1751,
    "start_time": "2024-06-22T19:30:27.562Z"
   },
   {
    "duration": 23,
    "start_time": "2024-06-22T19:30:29.315Z"
   },
   {
    "duration": 19,
    "start_time": "2024-06-22T19:30:29.342Z"
   },
   {
    "duration": 55,
    "start_time": "2024-06-22T19:30:29.365Z"
   },
   {
    "duration": 16,
    "start_time": "2024-06-22T19:30:29.423Z"
   },
   {
    "duration": 81,
    "start_time": "2024-06-22T19:30:29.441Z"
   },
   {
    "duration": 329,
    "start_time": "2024-06-22T19:30:29.526Z"
   },
   {
    "duration": 18,
    "start_time": "2024-06-22T19:30:29.858Z"
   },
   {
    "duration": 202,
    "start_time": "2024-06-22T19:30:29.882Z"
   },
   {
    "duration": 179,
    "start_time": "2024-06-22T19:30:30.087Z"
   },
   {
    "duration": 56,
    "start_time": "2024-06-22T19:30:30.270Z"
   },
   {
    "duration": 22,
    "start_time": "2024-06-22T19:30:30.330Z"
   },
   {
    "duration": 14,
    "start_time": "2024-06-22T19:30:30.355Z"
   },
   {
    "duration": 78,
    "start_time": "2024-06-22T19:30:30.375Z"
   },
   {
    "duration": 25,
    "start_time": "2024-06-22T19:30:30.457Z"
   },
   {
    "duration": 6,
    "start_time": "2024-06-22T19:30:30.513Z"
   },
   {
    "duration": 5,
    "start_time": "2024-06-22T19:30:30.522Z"
   },
   {
    "duration": 8,
    "start_time": "2024-06-22T19:30:30.530Z"
   },
   {
    "duration": 6,
    "start_time": "2024-06-22T19:30:30.540Z"
   },
   {
    "duration": 1429,
    "start_time": "2024-06-22T19:30:30.549Z"
   },
   {
    "duration": 752,
    "start_time": "2024-06-22T19:30:31.981Z"
   },
   {
    "duration": 13,
    "start_time": "2024-06-22T19:30:32.736Z"
   },
   {
    "duration": 12,
    "start_time": "2024-06-22T19:30:32.756Z"
   },
   {
    "duration": 48,
    "start_time": "2024-06-22T19:30:32.772Z"
   },
   {
    "duration": 12,
    "start_time": "2024-06-22T19:30:32.824Z"
   },
   {
    "duration": 10,
    "start_time": "2024-06-22T19:30:32.840Z"
   },
   {
    "duration": 66,
    "start_time": "2024-06-22T19:30:32.858Z"
   },
   {
    "duration": 8,
    "start_time": "2024-06-22T19:30:32.927Z"
   },
   {
    "duration": 92,
    "start_time": "2024-06-22T19:30:32.938Z"
   },
   {
    "duration": 52,
    "start_time": "2024-06-22T19:30:33.033Z"
   },
   {
    "duration": 33,
    "start_time": "2024-06-22T19:30:33.089Z"
   },
   {
    "duration": 125,
    "start_time": "2024-06-22T19:30:33.127Z"
   },
   {
    "duration": 843,
    "start_time": "2024-06-22T19:30:33.255Z"
   },
   {
    "duration": 16,
    "start_time": "2024-06-22T19:30:34.101Z"
   },
   {
    "duration": 7,
    "start_time": "2024-06-22T19:30:34.119Z"
   },
   {
    "duration": 587,
    "start_time": "2024-06-22T19:30:34.130Z"
   },
   {
    "duration": 398,
    "start_time": "2024-06-22T19:30:34.721Z"
   },
   {
    "duration": 581,
    "start_time": "2024-06-22T19:30:35.122Z"
   },
   {
    "duration": 744,
    "start_time": "2024-06-22T19:31:52.446Z"
   },
   {
    "duration": 937,
    "start_time": "2024-06-22T19:36:19.799Z"
   },
   {
    "duration": 9,
    "start_time": "2024-06-22T19:59:59.853Z"
   },
   {
    "duration": 532,
    "start_time": "2024-06-22T20:00:31.199Z"
   },
   {
    "duration": 318,
    "start_time": "2024-06-25T17:10:34.064Z"
   },
   {
    "duration": 4484,
    "start_time": "2024-06-25T17:10:42.662Z"
   },
   {
    "duration": 1717,
    "start_time": "2024-06-25T17:10:47.149Z"
   },
   {
    "duration": 23,
    "start_time": "2024-06-25T17:10:48.869Z"
   },
   {
    "duration": 41,
    "start_time": "2024-06-25T17:10:48.897Z"
   },
   {
    "duration": 17,
    "start_time": "2024-06-25T17:10:48.942Z"
   },
   {
    "duration": 18,
    "start_time": "2024-06-25T17:10:48.962Z"
   },
   {
    "duration": 73,
    "start_time": "2024-06-25T17:10:48.986Z"
   },
   {
    "duration": 357,
    "start_time": "2024-06-25T17:10:49.061Z"
   },
   {
    "duration": 25,
    "start_time": "2024-06-25T17:10:49.421Z"
   },
   {
    "duration": 191,
    "start_time": "2024-06-25T17:10:49.453Z"
   },
   {
    "duration": 168,
    "start_time": "2024-06-25T17:10:49.647Z"
   },
   {
    "duration": 56,
    "start_time": "2024-06-25T17:10:49.818Z"
   },
   {
    "duration": 22,
    "start_time": "2024-06-25T17:10:49.877Z"
   },
   {
    "duration": 38,
    "start_time": "2024-06-25T17:10:49.902Z"
   },
   {
    "duration": 48,
    "start_time": "2024-06-25T17:10:49.943Z"
   },
   {
    "duration": 49,
    "start_time": "2024-06-25T17:10:49.994Z"
   },
   {
    "duration": 6,
    "start_time": "2024-06-25T17:10:50.046Z"
   },
   {
    "duration": 6,
    "start_time": "2024-06-25T17:10:50.054Z"
   },
   {
    "duration": 6,
    "start_time": "2024-06-25T17:10:50.062Z"
   },
   {
    "duration": 6,
    "start_time": "2024-06-25T17:10:50.071Z"
   },
   {
    "duration": 1420,
    "start_time": "2024-06-25T17:10:50.080Z"
   },
   {
    "duration": 790,
    "start_time": "2024-06-25T17:10:51.504Z"
   },
   {
    "duration": 11,
    "start_time": "2024-06-25T17:10:52.298Z"
   },
   {
    "duration": 29,
    "start_time": "2024-06-25T17:10:52.312Z"
   },
   {
    "duration": 10,
    "start_time": "2024-06-25T17:10:52.344Z"
   },
   {
    "duration": 10,
    "start_time": "2024-06-25T17:10:52.358Z"
   },
   {
    "duration": 7,
    "start_time": "2024-06-25T17:10:52.371Z"
   },
   {
    "duration": 19,
    "start_time": "2024-06-25T17:10:52.431Z"
   },
   {
    "duration": 12,
    "start_time": "2024-06-25T17:10:52.453Z"
   },
   {
    "duration": 84,
    "start_time": "2024-06-25T17:10:52.469Z"
   },
   {
    "duration": 49,
    "start_time": "2024-06-25T17:10:52.556Z"
   },
   {
    "duration": 27,
    "start_time": "2024-06-25T17:10:52.608Z"
   },
   {
    "duration": 131,
    "start_time": "2024-06-25T17:10:52.638Z"
   },
   {
    "duration": 816,
    "start_time": "2024-06-25T17:10:52.772Z"
   },
   {
    "duration": 5,
    "start_time": "2024-06-25T17:10:53.594Z"
   },
   {
    "duration": 27,
    "start_time": "2024-06-25T17:10:53.603Z"
   },
   {
    "duration": 567,
    "start_time": "2024-06-25T17:10:53.633Z"
   },
   {
    "duration": 370,
    "start_time": "2024-06-25T17:10:54.205Z"
   },
   {
    "duration": 596,
    "start_time": "2024-06-25T17:10:54.579Z"
   },
   {
    "duration": 468,
    "start_time": "2024-06-25T17:10:55.178Z"
   },
   {
    "duration": 539,
    "start_time": "2024-06-25T17:10:55.649Z"
   },
   {
    "duration": 596,
    "start_time": "2024-06-25T17:10:56.191Z"
   },
   {
    "duration": 828,
    "start_time": "2024-06-25T17:10:56.791Z"
   },
   {
    "duration": 631,
    "start_time": "2024-06-25T17:10:57.623Z"
   },
   {
    "duration": 218,
    "start_time": "2024-06-25T17:11:27.989Z"
   },
   {
    "duration": 1226,
    "start_time": "2024-06-25T17:17:51.052Z"
   },
   {
    "duration": 590,
    "start_time": "2024-06-25T17:18:14.988Z"
   },
   {
    "duration": 632,
    "start_time": "2024-06-25T17:18:41.705Z"
   },
   {
    "duration": 197,
    "start_time": "2024-06-25T17:19:11.763Z"
   },
   {
    "duration": 174,
    "start_time": "2024-06-25T17:19:18.335Z"
   },
   {
    "duration": 628,
    "start_time": "2024-06-25T17:19:41.540Z"
   },
   {
    "duration": 354,
    "start_time": "2024-06-25T18:41:59.770Z"
   },
   {
    "duration": 4347,
    "start_time": "2024-06-25T18:42:09.845Z"
   },
   {
    "duration": 1722,
    "start_time": "2024-06-25T18:42:14.196Z"
   },
   {
    "duration": 24,
    "start_time": "2024-06-25T18:42:15.922Z"
   },
   {
    "duration": 19,
    "start_time": "2024-06-25T18:42:15.951Z"
   },
   {
    "duration": 53,
    "start_time": "2024-06-25T18:42:15.973Z"
   },
   {
    "duration": 16,
    "start_time": "2024-06-25T18:42:16.029Z"
   },
   {
    "duration": 43,
    "start_time": "2024-06-25T18:42:16.049Z"
   },
   {
    "duration": 338,
    "start_time": "2024-06-25T18:42:16.123Z"
   },
   {
    "duration": 20,
    "start_time": "2024-06-25T18:42:16.467Z"
   },
   {
    "duration": 216,
    "start_time": "2024-06-25T18:42:16.496Z"
   },
   {
    "duration": 175,
    "start_time": "2024-06-25T18:42:16.715Z"
   },
   {
    "duration": 59,
    "start_time": "2024-06-25T18:42:16.892Z"
   },
   {
    "duration": 21,
    "start_time": "2024-06-25T18:42:16.954Z"
   },
   {
    "duration": 13,
    "start_time": "2024-06-25T18:42:16.978Z"
   },
   {
    "duration": 70,
    "start_time": "2024-06-25T18:42:16.994Z"
   },
   {
    "duration": 24,
    "start_time": "2024-06-25T18:42:17.067Z"
   },
   {
    "duration": 8,
    "start_time": "2024-06-25T18:42:17.122Z"
   },
   {
    "duration": 6,
    "start_time": "2024-06-25T18:42:17.132Z"
   },
   {
    "duration": 5,
    "start_time": "2024-06-25T18:42:17.141Z"
   },
   {
    "duration": 6,
    "start_time": "2024-06-25T18:42:17.149Z"
   },
   {
    "duration": 1374,
    "start_time": "2024-06-25T18:42:17.158Z"
   },
   {
    "duration": 716,
    "start_time": "2024-06-25T18:42:18.536Z"
   },
   {
    "duration": 13,
    "start_time": "2024-06-25T18:42:19.255Z"
   },
   {
    "duration": 10,
    "start_time": "2024-06-25T18:42:19.271Z"
   },
   {
    "duration": 39,
    "start_time": "2024-06-25T18:42:19.285Z"
   },
   {
    "duration": 10,
    "start_time": "2024-06-25T18:42:19.327Z"
   },
   {
    "duration": 9,
    "start_time": "2024-06-25T18:42:19.340Z"
   },
   {
    "duration": 17,
    "start_time": "2024-06-25T18:42:19.357Z"
   },
   {
    "duration": 47,
    "start_time": "2024-06-25T18:42:19.378Z"
   },
   {
    "duration": 47,
    "start_time": "2024-06-25T18:42:19.428Z"
   },
   {
    "duration": 82,
    "start_time": "2024-06-25T18:42:19.478Z"
   },
   {
    "duration": 12,
    "start_time": "2024-06-25T18:42:19.563Z"
   },
   {
    "duration": 134,
    "start_time": "2024-06-25T18:42:19.578Z"
   },
   {
    "duration": 845,
    "start_time": "2024-06-25T18:42:19.716Z"
   },
   {
    "duration": 7,
    "start_time": "2024-06-25T18:42:20.564Z"
   },
   {
    "duration": 6,
    "start_time": "2024-06-25T18:42:20.577Z"
   },
   {
    "duration": 671,
    "start_time": "2024-06-25T18:42:20.586Z"
   },
   {
    "duration": 363,
    "start_time": "2024-06-25T18:42:21.260Z"
   },
   {
    "duration": 579,
    "start_time": "2024-06-25T18:42:21.626Z"
   },
   {
    "duration": 462,
    "start_time": "2024-06-25T18:42:22.209Z"
   },
   {
    "duration": 430,
    "start_time": "2024-06-25T18:42:22.675Z"
   },
   {
    "duration": 603,
    "start_time": "2024-06-25T18:42:23.108Z"
   },
   {
    "duration": 794,
    "start_time": "2024-06-25T18:42:23.715Z"
   },
   {
    "duration": 885,
    "start_time": "2024-06-25T18:42:24.512Z"
   },
   {
    "duration": 582,
    "start_time": "2024-06-25T18:42:54.288Z"
   },
   {
    "duration": 585,
    "start_time": "2024-06-25T18:43:34.212Z"
   },
   {
    "duration": 164,
    "start_time": "2024-06-25T19:33:21.665Z"
   },
   {
    "duration": 145,
    "start_time": "2024-06-25T19:38:16.373Z"
   },
   {
    "duration": 5176,
    "start_time": "2024-06-25T19:40:38.341Z"
   },
   {
    "duration": 5217,
    "start_time": "2024-06-25T19:40:55.026Z"
   },
   {
    "duration": 167,
    "start_time": "2024-06-25T19:44:03.795Z"
   },
   {
    "duration": 145,
    "start_time": "2024-06-25T19:52:15.726Z"
   },
   {
    "duration": 150,
    "start_time": "2024-06-25T19:52:28.418Z"
   },
   {
    "duration": 5205,
    "start_time": "2024-06-25T19:52:44.152Z"
   },
   {
    "duration": 148,
    "start_time": "2024-06-25T19:57:08.489Z"
   },
   {
    "duration": 350,
    "start_time": "2024-06-25T19:57:42.875Z"
   },
   {
    "duration": 346,
    "start_time": "2024-06-25T19:58:25.947Z"
   },
   {
    "duration": 155,
    "start_time": "2024-06-25T19:58:41.780Z"
   },
   {
    "duration": 304,
    "start_time": "2024-06-25T20:04:18.089Z"
   },
   {
    "duration": 736,
    "start_time": "2024-06-25T20:04:27.948Z"
   },
   {
    "duration": 1726,
    "start_time": "2024-06-25T20:04:28.689Z"
   },
   {
    "duration": 24,
    "start_time": "2024-06-25T20:04:30.422Z"
   },
   {
    "duration": 19,
    "start_time": "2024-06-25T20:04:30.450Z"
   },
   {
    "duration": 51,
    "start_time": "2024-06-25T20:04:30.472Z"
   },
   {
    "duration": 16,
    "start_time": "2024-06-25T20:04:30.531Z"
   },
   {
    "duration": 75,
    "start_time": "2024-06-25T20:04:30.550Z"
   },
   {
    "duration": 366,
    "start_time": "2024-06-25T20:04:30.628Z"
   },
   {
    "duration": 35,
    "start_time": "2024-06-25T20:04:30.997Z"
   },
   {
    "duration": 201,
    "start_time": "2024-06-25T20:04:31.038Z"
   },
   {
    "duration": 172,
    "start_time": "2024-06-25T20:04:31.242Z"
   },
   {
    "duration": 45,
    "start_time": "2024-06-25T20:04:31.422Z"
   },
   {
    "duration": 26,
    "start_time": "2024-06-25T20:04:31.471Z"
   },
   {
    "duration": 14,
    "start_time": "2024-06-25T20:04:31.524Z"
   },
   {
    "duration": 47,
    "start_time": "2024-06-25T20:04:31.541Z"
   },
   {
    "duration": 24,
    "start_time": "2024-06-25T20:04:31.624Z"
   },
   {
    "duration": 6,
    "start_time": "2024-06-25T20:04:31.651Z"
   },
   {
    "duration": 6,
    "start_time": "2024-06-25T20:04:31.660Z"
   },
   {
    "duration": 54,
    "start_time": "2024-06-25T20:04:31.669Z"
   },
   {
    "duration": 6,
    "start_time": "2024-06-25T20:04:31.727Z"
   },
   {
    "duration": 1357,
    "start_time": "2024-06-25T20:04:31.736Z"
   },
   {
    "duration": 738,
    "start_time": "2024-06-25T20:04:33.097Z"
   },
   {
    "duration": 16,
    "start_time": "2024-06-25T20:04:33.838Z"
   },
   {
    "duration": 14,
    "start_time": "2024-06-25T20:04:33.857Z"
   },
   {
    "duration": 50,
    "start_time": "2024-06-25T20:04:33.874Z"
   },
   {
    "duration": 10,
    "start_time": "2024-06-25T20:04:33.927Z"
   },
   {
    "duration": 9,
    "start_time": "2024-06-25T20:04:33.940Z"
   },
   {
    "duration": 19,
    "start_time": "2024-06-25T20:04:33.958Z"
   },
   {
    "duration": 8,
    "start_time": "2024-06-25T20:04:34.024Z"
   },
   {
    "duration": 46,
    "start_time": "2024-06-25T20:04:34.036Z"
   },
   {
    "duration": 87,
    "start_time": "2024-06-25T20:04:34.085Z"
   },
   {
    "duration": 12,
    "start_time": "2024-06-25T20:04:34.175Z"
   },
   {
    "duration": 117,
    "start_time": "2024-06-25T20:04:34.223Z"
   },
   {
    "duration": 828,
    "start_time": "2024-06-25T20:04:34.344Z"
   },
   {
    "duration": 6,
    "start_time": "2024-06-25T20:04:35.176Z"
   },
   {
    "duration": 7,
    "start_time": "2024-06-25T20:04:35.185Z"
   },
   {
    "duration": 567,
    "start_time": "2024-06-25T20:04:35.223Z"
   },
   {
    "duration": 363,
    "start_time": "2024-06-25T20:04:35.793Z"
   },
   {
    "duration": 603,
    "start_time": "2024-06-25T20:04:36.160Z"
   },
   {
    "duration": 463,
    "start_time": "2024-06-25T20:04:36.767Z"
   },
   {
    "duration": 4,
    "start_time": "2024-06-25T20:04:40.545Z"
   },
   {
    "duration": 4,
    "start_time": "2024-06-25T20:04:51.949Z"
   },
   {
    "duration": 1476,
    "start_time": "2024-06-25T20:04:51.956Z"
   },
   {
    "duration": 21,
    "start_time": "2024-06-25T20:04:53.435Z"
   },
   {
    "duration": 20,
    "start_time": "2024-06-25T20:04:53.459Z"
   },
   {
    "duration": 51,
    "start_time": "2024-06-25T20:04:53.482Z"
   },
   {
    "duration": 17,
    "start_time": "2024-06-25T20:04:53.536Z"
   },
   {
    "duration": 79,
    "start_time": "2024-06-25T20:04:53.556Z"
   },
   {
    "duration": 294,
    "start_time": "2024-06-25T20:04:53.638Z"
   },
   {
    "duration": 17,
    "start_time": "2024-06-25T20:04:53.935Z"
   },
   {
    "duration": 180,
    "start_time": "2024-06-25T20:04:53.954Z"
   },
   {
    "duration": 157,
    "start_time": "2024-06-25T20:04:54.136Z"
   },
   {
    "duration": 56,
    "start_time": "2024-06-25T20:04:54.297Z"
   },
   {
    "duration": 22,
    "start_time": "2024-06-25T20:04:54.356Z"
   },
   {
    "duration": 44,
    "start_time": "2024-06-25T20:04:54.382Z"
   },
   {
    "duration": 54,
    "start_time": "2024-06-25T20:04:54.429Z"
   },
   {
    "duration": 53,
    "start_time": "2024-06-25T20:04:54.486Z"
   },
   {
    "duration": 7,
    "start_time": "2024-06-25T20:04:54.543Z"
   },
   {
    "duration": 6,
    "start_time": "2024-06-25T20:04:54.554Z"
   },
   {
    "duration": 8,
    "start_time": "2024-06-25T20:04:54.563Z"
   },
   {
    "duration": 52,
    "start_time": "2024-06-25T20:04:54.574Z"
   },
   {
    "duration": 1373,
    "start_time": "2024-06-25T20:04:54.629Z"
   },
   {
    "duration": 718,
    "start_time": "2024-06-25T20:04:56.005Z"
   },
   {
    "duration": 18,
    "start_time": "2024-06-25T20:04:56.727Z"
   },
   {
    "duration": 11,
    "start_time": "2024-06-25T20:04:56.749Z"
   },
   {
    "duration": 13,
    "start_time": "2024-06-25T20:04:56.763Z"
   },
   {
    "duration": 12,
    "start_time": "2024-06-25T20:04:56.823Z"
   },
   {
    "duration": 11,
    "start_time": "2024-06-25T20:04:56.838Z"
   },
   {
    "duration": 19,
    "start_time": "2024-06-25T20:04:56.851Z"
   },
   {
    "duration": 51,
    "start_time": "2024-06-25T20:04:56.874Z"
   },
   {
    "duration": 42,
    "start_time": "2024-06-25T20:04:56.928Z"
   },
   {
    "duration": 88,
    "start_time": "2024-06-25T20:04:56.974Z"
   },
   {
    "duration": 12,
    "start_time": "2024-06-25T20:04:57.065Z"
   },
   {
    "duration": 135,
    "start_time": "2024-06-25T20:04:57.080Z"
   },
   {
    "duration": 844,
    "start_time": "2024-06-25T20:04:57.222Z"
   },
   {
    "duration": 6,
    "start_time": "2024-06-25T20:04:58.069Z"
   },
   {
    "duration": 8,
    "start_time": "2024-06-25T20:04:58.079Z"
   },
   {
    "duration": 550,
    "start_time": "2024-06-25T20:04:58.090Z"
   },
   {
    "duration": 376,
    "start_time": "2024-06-25T20:04:58.643Z"
   },
   {
    "duration": 566,
    "start_time": "2024-06-25T20:04:59.024Z"
   },
   {
    "duration": 503,
    "start_time": "2024-06-25T20:04:59.593Z"
   },
   {
    "duration": 512,
    "start_time": "2024-06-25T20:05:00.100Z"
   },
   {
    "duration": 585,
    "start_time": "2024-06-25T20:05:00.615Z"
   },
   {
    "duration": 787,
    "start_time": "2024-06-25T20:05:01.204Z"
   },
   {
    "duration": 676,
    "start_time": "2024-06-25T20:05:01.994Z"
   },
   {
    "duration": 535,
    "start_time": "2024-06-25T20:05:02.673Z"
   },
   {
    "duration": 811,
    "start_time": "2024-06-25T20:05:15.759Z"
   },
   {
    "duration": 315,
    "start_time": "2024-06-25T20:08:59.347Z"
   },
   {
    "duration": 366,
    "start_time": "2024-06-25T20:10:07.330Z"
   },
   {
    "duration": 400,
    "start_time": "2024-06-25T20:41:50.425Z"
   },
   {
    "duration": 848,
    "start_time": "2024-06-25T20:58:41.154Z"
   },
   {
    "duration": 1279,
    "start_time": "2024-06-25T21:01:07.273Z"
   },
   {
    "duration": 275,
    "start_time": "2024-06-25T21:02:07.206Z"
   },
   {
    "duration": 95,
    "start_time": "2024-06-25T21:02:15.327Z"
   },
   {
    "duration": 263,
    "start_time": "2024-06-25T21:04:27.632Z"
   },
   {
    "duration": 1257,
    "start_time": "2024-06-25T21:05:54.484Z"
   },
   {
    "duration": 96,
    "start_time": "2024-06-25T21:07:46.448Z"
   },
   {
    "duration": 1189,
    "start_time": "2024-06-25T21:08:16.014Z"
   },
   {
    "duration": 205,
    "start_time": "2024-06-25T21:08:28.399Z"
   },
   {
    "duration": 1111,
    "start_time": "2024-06-25T21:08:34.042Z"
   },
   {
    "duration": 1255,
    "start_time": "2024-06-25T21:08:57.850Z"
   },
   {
    "duration": 22,
    "start_time": "2024-06-25T21:12:46.909Z"
   },
   {
    "duration": 1155,
    "start_time": "2024-06-25T21:12:54.622Z"
   },
   {
    "duration": 413,
    "start_time": "2024-06-25T21:12:58.023Z"
   },
   {
    "duration": 1185,
    "start_time": "2024-06-25T21:13:46.688Z"
   },
   {
    "duration": 64,
    "start_time": "2024-06-25T22:12:40.238Z"
   },
   {
    "duration": 471,
    "start_time": "2024-06-25T22:13:56.216Z"
   },
   {
    "duration": 311,
    "start_time": "2024-06-26T04:19:55.086Z"
   },
   {
    "duration": 4539,
    "start_time": "2024-06-26T04:20:16.117Z"
   },
   {
    "duration": 1958,
    "start_time": "2024-06-26T04:20:20.659Z"
   },
   {
    "duration": 28,
    "start_time": "2024-06-26T04:20:22.620Z"
   },
   {
    "duration": 19,
    "start_time": "2024-06-26T04:20:22.653Z"
   },
   {
    "duration": 16,
    "start_time": "2024-06-26T04:20:22.676Z"
   },
   {
    "duration": 48,
    "start_time": "2024-06-26T04:20:22.695Z"
   },
   {
    "duration": 43,
    "start_time": "2024-06-26T04:20:22.745Z"
   },
   {
    "duration": 345,
    "start_time": "2024-06-26T04:20:22.791Z"
   },
   {
    "duration": 21,
    "start_time": "2024-06-26T04:20:23.139Z"
   },
   {
    "duration": 200,
    "start_time": "2024-06-26T04:20:23.166Z"
   },
   {
    "duration": 184,
    "start_time": "2024-06-26T04:20:23.371Z"
   },
   {
    "duration": 47,
    "start_time": "2024-06-26T04:20:23.558Z"
   },
   {
    "duration": 41,
    "start_time": "2024-06-26T04:20:23.609Z"
   },
   {
    "duration": 13,
    "start_time": "2024-06-26T04:20:23.653Z"
   },
   {
    "duration": 70,
    "start_time": "2024-06-26T04:20:23.669Z"
   },
   {
    "duration": 24,
    "start_time": "2024-06-26T04:20:23.741Z"
   },
   {
    "duration": 6,
    "start_time": "2024-06-26T04:20:23.767Z"
   },
   {
    "duration": 5,
    "start_time": "2024-06-26T04:20:23.777Z"
   },
   {
    "duration": 47,
    "start_time": "2024-06-26T04:20:23.786Z"
   },
   {
    "duration": 5,
    "start_time": "2024-06-26T04:20:23.837Z"
   },
   {
    "duration": 1361,
    "start_time": "2024-06-26T04:20:23.845Z"
   },
   {
    "duration": 768,
    "start_time": "2024-06-26T04:20:25.210Z"
   },
   {
    "duration": 13,
    "start_time": "2024-06-26T04:20:25.981Z"
   },
   {
    "duration": 36,
    "start_time": "2024-06-26T04:20:25.997Z"
   },
   {
    "duration": 9,
    "start_time": "2024-06-26T04:20:26.037Z"
   },
   {
    "duration": 10,
    "start_time": "2024-06-26T04:20:26.049Z"
   },
   {
    "duration": 7,
    "start_time": "2024-06-26T04:20:26.063Z"
   },
   {
    "duration": 58,
    "start_time": "2024-06-26T04:20:26.078Z"
   },
   {
    "duration": 9,
    "start_time": "2024-06-26T04:20:26.139Z"
   },
   {
    "duration": 46,
    "start_time": "2024-06-26T04:20:26.151Z"
   },
   {
    "duration": 49,
    "start_time": "2024-06-26T04:20:26.232Z"
   },
   {
    "duration": 10,
    "start_time": "2024-06-26T04:20:26.284Z"
   },
   {
    "duration": 141,
    "start_time": "2024-06-26T04:20:26.297Z"
   },
   {
    "duration": 844,
    "start_time": "2024-06-26T04:20:26.441Z"
   },
   {
    "duration": 6,
    "start_time": "2024-06-26T04:20:27.288Z"
   },
   {
    "duration": 7,
    "start_time": "2024-06-26T04:20:27.297Z"
   },
   {
    "duration": 550,
    "start_time": "2024-06-26T04:20:27.333Z"
   },
   {
    "duration": 363,
    "start_time": "2024-06-26T04:20:27.886Z"
   },
   {
    "duration": 620,
    "start_time": "2024-06-26T04:20:28.252Z"
   },
   {
    "duration": 460,
    "start_time": "2024-06-26T04:20:28.876Z"
   },
   {
    "duration": 420,
    "start_time": "2024-06-26T04:20:29.340Z"
   },
   {
    "duration": 590,
    "start_time": "2024-06-26T04:20:29.763Z"
   },
   {
    "duration": 786,
    "start_time": "2024-06-26T04:20:30.356Z"
   },
   {
    "duration": 658,
    "start_time": "2024-06-26T04:20:31.146Z"
   },
   {
    "duration": 626,
    "start_time": "2024-06-26T04:20:31.808Z"
   },
   {
    "duration": 396,
    "start_time": "2024-06-26T04:20:32.438Z"
   },
   {
    "duration": 1262,
    "start_time": "2024-06-26T04:20:32.837Z"
   },
   {
    "duration": 431,
    "start_time": "2024-06-26T04:20:34.103Z"
   },
   {
    "duration": 486,
    "start_time": "2024-06-26T04:20:34.537Z"
   },
   {
    "duration": 631,
    "start_time": "2024-06-26T04:23:03.154Z"
   },
   {
    "duration": 396,
    "start_time": "2024-06-26T04:34:54.001Z"
   },
   {
    "duration": 444,
    "start_time": "2024-06-26T04:37:18.656Z"
   },
   {
    "duration": 10,
    "start_time": "2024-06-26T04:40:23.326Z"
   },
   {
    "duration": 446,
    "start_time": "2024-06-26T04:40:34.989Z"
   },
   {
    "duration": 445,
    "start_time": "2024-06-26T04:41:14.195Z"
   },
   {
    "duration": 531,
    "start_time": "2024-06-26T04:43:12.530Z"
   },
   {
    "duration": 443,
    "start_time": "2024-06-26T04:44:13.306Z"
   },
   {
    "duration": 501,
    "start_time": "2024-06-26T04:46:24.917Z"
   },
   {
    "duration": 465,
    "start_time": "2024-06-26T04:46:50.079Z"
   },
   {
    "duration": 446,
    "start_time": "2024-06-26T05:08:21.313Z"
   },
   {
    "duration": 796,
    "start_time": "2024-06-26T05:10:12.471Z"
   },
   {
    "duration": 817,
    "start_time": "2024-06-26T05:11:31.461Z"
   },
   {
    "duration": 785,
    "start_time": "2024-06-26T05:12:37.788Z"
   },
   {
    "duration": 487,
    "start_time": "2024-06-26T05:13:08.653Z"
   },
   {
    "duration": 395,
    "start_time": "2024-06-26T05:28:12.572Z"
   },
   {
    "duration": 412,
    "start_time": "2024-06-26T05:33:46.214Z"
   },
   {
    "duration": 353,
    "start_time": "2024-06-26T05:38:02.156Z"
   },
   {
    "duration": 219,
    "start_time": "2024-06-26T05:38:22.146Z"
   },
   {
    "duration": 412,
    "start_time": "2024-06-26T05:38:48.214Z"
   },
   {
    "duration": 598,
    "start_time": "2024-06-26T05:49:32.084Z"
   },
   {
    "duration": 8,
    "start_time": "2024-06-26T05:56:53.447Z"
   },
   {
    "duration": 579,
    "start_time": "2024-06-26T05:58:54.146Z"
   },
   {
    "duration": 9,
    "start_time": "2024-06-26T05:59:32.843Z"
   },
   {
    "duration": 545,
    "start_time": "2024-06-26T05:59:43.232Z"
   },
   {
    "duration": 8,
    "start_time": "2024-06-26T06:16:19.443Z"
   },
   {
    "duration": 618,
    "start_time": "2024-06-26T06:16:40.935Z"
   },
   {
    "duration": 372,
    "start_time": "2024-06-26T06:26:14.612Z"
   },
   {
    "duration": 371,
    "start_time": "2024-06-26T06:26:31.703Z"
   },
   {
    "duration": 445,
    "start_time": "2024-06-26T06:28:34.920Z"
   },
   {
    "duration": 1544,
    "start_time": "2024-06-26T06:39:02.112Z"
   },
   {
    "duration": 193,
    "start_time": "2024-06-26T06:42:01.740Z"
   },
   {
    "duration": 198,
    "start_time": "2024-06-26T06:44:04.063Z"
   },
   {
    "duration": 1106,
    "start_time": "2024-06-26T06:46:54.321Z"
   },
   {
    "duration": 196,
    "start_time": "2024-06-26T06:47:24.029Z"
   },
   {
    "duration": 431,
    "start_time": "2024-06-26T06:50:25.563Z"
   },
   {
    "duration": 467,
    "start_time": "2024-06-26T07:05:23.738Z"
   },
   {
    "duration": 8,
    "start_time": "2024-06-26T07:09:33.499Z"
   },
   {
    "duration": 480,
    "start_time": "2024-06-26T07:09:44.407Z"
   },
   {
    "duration": 7,
    "start_time": "2024-06-26T07:15:20.294Z"
   },
   {
    "duration": 690,
    "start_time": "2024-06-26T07:21:43.493Z"
   },
   {
    "duration": 1538,
    "start_time": "2024-06-26T07:21:44.186Z"
   },
   {
    "duration": 24,
    "start_time": "2024-06-26T07:21:45.727Z"
   },
   {
    "duration": 18,
    "start_time": "2024-06-26T07:21:45.755Z"
   },
   {
    "duration": 15,
    "start_time": "2024-06-26T07:21:45.776Z"
   },
   {
    "duration": 53,
    "start_time": "2024-06-26T07:21:45.794Z"
   },
   {
    "duration": 42,
    "start_time": "2024-06-26T07:21:45.851Z"
   },
   {
    "duration": 346,
    "start_time": "2024-06-26T07:21:45.896Z"
   },
   {
    "duration": 17,
    "start_time": "2024-06-26T07:21:46.245Z"
   },
   {
    "duration": 192,
    "start_time": "2024-06-26T07:21:46.267Z"
   },
   {
    "duration": 171,
    "start_time": "2024-06-26T07:21:46.462Z"
   },
   {
    "duration": 46,
    "start_time": "2024-06-26T07:21:46.637Z"
   },
   {
    "duration": 22,
    "start_time": "2024-06-26T07:21:46.686Z"
   },
   {
    "duration": 34,
    "start_time": "2024-06-26T07:21:46.710Z"
   },
   {
    "duration": 44,
    "start_time": "2024-06-26T07:21:46.747Z"
   },
   {
    "duration": 52,
    "start_time": "2024-06-26T07:21:46.794Z"
   },
   {
    "duration": 7,
    "start_time": "2024-06-26T07:21:46.848Z"
   },
   {
    "duration": 6,
    "start_time": "2024-06-26T07:21:46.858Z"
   },
   {
    "duration": 6,
    "start_time": "2024-06-26T07:21:46.867Z"
   },
   {
    "duration": 5,
    "start_time": "2024-06-26T07:21:46.877Z"
   },
   {
    "duration": 1349,
    "start_time": "2024-06-26T07:21:46.933Z"
   },
   {
    "duration": 749,
    "start_time": "2024-06-26T07:21:48.286Z"
   },
   {
    "duration": 13,
    "start_time": "2024-06-26T07:21:49.037Z"
   },
   {
    "duration": 10,
    "start_time": "2024-06-26T07:21:49.052Z"
   },
   {
    "duration": 8,
    "start_time": "2024-06-26T07:21:49.066Z"
   },
   {
    "duration": 10,
    "start_time": "2024-06-26T07:21:49.078Z"
   },
   {
    "duration": 9,
    "start_time": "2024-06-26T07:21:49.134Z"
   },
   {
    "duration": 18,
    "start_time": "2024-06-26T07:21:49.150Z"
   },
   {
    "duration": 7,
    "start_time": "2024-06-26T07:21:49.171Z"
   },
   {
    "duration": 86,
    "start_time": "2024-06-26T07:21:49.181Z"
   },
   {
    "duration": 68,
    "start_time": "2024-06-26T07:21:49.270Z"
   },
   {
    "duration": 11,
    "start_time": "2024-06-26T07:21:49.342Z"
   },
   {
    "duration": 124,
    "start_time": "2024-06-26T07:21:49.357Z"
   },
   {
    "duration": 813,
    "start_time": "2024-06-26T07:21:49.484Z"
   },
   {
    "duration": 7,
    "start_time": "2024-06-26T07:21:50.300Z"
   },
   {
    "duration": 26,
    "start_time": "2024-06-26T07:21:50.310Z"
   },
   {
    "duration": 538,
    "start_time": "2024-06-26T07:21:50.338Z"
   },
   {
    "duration": 360,
    "start_time": "2024-06-26T07:21:50.879Z"
   },
   {
    "duration": 624,
    "start_time": "2024-06-26T07:21:51.242Z"
   },
   {
    "duration": 461,
    "start_time": "2024-06-26T07:21:51.869Z"
   },
   {
    "duration": 463,
    "start_time": "2024-06-26T07:21:52.335Z"
   },
   {
    "duration": 565,
    "start_time": "2024-06-26T07:21:52.801Z"
   },
   {
    "duration": 786,
    "start_time": "2024-06-26T07:21:53.369Z"
   },
   {
    "duration": 668,
    "start_time": "2024-06-26T07:21:57.450Z"
   },
   {
    "duration": 1553,
    "start_time": "2024-06-26T07:21:58.122Z"
   },
   {
    "duration": 23,
    "start_time": "2024-06-26T07:21:59.678Z"
   },
   {
    "duration": 41,
    "start_time": "2024-06-26T07:21:59.704Z"
   },
   {
    "duration": 17,
    "start_time": "2024-06-26T07:21:59.750Z"
   },
   {
    "duration": 15,
    "start_time": "2024-06-26T07:21:59.770Z"
   },
   {
    "duration": 81,
    "start_time": "2024-06-26T07:21:59.788Z"
   },
   {
    "duration": 319,
    "start_time": "2024-06-26T07:21:59.872Z"
   },
   {
    "duration": 18,
    "start_time": "2024-06-26T07:22:00.194Z"
   },
   {
    "duration": 199,
    "start_time": "2024-06-26T07:22:00.215Z"
   },
   {
    "duration": 160,
    "start_time": "2024-06-26T07:22:00.417Z"
   },
   {
    "duration": 60,
    "start_time": "2024-06-26T07:22:00.580Z"
   },
   {
    "duration": 21,
    "start_time": "2024-06-26T07:22:00.643Z"
   },
   {
    "duration": 13,
    "start_time": "2024-06-26T07:22:00.672Z"
   },
   {
    "duration": 74,
    "start_time": "2024-06-26T07:22:00.689Z"
   },
   {
    "duration": 27,
    "start_time": "2024-06-26T07:22:00.766Z"
   },
   {
    "duration": 35,
    "start_time": "2024-06-26T07:22:00.798Z"
   },
   {
    "duration": 6,
    "start_time": "2024-06-26T07:22:00.836Z"
   },
   {
    "duration": 6,
    "start_time": "2024-06-26T07:22:00.846Z"
   },
   {
    "duration": 6,
    "start_time": "2024-06-26T07:22:00.855Z"
   },
   {
    "duration": 1380,
    "start_time": "2024-06-26T07:22:00.864Z"
   },
   {
    "duration": 704,
    "start_time": "2024-06-26T07:22:02.248Z"
   },
   {
    "duration": 12,
    "start_time": "2024-06-26T07:22:02.956Z"
   },
   {
    "duration": 9,
    "start_time": "2024-06-26T07:22:02.971Z"
   },
   {
    "duration": 11,
    "start_time": "2024-06-26T07:22:02.984Z"
   },
   {
    "duration": 9,
    "start_time": "2024-06-26T07:22:03.034Z"
   },
   {
    "duration": 8,
    "start_time": "2024-06-26T07:22:03.046Z"
   },
   {
    "duration": 18,
    "start_time": "2024-06-26T07:22:03.057Z"
   },
   {
    "duration": 7,
    "start_time": "2024-06-26T07:22:03.078Z"
   },
   {
    "duration": 45,
    "start_time": "2024-06-26T07:22:03.132Z"
   },
   {
    "duration": 74,
    "start_time": "2024-06-26T07:22:03.180Z"
   },
   {
    "duration": 11,
    "start_time": "2024-06-26T07:22:03.257Z"
   },
   {
    "duration": 125,
    "start_time": "2024-06-26T07:22:03.270Z"
   },
   {
    "duration": 824,
    "start_time": "2024-06-26T07:22:03.399Z"
   },
   {
    "duration": 9,
    "start_time": "2024-06-26T07:22:04.226Z"
   },
   {
    "duration": 6,
    "start_time": "2024-06-26T07:22:04.239Z"
   },
   {
    "duration": 554,
    "start_time": "2024-06-26T07:22:04.248Z"
   },
   {
    "duration": 370,
    "start_time": "2024-06-26T07:22:04.805Z"
   },
   {
    "duration": 575,
    "start_time": "2024-06-26T07:22:05.178Z"
   },
   {
    "duration": 463,
    "start_time": "2024-06-26T07:22:05.755Z"
   },
   {
    "duration": 431,
    "start_time": "2024-06-26T07:22:06.236Z"
   },
   {
    "duration": 571,
    "start_time": "2024-06-26T07:22:06.670Z"
   },
   {
    "duration": 775,
    "start_time": "2024-06-26T07:22:07.244Z"
   },
   {
    "duration": 718,
    "start_time": "2024-06-26T07:22:08.023Z"
   },
   {
    "duration": 416,
    "start_time": "2024-06-26T07:22:08.745Z"
   },
   {
    "duration": 1353,
    "start_time": "2024-06-26T07:22:09.164Z"
   },
   {
    "duration": 419,
    "start_time": "2024-06-26T07:22:10.532Z"
   },
   {
    "duration": 537,
    "start_time": "2024-06-26T07:22:10.954Z"
   },
   {
    "duration": 720,
    "start_time": "2024-06-27T04:46:33.394Z"
   },
   {
    "duration": 1730,
    "start_time": "2024-06-27T04:46:34.117Z"
   },
   {
    "duration": 22,
    "start_time": "2024-06-27T04:46:35.849Z"
   },
   {
    "duration": 31,
    "start_time": "2024-06-27T04:46:35.875Z"
   },
   {
    "duration": 22,
    "start_time": "2024-06-27T04:46:35.909Z"
   },
   {
    "duration": 55,
    "start_time": "2024-06-27T04:46:35.935Z"
   },
   {
    "duration": 41,
    "start_time": "2024-06-27T04:46:35.993Z"
   },
   {
    "duration": 343,
    "start_time": "2024-06-27T04:46:36.037Z"
   },
   {
    "duration": 28,
    "start_time": "2024-06-27T04:46:36.383Z"
   },
   {
    "duration": 191,
    "start_time": "2024-06-27T04:46:36.418Z"
   },
   {
    "duration": 167,
    "start_time": "2024-06-27T04:46:36.611Z"
   },
   {
    "duration": 50,
    "start_time": "2024-06-27T04:46:36.781Z"
   },
   {
    "duration": 22,
    "start_time": "2024-06-27T04:46:36.834Z"
   },
   {
    "duration": 40,
    "start_time": "2024-06-27T04:46:36.858Z"
   },
   {
    "duration": 45,
    "start_time": "2024-06-27T04:46:36.901Z"
   },
   {
    "duration": 57,
    "start_time": "2024-06-27T04:46:36.948Z"
   },
   {
    "duration": 10,
    "start_time": "2024-06-27T04:46:37.010Z"
   },
   {
    "duration": 6,
    "start_time": "2024-06-27T04:46:37.023Z"
   },
   {
    "duration": 8,
    "start_time": "2024-06-27T04:46:37.033Z"
   },
   {
    "duration": 6,
    "start_time": "2024-06-27T04:46:37.045Z"
   },
   {
    "duration": 1349,
    "start_time": "2024-06-27T04:46:37.091Z"
   },
   {
    "duration": 710,
    "start_time": "2024-06-27T04:46:38.443Z"
   },
   {
    "duration": 14,
    "start_time": "2024-06-27T04:46:39.160Z"
   },
   {
    "duration": 12,
    "start_time": "2024-06-27T04:46:39.192Z"
   },
   {
    "duration": 9,
    "start_time": "2024-06-27T04:46:39.207Z"
   },
   {
    "duration": 9,
    "start_time": "2024-06-27T04:46:39.219Z"
   },
   {
    "duration": 8,
    "start_time": "2024-06-27T04:46:39.231Z"
   },
   {
    "duration": 18,
    "start_time": "2024-06-27T04:46:39.293Z"
   },
   {
    "duration": 9,
    "start_time": "2024-06-27T04:46:39.314Z"
   },
   {
    "duration": 79,
    "start_time": "2024-06-27T04:46:39.325Z"
   },
   {
    "duration": 49,
    "start_time": "2024-06-27T04:46:39.407Z"
   },
   {
    "duration": 33,
    "start_time": "2024-06-27T04:46:39.459Z"
   },
   {
    "duration": 123,
    "start_time": "2024-06-27T04:46:39.495Z"
   },
   {
    "duration": 817,
    "start_time": "2024-06-27T04:46:39.621Z"
   },
   {
    "duration": 6,
    "start_time": "2024-06-27T04:46:40.441Z"
   },
   {
    "duration": 7,
    "start_time": "2024-06-27T04:46:40.450Z"
   },
   {
    "duration": 543,
    "start_time": "2024-06-27T04:46:40.492Z"
   },
   {
    "duration": 376,
    "start_time": "2024-06-27T04:46:41.038Z"
   },
   {
    "duration": 561,
    "start_time": "2024-06-27T04:46:41.417Z"
   },
   {
    "duration": 450,
    "start_time": "2024-06-27T04:46:41.990Z"
   },
   {
    "duration": 478,
    "start_time": "2024-06-27T04:46:42.444Z"
   },
   {
    "duration": 575,
    "start_time": "2024-06-27T04:46:42.924Z"
   },
   {
    "duration": 782,
    "start_time": "2024-06-27T04:46:43.505Z"
   },
   {
    "duration": 747,
    "start_time": "2024-06-27T04:46:44.291Z"
   },
   {
    "duration": 418,
    "start_time": "2024-06-27T04:46:45.042Z"
   },
   {
    "duration": 1293,
    "start_time": "2024-06-27T04:46:45.463Z"
   },
   {
    "duration": 428,
    "start_time": "2024-06-27T04:46:46.762Z"
   },
   {
    "duration": 509,
    "start_time": "2024-06-27T04:46:47.194Z"
   },
   {
    "duration": 397,
    "start_time": "2024-06-28T16:41:29.960Z"
   },
   {
    "duration": 5665,
    "start_time": "2024-06-28T16:41:39.879Z"
   },
   {
    "duration": 2079,
    "start_time": "2024-06-28T16:41:45.548Z"
   },
   {
    "duration": 40,
    "start_time": "2024-06-28T16:41:47.631Z"
   },
   {
    "duration": 26,
    "start_time": "2024-06-28T16:43:05.780Z"
   },
   {
    "duration": 176,
    "start_time": "2024-06-28T16:43:49.366Z"
   },
   {
    "duration": 160,
    "start_time": "2024-06-28T16:44:14.126Z"
   },
   {
    "duration": 35,
    "start_time": "2024-06-28T16:45:14.500Z"
   },
   {
    "duration": 83,
    "start_time": "2024-06-28T16:45:55.588Z"
   },
   {
    "duration": 43,
    "start_time": "2024-06-28T16:46:04.159Z"
   },
   {
    "duration": 52,
    "start_time": "2024-06-28T16:46:18.305Z"
   },
   {
    "duration": 39,
    "start_time": "2024-06-28T16:46:30.197Z"
   },
   {
    "duration": 99,
    "start_time": "2024-06-28T16:46:49.761Z"
   },
   {
    "duration": 61,
    "start_time": "2024-06-28T16:46:58.967Z"
   },
   {
    "duration": 830,
    "start_time": "2024-06-28T16:47:32.392Z"
   },
   {
    "duration": 21,
    "start_time": "2024-06-28T16:49:18.587Z"
   },
   {
    "duration": 32,
    "start_time": "2024-06-28T16:50:36.447Z"
   },
   {
    "duration": 329,
    "start_time": "2024-06-28T16:53:07.371Z"
   },
   {
    "duration": 28,
    "start_time": "2024-06-28T16:54:01.139Z"
   },
   {
    "duration": 22,
    "start_time": "2024-06-28T16:54:46.578Z"
   },
   {
    "duration": 25,
    "start_time": "2024-06-28T16:55:00.015Z"
   },
   {
    "duration": 21,
    "start_time": "2024-06-28T16:55:14.789Z"
   },
   {
    "duration": 52,
    "start_time": "2024-06-28T16:57:45.765Z"
   },
   {
    "duration": 30,
    "start_time": "2024-06-28T16:59:06.818Z"
   },
   {
    "duration": 39,
    "start_time": "2024-06-28T16:59:16.698Z"
   },
   {
    "duration": 669,
    "start_time": "2024-06-28T17:01:33.345Z"
   },
   {
    "duration": 647,
    "start_time": "2024-06-28T17:02:07.881Z"
   },
   {
    "duration": 418,
    "start_time": "2024-06-28T17:02:31.717Z"
   },
   {
    "duration": 612,
    "start_time": "2024-06-28T17:03:39.571Z"
   },
   {
    "duration": 1305,
    "start_time": "2024-06-28T17:04:32.749Z"
   },
   {
    "duration": 572,
    "start_time": "2024-06-28T17:05:29.139Z"
   },
   {
    "duration": 435,
    "start_time": "2024-06-28T17:05:43.845Z"
   },
   {
    "duration": 75,
    "start_time": "2024-06-28T17:05:49.588Z"
   },
   {
    "duration": 404,
    "start_time": "2024-06-28T17:07:21.497Z"
   },
   {
    "duration": 576,
    "start_time": "2024-06-28T17:08:08.992Z"
   },
   {
    "duration": 684,
    "start_time": "2024-06-28T17:08:23.280Z"
   },
   {
    "duration": 12,
    "start_time": "2024-06-28T17:10:58.294Z"
   },
   {
    "duration": 12,
    "start_time": "2024-06-28T17:11:20.518Z"
   },
   {
    "duration": 608,
    "start_time": "2024-06-28T17:33:36.276Z"
   },
   {
    "duration": 391,
    "start_time": "2024-06-28T17:34:56.067Z"
   },
   {
    "duration": 374,
    "start_time": "2024-06-28T17:35:09.527Z"
   },
   {
    "duration": 7,
    "start_time": "2024-06-28T17:35:26.919Z"
   },
   {
    "duration": 353,
    "start_time": "2024-06-28T17:36:01.644Z"
   },
   {
    "duration": 252,
    "start_time": "2024-06-28T17:36:17.351Z"
   },
   {
    "duration": 431,
    "start_time": "2024-06-28T17:37:26.525Z"
   },
   {
    "duration": 345,
    "start_time": "2024-06-28T17:37:44.375Z"
   },
   {
    "duration": 242,
    "start_time": "2024-06-28T17:38:48.886Z"
   },
   {
    "duration": 6,
    "start_time": "2024-06-28T17:39:01.363Z"
   },
   {
    "duration": 299,
    "start_time": "2024-06-28T17:39:07.091Z"
   },
   {
    "duration": 451,
    "start_time": "2024-06-28T17:39:51.622Z"
   },
   {
    "duration": 442,
    "start_time": "2024-06-28T17:40:02.329Z"
   },
   {
    "duration": 435,
    "start_time": "2024-06-28T17:42:13.340Z"
   },
   {
    "duration": 74,
    "start_time": "2024-06-28T17:49:53.909Z"
   },
   {
    "duration": 15,
    "start_time": "2024-06-28T17:51:39.299Z"
   },
   {
    "duration": 32,
    "start_time": "2024-06-28T18:04:58.141Z"
   },
   {
    "duration": 25,
    "start_time": "2024-06-28T18:05:17.012Z"
   },
   {
    "duration": 215,
    "start_time": "2024-06-28T18:08:31.428Z"
   },
   {
    "duration": 289,
    "start_time": "2024-06-28T18:09:01.940Z"
   },
   {
    "duration": 730,
    "start_time": "2024-06-28T18:18:22.773Z"
   },
   {
    "duration": 722,
    "start_time": "2024-06-28T18:25:09.741Z"
   },
   {
    "duration": 712,
    "start_time": "2024-06-28T18:25:59.217Z"
   },
   {
    "duration": 705,
    "start_time": "2024-06-28T18:26:40.885Z"
   },
   {
    "duration": 7595,
    "start_time": "2024-06-28T21:12:14.782Z"
   },
   {
    "duration": 354,
    "start_time": "2024-06-28T21:14:32.865Z"
   },
   {
    "duration": 756,
    "start_time": "2024-06-28T21:14:50.268Z"
   },
   {
    "duration": 1768,
    "start_time": "2024-06-28T21:14:51.028Z"
   },
   {
    "duration": 200,
    "start_time": "2024-06-28T21:14:52.801Z"
   },
   {
    "duration": 22,
    "start_time": "2024-06-28T21:14:53.006Z"
   },
   {
    "duration": 33,
    "start_time": "2024-06-28T21:14:53.031Z"
   },
   {
    "duration": 63,
    "start_time": "2024-06-28T21:14:53.068Z"
   },
   {
    "duration": 876,
    "start_time": "2024-06-28T21:14:53.134Z"
   },
   {
    "duration": 351,
    "start_time": "2024-06-28T21:14:54.017Z"
   },
   {
    "duration": 41,
    "start_time": "2024-06-28T21:14:54.372Z"
   },
   {
    "duration": 194,
    "start_time": "2024-06-28T21:14:54.418Z"
   },
   {
    "duration": 179,
    "start_time": "2024-06-28T21:14:54.615Z"
   },
   {
    "duration": 47,
    "start_time": "2024-06-28T21:14:54.801Z"
   },
   {
    "duration": 25,
    "start_time": "2024-06-28T21:14:54.851Z"
   },
   {
    "duration": 19,
    "start_time": "2024-06-28T21:14:54.903Z"
   },
   {
    "duration": 89,
    "start_time": "2024-06-28T21:14:54.925Z"
   },
   {
    "duration": 28,
    "start_time": "2024-06-28T21:14:55.017Z"
   },
   {
    "duration": 7,
    "start_time": "2024-06-28T21:14:55.049Z"
   },
   {
    "duration": 42,
    "start_time": "2024-06-28T21:14:55.059Z"
   },
   {
    "duration": 6,
    "start_time": "2024-06-28T21:14:55.105Z"
   },
   {
    "duration": 5,
    "start_time": "2024-06-28T21:14:55.114Z"
   },
   {
    "duration": 1450,
    "start_time": "2024-06-28T21:14:55.122Z"
   },
   {
    "duration": 7371,
    "start_time": "2024-06-28T21:14:56.576Z"
   },
   {
    "duration": 800,
    "start_time": "2024-06-28T21:16:56.407Z"
   },
   {
    "duration": 683,
    "start_time": "2024-06-28T21:24:10.612Z"
   },
   {
    "duration": 64,
    "start_time": "2024-06-28T21:24:14.766Z"
   },
   {
    "duration": 1926,
    "start_time": "2024-06-28T21:27:23.646Z"
   },
   {
    "duration": 804,
    "start_time": "2024-06-28T21:31:34.869Z"
   },
   {
    "duration": 844,
    "start_time": "2024-06-28T21:33:39.214Z"
   },
   {
    "duration": 343,
    "start_time": "2024-06-28T21:57:35.639Z"
   },
   {
    "duration": 24,
    "start_time": "2024-06-28T21:57:47.415Z"
   },
   {
    "duration": 532,
    "start_time": "2024-06-28T21:59:51.112Z"
   },
   {
    "duration": 1232,
    "start_time": "2024-06-28T22:00:00.451Z"
   },
   {
    "duration": 1229,
    "start_time": "2024-06-28T22:01:38.740Z"
   },
   {
    "duration": 728,
    "start_time": "2024-06-28T22:22:35.937Z"
   },
   {
    "duration": 1576,
    "start_time": "2024-06-28T22:22:36.668Z"
   },
   {
    "duration": 179,
    "start_time": "2024-06-28T22:22:38.247Z"
   },
   {
    "duration": 19,
    "start_time": "2024-06-28T22:22:38.430Z"
   },
   {
    "duration": 64,
    "start_time": "2024-06-28T22:22:38.451Z"
   },
   {
    "duration": 31,
    "start_time": "2024-06-28T22:22:38.517Z"
   },
   {
    "duration": 861,
    "start_time": "2024-06-28T22:22:38.551Z"
   },
   {
    "duration": 316,
    "start_time": "2024-06-28T22:22:39.415Z"
   },
   {
    "duration": 25,
    "start_time": "2024-06-28T22:22:39.735Z"
   },
   {
    "duration": 226,
    "start_time": "2024-06-28T22:22:39.771Z"
   },
   {
    "duration": 169,
    "start_time": "2024-06-28T22:22:39.999Z"
   },
   {
    "duration": 58,
    "start_time": "2024-06-28T22:22:40.170Z"
   },
   {
    "duration": 21,
    "start_time": "2024-06-28T22:22:40.232Z"
   },
   {
    "duration": 20,
    "start_time": "2024-06-28T22:22:40.256Z"
   },
   {
    "duration": 50,
    "start_time": "2024-06-28T22:22:40.303Z"
   },
   {
    "duration": 55,
    "start_time": "2024-06-28T22:22:40.356Z"
   },
   {
    "duration": 7,
    "start_time": "2024-06-28T22:22:40.414Z"
   },
   {
    "duration": 5,
    "start_time": "2024-06-28T22:22:40.424Z"
   },
   {
    "duration": 6,
    "start_time": "2024-06-28T22:22:40.432Z"
   },
   {
    "duration": 6,
    "start_time": "2024-06-28T22:22:40.441Z"
   },
   {
    "duration": 1407,
    "start_time": "2024-06-28T22:22:40.450Z"
   },
   {
    "duration": 1182,
    "start_time": "2024-06-28T22:22:41.860Z"
   },
   {
    "duration": 12,
    "start_time": "2024-06-28T22:22:43.045Z"
   },
   {
    "duration": 10,
    "start_time": "2024-06-28T22:22:43.060Z"
   },
   {
    "duration": 35,
    "start_time": "2024-06-28T22:22:43.073Z"
   },
   {
    "duration": 10,
    "start_time": "2024-06-28T22:22:43.112Z"
   },
   {
    "duration": 7,
    "start_time": "2024-06-28T22:22:43.125Z"
   },
   {
    "duration": 60,
    "start_time": "2024-06-28T22:22:43.145Z"
   },
   {
    "duration": 9,
    "start_time": "2024-06-28T22:22:43.208Z"
   },
   {
    "duration": 48,
    "start_time": "2024-06-28T22:22:43.221Z"
   },
   {
    "duration": 78,
    "start_time": "2024-06-28T22:22:43.271Z"
   },
   {
    "duration": 12,
    "start_time": "2024-06-28T22:22:43.351Z"
   },
   {
    "duration": 141,
    "start_time": "2024-06-28T22:22:43.366Z"
   },
   {
    "duration": 820,
    "start_time": "2024-06-28T22:22:43.510Z"
   },
   {
    "duration": 7,
    "start_time": "2024-06-28T22:22:44.333Z"
   },
   {
    "duration": 6,
    "start_time": "2024-06-28T22:22:44.343Z"
   },
   {
    "duration": 566,
    "start_time": "2024-06-28T22:22:44.353Z"
   },
   {
    "duration": 359,
    "start_time": "2024-06-28T22:22:44.922Z"
   },
   {
    "duration": 623,
    "start_time": "2024-06-28T22:22:45.285Z"
   },
   {
    "duration": 494,
    "start_time": "2024-06-28T22:22:45.911Z"
   },
   {
    "duration": 463,
    "start_time": "2024-06-28T22:22:46.409Z"
   },
   {
    "duration": 196,
    "start_time": "2024-06-28T22:22:46.875Z"
   },
   {
    "duration": 448,
    "start_time": "2024-06-28T22:22:47.074Z"
   },
   {
    "duration": 814,
    "start_time": "2024-06-28T22:22:47.526Z"
   },
   {
    "duration": 746,
    "start_time": "2024-06-28T22:22:48.343Z"
   },
   {
    "duration": 423,
    "start_time": "2024-06-28T22:22:49.092Z"
   },
   {
    "duration": 1278,
    "start_time": "2024-06-28T22:22:49.519Z"
   },
   {
    "duration": 452,
    "start_time": "2024-06-28T22:22:50.802Z"
   },
   {
    "duration": 85,
    "start_time": "2024-06-28T22:22:51.261Z"
   },
   {
    "duration": 440,
    "start_time": "2024-06-28T22:22:51.349Z"
   },
   {
    "duration": 4343,
    "start_time": "2024-06-29T23:07:44.459Z"
   },
   {
    "duration": 1718,
    "start_time": "2024-06-29T23:07:48.806Z"
   },
   {
    "duration": 194,
    "start_time": "2024-06-29T23:07:50.528Z"
   },
   {
    "duration": 18,
    "start_time": "2024-06-29T23:07:50.725Z"
   },
   {
    "duration": 31,
    "start_time": "2024-06-29T23:07:50.748Z"
   },
   {
    "duration": 65,
    "start_time": "2024-06-29T23:07:50.783Z"
   },
   {
    "duration": 839,
    "start_time": "2024-06-29T23:07:50.852Z"
   },
   {
    "duration": 335,
    "start_time": "2024-06-29T23:07:51.695Z"
   },
   {
    "duration": 24,
    "start_time": "2024-06-29T23:07:52.033Z"
   },
   {
    "duration": 210,
    "start_time": "2024-06-29T23:07:52.060Z"
   },
   {
    "duration": 177,
    "start_time": "2024-06-29T23:07:52.275Z"
   },
   {
    "duration": 47,
    "start_time": "2024-06-29T23:07:52.455Z"
   },
   {
    "duration": 23,
    "start_time": "2024-06-29T23:07:52.523Z"
   },
   {
    "duration": 19,
    "start_time": "2024-06-29T23:07:52.553Z"
   },
   {
    "duration": 80,
    "start_time": "2024-06-29T23:07:52.575Z"
   },
   {
    "duration": 29,
    "start_time": "2024-06-29T23:07:52.659Z"
   },
   {
    "duration": 35,
    "start_time": "2024-06-29T23:07:52.691Z"
   },
   {
    "duration": 7,
    "start_time": "2024-06-29T23:07:52.728Z"
   },
   {
    "duration": 6,
    "start_time": "2024-06-29T23:07:52.738Z"
   },
   {
    "duration": 6,
    "start_time": "2024-06-29T23:07:52.748Z"
   },
   {
    "duration": 1397,
    "start_time": "2024-06-29T23:07:52.758Z"
   },
   {
    "duration": 1187,
    "start_time": "2024-06-29T23:07:54.158Z"
   },
   {
    "duration": 13,
    "start_time": "2024-06-29T23:07:55.348Z"
   },
   {
    "duration": 9,
    "start_time": "2024-06-29T23:07:55.364Z"
   },
   {
    "duration": 10,
    "start_time": "2024-06-29T23:07:55.376Z"
   },
   {
    "duration": 10,
    "start_time": "2024-06-29T23:07:55.424Z"
   },
   {
    "duration": 6,
    "start_time": "2024-06-29T23:07:55.437Z"
   },
   {
    "duration": 18,
    "start_time": "2024-06-29T23:07:55.447Z"
   },
   {
    "duration": 8,
    "start_time": "2024-06-29T23:07:55.468Z"
   },
   {
    "duration": 46,
    "start_time": "2024-06-29T23:07:55.525Z"
   },
   {
    "duration": 77,
    "start_time": "2024-06-29T23:07:55.575Z"
   },
   {
    "duration": 11,
    "start_time": "2024-06-29T23:07:55.654Z"
   },
   {
    "duration": 131,
    "start_time": "2024-06-29T23:07:55.668Z"
   },
   {
    "duration": 825,
    "start_time": "2024-06-29T23:07:55.802Z"
   },
   {
    "duration": 6,
    "start_time": "2024-06-29T23:07:56.631Z"
   },
   {
    "duration": 7,
    "start_time": "2024-06-29T23:07:56.640Z"
   },
   {
    "duration": 562,
    "start_time": "2024-06-29T23:07:56.650Z"
   },
   {
    "duration": 386,
    "start_time": "2024-06-29T23:07:57.223Z"
   },
   {
    "duration": 634,
    "start_time": "2024-06-29T23:07:57.612Z"
   },
   {
    "duration": 481,
    "start_time": "2024-06-29T23:07:58.249Z"
   },
   {
    "duration": 440,
    "start_time": "2024-06-29T23:07:58.738Z"
   },
   {
    "duration": 187,
    "start_time": "2024-06-29T23:07:59.181Z"
   },
   {
    "duration": 476,
    "start_time": "2024-06-29T23:07:59.371Z"
   },
   {
    "duration": 793,
    "start_time": "2024-06-29T23:07:59.851Z"
   },
   {
    "duration": 684,
    "start_time": "2024-06-29T23:08:00.648Z"
   },
   {
    "duration": 438,
    "start_time": "2024-06-29T23:08:01.335Z"
   },
   {
    "duration": 1316,
    "start_time": "2024-06-29T23:08:01.777Z"
   },
   {
    "duration": 426,
    "start_time": "2024-06-29T23:08:03.097Z"
   },
   {
    "duration": 69,
    "start_time": "2024-06-29T23:08:03.525Z"
   },
   {
    "duration": 482,
    "start_time": "2024-06-29T23:08:03.597Z"
   }
  ],
  "colab": {
   "provenance": []
  },
  "kernelspec": {
   "display_name": "Python 3 (ipykernel)",
   "language": "python",
   "name": "python3"
  },
  "language_info": {
   "codemirror_mode": {
    "name": "ipython",
    "version": 3
   },
   "file_extension": ".py",
   "mimetype": "text/x-python",
   "name": "python",
   "nbconvert_exporter": "python",
   "pygments_lexer": "ipython3",
   "version": "3.11.9"
  },
  "toc": {
   "base_numbering": 1,
   "nav_menu": {},
   "number_sections": true,
   "sideBar": true,
   "skip_h1_title": true,
   "title_cell": "Table of Contents",
   "title_sidebar": "Contents",
   "toc_cell": false,
   "toc_position": {},
   "toc_section_display": true,
   "toc_window_display": false
  },
  "vscode": {
   "interpreter": {
    "hash": "01a7be9ec63e704a62cefc5fe7a4756944464ee731be31632bdf42a4cb4688cf"
   }
  }
 },
 "nbformat": 4,
 "nbformat_minor": 5
}
